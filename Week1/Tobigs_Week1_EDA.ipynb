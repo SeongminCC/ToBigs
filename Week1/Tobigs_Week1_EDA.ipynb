{
 "cells": [
  {
   "cell_type": "markdown",
   "id": "a78ed2e8",
   "metadata": {},
   "source": [
    "# Module import"
   ]
  },
  {
   "cell_type": "code",
   "execution_count": 117,
   "id": "23635328",
   "metadata": {},
   "outputs": [],
   "source": [
    "from collections import OrderedDict\n",
    "\n",
    "# EDA package\n",
    "import pandas as pd\n",
    "import pandas_profiling\n",
    "import numpy as np\n",
    "import matplotlib.pyplot as plt\n",
    "import seaborn as sns\n",
    "import math\n",
    "from collections import Counter\n",
    "from statsmodels.graphics.mosaicplot import mosaic\n",
    "import missingno\n",
    "import warnings\n",
    "from statsmodels.stats.outliers_influence import variance_inflation_factor\n",
    "\n",
    "# warnings 끄기\n",
    "warnings.filterwarnings('ignore')"
   ]
  },
  {
   "cell_type": "markdown",
   "id": "194c2cb6",
   "metadata": {},
   "source": [
    "# Data"
   ]
  },
  {
   "cell_type": "markdown",
   "id": "f064e4ef",
   "metadata": {},
   "source": [
    "- URL : https://dacon.io/competitions/open/235539/overview/description"
   ]
  },
  {
   "cell_type": "markdown",
   "id": "42c4032a",
   "metadata": {},
   "source": [
    "1. PassengerID : 탑승객 고유 아이디\n",
    "2. Survival : 탑승객 생존 유무 (0: 사망, 1: 생존)\n",
    "3. Pclass : 등실의 등급\n",
    "4. Name : 이름\n",
    "5. Sex : 성별\n",
    "6. Age : 나이\n",
    "7. Sibsp : 함께 탐승한 형제자매, 아내, 남편의 수\n",
    "8. Parch : 함께 탐승한 부모, 자식의 수\n",
    "9. Ticket :티켓 번호\n",
    "10. Fare : 티켓의 요금\n",
    "11. Cabin : 객실번호\n",
    "12. Embarked : 배에 탑승한 항구 이름 ( C = Cherbourn, Q = Queenstown, S = Southampton)"
   ]
  },
  {
   "cell_type": "markdown",
   "id": "47dddf0c",
   "metadata": {},
   "source": [
    "독립변수 : 11개, 종속변수 : 1개(transaction_real_price)"
   ]
  },
  {
   "cell_type": "code",
   "execution_count": 23,
   "id": "6f617e18",
   "metadata": {},
   "outputs": [
    {
     "data": {
      "text/html": [
       "<div>\n",
       "<style scoped>\n",
       "    .dataframe tbody tr th:only-of-type {\n",
       "        vertical-align: middle;\n",
       "    }\n",
       "\n",
       "    .dataframe tbody tr th {\n",
       "        vertical-align: top;\n",
       "    }\n",
       "\n",
       "    .dataframe thead th {\n",
       "        text-align: right;\n",
       "    }\n",
       "</style>\n",
       "<table border=\"1\" class=\"dataframe\">\n",
       "  <thead>\n",
       "    <tr style=\"text-align: right;\">\n",
       "      <th></th>\n",
       "      <th>PassengerId</th>\n",
       "      <th>Survived</th>\n",
       "      <th>Pclass</th>\n",
       "      <th>Name</th>\n",
       "      <th>Sex</th>\n",
       "      <th>Age</th>\n",
       "      <th>SibSp</th>\n",
       "      <th>Parch</th>\n",
       "      <th>Ticket</th>\n",
       "      <th>Fare</th>\n",
       "      <th>Cabin</th>\n",
       "      <th>Embarked</th>\n",
       "    </tr>\n",
       "  </thead>\n",
       "  <tbody>\n",
       "    <tr>\n",
       "      <th>0</th>\n",
       "      <td>1</td>\n",
       "      <td>0</td>\n",
       "      <td>3</td>\n",
       "      <td>Braund, Mr. Owen Harris</td>\n",
       "      <td>male</td>\n",
       "      <td>22.0</td>\n",
       "      <td>1</td>\n",
       "      <td>0</td>\n",
       "      <td>A/5 21171</td>\n",
       "      <td>7.2500</td>\n",
       "      <td>NaN</td>\n",
       "      <td>S</td>\n",
       "    </tr>\n",
       "    <tr>\n",
       "      <th>1</th>\n",
       "      <td>2</td>\n",
       "      <td>1</td>\n",
       "      <td>1</td>\n",
       "      <td>Cumings, Mrs. John Bradley (Florence Briggs Th...</td>\n",
       "      <td>female</td>\n",
       "      <td>38.0</td>\n",
       "      <td>1</td>\n",
       "      <td>0</td>\n",
       "      <td>PC 17599</td>\n",
       "      <td>71.2833</td>\n",
       "      <td>C85</td>\n",
       "      <td>C</td>\n",
       "    </tr>\n",
       "    <tr>\n",
       "      <th>2</th>\n",
       "      <td>3</td>\n",
       "      <td>1</td>\n",
       "      <td>3</td>\n",
       "      <td>Heikkinen, Miss. Laina</td>\n",
       "      <td>female</td>\n",
       "      <td>26.0</td>\n",
       "      <td>0</td>\n",
       "      <td>0</td>\n",
       "      <td>STON/O2. 3101282</td>\n",
       "      <td>7.9250</td>\n",
       "      <td>NaN</td>\n",
       "      <td>S</td>\n",
       "    </tr>\n",
       "    <tr>\n",
       "      <th>3</th>\n",
       "      <td>4</td>\n",
       "      <td>1</td>\n",
       "      <td>1</td>\n",
       "      <td>Futrelle, Mrs. Jacques Heath (Lily May Peel)</td>\n",
       "      <td>female</td>\n",
       "      <td>35.0</td>\n",
       "      <td>1</td>\n",
       "      <td>0</td>\n",
       "      <td>113803</td>\n",
       "      <td>53.1000</td>\n",
       "      <td>C123</td>\n",
       "      <td>S</td>\n",
       "    </tr>\n",
       "    <tr>\n",
       "      <th>4</th>\n",
       "      <td>5</td>\n",
       "      <td>0</td>\n",
       "      <td>3</td>\n",
       "      <td>Allen, Mr. William Henry</td>\n",
       "      <td>male</td>\n",
       "      <td>35.0</td>\n",
       "      <td>0</td>\n",
       "      <td>0</td>\n",
       "      <td>373450</td>\n",
       "      <td>8.0500</td>\n",
       "      <td>NaN</td>\n",
       "      <td>S</td>\n",
       "    </tr>\n",
       "  </tbody>\n",
       "</table>\n",
       "</div>"
      ],
      "text/plain": [
       "   PassengerId  Survived  Pclass  \\\n",
       "0            1         0       3   \n",
       "1            2         1       1   \n",
       "2            3         1       3   \n",
       "3            4         1       1   \n",
       "4            5         0       3   \n",
       "\n",
       "                                                Name     Sex   Age  SibSp  \\\n",
       "0                            Braund, Mr. Owen Harris    male  22.0      1   \n",
       "1  Cumings, Mrs. John Bradley (Florence Briggs Th...  female  38.0      1   \n",
       "2                             Heikkinen, Miss. Laina  female  26.0      0   \n",
       "3       Futrelle, Mrs. Jacques Heath (Lily May Peel)  female  35.0      1   \n",
       "4                           Allen, Mr. William Henry    male  35.0      0   \n",
       "\n",
       "   Parch            Ticket     Fare Cabin Embarked  \n",
       "0      0         A/5 21171   7.2500   NaN        S  \n",
       "1      0          PC 17599  71.2833   C85        C  \n",
       "2      0  STON/O2. 3101282   7.9250   NaN        S  \n",
       "3      0            113803  53.1000  C123        S  \n",
       "4      0            373450   8.0500   NaN        S  "
      ]
     },
     "execution_count": 23,
     "metadata": {},
     "output_type": "execute_result"
    }
   ],
   "source": [
    "data = pd.read_csv(\"./data/titanic.csv\")\n",
    "\n",
    "data.head()"
   ]
  },
  {
   "cell_type": "code",
   "execution_count": 24,
   "id": "07c7bab6",
   "metadata": {},
   "outputs": [
    {
     "name": "stdout",
     "output_type": "stream",
     "text": [
      "<class 'pandas.core.frame.DataFrame'>\n",
      "RangeIndex: 891 entries, 0 to 890\n",
      "Data columns (total 12 columns):\n",
      " #   Column       Non-Null Count  Dtype  \n",
      "---  ------       --------------  -----  \n",
      " 0   PassengerId  891 non-null    int64  \n",
      " 1   Survived     891 non-null    int64  \n",
      " 2   Pclass       891 non-null    int64  \n",
      " 3   Name         891 non-null    object \n",
      " 4   Sex          891 non-null    object \n",
      " 5   Age          714 non-null    float64\n",
      " 6   SibSp        891 non-null    int64  \n",
      " 7   Parch        891 non-null    int64  \n",
      " 8   Ticket       891 non-null    object \n",
      " 9   Fare         891 non-null    float64\n",
      " 10  Cabin        204 non-null    object \n",
      " 11  Embarked     889 non-null    object \n",
      "dtypes: float64(2), int64(5), object(5)\n",
      "memory usage: 83.7+ KB\n"
     ]
    }
   ],
   "source": [
    "data.info()"
   ]
  },
  {
   "cell_type": "markdown",
   "id": "2c0df62d",
   "metadata": {},
   "source": [
    "# 가설설정"
   ]
  },
  {
   "cell_type": "markdown",
   "id": "fa1650fc",
   "metadata": {},
   "source": [
    "1. 성별이 남자인 경우 생존률이 높을 것이다.\n",
    "2. 등실의 등급이 높을 수록 생존률이 높을 것이다.\n",
    "3. 나이가 적을 수록 생존률이 높을 것이다.\n",
    "4. 티켓의 요금이 높을 수록 생존률이 높을 것이다.\n",
    "5. 함께 탑승한 가족이 적을 경우 생존률이 높을 것이다."
   ]
  },
  {
   "cell_type": "markdown",
   "id": "9f400317",
   "metadata": {},
   "source": [
    "# 데이터 전처리"
   ]
  },
  {
   "cell_type": "markdown",
   "id": "ded3c7c4",
   "metadata": {},
   "source": [
    "## 데이터값 object로 변환\n",
    "\n",
    "- Survived 컬럼의 경우 Category column 이지만 int형으로 되어있음"
   ]
  },
  {
   "cell_type": "code",
   "execution_count": 25,
   "id": "66344176",
   "metadata": {},
   "outputs": [
    {
     "data": {
      "text/plain": [
       "array(['dead', 'survive'], dtype=object)"
      ]
     },
     "execution_count": 25,
     "metadata": {},
     "output_type": "execute_result"
    }
   ],
   "source": [
    "change_dict = {0:'dead', 1:'survive'}\n",
    "data.replace({'Survived':change_dict}, inplace=True)\n",
    "data['Survived'].unique()"
   ]
  },
  {
   "cell_type": "markdown",
   "id": "670c7bd5",
   "metadata": {},
   "source": [
    "- Pclass 컬럼의 경우 Category column 이므로 object형으로 바꿔주자"
   ]
  },
  {
   "cell_type": "code",
   "execution_count": 26,
   "id": "b31df14a",
   "metadata": {},
   "outputs": [],
   "source": [
    "data = data.astype({'Pclass':object})"
   ]
  },
  {
   "cell_type": "code",
   "execution_count": 27,
   "id": "8a842f65",
   "metadata": {},
   "outputs": [
    {
     "name": "stdout",
     "output_type": "stream",
     "text": [
      "<class 'pandas.core.frame.DataFrame'>\n",
      "RangeIndex: 891 entries, 0 to 890\n",
      "Data columns (total 12 columns):\n",
      " #   Column       Non-Null Count  Dtype  \n",
      "---  ------       --------------  -----  \n",
      " 0   PassengerId  891 non-null    int64  \n",
      " 1   Survived     891 non-null    object \n",
      " 2   Pclass       891 non-null    object \n",
      " 3   Name         891 non-null    object \n",
      " 4   Sex          891 non-null    object \n",
      " 5   Age          714 non-null    float64\n",
      " 6   SibSp        891 non-null    int64  \n",
      " 7   Parch        891 non-null    int64  \n",
      " 8   Ticket       891 non-null    object \n",
      " 9   Fare         891 non-null    float64\n",
      " 10  Cabin        204 non-null    object \n",
      " 11  Embarked     889 non-null    object \n",
      "dtypes: float64(2), int64(3), object(7)\n",
      "memory usage: 83.7+ KB\n"
     ]
    }
   ],
   "source": [
    "data.info()"
   ]
  },
  {
   "cell_type": "markdown",
   "id": "3a304013",
   "metadata": {},
   "source": [
    "## 결측치 확인"
   ]
  },
  {
   "cell_type": "code",
   "execution_count": 28,
   "id": "dbe8d4aa",
   "metadata": {},
   "outputs": [
    {
     "name": "stdout",
     "output_type": "stream",
     "text": [
      "데이터 개수 : 891\n",
      "PassengerId      0\n",
      "Survived         0\n",
      "Pclass           0\n",
      "Name             0\n",
      "Sex              0\n",
      "Age            177\n",
      "SibSp            0\n",
      "Parch            0\n",
      "Ticket           0\n",
      "Fare             0\n",
      "Cabin          687\n",
      "Embarked         2\n",
      "dtype: int64\n"
     ]
    }
   ],
   "source": [
    "print(f\"데이터 개수 : {len(data)}\")\n",
    "print(len(data) - data.count())"
   ]
  },
  {
   "cell_type": "code",
   "execution_count": 29,
   "id": "6734f07b",
   "metadata": {},
   "outputs": [
    {
     "data": {
      "image/png": "[encoded data removed]",
      "text/plain": [
       "<Figure size 1800x720 with 2 Axes>"
      ]
     },
     "metadata": {
      "needs_background": "light"
     },
     "output_type": "display_data"
    }
   ],
   "source": [
    "missingno.matrix(data)\n",
    "plt.show()"
   ]
  },
  {
   "cell_type": "markdown",
   "id": "4a24d2aa",
   "metadata": {},
   "source": [
    "Age  /  Cabin  /  Embarked 의 컬럼에 결측치 존재\n",
    "\n",
    "- Cabin 컬럼의 경우 결측치가 너무 많이 존재해 삭제\n",
    "- Age 컬럼의 경우 중앙값으로 결측치 대체\n",
    "- Embarked 컬럼의 경우 결측치가 존재하는 2개의 행 제거"
   ]
  },
  {
   "cell_type": "code",
   "execution_count": 30,
   "id": "535cdc63",
   "metadata": {},
   "outputs": [
    {
     "name": "stdout",
     "output_type": "stream",
     "text": [
      "데이터 개수 : 889\n",
      "PassengerId    0\n",
      "Survived       0\n",
      "Pclass         0\n",
      "Name           0\n",
      "Sex            0\n",
      "Age            0\n",
      "SibSp          0\n",
      "Parch          0\n",
      "Ticket         0\n",
      "Fare           0\n",
      "Embarked       0\n",
      "dtype: int64\n"
     ]
    }
   ],
   "source": [
    "# Cabin 컬럼 삭제\n",
    "data = data.drop('Cabin', axis = 1)\n",
    "\n",
    "# Age 컬럼 결측치 중앙값 대체\n",
    "data['Age'].fillna(data['Age'].median(), inplace=True)\n",
    "\n",
    "# Embarked 컬럼의 결측치 행 제거\n",
    "data = data.drop(index = data[data['Embarked'].isnull()].index, axis = 0)\n",
    "\n",
    "# 결측치 확인\n",
    "print(f\"데이터 개수 : {len(data)}\")\n",
    "print(len(data) - data.count())"
   ]
  },
  {
   "cell_type": "markdown",
   "id": "ba7409e4",
   "metadata": {},
   "source": [
    "## 특정 column 제거\n",
    "- PassengerId : 데이터의 index이므로 의미가 없는 데이터\n",
    "- Ticket : 티켓 번호는 의미가 없어 보이므로 제거\n",
    "- Name : 이름 역시 의미 없는 데이터이므로 제거"
   ]
  },
  {
   "cell_type": "code",
   "execution_count": 31,
   "id": "504d683b",
   "metadata": {},
   "outputs": [
    {
     "data": {
      "text/html": [
       "<div>\n",
       "<style scoped>\n",
       "    .dataframe tbody tr th:only-of-type {\n",
       "        vertical-align: middle;\n",
       "    }\n",
       "\n",
       "    .dataframe tbody tr th {\n",
       "        vertical-align: top;\n",
       "    }\n",
       "\n",
       "    .dataframe thead th {\n",
       "        text-align: right;\n",
       "    }\n",
       "</style>\n",
       "<table border=\"1\" class=\"dataframe\">\n",
       "  <thead>\n",
       "    <tr style=\"text-align: right;\">\n",
       "      <th></th>\n",
       "      <th>Survived</th>\n",
       "      <th>Pclass</th>\n",
       "      <th>Sex</th>\n",
       "      <th>Age</th>\n",
       "      <th>SibSp</th>\n",
       "      <th>Parch</th>\n",
       "      <th>Fare</th>\n",
       "      <th>Embarked</th>\n",
       "    </tr>\n",
       "  </thead>\n",
       "  <tbody>\n",
       "    <tr>\n",
       "      <th>0</th>\n",
       "      <td>dead</td>\n",
       "      <td>3</td>\n",
       "      <td>male</td>\n",
       "      <td>22.0</td>\n",
       "      <td>1</td>\n",
       "      <td>0</td>\n",
       "      <td>7.2500</td>\n",
       "      <td>S</td>\n",
       "    </tr>\n",
       "    <tr>\n",
       "      <th>1</th>\n",
       "      <td>survive</td>\n",
       "      <td>1</td>\n",
       "      <td>female</td>\n",
       "      <td>38.0</td>\n",
       "      <td>1</td>\n",
       "      <td>0</td>\n",
       "      <td>71.2833</td>\n",
       "      <td>C</td>\n",
       "    </tr>\n",
       "    <tr>\n",
       "      <th>2</th>\n",
       "      <td>survive</td>\n",
       "      <td>3</td>\n",
       "      <td>female</td>\n",
       "      <td>26.0</td>\n",
       "      <td>0</td>\n",
       "      <td>0</td>\n",
       "      <td>7.9250</td>\n",
       "      <td>S</td>\n",
       "    </tr>\n",
       "    <tr>\n",
       "      <th>3</th>\n",
       "      <td>survive</td>\n",
       "      <td>1</td>\n",
       "      <td>female</td>\n",
       "      <td>35.0</td>\n",
       "      <td>1</td>\n",
       "      <td>0</td>\n",
       "      <td>53.1000</td>\n",
       "      <td>S</td>\n",
       "    </tr>\n",
       "    <tr>\n",
       "      <th>4</th>\n",
       "      <td>dead</td>\n",
       "      <td>3</td>\n",
       "      <td>male</td>\n",
       "      <td>35.0</td>\n",
       "      <td>0</td>\n",
       "      <td>0</td>\n",
       "      <td>8.0500</td>\n",
       "      <td>S</td>\n",
       "    </tr>\n",
       "    <tr>\n",
       "      <th>...</th>\n",
       "      <td>...</td>\n",
       "      <td>...</td>\n",
       "      <td>...</td>\n",
       "      <td>...</td>\n",
       "      <td>...</td>\n",
       "      <td>...</td>\n",
       "      <td>...</td>\n",
       "      <td>...</td>\n",
       "    </tr>\n",
       "    <tr>\n",
       "      <th>886</th>\n",
       "      <td>dead</td>\n",
       "      <td>2</td>\n",
       "      <td>male</td>\n",
       "      <td>27.0</td>\n",
       "      <td>0</td>\n",
       "      <td>0</td>\n",
       "      <td>13.0000</td>\n",
       "      <td>S</td>\n",
       "    </tr>\n",
       "    <tr>\n",
       "      <th>887</th>\n",
       "      <td>survive</td>\n",
       "      <td>1</td>\n",
       "      <td>female</td>\n",
       "      <td>19.0</td>\n",
       "      <td>0</td>\n",
       "      <td>0</td>\n",
       "      <td>30.0000</td>\n",
       "      <td>S</td>\n",
       "    </tr>\n",
       "    <tr>\n",
       "      <th>888</th>\n",
       "      <td>dead</td>\n",
       "      <td>3</td>\n",
       "      <td>female</td>\n",
       "      <td>28.0</td>\n",
       "      <td>1</td>\n",
       "      <td>2</td>\n",
       "      <td>23.4500</td>\n",
       "      <td>S</td>\n",
       "    </tr>\n",
       "    <tr>\n",
       "      <th>889</th>\n",
       "      <td>survive</td>\n",
       "      <td>1</td>\n",
       "      <td>male</td>\n",
       "      <td>26.0</td>\n",
       "      <td>0</td>\n",
       "      <td>0</td>\n",
       "      <td>30.0000</td>\n",
       "      <td>C</td>\n",
       "    </tr>\n",
       "    <tr>\n",
       "      <th>890</th>\n",
       "      <td>dead</td>\n",
       "      <td>3</td>\n",
       "      <td>male</td>\n",
       "      <td>32.0</td>\n",
       "      <td>0</td>\n",
       "      <td>0</td>\n",
       "      <td>7.7500</td>\n",
       "      <td>Q</td>\n",
       "    </tr>\n",
       "  </tbody>\n",
       "</table>\n",
       "<p>889 rows × 8 columns</p>\n",
       "</div>"
      ],
      "text/plain": [
       "    Survived Pclass     Sex   Age  SibSp  Parch     Fare Embarked\n",
       "0       dead      3    male  22.0      1      0   7.2500        S\n",
       "1    survive      1  female  38.0      1      0  71.2833        C\n",
       "2    survive      3  female  26.0      0      0   7.9250        S\n",
       "3    survive      1  female  35.0      1      0  53.1000        S\n",
       "4       dead      3    male  35.0      0      0   8.0500        S\n",
       "..       ...    ...     ...   ...    ...    ...      ...      ...\n",
       "886     dead      2    male  27.0      0      0  13.0000        S\n",
       "887  survive      1  female  19.0      0      0  30.0000        S\n",
       "888     dead      3  female  28.0      1      2  23.4500        S\n",
       "889  survive      1    male  26.0      0      0  30.0000        C\n",
       "890     dead      3    male  32.0      0      0   7.7500        Q\n",
       "\n",
       "[889 rows x 8 columns]"
      ]
     },
     "execution_count": 31,
     "metadata": {},
     "output_type": "execute_result"
    }
   ],
   "source": [
    "data = data.drop(['PassengerId', 'Ticket', 'Name'], axis = 1)\n",
    "data"
   ]
  },
  {
   "cell_type": "markdown",
   "id": "4cc394ca",
   "metadata": {},
   "source": [
    "## 이상치 탐색"
   ]
  },
  {
   "cell_type": "code",
   "execution_count": 32,
   "id": "d151ed83",
   "metadata": {},
   "outputs": [],
   "source": [
    "def remove_outliers(data, column):\n",
    "    num = data[column]\n",
    "    Q1 = num.quantile(.25)\n",
    "    Q3 = num.quantile(.75)\n",
    "    IQR = Q3 - Q1\n",
    "    return num[(Q1-1.5*IQR > num)|(Q3+1.5*IQR < num)]"
   ]
  },
  {
   "cell_type": "code",
   "execution_count": 33,
   "id": "07ed97b7",
   "metadata": {},
   "outputs": [
    {
     "name": "stdout",
     "output_type": "stream",
     "text": [
      "Column : Age\n",
      "7       2.00\n",
      "11     58.00\n",
      "15     55.00\n",
      "16      2.00\n",
      "33     66.00\n",
      "       ...  \n",
      "824     2.00\n",
      "827     1.00\n",
      "831     0.83\n",
      "851    74.00\n",
      "879    56.00\n",
      "Name: Age, Length: 65, dtype: float64\n",
      "Column : SibSp\n",
      "7      3\n",
      "16     4\n",
      "24     3\n",
      "27     3\n",
      "50     4\n",
      "59     5\n",
      "63     3\n",
      "68     4\n",
      "71     5\n",
      "85     3\n",
      "88     3\n",
      "119    4\n",
      "159    8\n",
      "164    4\n",
      "171    4\n",
      "176    3\n",
      "180    8\n",
      "182    4\n",
      "201    8\n",
      "229    3\n",
      "233    4\n",
      "261    4\n",
      "266    4\n",
      "278    4\n",
      "324    8\n",
      "341    3\n",
      "374    3\n",
      "386    5\n",
      "409    3\n",
      "480    5\n",
      "485    3\n",
      "541    4\n",
      "542    4\n",
      "634    3\n",
      "642    3\n",
      "683    5\n",
      "686    4\n",
      "726    3\n",
      "787    4\n",
      "792    8\n",
      "813    4\n",
      "819    3\n",
      "824    4\n",
      "846    8\n",
      "850    4\n",
      "863    8\n",
      "Name: SibSp, dtype: int64\n",
      "Column : Parch\n",
      "7      1\n",
      "8      2\n",
      "10     1\n",
      "13     5\n",
      "16     1\n",
      "      ..\n",
      "871    1\n",
      "879    1\n",
      "880    1\n",
      "885    5\n",
      "888    2\n",
      "Name: Parch, Length: 213, dtype: int64\n",
      "Column : Fare\n",
      "1       71.2833\n",
      "27     263.0000\n",
      "31     146.5208\n",
      "34      82.1708\n",
      "52      76.7292\n",
      "         ...   \n",
      "846     69.5500\n",
      "849     89.1042\n",
      "856    164.8667\n",
      "863     69.5500\n",
      "879     83.1583\n",
      "Name: Fare, Length: 114, dtype: float64\n"
     ]
    }
   ],
   "source": [
    "for col in ['Age', 'SibSp', 'Parch', 'Fare']:\n",
    "    print(f\"Column : {col}\")\n",
    "    print(remove_outliers(data, col))"
   ]
  },
  {
   "cell_type": "markdown",
   "id": "facafba8",
   "metadata": {},
   "source": [
    "1. 나이의 경우 이상치라 보기 힘들다\n",
    "2. 같이 탑승한 가족의 수는 높은 경우가 드물지만 이 역시 하나의 데이터의 특징이라 볼 수 있기 때문에 이상치라 보기 힘들다.\n",
    "3. 티켓의 가격은 높은 경우가 적기 때문에 이 역시 하나의 특징이므로 이상치라 보기 힘들다."
   ]
  },
  {
   "cell_type": "markdown",
   "id": "425f5a78",
   "metadata": {},
   "source": [
    "# Target 확인"
   ]
  },
  {
   "cell_type": "code",
   "execution_count": 34,
   "id": "027e9ce2",
   "metadata": {},
   "outputs": [
    {
     "name": "stdout",
     "output_type": "stream",
     "text": [
      "Survived 비율 확인하기\n",
      "dead : 62.0%\n",
      "survive : 38.0%\n"
     ]
    }
   ],
   "source": [
    "print('Survived 비율 확인하기')\n",
    "print(f\"{data.Survived.value_counts().index[0]} : {round(data.Survived.value_counts()[0] / len(data), 2)*100}%\")\n",
    "print(f\"{data.Survived.value_counts().index[1]} : {round(data.Survived.value_counts()[1] / len(data), 2)*100}%\")"
   ]
  },
  {
   "cell_type": "code",
   "execution_count": 35,
   "id": "5c6e9318",
   "metadata": {},
   "outputs": [
    {
     "data": {
      "image/png": "[encoded data removed]",
      "text/plain": [
       "<Figure size 360x360 with 1 Axes>"
      ]
     },
     "metadata": {
      "needs_background": "light"
     },
     "output_type": "display_data"
    }
   ],
   "source": [
    "plt.figure(figsize = (5,5))\n",
    "sns.countplot(x = data['Survived'])\n",
    "plt.title('Survived Distribution')\n",
    "plt.show()"
   ]
  },
  {
   "cell_type": "markdown",
   "id": "983b9c81",
   "metadata": {},
   "source": [
    "# 전체 컬럼 분포 확인하기"
   ]
  },
  {
   "cell_type": "markdown",
   "id": "77ee661f",
   "metadata": {},
   "source": [
    "- Categorical Variable : Survived, Pclass, Sex, Embarked\n",
    "- Numeric Variable : Age, Sibsp, Parch, Fare"
   ]
  },
  {
   "cell_type": "code",
   "execution_count": 36,
   "id": "78462f20",
   "metadata": {},
   "outputs": [
    {
     "name": "stdout",
     "output_type": "stream",
     "text": [
      "<class 'pandas.core.frame.DataFrame'>\n",
      "Int64Index: 889 entries, 0 to 890\n",
      "Data columns (total 8 columns):\n",
      " #   Column    Non-Null Count  Dtype  \n",
      "---  ------    --------------  -----  \n",
      " 0   Survived  889 non-null    object \n",
      " 1   Pclass    889 non-null    object \n",
      " 2   Sex       889 non-null    object \n",
      " 3   Age       889 non-null    float64\n",
      " 4   SibSp     889 non-null    int64  \n",
      " 5   Parch     889 non-null    int64  \n",
      " 6   Fare      889 non-null    float64\n",
      " 7   Embarked  889 non-null    object \n",
      "dtypes: float64(2), int64(2), object(4)\n",
      "memory usage: 94.8+ KB\n"
     ]
    }
   ],
   "source": [
    "data.info()"
   ]
  },
  {
   "cell_type": "markdown",
   "id": "3a42df0b",
   "metadata": {},
   "source": [
    "## 카테고리형 컬럼 확인하기"
   ]
  },
  {
   "cell_type": "code",
   "execution_count": 37,
   "id": "fbc114bc",
   "metadata": {},
   "outputs": [
    {
     "name": "stdout",
     "output_type": "stream",
     "text": [
      "==========================================================\n",
      "Survived : ['dead' 'survive']\n",
      "dead       549\n",
      "survive    340\n",
      "Name: Survived, dtype: int64\n",
      "\n",
      "==========================================================\n",
      "Pclass : [3 1 2]\n",
      "3    491\n",
      "1    214\n",
      "2    184\n",
      "Name: Pclass, dtype: int64\n",
      "\n",
      "==========================================================\n",
      "Sex : ['male' 'female']\n",
      "male      577\n",
      "female    312\n",
      "Name: Sex, dtype: int64\n",
      "\n",
      "==========================================================\n",
      "Embarked : ['S' 'C' 'Q']\n",
      "S    644\n",
      "C    168\n",
      "Q     77\n",
      "Name: Embarked, dtype: int64\n",
      "\n"
     ]
    }
   ],
   "source": [
    "# categorical column\n",
    "cate_col = []\n",
    "for col in data.columns:\n",
    "    if data[col].dtype == object:\n",
    "        cate_col.append(col)\n",
    "        print('==========================================================')\n",
    "        print(f\"{col} : {data[col].unique()}\")\n",
    "        print(f\"{data[col].value_counts()}\")\n",
    "        print()"
   ]
  },
  {
   "cell_type": "code",
   "execution_count": 38,
   "id": "3b658966",
   "metadata": {},
   "outputs": [
    {
     "data": {
      "text/plain": [
       "3"
      ]
     },
     "execution_count": 38,
     "metadata": {},
     "output_type": "execute_result"
    }
   ],
   "source": [
    "data[cate_col[3]].nunique()"
   ]
  },
  {
   "cell_type": "code",
   "execution_count": 39,
   "id": "7f9d7483",
   "metadata": {},
   "outputs": [
    {
     "data": {
      "image/png": "[encoded data removed]",
      "text/plain": [
       "<Figure size 720x720 with 4 Axes>"
      ]
     },
     "metadata": {
      "needs_background": "light"
     },
     "output_type": "display_data"
    }
   ],
   "source": [
    "fig, ax = plt.subplots(2,2, figsize = (10,10), constrained_layout=True)\n",
    "ax = ax.flatten()\n",
    "fig.suptitle('Distribution(Survived vs Categorical Columns)', fontsize = 20)\n",
    "\n",
    "for i in range(len(cate_col)):\n",
    "    sns.countplot(x=cate_col[i], data=data, hue='Survived', ax=ax[i]).set(xlabel = None)\n",
    "    \n",
    "    ax[i].set(title = cate_col[i])\n",
    "    \n",
    "#     # element가 3개 이상일 경우 기울어주기\n",
    "#     if data[cate_col[i]].nunique() >= 3:\n",
    "#         ax[i].tick_params(labelrotation = 20)\n",
    "    \n",
    "    \n",
    "    \n",
    "plt.show()"
   ]
  },
  {
   "cell_type": "markdown",
   "id": "9f74c240",
   "metadata": {},
   "source": [
    "1. 등실의 등급이 높을 수록 생존률이 증가합니다.\n",
    "2. 성별이 남자인 경우 생존률이 크게 줄어듭니다.\n",
    "3. Southampton 항구에 탑승한 승객들의 생존률이 상당히 낮은 반면 나머지 두항구의 생존률은 적당히 보장됩니다."
   ]
  },
  {
   "cell_type": "code",
   "execution_count": 40,
   "id": "95949310",
   "metadata": {},
   "outputs": [
    {
     "data": {
      "image/png": "[encoded data removed]",
      "text/plain": [
       "<Figure size 432x288 with 3 Axes>"
      ]
     },
     "metadata": {
      "needs_background": "light"
     },
     "output_type": "display_data"
    },
    {
     "data": {
      "image/png": "[encoded data removed]",
      "text/plain": [
       "<Figure size 432x288 with 3 Axes>"
      ]
     },
     "metadata": {
      "needs_background": "light"
     },
     "output_type": "display_data"
    },
    {
     "data": {
      "image/png": "[encoded data removed]",
      "text/plain": [
       "<Figure size 432x288 with 3 Axes>"
      ]
     },
     "metadata": {
      "needs_background": "light"
     },
     "output_type": "display_data"
    }
   ],
   "source": [
    "for i in range(1, len(cate_col)):\n",
    "    if cate_col[i] == 'Pclass':\n",
    "        mosaic(data.sort_values('Pclass'), ['Survived', 'Pclass'], title='Survived vs Pclass', gap=0.02)\n",
    "    else:\n",
    "        mosaic(data, ['Survived', cate_col[i]], title=f'Survived vs {cate_col[i]}', gap=0.02)"
   ]
  },
  {
   "cell_type": "markdown",
   "id": "067fd814",
   "metadata": {},
   "source": [
    "등실의 등급은 생존률보다 사망률에 더 큰 영향을 끼침\n"
   ]
  },
  {
   "cell_type": "markdown",
   "id": "a12eca76",
   "metadata": {},
   "source": [
    "## 연속형 컬럼 확인"
   ]
  },
  {
   "cell_type": "code",
   "execution_count": 41,
   "id": "610c79c6",
   "metadata": {},
   "outputs": [
    {
     "name": "stdout",
     "output_type": "stream",
     "text": [
      "Age : 88\n",
      "=============================================\n",
      "\n",
      "SibSp : 7\n",
      "=============================================\n",
      "\n",
      "Parch : 7\n",
      "=============================================\n",
      "\n",
      "Fare : 247\n",
      "=============================================\n",
      "\n"
     ]
    }
   ],
   "source": [
    "# continuous column\n",
    "con_col = []\n",
    "for col in data.columns:\n",
    "    if data[col].dtype != object:\n",
    "        con_col.append(col)\n",
    "        print(f\"{col} : {data[col].nunique()}\")\n",
    "        print('=============================================')\n",
    "        print()\n",
    "        "
   ]
  },
  {
   "cell_type": "code",
   "execution_count": 42,
   "id": "bcaa045d",
   "metadata": {},
   "outputs": [
    {
     "data": {
      "image/png": "[encoded data removed]",
      "text/plain": [
       "<Figure size 720x720 with 4 Axes>"
      ]
     },
     "metadata": {
      "needs_background": "light"
     },
     "output_type": "display_data"
    }
   ],
   "source": [
    "fig, ax = plt.subplots(2,2, figsize = (10, 10), constrained_layout=True)\n",
    "ax = ax.flatten()\n",
    "fig.suptitle('Distribution(Survived vs continuous columns)', fontsize = 20)\n",
    "\n",
    "for i in range(len(con_col)):\n",
    "    sns.distplot(data[data['Survived'] == 'dead'][con_col[i]], color = 'Red', ax = ax[i], hist = False).set(xlabel=None, ylabel=None)\n",
    "    sns.distplot(data[data['Survived'] == 'survive'][con_col[i]], color = 'Blue', ax = ax[i], hist = False).set(xlabel=None, ylabel=None)\n",
    "    ax[i].set(title = con_col[i])\n",
    "    \n",
    "plt.show()"
   ]
  },
  {
   "cell_type": "code",
   "execution_count": 43,
   "id": "2d450803",
   "metadata": {},
   "outputs": [
    {
     "data": {
      "image/png": "[encoded data removed]",
      "text/plain": [
       "<Figure size 720x720 with 4 Axes>"
      ]
     },
     "metadata": {
      "needs_background": "light"
     },
     "output_type": "display_data"
    }
   ],
   "source": [
    "fig, ax = plt.subplots(2,2, figsize = (10,10), constrained_layout=True)\n",
    "ax = ax.flatten()\n",
    "fig.suptitle('Boxplot of Survive', fontsize = 20)\n",
    "\n",
    "for i in range(len(con_col)):\n",
    "    ax[i].set(title = con_col[i])\n",
    "    sns.boxplot(x=data['Survived'], y=data[con_col[i]], ax=ax[i]).set(xlabel=None, ylabel=None)\n",
    "\n",
    "plt.show()"
   ]
  },
  {
   "cell_type": "markdown",
   "id": "dc2bbd1e",
   "metadata": {},
   "source": [
    "1. 20대, 30대의 경우 사망률이 증가한다.\n",
    "2. 함께 탑승한 가족의 수는 사망률과 연관이 없어보인다.\n",
    "3. 티켓의 값이 저렴할 수록 사망률은 높아진다. -> 등실의 등급과 연관"
   ]
  },
  {
   "cell_type": "markdown",
   "id": "b760bf02",
   "metadata": {},
   "source": [
    "# 컬럼 삭제"
   ]
  },
  {
   "cell_type": "markdown",
   "id": "cf48bdfc",
   "metadata": {},
   "source": [
    "함께 탑승한 가족의 수는 생존률과 큰 연관이 없어 보인다.\n",
    "\n",
    "- SibSp  /  Parch  컬럼 삭제"
   ]
  },
  {
   "cell_type": "code",
   "execution_count": 44,
   "id": "9fa17d76",
   "metadata": {},
   "outputs": [
    {
     "name": "stdout",
     "output_type": "stream",
     "text": [
      "SibSp : 7\n",
      "Parch : 7\n",
      "shape : (889, 6)\n"
     ]
    },
    {
     "data": {
      "text/html": [
       "<div>\n",
       "<style scoped>\n",
       "    .dataframe tbody tr th:only-of-type {\n",
       "        vertical-align: middle;\n",
       "    }\n",
       "\n",
       "    .dataframe tbody tr th {\n",
       "        vertical-align: top;\n",
       "    }\n",
       "\n",
       "    .dataframe thead th {\n",
       "        text-align: right;\n",
       "    }\n",
       "</style>\n",
       "<table border=\"1\" class=\"dataframe\">\n",
       "  <thead>\n",
       "    <tr style=\"text-align: right;\">\n",
       "      <th></th>\n",
       "      <th>Survived</th>\n",
       "      <th>Pclass</th>\n",
       "      <th>Sex</th>\n",
       "      <th>Age</th>\n",
       "      <th>Fare</th>\n",
       "      <th>Embarked</th>\n",
       "    </tr>\n",
       "  </thead>\n",
       "  <tbody>\n",
       "    <tr>\n",
       "      <th>0</th>\n",
       "      <td>dead</td>\n",
       "      <td>3</td>\n",
       "      <td>male</td>\n",
       "      <td>22.0</td>\n",
       "      <td>7.2500</td>\n",
       "      <td>S</td>\n",
       "    </tr>\n",
       "    <tr>\n",
       "      <th>1</th>\n",
       "      <td>survive</td>\n",
       "      <td>1</td>\n",
       "      <td>female</td>\n",
       "      <td>38.0</td>\n",
       "      <td>71.2833</td>\n",
       "      <td>C</td>\n",
       "    </tr>\n",
       "    <tr>\n",
       "      <th>2</th>\n",
       "      <td>survive</td>\n",
       "      <td>3</td>\n",
       "      <td>female</td>\n",
       "      <td>26.0</td>\n",
       "      <td>7.9250</td>\n",
       "      <td>S</td>\n",
       "    </tr>\n",
       "    <tr>\n",
       "      <th>3</th>\n",
       "      <td>survive</td>\n",
       "      <td>1</td>\n",
       "      <td>female</td>\n",
       "      <td>35.0</td>\n",
       "      <td>53.1000</td>\n",
       "      <td>S</td>\n",
       "    </tr>\n",
       "    <tr>\n",
       "      <th>4</th>\n",
       "      <td>dead</td>\n",
       "      <td>3</td>\n",
       "      <td>male</td>\n",
       "      <td>35.0</td>\n",
       "      <td>8.0500</td>\n",
       "      <td>S</td>\n",
       "    </tr>\n",
       "  </tbody>\n",
       "</table>\n",
       "</div>"
      ],
      "text/plain": [
       "  Survived Pclass     Sex   Age     Fare Embarked\n",
       "0     dead      3    male  22.0   7.2500        S\n",
       "1  survive      1  female  38.0  71.2833        C\n",
       "2  survive      3  female  26.0   7.9250        S\n",
       "3  survive      1  female  35.0  53.1000        S\n",
       "4     dead      3    male  35.0   8.0500        S"
      ]
     },
     "execution_count": 44,
     "metadata": {},
     "output_type": "execute_result"
    }
   ],
   "source": [
    "print(f\"SibSp : {data['SibSp'].nunique()}\")\n",
    "print(f\"Parch : {data['Parch'].nunique()}\")\n",
    "data.drop(['SibSp', 'Parch'], axis = 1, inplace = True)\n",
    "print(f\"shape : {data.shape}\")\n",
    "data.head()"
   ]
  },
  {
   "cell_type": "markdown",
   "id": "c61942f1",
   "metadata": {},
   "source": [
    "# 상관관계"
   ]
  },
  {
   "cell_type": "markdown",
   "id": "30dc7346",
   "metadata": {},
   "source": [
    "## 각 열에 대한 상관계수 출력\n",
    "- 피어슨 상관계수 사용 (두 변수 간의 선형 상관관계를 계량화 한 수치)"
   ]
  },
  {
   "cell_type": "code",
   "execution_count": 66,
   "id": "04b06528",
   "metadata": {},
   "outputs": [
    {
     "name": "stdout",
     "output_type": "stream",
     "text": [
      "     Survived_survive   Age     Fare  Pclass_2  Pclass_3  Sex_male  \\\n",
      "0                   0  22.0   7.2500         0         1         1   \n",
      "1                   1  38.0  71.2833         0         0         0   \n",
      "2                   1  26.0   7.9250         0         1         0   \n",
      "3                   1  35.0  53.1000         0         0         0   \n",
      "4                   0  35.0   8.0500         0         1         1   \n",
      "..                ...   ...      ...       ...       ...       ...   \n",
      "886                 0  27.0  13.0000         1         0         1   \n",
      "887                 1  19.0  30.0000         0         0         0   \n",
      "888                 0  28.0  23.4500         0         1         0   \n",
      "889                 1  26.0  30.0000         0         0         1   \n",
      "890                 0  32.0   7.7500         0         1         1   \n",
      "\n",
      "     Embarked_Q  Embarked_S  \n",
      "0             0           1  \n",
      "1             0           0  \n",
      "2             0           1  \n",
      "3             0           1  \n",
      "4             0           1  \n",
      "..          ...         ...  \n",
      "886           0           1  \n",
      "887           0           1  \n",
      "888           0           1  \n",
      "889           0           0  \n",
      "890           1           0  \n",
      "\n",
      "[889 rows x 8 columns]\n"
     ]
    },
    {
     "data": {
      "text/html": [
       "<div>\n",
       "<style scoped>\n",
       "    .dataframe tbody tr th:only-of-type {\n",
       "        vertical-align: middle;\n",
       "    }\n",
       "\n",
       "    .dataframe tbody tr th {\n",
       "        vertical-align: top;\n",
       "    }\n",
       "\n",
       "    .dataframe thead th {\n",
       "        text-align: right;\n",
       "    }\n",
       "</style>\n",
       "<table border=\"1\" class=\"dataframe\">\n",
       "  <thead>\n",
       "    <tr style=\"text-align: right;\">\n",
       "      <th></th>\n",
       "      <th>Survived_survive</th>\n",
       "      <th>Age</th>\n",
       "      <th>Fare</th>\n",
       "      <th>Pclass_2</th>\n",
       "      <th>Pclass_3</th>\n",
       "      <th>Sex_male</th>\n",
       "      <th>Embarked_Q</th>\n",
       "      <th>Embarked_S</th>\n",
       "    </tr>\n",
       "  </thead>\n",
       "  <tbody>\n",
       "    <tr>\n",
       "      <th>Survived_survive</th>\n",
       "      <td>1.000000</td>\n",
       "      <td>-0.069822</td>\n",
       "      <td>0.255290</td>\n",
       "      <td>0.095002</td>\n",
       "      <td>-0.320171</td>\n",
       "      <td>-0.541585</td>\n",
       "      <td>0.004536</td>\n",
       "      <td>-0.151777</td>\n",
       "    </tr>\n",
       "    <tr>\n",
       "      <th>Age</th>\n",
       "      <td>-0.069822</td>\n",
       "      <td>1.000000</td>\n",
       "      <td>0.093707</td>\n",
       "      <td>0.017724</td>\n",
       "      <td>-0.289498</td>\n",
       "      <td>0.086506</td>\n",
       "      <td>-0.030436</td>\n",
       "      <td>-0.008964</td>\n",
       "    </tr>\n",
       "    <tr>\n",
       "      <th>Fare</th>\n",
       "      <td>0.255290</td>\n",
       "      <td>0.093707</td>\n",
       "      <td>1.000000</td>\n",
       "      <td>-0.117609</td>\n",
       "      <td>-0.411932</td>\n",
       "      <td>-0.179958</td>\n",
       "      <td>-0.116684</td>\n",
       "      <td>-0.163758</td>\n",
       "    </tr>\n",
       "    <tr>\n",
       "      <th>Pclass_2</th>\n",
       "      <td>0.095002</td>\n",
       "      <td>0.017724</td>\n",
       "      <td>-0.117609</td>\n",
       "      <td>1.000000</td>\n",
       "      <td>-0.567432</td>\n",
       "      <td>-0.066459</td>\n",
       "      <td>-0.127705</td>\n",
       "      <td>0.190824</td>\n",
       "    </tr>\n",
       "    <tr>\n",
       "      <th>Pclass_3</th>\n",
       "      <td>-0.320171</td>\n",
       "      <td>-0.289498</td>\n",
       "      <td>-0.411932</td>\n",
       "      <td>-0.567432</td>\n",
       "      <td>1.000000</td>\n",
       "      <td>0.134227</td>\n",
       "      <td>0.237035</td>\n",
       "      <td>-0.013594</td>\n",
       "    </tr>\n",
       "    <tr>\n",
       "      <th>Sex_male</th>\n",
       "      <td>-0.541585</td>\n",
       "      <td>0.086506</td>\n",
       "      <td>-0.179958</td>\n",
       "      <td>-0.066459</td>\n",
       "      <td>0.134227</td>\n",
       "      <td>1.000000</td>\n",
       "      <td>-0.075217</td>\n",
       "      <td>0.121405</td>\n",
       "    </tr>\n",
       "    <tr>\n",
       "      <th>Embarked_Q</th>\n",
       "      <td>0.004536</td>\n",
       "      <td>-0.030436</td>\n",
       "      <td>-0.116684</td>\n",
       "      <td>-0.127705</td>\n",
       "      <td>0.237035</td>\n",
       "      <td>-0.075217</td>\n",
       "      <td>1.000000</td>\n",
       "      <td>-0.499261</td>\n",
       "    </tr>\n",
       "    <tr>\n",
       "      <th>Embarked_S</th>\n",
       "      <td>-0.151777</td>\n",
       "      <td>-0.008964</td>\n",
       "      <td>-0.163758</td>\n",
       "      <td>0.190824</td>\n",
       "      <td>-0.013594</td>\n",
       "      <td>0.121405</td>\n",
       "      <td>-0.499261</td>\n",
       "      <td>1.000000</td>\n",
       "    </tr>\n",
       "  </tbody>\n",
       "</table>\n",
       "</div>"
      ],
      "text/plain": [
       "                  Survived_survive       Age      Fare  Pclass_2  Pclass_3  \\\n",
       "Survived_survive          1.000000 -0.069822  0.255290  0.095002 -0.320171   \n",
       "Age                      -0.069822  1.000000  0.093707  0.017724 -0.289498   \n",
       "Fare                      0.255290  0.093707  1.000000 -0.117609 -0.411932   \n",
       "Pclass_2                  0.095002  0.017724 -0.117609  1.000000 -0.567432   \n",
       "Pclass_3                 -0.320171 -0.289498 -0.411932 -0.567432  1.000000   \n",
       "Sex_male                 -0.541585  0.086506 -0.179958 -0.066459  0.134227   \n",
       "Embarked_Q                0.004536 -0.030436 -0.116684 -0.127705  0.237035   \n",
       "Embarked_S               -0.151777 -0.008964 -0.163758  0.190824 -0.013594   \n",
       "\n",
       "                  Sex_male  Embarked_Q  Embarked_S  \n",
       "Survived_survive -0.541585    0.004536   -0.151777  \n",
       "Age               0.086506   -0.030436   -0.008964  \n",
       "Fare             -0.179958   -0.116684   -0.163758  \n",
       "Pclass_2         -0.066459   -0.127705    0.190824  \n",
       "Pclass_3          0.134227    0.237035   -0.013594  \n",
       "Sex_male          1.000000   -0.075217    0.121405  \n",
       "Embarked_Q       -0.075217    1.000000   -0.499261  \n",
       "Embarked_S        0.121405   -0.499261    1.000000  "
      ]
     },
     "execution_count": 66,
     "metadata": {},
     "output_type": "execute_result"
    }
   ],
   "source": [
    "data_cp = data.copy()\n",
    "data_cp = pd.get_dummies(data_cp, drop_first = True)\n",
    "data_cp = data_cp[['Survived_survive'] + [col for col in data_cp.columns if col != 'Survived_survive']]\n",
    "print(data_cp)\n",
    "data_corr = data_cp.corr()\n",
    "data_corr"
   ]
  },
  {
   "cell_type": "markdown",
   "id": "6031a03d",
   "metadata": {},
   "source": [
    "## 상관계수 히트맵으로 표현"
   ]
  },
  {
   "cell_type": "code",
   "execution_count": 64,
   "id": "bb600465",
   "metadata": {},
   "outputs": [
    {
     "data": {
      "image/png": "[encoded data removed]",
      "text/plain": [
       "<Figure size 720x720 with 2 Axes>"
      ]
     },
     "metadata": {},
     "output_type": "display_data"
    }
   ],
   "source": [
    "plt.figure(figsize = (10,10))\n",
    "plt.title('Correlation Heatmap')\n",
    "\n",
    "sns.set(font_scale=1.2)\n",
    "sns.heatmap(data_corr, annot=True, \n",
    "            annot_kws={'size':20}, fmt='.2f', cmap='RdYlBu_r', linewidths=0.5)\n",
    "\n",
    "plt.show()"
   ]
  },
  {
   "cell_type": "markdown",
   "id": "450595c1",
   "metadata": {},
   "source": [
    "## 높은 상관관계를 가지는 열 따로 출력"
   ]
  },
  {
   "cell_type": "code",
   "execution_count": 108,
   "id": "6675a203",
   "metadata": {},
   "outputs": [],
   "source": [
    "temps = data_corr[(data_corr > 0.4) | (data_corr < -0.4)]\n",
    "high_corr = []\n",
    "\n",
    "for c in temps.columns:\n",
    "    temp = temps[c].dropna()\n",
    "    \n",
    "    if len(temp) == 1:\n",
    "        continue\n",
    "    \n",
    "    high_corr.append([temp.name, temp.to_dict()])"
   ]
  },
  {
   "cell_type": "code",
   "execution_count": 114,
   "id": "72e56007",
   "metadata": {},
   "outputs": [
    {
     "data": {
      "image/png": "[encoded data removed]",
      "text/plain": [
       "<Figure size 720x720 with 8 Axes>"
      ]
     },
     "metadata": {},
     "output_type": "display_data"
    }
   ],
   "source": [
    "fig, ax = plt.subplots(2,4, figsize = (10,10), constrained_layout = True)\n",
    "fig.suptitle('Correlation', fontsize = 20)\n",
    "ax = ax.flatten()\n",
    "\n",
    "for i, c in enumerate(high_corr):\n",
    "    ordered_d = OrderedDict(sorted(high_corr[i][1].items(), key = lambda x:x[1], reverse=True))\n",
    "    title = ordered_d.popitem(0)\n",
    "    \n",
    "    sns.barplot(x=list(ordered_d.keys()), y=list(ordered_d.values()), ax=ax[i])\n",
    "    ax[i].set(title = title[0])\n",
    "    \n",
    "#     if len(ordered_d.keys()) > 2:\n",
    "#         ax[i].tick_params(labelrotation=20)\n",
    "\n",
    "plt.show()"
   ]
  },
  {
   "cell_type": "markdown",
   "id": "2fa490b8",
   "metadata": {},
   "source": [
    "## 종속변수와의 상관관계"
   ]
  },
  {
   "cell_type": "code",
   "execution_count": 116,
   "id": "b2600aca",
   "metadata": {},
   "outputs": [
    {
     "data": {
      "text/plain": [
       "<AxesSubplot:title={'center':'Survived of Corr'}>"
      ]
     },
     "execution_count": 116,
     "metadata": {},
     "output_type": "execute_result"
    },
    {
     "data": {
      "image/png": "[encoded data removed]",
      "text/plain": [
       "<Figure size 360x720 with 1 Axes>"
      ]
     },
     "metadata": {},
     "output_type": "display_data"
    }
   ],
   "source": [
    "plt.title('Survived of Corr')\n",
    "data_cp.drop('Survived_survive', axis = 1).corrwith(data_cp.Survived_survive).sort_values().plot(kind='barh', figsize = (5,10))"
   ]
  },
  {
   "cell_type": "markdown",
   "id": "4dec38c7",
   "metadata": {},
   "source": [
    "Sex, Pclass, Fare 컬럼이 종속변수와 높은 상관관계를 가진다."
   ]
  },
  {
   "cell_type": "markdown",
   "id": "06bd0fe4",
   "metadata": {},
   "source": [
    "## VIF 확인"
   ]
  },
  {
   "cell_type": "markdown",
   "id": "2954242a",
   "metadata": {},
   "source": [
    "**독립변수는 종속변수와만 상관관계가 있어야한다.**\n",
    "\n",
    "만약 종속변수가 독립변수 뿐만 아닌 다른 독립변수와의 상관관계가 높다면 이를 **다중공선성**이라고 하며, 위와 같은 경우 정확한 회귀분석이 어렵다.\n",
    "\n",
    "- 독립변수의 다중공선성을 확인하기 위해 VIF를 사용"
   ]
  },
  {
   "cell_type": "code",
   "execution_count": 122,
   "id": "34e04299",
   "metadata": {},
   "outputs": [
    {
     "data": {
      "text/html": [
       "<div>\n",
       "<style scoped>\n",
       "    .dataframe tbody tr th:only-of-type {\n",
       "        vertical-align: middle;\n",
       "    }\n",
       "\n",
       "    .dataframe tbody tr th {\n",
       "        vertical-align: top;\n",
       "    }\n",
       "\n",
       "    .dataframe thead th {\n",
       "        text-align: right;\n",
       "    }\n",
       "</style>\n",
       "<table border=\"1\" class=\"dataframe\">\n",
       "  <thead>\n",
       "    <tr style=\"text-align: right;\">\n",
       "      <th></th>\n",
       "      <th>Survived_survive</th>\n",
       "      <th>Age</th>\n",
       "      <th>Fare</th>\n",
       "      <th>Pclass_2</th>\n",
       "      <th>Pclass_3</th>\n",
       "      <th>Sex_male</th>\n",
       "      <th>Embarked_Q</th>\n",
       "      <th>Embarked_S</th>\n",
       "    </tr>\n",
       "  </thead>\n",
       "  <tbody>\n",
       "    <tr>\n",
       "      <th>Survived_survive</th>\n",
       "      <td>1.000000</td>\n",
       "      <td>-0.069822</td>\n",
       "      <td>0.255290</td>\n",
       "      <td>0.095002</td>\n",
       "      <td>-0.320171</td>\n",
       "      <td>-0.541585</td>\n",
       "      <td>0.004536</td>\n",
       "      <td>-0.151777</td>\n",
       "    </tr>\n",
       "    <tr>\n",
       "      <th>Age</th>\n",
       "      <td>-0.069822</td>\n",
       "      <td>1.000000</td>\n",
       "      <td>0.093707</td>\n",
       "      <td>0.017724</td>\n",
       "      <td>-0.289498</td>\n",
       "      <td>0.086506</td>\n",
       "      <td>-0.030436</td>\n",
       "      <td>-0.008964</td>\n",
       "    </tr>\n",
       "    <tr>\n",
       "      <th>Fare</th>\n",
       "      <td>0.255290</td>\n",
       "      <td>0.093707</td>\n",
       "      <td>1.000000</td>\n",
       "      <td>-0.117609</td>\n",
       "      <td>-0.411932</td>\n",
       "      <td>-0.179958</td>\n",
       "      <td>-0.116684</td>\n",
       "      <td>-0.163758</td>\n",
       "    </tr>\n",
       "    <tr>\n",
       "      <th>Pclass_2</th>\n",
       "      <td>0.095002</td>\n",
       "      <td>0.017724</td>\n",
       "      <td>-0.117609</td>\n",
       "      <td>1.000000</td>\n",
       "      <td>-0.567432</td>\n",
       "      <td>-0.066459</td>\n",
       "      <td>-0.127705</td>\n",
       "      <td>0.190824</td>\n",
       "    </tr>\n",
       "    <tr>\n",
       "      <th>Pclass_3</th>\n",
       "      <td>-0.320171</td>\n",
       "      <td>-0.289498</td>\n",
       "      <td>-0.411932</td>\n",
       "      <td>-0.567432</td>\n",
       "      <td>1.000000</td>\n",
       "      <td>0.134227</td>\n",
       "      <td>0.237035</td>\n",
       "      <td>-0.013594</td>\n",
       "    </tr>\n",
       "    <tr>\n",
       "      <th>Sex_male</th>\n",
       "      <td>-0.541585</td>\n",
       "      <td>0.086506</td>\n",
       "      <td>-0.179958</td>\n",
       "      <td>-0.066459</td>\n",
       "      <td>0.134227</td>\n",
       "      <td>1.000000</td>\n",
       "      <td>-0.075217</td>\n",
       "      <td>0.121405</td>\n",
       "    </tr>\n",
       "    <tr>\n",
       "      <th>Embarked_Q</th>\n",
       "      <td>0.004536</td>\n",
       "      <td>-0.030436</td>\n",
       "      <td>-0.116684</td>\n",
       "      <td>-0.127705</td>\n",
       "      <td>0.237035</td>\n",
       "      <td>-0.075217</td>\n",
       "      <td>1.000000</td>\n",
       "      <td>-0.499261</td>\n",
       "    </tr>\n",
       "    <tr>\n",
       "      <th>Embarked_S</th>\n",
       "      <td>-0.151777</td>\n",
       "      <td>-0.008964</td>\n",
       "      <td>-0.163758</td>\n",
       "      <td>0.190824</td>\n",
       "      <td>-0.013594</td>\n",
       "      <td>0.121405</td>\n",
       "      <td>-0.499261</td>\n",
       "      <td>1.000000</td>\n",
       "    </tr>\n",
       "  </tbody>\n",
       "</table>\n",
       "</div>"
      ],
      "text/plain": [
       "                  Survived_survive       Age      Fare  Pclass_2  Pclass_3  \\\n",
       "Survived_survive          1.000000 -0.069822  0.255290  0.095002 -0.320171   \n",
       "Age                      -0.069822  1.000000  0.093707  0.017724 -0.289498   \n",
       "Fare                      0.255290  0.093707  1.000000 -0.117609 -0.411932   \n",
       "Pclass_2                  0.095002  0.017724 -0.117609  1.000000 -0.567432   \n",
       "Pclass_3                 -0.320171 -0.289498 -0.411932 -0.567432  1.000000   \n",
       "Sex_male                 -0.541585  0.086506 -0.179958 -0.066459  0.134227   \n",
       "Embarked_Q                0.004536 -0.030436 -0.116684 -0.127705  0.237035   \n",
       "Embarked_S               -0.151777 -0.008964 -0.163758  0.190824 -0.013594   \n",
       "\n",
       "                  Sex_male  Embarked_Q  Embarked_S  \n",
       "Survived_survive -0.541585    0.004536   -0.151777  \n",
       "Age               0.086506   -0.030436   -0.008964  \n",
       "Fare             -0.179958   -0.116684   -0.163758  \n",
       "Pclass_2         -0.066459   -0.127705    0.190824  \n",
       "Pclass_3          0.134227    0.237035   -0.013594  \n",
       "Sex_male          1.000000   -0.075217    0.121405  \n",
       "Embarked_Q       -0.075217    1.000000   -0.499261  \n",
       "Embarked_S        0.121405   -0.499261    1.000000  "
      ]
     },
     "execution_count": 122,
     "metadata": {},
     "output_type": "execute_result"
    }
   ],
   "source": [
    "data_corr"
   ]
  },
  {
   "cell_type": "code",
   "execution_count": 125,
   "id": "664570c5",
   "metadata": {},
   "outputs": [
    {
     "data": {
      "text/html": [
       "<div>\n",
       "<style scoped>\n",
       "    .dataframe tbody tr th:only-of-type {\n",
       "        vertical-align: middle;\n",
       "    }\n",
       "\n",
       "    .dataframe tbody tr th {\n",
       "        vertical-align: top;\n",
       "    }\n",
       "\n",
       "    .dataframe thead th {\n",
       "        text-align: right;\n",
       "    }\n",
       "</style>\n",
       "<table border=\"1\" class=\"dataframe\">\n",
       "  <thead>\n",
       "    <tr style=\"text-align: right;\">\n",
       "      <th></th>\n",
       "      <th>VIF Factor</th>\n",
       "      <th>features</th>\n",
       "    </tr>\n",
       "  </thead>\n",
       "  <tbody>\n",
       "    <tr>\n",
       "      <th>4</th>\n",
       "      <td>24.241650</td>\n",
       "      <td>Pclass_3</td>\n",
       "    </tr>\n",
       "    <tr>\n",
       "      <th>3</th>\n",
       "      <td>11.713638</td>\n",
       "      <td>Pclass_2</td>\n",
       "    </tr>\n",
       "    <tr>\n",
       "      <th>2</th>\n",
       "      <td>6.202728</td>\n",
       "      <td>Fare</td>\n",
       "    </tr>\n",
       "    <tr>\n",
       "      <th>0</th>\n",
       "      <td>5.587363</td>\n",
       "      <td>Survived_survive</td>\n",
       "    </tr>\n",
       "    <tr>\n",
       "      <th>6</th>\n",
       "      <td>4.120121</td>\n",
       "      <td>Embarked_Q</td>\n",
       "    </tr>\n",
       "    <tr>\n",
       "      <th>7</th>\n",
       "      <td>4.111142</td>\n",
       "      <td>Embarked_S</td>\n",
       "    </tr>\n",
       "    <tr>\n",
       "      <th>5</th>\n",
       "      <td>3.877056</td>\n",
       "      <td>Sex_male</td>\n",
       "    </tr>\n",
       "    <tr>\n",
       "      <th>1</th>\n",
       "      <td>2.411174</td>\n",
       "      <td>Age</td>\n",
       "    </tr>\n",
       "  </tbody>\n",
       "</table>\n",
       "</div>"
      ],
      "text/plain": [
       "   VIF Factor          features\n",
       "4   24.241650          Pclass_3\n",
       "3   11.713638          Pclass_2\n",
       "2    6.202728              Fare\n",
       "0    5.587363  Survived_survive\n",
       "6    4.120121        Embarked_Q\n",
       "7    4.111142        Embarked_S\n",
       "5    3.877056          Sex_male\n",
       "1    2.411174               Age"
      ]
     },
     "execution_count": 125,
     "metadata": {},
     "output_type": "execute_result"
    }
   ],
   "source": [
    "vif = pd.DataFrame()\n",
    "vif['VIF Factor'] = [variance_inflation_factor(data_corr.values, i) for i in range(data_corr.shape[1])]\n",
    "vif['features'] = data_corr.columns\n",
    "vif.sort_values(by='VIF Factor', ascending = False)"
   ]
  },
  {
   "cell_type": "markdown",
   "id": "880ec7c2",
   "metadata": {},
   "source": [
    "보통 10미만의 값을 가지는 column은 다중공선성이 없다고 판단한다.\n",
    "\n",
    "- 대부분의 column은 10 미만의 값을 가진다.\n",
    "- 10 이상의 값을 가지는 Pclass의 경우 Fare와 관련이 높기에 높은 값이 나온 것으로 판단된다."
   ]
  },
  {
   "cell_type": "markdown",
   "id": "c534e900",
   "metadata": {},
   "source": [
    "# 가설 확인"
   ]
  },
  {
   "cell_type": "markdown",
   "id": "d8acd151",
   "metadata": {},
   "source": [
    "1. 성별이 남자인 경우 생존률이 높을 것이다.\n",
    "2. 등실의 등급이 높을 수록 생존률이 높을 것이다.\n",
    "3. 나이가 적을 수록 생존률이 높을 것이다.\n",
    "4. 티켓의 요금이 높을 수록 생존률이 높을 것이다.\n",
    "5. 함께 탑승한 가족이 적을 경우 생존률이 높을 것이다."
   ]
  },
  {
   "cell_type": "code",
   "execution_count": 135,
   "id": "6fc3dbd5",
   "metadata": {},
   "outputs": [],
   "source": [
    "def make_pivot(data, x, y, func):\n",
    "    table = pd.pivot_table(data = data, values = 'Age', index = x, columns = y, aggfunc = func)\n",
    "    table['total'] = table['dead'] + table['survive']\n",
    "    table['Survived_rate'] = table['survive'] / table['total'] * 100\n",
    "    return table"
   ]
  },
  {
   "cell_type": "markdown",
   "id": "744e738a",
   "metadata": {},
   "source": [
    "## 성별이 남자인 경우 생존률이 높을 것이다."
   ]
  },
  {
   "cell_type": "code",
   "execution_count": 136,
   "id": "7a178377",
   "metadata": {},
   "outputs": [
    {
     "data": {
      "text/html": [
       "<div>\n",
       "<style scoped>\n",
       "    .dataframe tbody tr th:only-of-type {\n",
       "        vertical-align: middle;\n",
       "    }\n",
       "\n",
       "    .dataframe tbody tr th {\n",
       "        vertical-align: top;\n",
       "    }\n",
       "\n",
       "    .dataframe thead th {\n",
       "        text-align: right;\n",
       "    }\n",
       "</style>\n",
       "<table border=\"1\" class=\"dataframe\">\n",
       "  <thead>\n",
       "    <tr style=\"text-align: right;\">\n",
       "      <th>Survived</th>\n",
       "      <th>dead</th>\n",
       "      <th>survive</th>\n",
       "      <th>total</th>\n",
       "      <th>Survived_rate</th>\n",
       "    </tr>\n",
       "    <tr>\n",
       "      <th>Sex</th>\n",
       "      <th></th>\n",
       "      <th></th>\n",
       "      <th></th>\n",
       "      <th></th>\n",
       "    </tr>\n",
       "  </thead>\n",
       "  <tbody>\n",
       "    <tr>\n",
       "      <th>female</th>\n",
       "      <td>81</td>\n",
       "      <td>231</td>\n",
       "      <td>312</td>\n",
       "      <td>74.038462</td>\n",
       "    </tr>\n",
       "    <tr>\n",
       "      <th>male</th>\n",
       "      <td>468</td>\n",
       "      <td>109</td>\n",
       "      <td>577</td>\n",
       "      <td>18.890815</td>\n",
       "    </tr>\n",
       "  </tbody>\n",
       "</table>\n",
       "</div>"
      ],
      "text/plain": [
       "Survived  dead  survive  total  Survived_rate\n",
       "Sex                                          \n",
       "female      81      231    312      74.038462\n",
       "male       468      109    577      18.890815"
      ]
     },
     "execution_count": 136,
     "metadata": {},
     "output_type": "execute_result"
    }
   ],
   "source": [
    "table = make_pivot(data, 'Sex', 'Survived', len)\n",
    "table"
   ]
  },
  {
   "cell_type": "code",
   "execution_count": 137,
   "id": "a56839c1",
   "metadata": {},
   "outputs": [
    {
     "data": {
      "image/png": "[encoded data removed]",
      "text/plain": [
       "<Figure size 360x360 with 1 Axes>"
      ]
     },
     "metadata": {},
     "output_type": "display_data"
    }
   ],
   "source": [
    "plt.figure(figsize = (5,5))\n",
    "plt.title('Sex', fontsize = 20)\n",
    "sns.barplot(table.index, table.Survived_rate)\n",
    "plt.show()"
   ]
  },
  {
   "cell_type": "markdown",
   "id": "c83f5779",
   "metadata": {},
   "source": [
    "- 성별이 여성인 경우 생존률이 높았다.\n",
    "    - 여성 : 74% \n",
    "    - 남성 : 18%"
   ]
  },
  {
   "cell_type": "markdown",
   "id": "2580285b",
   "metadata": {},
   "source": [
    "## 등실의 등급이 높을 수록 생존률이 높을 것이다."
   ]
  },
  {
   "cell_type": "code",
   "execution_count": 138,
   "id": "997c8c1a",
   "metadata": {},
   "outputs": [
    {
     "data": {
      "text/html": [
       "<div>\n",
       "<style scoped>\n",
       "    .dataframe tbody tr th:only-of-type {\n",
       "        vertical-align: middle;\n",
       "    }\n",
       "\n",
       "    .dataframe tbody tr th {\n",
       "        vertical-align: top;\n",
       "    }\n",
       "\n",
       "    .dataframe thead th {\n",
       "        text-align: right;\n",
       "    }\n",
       "</style>\n",
       "<table border=\"1\" class=\"dataframe\">\n",
       "  <thead>\n",
       "    <tr style=\"text-align: right;\">\n",
       "      <th>Survived</th>\n",
       "      <th>dead</th>\n",
       "      <th>survive</th>\n",
       "      <th>total</th>\n",
       "      <th>Survived_rate</th>\n",
       "    </tr>\n",
       "    <tr>\n",
       "      <th>Pclass</th>\n",
       "      <th></th>\n",
       "      <th></th>\n",
       "      <th></th>\n",
       "      <th></th>\n",
       "    </tr>\n",
       "  </thead>\n",
       "  <tbody>\n",
       "    <tr>\n",
       "      <th>1</th>\n",
       "      <td>80</td>\n",
       "      <td>134</td>\n",
       "      <td>214</td>\n",
       "      <td>62.616822</td>\n",
       "    </tr>\n",
       "    <tr>\n",
       "      <th>2</th>\n",
       "      <td>97</td>\n",
       "      <td>87</td>\n",
       "      <td>184</td>\n",
       "      <td>47.282609</td>\n",
       "    </tr>\n",
       "    <tr>\n",
       "      <th>3</th>\n",
       "      <td>372</td>\n",
       "      <td>119</td>\n",
       "      <td>491</td>\n",
       "      <td>24.236253</td>\n",
       "    </tr>\n",
       "  </tbody>\n",
       "</table>\n",
       "</div>"
      ],
      "text/plain": [
       "Survived  dead  survive  total  Survived_rate\n",
       "Pclass                                       \n",
       "1           80      134    214      62.616822\n",
       "2           97       87    184      47.282609\n",
       "3          372      119    491      24.236253"
      ]
     },
     "execution_count": 138,
     "metadata": {},
     "output_type": "execute_result"
    }
   ],
   "source": [
    "table = make_pivot(data, 'Pclass', 'Survived', len)\n",
    "table"
   ]
  },
  {
   "cell_type": "code",
   "execution_count": 139,
   "id": "b730e9b9",
   "metadata": {},
   "outputs": [
    {
     "data": {
      "image/png": "[encoded data removed]",
      "text/plain": [
       "<Figure size 360x360 with 1 Axes>"
      ]
     },
     "metadata": {},
     "output_type": "display_data"
    }
   ],
   "source": [
    "plt.figure(figsize = (5,5))\n",
    "plt.title('Pclass', fontsize = 20)\n",
    "sns.barplot(table.index, table.Survived_rate)\n",
    "plt.show()"
   ]
  },
  {
   "cell_type": "markdown",
   "id": "0b6c96f6",
   "metadata": {},
   "source": [
    "- 등실의 등급이 3에서 1로 올라갈수록 생존률은 올라갔다.\n",
    "    - 1 : 62%\n",
    "    - 2 : 47%\n",
    "    - 3 : 24%"
   ]
  },
  {
   "cell_type": "markdown",
   "id": "83618bae",
   "metadata": {},
   "source": [
    "## 나이가 적을 수록 생존률이 높을 것이다."
   ]
  },
  {
   "cell_type": "markdown",
   "id": "4aae5533",
   "metadata": {},
   "source": [
    "**나이의 경우 비교를 위해서 6등분으로 나누었다**"
   ]
  },
  {
   "cell_type": "code",
   "execution_count": 140,
   "id": "87346956",
   "metadata": {},
   "outputs": [
    {
     "data": {
      "image/png": "[encoded data removed]",
      "text/plain": [
       "<Figure size 360x360 with 1 Axes>"
      ]
     },
     "metadata": {},
     "output_type": "display_data"
    }
   ],
   "source": [
    "plt.figure(figsize = (5,5))\n",
    "plt.title('Age Histogram')\n",
    "data['Age'].plot(kind = 'hist')\n",
    "plt.show()"
   ]
  },
  {
   "cell_type": "code",
   "execution_count": 141,
   "id": "8702efc7",
   "metadata": {},
   "outputs": [
    {
     "data": {
      "text/html": [
       "<div>\n",
       "<style scoped>\n",
       "    .dataframe tbody tr th:only-of-type {\n",
       "        vertical-align: middle;\n",
       "    }\n",
       "\n",
       "    .dataframe tbody tr th {\n",
       "        vertical-align: top;\n",
       "    }\n",
       "\n",
       "    .dataframe thead th {\n",
       "        text-align: right;\n",
       "    }\n",
       "</style>\n",
       "<table border=\"1\" class=\"dataframe\">\n",
       "  <thead>\n",
       "    <tr style=\"text-align: right;\">\n",
       "      <th></th>\n",
       "      <th>Survived</th>\n",
       "      <th>Pclass</th>\n",
       "      <th>Sex</th>\n",
       "      <th>Age</th>\n",
       "      <th>Fare</th>\n",
       "      <th>Embarked</th>\n",
       "      <th>Age_dist</th>\n",
       "    </tr>\n",
       "  </thead>\n",
       "  <tbody>\n",
       "    <tr>\n",
       "      <th>0</th>\n",
       "      <td>dead</td>\n",
       "      <td>3</td>\n",
       "      <td>male</td>\n",
       "      <td>22.0</td>\n",
       "      <td>7.2500</td>\n",
       "      <td>S</td>\n",
       "      <td>1</td>\n",
       "    </tr>\n",
       "    <tr>\n",
       "      <th>1</th>\n",
       "      <td>survive</td>\n",
       "      <td>1</td>\n",
       "      <td>female</td>\n",
       "      <td>38.0</td>\n",
       "      <td>71.2833</td>\n",
       "      <td>C</td>\n",
       "      <td>2</td>\n",
       "    </tr>\n",
       "    <tr>\n",
       "      <th>2</th>\n",
       "      <td>survive</td>\n",
       "      <td>3</td>\n",
       "      <td>female</td>\n",
       "      <td>26.0</td>\n",
       "      <td>7.9250</td>\n",
       "      <td>S</td>\n",
       "      <td>1</td>\n",
       "    </tr>\n",
       "    <tr>\n",
       "      <th>3</th>\n",
       "      <td>survive</td>\n",
       "      <td>1</td>\n",
       "      <td>female</td>\n",
       "      <td>35.0</td>\n",
       "      <td>53.1000</td>\n",
       "      <td>S</td>\n",
       "      <td>2</td>\n",
       "    </tr>\n",
       "    <tr>\n",
       "      <th>4</th>\n",
       "      <td>dead</td>\n",
       "      <td>3</td>\n",
       "      <td>male</td>\n",
       "      <td>35.0</td>\n",
       "      <td>8.0500</td>\n",
       "      <td>S</td>\n",
       "      <td>2</td>\n",
       "    </tr>\n",
       "    <tr>\n",
       "      <th>...</th>\n",
       "      <td>...</td>\n",
       "      <td>...</td>\n",
       "      <td>...</td>\n",
       "      <td>...</td>\n",
       "      <td>...</td>\n",
       "      <td>...</td>\n",
       "      <td>...</td>\n",
       "    </tr>\n",
       "    <tr>\n",
       "      <th>886</th>\n",
       "      <td>dead</td>\n",
       "      <td>2</td>\n",
       "      <td>male</td>\n",
       "      <td>27.0</td>\n",
       "      <td>13.0000</td>\n",
       "      <td>S</td>\n",
       "      <td>2</td>\n",
       "    </tr>\n",
       "    <tr>\n",
       "      <th>887</th>\n",
       "      <td>survive</td>\n",
       "      <td>1</td>\n",
       "      <td>female</td>\n",
       "      <td>19.0</td>\n",
       "      <td>30.0000</td>\n",
       "      <td>S</td>\n",
       "      <td>1</td>\n",
       "    </tr>\n",
       "    <tr>\n",
       "      <th>888</th>\n",
       "      <td>dead</td>\n",
       "      <td>3</td>\n",
       "      <td>female</td>\n",
       "      <td>28.0</td>\n",
       "      <td>23.4500</td>\n",
       "      <td>S</td>\n",
       "      <td>2</td>\n",
       "    </tr>\n",
       "    <tr>\n",
       "      <th>889</th>\n",
       "      <td>survive</td>\n",
       "      <td>1</td>\n",
       "      <td>male</td>\n",
       "      <td>26.0</td>\n",
       "      <td>30.0000</td>\n",
       "      <td>C</td>\n",
       "      <td>1</td>\n",
       "    </tr>\n",
       "    <tr>\n",
       "      <th>890</th>\n",
       "      <td>dead</td>\n",
       "      <td>3</td>\n",
       "      <td>male</td>\n",
       "      <td>32.0</td>\n",
       "      <td>7.7500</td>\n",
       "      <td>Q</td>\n",
       "      <td>2</td>\n",
       "    </tr>\n",
       "  </tbody>\n",
       "</table>\n",
       "<p>889 rows × 7 columns</p>\n",
       "</div>"
      ],
      "text/plain": [
       "    Survived Pclass     Sex   Age     Fare Embarked Age_dist\n",
       "0       dead      3    male  22.0   7.2500        S        1\n",
       "1    survive      1  female  38.0  71.2833        C        2\n",
       "2    survive      3  female  26.0   7.9250        S        1\n",
       "3    survive      1  female  35.0  53.1000        S        2\n",
       "4       dead      3    male  35.0   8.0500        S        2\n",
       "..       ...    ...     ...   ...      ...      ...      ...\n",
       "886     dead      2    male  27.0  13.0000        S        2\n",
       "887  survive      1  female  19.0  30.0000        S        1\n",
       "888     dead      3  female  28.0  23.4500        S        2\n",
       "889  survive      1    male  26.0  30.0000        C        1\n",
       "890     dead      3    male  32.0   7.7500        Q        2\n",
       "\n",
       "[889 rows x 7 columns]"
      ]
     },
     "execution_count": 141,
     "metadata": {},
     "output_type": "execute_result"
    }
   ],
   "source": [
    "data['Age_dist'] = pd.cut(data['Age'], 6, labels=[0, 1, 2, 3, 4, 5]).astype(object)\n",
    "data"
   ]
  },
  {
   "cell_type": "code",
   "execution_count": 147,
   "id": "5784647e",
   "metadata": {},
   "outputs": [
    {
     "data": {
      "text/html": [
       "<div>\n",
       "<style scoped>\n",
       "    .dataframe tbody tr th:only-of-type {\n",
       "        vertical-align: middle;\n",
       "    }\n",
       "\n",
       "    .dataframe tbody tr th {\n",
       "        vertical-align: top;\n",
       "    }\n",
       "\n",
       "    .dataframe thead th {\n",
       "        text-align: right;\n",
       "    }\n",
       "</style>\n",
       "<table border=\"1\" class=\"dataframe\">\n",
       "  <thead>\n",
       "    <tr style=\"text-align: right;\">\n",
       "      <th>Survived</th>\n",
       "      <th>dead</th>\n",
       "      <th>survive</th>\n",
       "      <th>total</th>\n",
       "      <th>Survived_rate</th>\n",
       "    </tr>\n",
       "    <tr>\n",
       "      <th>Age_dist</th>\n",
       "      <th></th>\n",
       "      <th></th>\n",
       "      <th></th>\n",
       "      <th></th>\n",
       "    </tr>\n",
       "  </thead>\n",
       "  <tbody>\n",
       "    <tr>\n",
       "      <th>0</th>\n",
       "      <td>29</td>\n",
       "      <td>42</td>\n",
       "      <td>71</td>\n",
       "      <td>59.154930</td>\n",
       "    </tr>\n",
       "    <tr>\n",
       "      <th>1</th>\n",
       "      <td>160</td>\n",
       "      <td>88</td>\n",
       "      <td>248</td>\n",
       "      <td>35.483871</td>\n",
       "    </tr>\n",
       "    <tr>\n",
       "      <th>2</th>\n",
       "      <td>265</td>\n",
       "      <td>156</td>\n",
       "      <td>421</td>\n",
       "      <td>37.054632</td>\n",
       "    </tr>\n",
       "    <tr>\n",
       "      <th>3</th>\n",
       "      <td>61</td>\n",
       "      <td>39</td>\n",
       "      <td>100</td>\n",
       "      <td>39.000000</td>\n",
       "    </tr>\n",
       "    <tr>\n",
       "      <th>4</th>\n",
       "      <td>28</td>\n",
       "      <td>14</td>\n",
       "      <td>42</td>\n",
       "      <td>33.333333</td>\n",
       "    </tr>\n",
       "    <tr>\n",
       "      <th>5</th>\n",
       "      <td>6</td>\n",
       "      <td>1</td>\n",
       "      <td>7</td>\n",
       "      <td>14.285714</td>\n",
       "    </tr>\n",
       "  </tbody>\n",
       "</table>\n",
       "</div>"
      ],
      "text/plain": [
       "Survived  dead  survive  total  Survived_rate\n",
       "Age_dist                                     \n",
       "0           29       42     71      59.154930\n",
       "1          160       88    248      35.483871\n",
       "2          265      156    421      37.054632\n",
       "3           61       39    100      39.000000\n",
       "4           28       14     42      33.333333\n",
       "5            6        1      7      14.285714"
      ]
     },
     "execution_count": 147,
     "metadata": {},
     "output_type": "execute_result"
    }
   ],
   "source": [
    "table = make_pivot(data, 'Age_dist', 'Survived', len)\n",
    "table"
   ]
  },
  {
   "cell_type": "code",
   "execution_count": 148,
   "id": "7572270f",
   "metadata": {},
   "outputs": [
    {
     "data": {
      "image/png": "[encoded data removed]",
      "text/plain": [
       "<Figure size 360x360 with 1 Axes>"
      ]
     },
     "metadata": {},
     "output_type": "display_data"
    }
   ],
   "source": [
    "plt.figure(figsize = (5,5))\n",
    "plt.title('Pclass', fontsize = 20)\n",
    "sns.barplot(table.index, table.Survived_rate)\n",
    "plt.show()"
   ]
  },
  {
   "cell_type": "markdown",
   "id": "b3728f1c",
   "metadata": {},
   "source": [
    "- 나이가 적을 수록 생존률이 높았다.\n",
    "- 0 : 59%\n",
    "- 1 : 35%\n",
    "- 2 : 37%\n",
    "- 3 : 39%\n",
    "- 4 : 33%\n",
    "- 5 : 14%"
   ]
  },
  {
   "cell_type": "markdown",
   "id": "8102d89e",
   "metadata": {},
   "source": [
    "### Age 파생변수 추가"
   ]
  },
  {
   "cell_type": "code",
   "execution_count": 158,
   "id": "9a9e5249",
   "metadata": {},
   "outputs": [
    {
     "data": {
      "text/plain": [
       "28.0"
      ]
     },
     "execution_count": 158,
     "metadata": {},
     "output_type": "execute_result"
    }
   ],
   "source": [
    "data[data['Survived'] == 'survive']['Age'].median()"
   ]
  },
  {
   "cell_type": "code",
   "execution_count": 159,
   "id": "c6ce8b44",
   "metadata": {},
   "outputs": [],
   "source": [
    "data['Low_Age'] = np.where(data.Age <= 28, 1, 0)\n",
    "data['Low_Age'] = data['Low_Age'].astype(object)"
   ]
  },
  {
   "cell_type": "markdown",
   "id": "028b81fd",
   "metadata": {},
   "source": [
    "## 티켓의 요금이 높을 수록 생존률이 높을 것이다."
   ]
  },
  {
   "cell_type": "code",
   "execution_count": 149,
   "id": "b2bf3cce",
   "metadata": {},
   "outputs": [
    {
     "data": {
      "image/png": "[encoded data removed]",
      "text/plain": [
       "<Figure size 360x360 with 1 Axes>"
      ]
     },
     "metadata": {},
     "output_type": "display_data"
    }
   ],
   "source": [
    "plt.figure(figsize = (5,5))\n",
    "plt.title('Fare')\n",
    "sns.boxplot(x = 'Survived', y = 'Fare', data = data)\n",
    "plt.show()"
   ]
  },
  {
   "cell_type": "markdown",
   "id": "4288b84a",
   "metadata": {},
   "source": [
    "- Fare 값이 올라갈수록 생존률은 높아졌다.\n",
    "- survive boxplot의 중앙값이 dead boxplot보다 위에 위치하며, survive boxplot의 크기가 더 큰 것으로 보아 분포도 넓은 것으로 보인다.\n",
    "- Fare 값은 생존률에 영향을 준다."
   ]
  },
  {
   "cell_type": "markdown",
   "id": "69e90044",
   "metadata": {},
   "source": [
    "### Fare 파생변수 추가"
   ]
  },
  {
   "cell_type": "code",
   "execution_count": 152,
   "id": "fb3d338a",
   "metadata": {},
   "outputs": [
    {
     "data": {
      "text/plain": [
       "26.0"
      ]
     },
     "execution_count": 152,
     "metadata": {},
     "output_type": "execute_result"
    }
   ],
   "source": [
    "# Fare 중앙값\n",
    "data[data['Survived'] == 'survive']['Fare'].median()"
   ]
  },
  {
   "cell_type": "code",
   "execution_count": 154,
   "id": "3fce2048",
   "metadata": {},
   "outputs": [],
   "source": [
    "data['Low_Fare'] = np.where(data.Fare <= 26, 1, 0)\n",
    "data['Low_Fare'] = data['Low_Fare'].astype(object)"
   ]
  },
  {
   "cell_type": "markdown",
   "id": "99173a96",
   "metadata": {},
   "source": [
    "## 함께 탑승한 가족이 적을 경우 생존률이 높을 것이다. (제거)"
   ]
  },
  {
   "cell_type": "markdown",
   "id": "13f2c6b0",
   "metadata": {},
   "source": [
    "# Feature Engineering"
   ]
  },
  {
   "cell_type": "code",
   "execution_count": 161,
   "id": "1f39d47d",
   "metadata": {},
   "outputs": [
    {
     "data": {
      "text/html": [
       "<div>\n",
       "<style scoped>\n",
       "    .dataframe tbody tr th:only-of-type {\n",
       "        vertical-align: middle;\n",
       "    }\n",
       "\n",
       "    .dataframe tbody tr th {\n",
       "        vertical-align: top;\n",
       "    }\n",
       "\n",
       "    .dataframe thead th {\n",
       "        text-align: right;\n",
       "    }\n",
       "</style>\n",
       "<table border=\"1\" class=\"dataframe\">\n",
       "  <thead>\n",
       "    <tr style=\"text-align: right;\">\n",
       "      <th></th>\n",
       "      <th>Survived</th>\n",
       "      <th>Pclass</th>\n",
       "      <th>Sex</th>\n",
       "      <th>Age</th>\n",
       "      <th>Fare</th>\n",
       "      <th>Embarked</th>\n",
       "      <th>Age_dist</th>\n",
       "      <th>Low_Fare</th>\n",
       "      <th>Low_Age</th>\n",
       "    </tr>\n",
       "  </thead>\n",
       "  <tbody>\n",
       "    <tr>\n",
       "      <th>0</th>\n",
       "      <td>dead</td>\n",
       "      <td>3</td>\n",
       "      <td>male</td>\n",
       "      <td>22.0</td>\n",
       "      <td>7.2500</td>\n",
       "      <td>S</td>\n",
       "      <td>1</td>\n",
       "      <td>1</td>\n",
       "      <td>1</td>\n",
       "    </tr>\n",
       "    <tr>\n",
       "      <th>1</th>\n",
       "      <td>survive</td>\n",
       "      <td>1</td>\n",
       "      <td>female</td>\n",
       "      <td>38.0</td>\n",
       "      <td>71.2833</td>\n",
       "      <td>C</td>\n",
       "      <td>2</td>\n",
       "      <td>0</td>\n",
       "      <td>0</td>\n",
       "    </tr>\n",
       "    <tr>\n",
       "      <th>2</th>\n",
       "      <td>survive</td>\n",
       "      <td>3</td>\n",
       "      <td>female</td>\n",
       "      <td>26.0</td>\n",
       "      <td>7.9250</td>\n",
       "      <td>S</td>\n",
       "      <td>1</td>\n",
       "      <td>1</td>\n",
       "      <td>1</td>\n",
       "    </tr>\n",
       "    <tr>\n",
       "      <th>3</th>\n",
       "      <td>survive</td>\n",
       "      <td>1</td>\n",
       "      <td>female</td>\n",
       "      <td>35.0</td>\n",
       "      <td>53.1000</td>\n",
       "      <td>S</td>\n",
       "      <td>2</td>\n",
       "      <td>0</td>\n",
       "      <td>0</td>\n",
       "    </tr>\n",
       "    <tr>\n",
       "      <th>4</th>\n",
       "      <td>dead</td>\n",
       "      <td>3</td>\n",
       "      <td>male</td>\n",
       "      <td>35.0</td>\n",
       "      <td>8.0500</td>\n",
       "      <td>S</td>\n",
       "      <td>2</td>\n",
       "      <td>1</td>\n",
       "      <td>0</td>\n",
       "    </tr>\n",
       "    <tr>\n",
       "      <th>...</th>\n",
       "      <td>...</td>\n",
       "      <td>...</td>\n",
       "      <td>...</td>\n",
       "      <td>...</td>\n",
       "      <td>...</td>\n",
       "      <td>...</td>\n",
       "      <td>...</td>\n",
       "      <td>...</td>\n",
       "      <td>...</td>\n",
       "    </tr>\n",
       "    <tr>\n",
       "      <th>886</th>\n",
       "      <td>dead</td>\n",
       "      <td>2</td>\n",
       "      <td>male</td>\n",
       "      <td>27.0</td>\n",
       "      <td>13.0000</td>\n",
       "      <td>S</td>\n",
       "      <td>2</td>\n",
       "      <td>1</td>\n",
       "      <td>1</td>\n",
       "    </tr>\n",
       "    <tr>\n",
       "      <th>887</th>\n",
       "      <td>survive</td>\n",
       "      <td>1</td>\n",
       "      <td>female</td>\n",
       "      <td>19.0</td>\n",
       "      <td>30.0000</td>\n",
       "      <td>S</td>\n",
       "      <td>1</td>\n",
       "      <td>0</td>\n",
       "      <td>1</td>\n",
       "    </tr>\n",
       "    <tr>\n",
       "      <th>888</th>\n",
       "      <td>dead</td>\n",
       "      <td>3</td>\n",
       "      <td>female</td>\n",
       "      <td>28.0</td>\n",
       "      <td>23.4500</td>\n",
       "      <td>S</td>\n",
       "      <td>2</td>\n",
       "      <td>1</td>\n",
       "      <td>1</td>\n",
       "    </tr>\n",
       "    <tr>\n",
       "      <th>889</th>\n",
       "      <td>survive</td>\n",
       "      <td>1</td>\n",
       "      <td>male</td>\n",
       "      <td>26.0</td>\n",
       "      <td>30.0000</td>\n",
       "      <td>C</td>\n",
       "      <td>1</td>\n",
       "      <td>0</td>\n",
       "      <td>1</td>\n",
       "    </tr>\n",
       "    <tr>\n",
       "      <th>890</th>\n",
       "      <td>dead</td>\n",
       "      <td>3</td>\n",
       "      <td>male</td>\n",
       "      <td>32.0</td>\n",
       "      <td>7.7500</td>\n",
       "      <td>Q</td>\n",
       "      <td>2</td>\n",
       "      <td>1</td>\n",
       "      <td>0</td>\n",
       "    </tr>\n",
       "  </tbody>\n",
       "</table>\n",
       "<p>889 rows × 9 columns</p>\n",
       "</div>"
      ],
      "text/plain": [
       "    Survived Pclass     Sex   Age     Fare Embarked Age_dist Low_Fare Low_Age\n",
       "0       dead      3    male  22.0   7.2500        S        1        1       1\n",
       "1    survive      1  female  38.0  71.2833        C        2        0       0\n",
       "2    survive      3  female  26.0   7.9250        S        1        1       1\n",
       "3    survive      1  female  35.0  53.1000        S        2        0       0\n",
       "4       dead      3    male  35.0   8.0500        S        2        1       0\n",
       "..       ...    ...     ...   ...      ...      ...      ...      ...     ...\n",
       "886     dead      2    male  27.0  13.0000        S        2        1       1\n",
       "887  survive      1  female  19.0  30.0000        S        1        0       1\n",
       "888     dead      3  female  28.0  23.4500        S        2        1       1\n",
       "889  survive      1    male  26.0  30.0000        C        1        0       1\n",
       "890     dead      3    male  32.0   7.7500        Q        2        1       0\n",
       "\n",
       "[889 rows x 9 columns]"
      ]
     },
     "execution_count": 161,
     "metadata": {},
     "output_type": "execute_result"
    }
   ],
   "source": [
    "data"
   ]
  },
  {
   "cell_type": "markdown",
   "id": "9baedddd",
   "metadata": {},
   "source": [
    "## 기존의 Age 컬럼 제거"
   ]
  },
  {
   "cell_type": "code",
   "execution_count": 162,
   "id": "3d89f03a",
   "metadata": {},
   "outputs": [],
   "source": [
    "data.drop(['Age'], axis = 1, inplace = True)"
   ]
  },
  {
   "cell_type": "code",
   "execution_count": 163,
   "id": "937c2d7f",
   "metadata": {
    "scrolled": false
   },
   "outputs": [
    {
     "data": {
      "text/html": [
       "<div>\n",
       "<style scoped>\n",
       "    .dataframe tbody tr th:only-of-type {\n",
       "        vertical-align: middle;\n",
       "    }\n",
       "\n",
       "    .dataframe tbody tr th {\n",
       "        vertical-align: top;\n",
       "    }\n",
       "\n",
       "    .dataframe thead th {\n",
       "        text-align: right;\n",
       "    }\n",
       "</style>\n",
       "<table border=\"1\" class=\"dataframe\">\n",
       "  <thead>\n",
       "    <tr style=\"text-align: right;\">\n",
       "      <th></th>\n",
       "      <th>Survived</th>\n",
       "      <th>Pclass</th>\n",
       "      <th>Sex</th>\n",
       "      <th>Fare</th>\n",
       "      <th>Embarked</th>\n",
       "      <th>Age_dist</th>\n",
       "      <th>Low_Fare</th>\n",
       "      <th>Low_Age</th>\n",
       "    </tr>\n",
       "  </thead>\n",
       "  <tbody>\n",
       "    <tr>\n",
       "      <th>0</th>\n",
       "      <td>dead</td>\n",
       "      <td>3</td>\n",
       "      <td>male</td>\n",
       "      <td>7.2500</td>\n",
       "      <td>S</td>\n",
       "      <td>1</td>\n",
       "      <td>1</td>\n",
       "      <td>1</td>\n",
       "    </tr>\n",
       "    <tr>\n",
       "      <th>1</th>\n",
       "      <td>survive</td>\n",
       "      <td>1</td>\n",
       "      <td>female</td>\n",
       "      <td>71.2833</td>\n",
       "      <td>C</td>\n",
       "      <td>2</td>\n",
       "      <td>0</td>\n",
       "      <td>0</td>\n",
       "    </tr>\n",
       "    <tr>\n",
       "      <th>2</th>\n",
       "      <td>survive</td>\n",
       "      <td>3</td>\n",
       "      <td>female</td>\n",
       "      <td>7.9250</td>\n",
       "      <td>S</td>\n",
       "      <td>1</td>\n",
       "      <td>1</td>\n",
       "      <td>1</td>\n",
       "    </tr>\n",
       "    <tr>\n",
       "      <th>3</th>\n",
       "      <td>survive</td>\n",
       "      <td>1</td>\n",
       "      <td>female</td>\n",
       "      <td>53.1000</td>\n",
       "      <td>S</td>\n",
       "      <td>2</td>\n",
       "      <td>0</td>\n",
       "      <td>0</td>\n",
       "    </tr>\n",
       "    <tr>\n",
       "      <th>4</th>\n",
       "      <td>dead</td>\n",
       "      <td>3</td>\n",
       "      <td>male</td>\n",
       "      <td>8.0500</td>\n",
       "      <td>S</td>\n",
       "      <td>2</td>\n",
       "      <td>1</td>\n",
       "      <td>0</td>\n",
       "    </tr>\n",
       "    <tr>\n",
       "      <th>...</th>\n",
       "      <td>...</td>\n",
       "      <td>...</td>\n",
       "      <td>...</td>\n",
       "      <td>...</td>\n",
       "      <td>...</td>\n",
       "      <td>...</td>\n",
       "      <td>...</td>\n",
       "      <td>...</td>\n",
       "    </tr>\n",
       "    <tr>\n",
       "      <th>886</th>\n",
       "      <td>dead</td>\n",
       "      <td>2</td>\n",
       "      <td>male</td>\n",
       "      <td>13.0000</td>\n",
       "      <td>S</td>\n",
       "      <td>2</td>\n",
       "      <td>1</td>\n",
       "      <td>1</td>\n",
       "    </tr>\n",
       "    <tr>\n",
       "      <th>887</th>\n",
       "      <td>survive</td>\n",
       "      <td>1</td>\n",
       "      <td>female</td>\n",
       "      <td>30.0000</td>\n",
       "      <td>S</td>\n",
       "      <td>1</td>\n",
       "      <td>0</td>\n",
       "      <td>1</td>\n",
       "    </tr>\n",
       "    <tr>\n",
       "      <th>888</th>\n",
       "      <td>dead</td>\n",
       "      <td>3</td>\n",
       "      <td>female</td>\n",
       "      <td>23.4500</td>\n",
       "      <td>S</td>\n",
       "      <td>2</td>\n",
       "      <td>1</td>\n",
       "      <td>1</td>\n",
       "    </tr>\n",
       "    <tr>\n",
       "      <th>889</th>\n",
       "      <td>survive</td>\n",
       "      <td>1</td>\n",
       "      <td>male</td>\n",
       "      <td>30.0000</td>\n",
       "      <td>C</td>\n",
       "      <td>1</td>\n",
       "      <td>0</td>\n",
       "      <td>1</td>\n",
       "    </tr>\n",
       "    <tr>\n",
       "      <th>890</th>\n",
       "      <td>dead</td>\n",
       "      <td>3</td>\n",
       "      <td>male</td>\n",
       "      <td>7.7500</td>\n",
       "      <td>Q</td>\n",
       "      <td>2</td>\n",
       "      <td>1</td>\n",
       "      <td>0</td>\n",
       "    </tr>\n",
       "  </tbody>\n",
       "</table>\n",
       "<p>889 rows × 8 columns</p>\n",
       "</div>"
      ],
      "text/plain": [
       "    Survived Pclass     Sex     Fare Embarked Age_dist Low_Fare Low_Age\n",
       "0       dead      3    male   7.2500        S        1        1       1\n",
       "1    survive      1  female  71.2833        C        2        0       0\n",
       "2    survive      3  female   7.9250        S        1        1       1\n",
       "3    survive      1  female  53.1000        S        2        0       0\n",
       "4       dead      3    male   8.0500        S        2        1       0\n",
       "..       ...    ...     ...      ...      ...      ...      ...     ...\n",
       "886     dead      2    male  13.0000        S        2        1       1\n",
       "887  survive      1  female  30.0000        S        1        0       1\n",
       "888     dead      3  female  23.4500        S        2        1       1\n",
       "889  survive      1    male  30.0000        C        1        0       1\n",
       "890     dead      3    male   7.7500        Q        2        1       0\n",
       "\n",
       "[889 rows x 8 columns]"
      ]
     },
     "execution_count": 163,
     "metadata": {},
     "output_type": "execute_result"
    }
   ],
   "source": [
    "data"
   ]
  },
  {
   "cell_type": "code",
   "execution_count": null,
   "id": "1371104e",
   "metadata": {},
   "outputs": [],
   "source": []
  },
  {
   "cell_type": "code",
   "execution_count": null,
   "id": "131ff5ca",
   "metadata": {},
   "outputs": [],
   "source": []
  },
  {
   "cell_type": "code",
   "execution_count": null,
   "id": "0d8a5d4d",
   "metadata": {},
   "outputs": [],
   "source": []
  },
  {
   "cell_type": "code",
   "execution_count": null,
   "id": "562d1c24",
   "metadata": {},
   "outputs": [],
   "source": []
  },
  {
   "cell_type": "code",
   "execution_count": null,
   "id": "ae157e85",
   "metadata": {},
   "outputs": [],
   "source": []
  },
  {
   "cell_type": "code",
   "execution_count": null,
   "id": "a2705c9a",
   "metadata": {},
   "outputs": [],
   "source": []
  },
  {
   "cell_type": "code",
   "execution_count": null,
   "id": "7810aefa",
   "metadata": {},
   "outputs": [],
   "source": []
  }
 ],
 "metadata": {
  "kernelspec": {
   "display_name": "Python 3 (ipykernel)",
   "language": "python",
   "name": "python3"
  },
  "language_info": {
   "codemirror_mode": {
    "name": "ipython",
    "version": 3
   },
   "file_extension": ".py",
   "mimetype": "text/x-python",
   "name": "python",
   "nbconvert_exporter": "python",
   "pygments_lexer": "ipython3",
   "version": "3.9.7"
  },
  "toc": {
   "base_numbering": 1,
   "nav_menu": {},
   "number_sections": true,
   "sideBar": true,
   "skip_h1_title": false,
   "title_cell": "Table of Contents",
   "title_sidebar": "Contents",
   "toc_cell": false,
   "toc_position": {
    "height": "693.636px",
    "left": "129px",
    "top": "340.781px",
    "width": "349.091px"
   },
   "toc_section_display": true,
   "toc_window_display": true
  }
 },
 "nbformat": 4,
 "nbformat_minor": 5
}
