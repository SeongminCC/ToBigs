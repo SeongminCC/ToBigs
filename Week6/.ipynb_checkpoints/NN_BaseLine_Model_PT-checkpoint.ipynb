{
 "cells": [
  {
   "cell_type": "markdown",
   "metadata": {
    "id": "3w6SHm1p5yXs"
   },
   "source": [
    "## Advanced NN"
   ]
  },
  {
   "cell_type": "code",
   "execution_count": 1,
   "metadata": {
    "id": "j-Q0FSR5rENI"
   },
   "outputs": [],
   "source": [
    "import numpy as np\n",
    "import pandas as pd\n",
    "import matplotlib.pyplot as plt\n",
    "\n",
    "import torch\n",
    "import torch.nn as nn\n",
    "import torch.nn.functional as F\n",
    "\n",
    "import warnings\n",
    "warnings.filterwarnings(action='ignore')"
   ]
  },
  {
   "cell_type": "markdown",
   "metadata": {
    "id": "hGgljobEsCNS"
   },
   "source": [
    "## Data "
   ]
  },
  {
   "cell_type": "markdown",
   "metadata": {
    "id": "MjOsDF5ctFWp"
   },
   "source": [
    "| Label | Description |\n",
    "| --- | --- |\n",
    "| 0 | T-shirt/top |\n",
    "| 1 | Trouser |\n",
    "| 2 | Pullover |\n",
    "| 3 | Dress |\n",
    "| 4 | Coat |\n",
    "| 5 | Sandal |\n",
    "| 6 | Shirt |\n",
    "| 7 | Sneaker |\n",
    "| 8 | Bag |\n",
    "| 9 | Ankle boot |\n",
    "\n",
    "데이터 출처: https://github.com/zalandoresearch/fashion-mnist"
   ]
  },
  {
   "cell_type": "markdown",
   "metadata": {},
   "source": [
    "### Load Data"
   ]
  },
  {
   "cell_type": "code",
   "execution_count": 2,
   "metadata": {
    "id": "HIXF9qR4mN8J"
   },
   "outputs": [],
   "source": [
    "train = pd.read_csv('Train.csv')\n",
    "test = pd.read_csv('Test.csv')"
   ]
  },
  {
   "cell_type": "code",
   "execution_count": 4,
   "metadata": {
    "colab": {
     "base_uri": "https://localhost:8080/",
     "height": 251
    },
    "executionInfo": {
     "elapsed": 26,
     "status": "ok",
     "timestamp": 1629620815890,
     "user": {
      "displayName": "이성범",
      "photoUrl": "",
      "userId": "11166281350151773159"
     },
     "user_tz": -540
    },
    "id": "qzA34937ss3T",
    "outputId": "3dd94d24-fae3-4426-dc0b-49cd68ce29b7"
   },
   "outputs": [
    {
     "data": {
      "text/html": [
       "<div>\n",
       "<style scoped>\n",
       "    .dataframe tbody tr th:only-of-type {\n",
       "        vertical-align: middle;\n",
       "    }\n",
       "\n",
       "    .dataframe tbody tr th {\n",
       "        vertical-align: top;\n",
       "    }\n",
       "\n",
       "    .dataframe thead th {\n",
       "        text-align: right;\n",
       "    }\n",
       "</style>\n",
       "<table border=\"1\" class=\"dataframe\">\n",
       "  <thead>\n",
       "    <tr style=\"text-align: right;\">\n",
       "      <th></th>\n",
       "      <th>0</th>\n",
       "      <th>1</th>\n",
       "      <th>2</th>\n",
       "      <th>3</th>\n",
       "      <th>4</th>\n",
       "      <th>5</th>\n",
       "      <th>6</th>\n",
       "      <th>7</th>\n",
       "      <th>8</th>\n",
       "      <th>9</th>\n",
       "      <th>...</th>\n",
       "      <th>775</th>\n",
       "      <th>776</th>\n",
       "      <th>777</th>\n",
       "      <th>778</th>\n",
       "      <th>779</th>\n",
       "      <th>780</th>\n",
       "      <th>781</th>\n",
       "      <th>782</th>\n",
       "      <th>783</th>\n",
       "      <th>label</th>\n",
       "    </tr>\n",
       "  </thead>\n",
       "  <tbody>\n",
       "    <tr>\n",
       "      <th>0</th>\n",
       "      <td>0</td>\n",
       "      <td>0</td>\n",
       "      <td>0</td>\n",
       "      <td>0</td>\n",
       "      <td>0</td>\n",
       "      <td>0</td>\n",
       "      <td>0</td>\n",
       "      <td>0</td>\n",
       "      <td>0</td>\n",
       "      <td>0</td>\n",
       "      <td>...</td>\n",
       "      <td>0</td>\n",
       "      <td>0</td>\n",
       "      <td>0</td>\n",
       "      <td>0</td>\n",
       "      <td>0</td>\n",
       "      <td>0</td>\n",
       "      <td>0</td>\n",
       "      <td>0</td>\n",
       "      <td>0</td>\n",
       "      <td>1</td>\n",
       "    </tr>\n",
       "    <tr>\n",
       "      <th>1</th>\n",
       "      <td>0</td>\n",
       "      <td>0</td>\n",
       "      <td>0</td>\n",
       "      <td>0</td>\n",
       "      <td>0</td>\n",
       "      <td>0</td>\n",
       "      <td>0</td>\n",
       "      <td>0</td>\n",
       "      <td>0</td>\n",
       "      <td>0</td>\n",
       "      <td>...</td>\n",
       "      <td>0</td>\n",
       "      <td>0</td>\n",
       "      <td>0</td>\n",
       "      <td>0</td>\n",
       "      <td>0</td>\n",
       "      <td>0</td>\n",
       "      <td>0</td>\n",
       "      <td>0</td>\n",
       "      <td>0</td>\n",
       "      <td>3</td>\n",
       "    </tr>\n",
       "    <tr>\n",
       "      <th>2</th>\n",
       "      <td>0</td>\n",
       "      <td>0</td>\n",
       "      <td>0</td>\n",
       "      <td>0</td>\n",
       "      <td>0</td>\n",
       "      <td>0</td>\n",
       "      <td>0</td>\n",
       "      <td>0</td>\n",
       "      <td>0</td>\n",
       "      <td>0</td>\n",
       "      <td>...</td>\n",
       "      <td>0</td>\n",
       "      <td>0</td>\n",
       "      <td>0</td>\n",
       "      <td>0</td>\n",
       "      <td>0</td>\n",
       "      <td>0</td>\n",
       "      <td>0</td>\n",
       "      <td>0</td>\n",
       "      <td>0</td>\n",
       "      <td>8</td>\n",
       "    </tr>\n",
       "    <tr>\n",
       "      <th>3</th>\n",
       "      <td>0</td>\n",
       "      <td>0</td>\n",
       "      <td>0</td>\n",
       "      <td>0</td>\n",
       "      <td>0</td>\n",
       "      <td>0</td>\n",
       "      <td>0</td>\n",
       "      <td>0</td>\n",
       "      <td>0</td>\n",
       "      <td>0</td>\n",
       "      <td>...</td>\n",
       "      <td>0</td>\n",
       "      <td>0</td>\n",
       "      <td>0</td>\n",
       "      <td>0</td>\n",
       "      <td>0</td>\n",
       "      <td>0</td>\n",
       "      <td>0</td>\n",
       "      <td>0</td>\n",
       "      <td>0</td>\n",
       "      <td>7</td>\n",
       "    </tr>\n",
       "    <tr>\n",
       "      <th>4</th>\n",
       "      <td>0</td>\n",
       "      <td>0</td>\n",
       "      <td>0</td>\n",
       "      <td>0</td>\n",
       "      <td>0</td>\n",
       "      <td>0</td>\n",
       "      <td>0</td>\n",
       "      <td>0</td>\n",
       "      <td>0</td>\n",
       "      <td>0</td>\n",
       "      <td>...</td>\n",
       "      <td>0</td>\n",
       "      <td>0</td>\n",
       "      <td>0</td>\n",
       "      <td>0</td>\n",
       "      <td>0</td>\n",
       "      <td>0</td>\n",
       "      <td>0</td>\n",
       "      <td>0</td>\n",
       "      <td>0</td>\n",
       "      <td>5</td>\n",
       "    </tr>\n",
       "  </tbody>\n",
       "</table>\n",
       "<p>5 rows × 785 columns</p>\n",
       "</div>"
      ],
      "text/plain": [
       "   0  1  2  3  4  5  6  7  8  9  ...  775  776  777  778  779  780  781  782  \\\n",
       "0  0  0  0  0  0  0  0  0  0  0  ...    0    0    0    0    0    0    0    0   \n",
       "1  0  0  0  0  0  0  0  0  0  0  ...    0    0    0    0    0    0    0    0   \n",
       "2  0  0  0  0  0  0  0  0  0  0  ...    0    0    0    0    0    0    0    0   \n",
       "3  0  0  0  0  0  0  0  0  0  0  ...    0    0    0    0    0    0    0    0   \n",
       "4  0  0  0  0  0  0  0  0  0  0  ...    0    0    0    0    0    0    0    0   \n",
       "\n",
       "   783  label  \n",
       "0    0      1  \n",
       "1    0      3  \n",
       "2    0      8  \n",
       "3    0      7  \n",
       "4    0      5  \n",
       "\n",
       "[5 rows x 785 columns]"
      ]
     },
     "execution_count": 4,
     "metadata": {},
     "output_type": "execute_result"
    }
   ],
   "source": [
    "train.head()"
   ]
  },
  {
   "cell_type": "code",
   "execution_count": 5,
   "metadata": {
    "colab": {
     "base_uri": "https://localhost:8080/"
    },
    "executionInfo": {
     "elapsed": 25,
     "status": "ok",
     "timestamp": 1629620815891,
     "user": {
      "displayName": "이성범",
      "photoUrl": "",
      "userId": "11166281350151773159"
     },
     "user_tz": -540
    },
    "id": "Z6cOY9xjzynQ",
    "outputId": "c1c100c3-d158-4ad7-f654-0f2a997ee5ab"
   },
   "outputs": [
    {
     "data": {
      "text/plain": [
       "10"
      ]
     },
     "execution_count": 5,
     "metadata": {},
     "output_type": "execute_result"
    }
   ],
   "source": [
    "train['label'].nunique()"
   ]
  },
  {
   "cell_type": "code",
   "execution_count": 6,
   "metadata": {
    "colab": {
     "base_uri": "https://localhost:8080/",
     "height": 251
    },
    "executionInfo": {
     "elapsed": 23,
     "status": "ok",
     "timestamp": 1629620815892,
     "user": {
      "displayName": "이성범",
      "photoUrl": "",
      "userId": "11166281350151773159"
     },
     "user_tz": -540
    },
    "id": "52VNSOWNsuor",
    "outputId": "ad6146f8-3659-4d3b-b731-f5b925f52070"
   },
   "outputs": [
    {
     "data": {
      "text/html": [
       "<div>\n",
       "<style scoped>\n",
       "    .dataframe tbody tr th:only-of-type {\n",
       "        vertical-align: middle;\n",
       "    }\n",
       "\n",
       "    .dataframe tbody tr th {\n",
       "        vertical-align: top;\n",
       "    }\n",
       "\n",
       "    .dataframe thead th {\n",
       "        text-align: right;\n",
       "    }\n",
       "</style>\n",
       "<table border=\"1\" class=\"dataframe\">\n",
       "  <thead>\n",
       "    <tr style=\"text-align: right;\">\n",
       "      <th></th>\n",
       "      <th>0</th>\n",
       "      <th>1</th>\n",
       "      <th>2</th>\n",
       "      <th>3</th>\n",
       "      <th>4</th>\n",
       "      <th>5</th>\n",
       "      <th>6</th>\n",
       "      <th>7</th>\n",
       "      <th>8</th>\n",
       "      <th>9</th>\n",
       "      <th>...</th>\n",
       "      <th>774</th>\n",
       "      <th>775</th>\n",
       "      <th>776</th>\n",
       "      <th>777</th>\n",
       "      <th>778</th>\n",
       "      <th>779</th>\n",
       "      <th>780</th>\n",
       "      <th>781</th>\n",
       "      <th>782</th>\n",
       "      <th>783</th>\n",
       "    </tr>\n",
       "  </thead>\n",
       "  <tbody>\n",
       "    <tr>\n",
       "      <th>0</th>\n",
       "      <td>0</td>\n",
       "      <td>0</td>\n",
       "      <td>0</td>\n",
       "      <td>0</td>\n",
       "      <td>0</td>\n",
       "      <td>0</td>\n",
       "      <td>0</td>\n",
       "      <td>0</td>\n",
       "      <td>0</td>\n",
       "      <td>0</td>\n",
       "      <td>...</td>\n",
       "      <td>67</td>\n",
       "      <td>0</td>\n",
       "      <td>0</td>\n",
       "      <td>0</td>\n",
       "      <td>0</td>\n",
       "      <td>0</td>\n",
       "      <td>0</td>\n",
       "      <td>0</td>\n",
       "      <td>0</td>\n",
       "      <td>0</td>\n",
       "    </tr>\n",
       "    <tr>\n",
       "      <th>1</th>\n",
       "      <td>0</td>\n",
       "      <td>0</td>\n",
       "      <td>0</td>\n",
       "      <td>0</td>\n",
       "      <td>0</td>\n",
       "      <td>0</td>\n",
       "      <td>0</td>\n",
       "      <td>1</td>\n",
       "      <td>2</td>\n",
       "      <td>0</td>\n",
       "      <td>...</td>\n",
       "      <td>0</td>\n",
       "      <td>0</td>\n",
       "      <td>1</td>\n",
       "      <td>0</td>\n",
       "      <td>0</td>\n",
       "      <td>0</td>\n",
       "      <td>0</td>\n",
       "      <td>0</td>\n",
       "      <td>0</td>\n",
       "      <td>0</td>\n",
       "    </tr>\n",
       "    <tr>\n",
       "      <th>2</th>\n",
       "      <td>0</td>\n",
       "      <td>0</td>\n",
       "      <td>0</td>\n",
       "      <td>0</td>\n",
       "      <td>0</td>\n",
       "      <td>0</td>\n",
       "      <td>0</td>\n",
       "      <td>0</td>\n",
       "      <td>0</td>\n",
       "      <td>0</td>\n",
       "      <td>...</td>\n",
       "      <td>93</td>\n",
       "      <td>58</td>\n",
       "      <td>78</td>\n",
       "      <td>45</td>\n",
       "      <td>0</td>\n",
       "      <td>0</td>\n",
       "      <td>0</td>\n",
       "      <td>0</td>\n",
       "      <td>0</td>\n",
       "      <td>0</td>\n",
       "    </tr>\n",
       "    <tr>\n",
       "      <th>3</th>\n",
       "      <td>0</td>\n",
       "      <td>0</td>\n",
       "      <td>0</td>\n",
       "      <td>0</td>\n",
       "      <td>0</td>\n",
       "      <td>0</td>\n",
       "      <td>0</td>\n",
       "      <td>0</td>\n",
       "      <td>0</td>\n",
       "      <td>0</td>\n",
       "      <td>...</td>\n",
       "      <td>71</td>\n",
       "      <td>0</td>\n",
       "      <td>0</td>\n",
       "      <td>0</td>\n",
       "      <td>0</td>\n",
       "      <td>0</td>\n",
       "      <td>0</td>\n",
       "      <td>0</td>\n",
       "      <td>0</td>\n",
       "      <td>0</td>\n",
       "    </tr>\n",
       "    <tr>\n",
       "      <th>4</th>\n",
       "      <td>0</td>\n",
       "      <td>0</td>\n",
       "      <td>0</td>\n",
       "      <td>0</td>\n",
       "      <td>0</td>\n",
       "      <td>0</td>\n",
       "      <td>0</td>\n",
       "      <td>0</td>\n",
       "      <td>0</td>\n",
       "      <td>0</td>\n",
       "      <td>...</td>\n",
       "      <td>0</td>\n",
       "      <td>0</td>\n",
       "      <td>63</td>\n",
       "      <td>0</td>\n",
       "      <td>0</td>\n",
       "      <td>0</td>\n",
       "      <td>0</td>\n",
       "      <td>0</td>\n",
       "      <td>0</td>\n",
       "      <td>0</td>\n",
       "    </tr>\n",
       "  </tbody>\n",
       "</table>\n",
       "<p>5 rows × 784 columns</p>\n",
       "</div>"
      ],
      "text/plain": [
       "   0  1  2  3  4  5  6  7  8  9  ...  774  775  776  777  778  779  780  781  \\\n",
       "0  0  0  0  0  0  0  0  0  0  0  ...   67    0    0    0    0    0    0    0   \n",
       "1  0  0  0  0  0  0  0  1  2  0  ...    0    0    1    0    0    0    0    0   \n",
       "2  0  0  0  0  0  0  0  0  0  0  ...   93   58   78   45    0    0    0    0   \n",
       "3  0  0  0  0  0  0  0  0  0  0  ...   71    0    0    0    0    0    0    0   \n",
       "4  0  0  0  0  0  0  0  0  0  0  ...    0    0   63    0    0    0    0    0   \n",
       "\n",
       "   782  783  \n",
       "0    0    0  \n",
       "1    0    0  \n",
       "2    0    0  \n",
       "3    0    0  \n",
       "4    0    0  \n",
       "\n",
       "[5 rows x 784 columns]"
      ]
     },
     "execution_count": 6,
     "metadata": {},
     "output_type": "execute_result"
    }
   ],
   "source": [
    "test.head()"
   ]
  },
  {
   "cell_type": "code",
   "execution_count": 7,
   "metadata": {
    "id": "26AwQFvemYxx"
   },
   "outputs": [],
   "source": [
    "X = train.iloc[:, :-1].values\n",
    "y = train.iloc[:, -1].values"
   ]
  },
  {
   "cell_type": "code",
   "execution_count": 8,
   "metadata": {
    "colab": {
     "base_uri": "https://localhost:8080/",
     "height": 93
    },
    "executionInfo": {
     "elapsed": 1389,
     "status": "ok",
     "timestamp": 1629620817260,
     "user": {
      "displayName": "이성범",
      "photoUrl": "",
      "userId": "11166281350151773159"
     },
     "user_tz": -540
    },
    "id": "kg63u1Fwjfi6",
    "outputId": "22e347b0-521d-468d-bb01-e25c68301614"
   },
   "outputs": [
    {
     "data": {
      "image/png": "[encoded data removed]",
      "text/plain": [
       "<Figure size 1440x72 with 20 Axes>"
      ]
     },
     "metadata": {
      "needs_background": "light"
     },
     "output_type": "display_data"
    }
   ],
   "source": [
    "pltsize = 1\n",
    "plt.figure(figsize=(20 * pltsize, pltsize))\n",
    "for idx in range(0, 20):\n",
    "  plt.subplot(1, 20, idx + 1)\n",
    "  plt.axis('off')\n",
    "  plt.imshow(X[idx].reshape(28, 28), cmap='gray_r')\n",
    "  plt.title(f'Class : {y[idx]}')"
   ]
  },
  {
   "cell_type": "code",
   "execution_count": 9,
   "metadata": {
    "id": "1MLqSq7utSGD"
   },
   "outputs": [],
   "source": [
    "X_test = test.values"
   ]
  },
  {
   "cell_type": "code",
   "execution_count": 10,
   "metadata": {
    "colab": {
     "base_uri": "https://localhost:8080/",
     "height": 78
    },
    "executionInfo": {
     "elapsed": 733,
     "status": "ok",
     "timestamp": 1629620817990,
     "user": {
      "displayName": "이성범",
      "photoUrl": "",
      "userId": "11166281350151773159"
     },
     "user_tz": -540
    },
    "id": "pzLOHRjvtYaD",
    "outputId": "8d9899c7-bc0e-49d0-d455-6a604239b9d7"
   },
   "outputs": [
    {
     "data": {
      "image/png": "[encoded data removed]",
      "text/plain": [
       "<Figure size 1440x72 with 20 Axes>"
      ]
     },
     "metadata": {
      "needs_background": "light"
     },
     "output_type": "display_data"
    }
   ],
   "source": [
    "pltsize = 1\n",
    "plt.figure(figsize=(20 * pltsize, pltsize))\n",
    "for idx in range(0, 20):\n",
    "  plt.subplot(1, 20, idx + 1)\n",
    "  plt.axis('off')\n",
    "  plt.imshow(X_test[idx].reshape(28, 28), cmap='gray_r')"
   ]
  },
  {
   "cell_type": "markdown",
   "metadata": {
    "id": "iSnwe75AsEPa"
   },
   "source": [
    "#### Train Test Split"
   ]
  },
  {
   "cell_type": "code",
   "execution_count": 11,
   "metadata": {
    "id": "73ttBq_osFM0"
   },
   "outputs": [],
   "source": [
    "from sklearn.model_selection import train_test_split\n",
    "\n",
    "X_train, X_val, y_train, y_val = train_test_split(X, y, test_size = 0.2, random_state = 16, stratify = y, shuffle = True)\n",
    "\n",
    "## Normalization\n",
    "X_train = X_train / 255.0\n",
    "X_val = X_val / 255.0\n",
    "X_test = X_test / 255.0\n",
    "\n",
    "X_train = torch.FloatTensor(X_train)\n",
    "y_train = torch.LongTensor(y_train)\n",
    "\n",
    "X_val = torch.FloatTensor(X_val)\n",
    "y_val = torch.LongTensor(y_val)\n",
    "\n",
    "X_test = torch.FloatTensor(X_test)"
   ]
  },
  {
   "cell_type": "markdown",
   "metadata": {
    "id": "pWfHesQguKjT"
   },
   "source": [
    "### "
   ]
  },
  {
   "cell_type": "code",
   "execution_count": 12,
   "metadata": {
    "colab": {
     "base_uri": "https://localhost:8080/"
    },
    "executionInfo": {
     "elapsed": 7,
     "status": "ok",
     "timestamp": 1629620819639,
     "user": {
      "displayName": "이성범",
      "photoUrl": "",
      "userId": "11166281350151773159"
     },
     "user_tz": -540
    },
    "id": "2wS5oudTu0Tt",
    "outputId": "6f94f977-86f8-4b42-ce35-c50bb0c8e103"
   },
   "outputs": [
    {
     "name": "stdout",
     "output_type": "stream",
     "text": [
      "cpu\n"
     ]
    }
   ],
   "source": [
    "if torch.cuda.is_available():\n",
    "  DEVICE = torch.device('cuda')\n",
    "else:\n",
    "  DEVICE = torch.device('cpu')\n",
    "\n",
    "print(DEVICE)"
   ]
  },
  {
   "cell_type": "code",
   "execution_count": 13,
   "metadata": {
    "id": "03C79ihXu820"
   },
   "outputs": [],
   "source": [
    "BATCH_SIZE = 128\n",
    "EPOCHS = 15"
   ]
  },
  {
   "cell_type": "code",
   "execution_count": 14,
   "metadata": {
    "id": "UmyrqG90u_58"
   },
   "outputs": [],
   "source": [
    "from torch.utils.data import Dataset\n",
    "from torch.utils.data import DataLoader\n",
    "\n",
    "class DataSet(Dataset):\n",
    "  def __init__(self, image, label = None):\n",
    "    super(DataSet, self).__init__()\n",
    "    self._image = image\n",
    "    self._label = label\n",
    "\n",
    "  def __len__(self):\n",
    "    return len(self._image)\n",
    "\n",
    "  def __getitem__(self, idx):\n",
    "    if self._label is None:\n",
    "      image = self._image[idx]\n",
    "      return image\n",
    "\n",
    "    else:\n",
    "      image = self._image[idx]\n",
    "      label = self._label[idx]\n",
    "\n",
    "      return image, label"
   ]
  },
  {
   "cell_type": "code",
   "execution_count": 15,
   "metadata": {
    "id": "tuuZXiJDuMqc"
   },
   "outputs": [],
   "source": [
    "train_dataset = DataSet(X_train, y_train)\n",
    "train_loader = DataLoader(train_dataset, batch_size = BATCH_SIZE, shuffle = True, drop_last = False)\n",
    "\n",
    "val_dataset = DataSet(X_val, y_val)\n",
    "val_loader = DataLoader(val_dataset, batch_size = BATCH_SIZE, shuffle = True, drop_last = False)\n",
    "\n",
    "test_dataset = DataSet(X_test)\n",
    "test_loader = DataLoader(test_dataset, batch_size = BATCH_SIZE, shuffle = False, drop_last = False)"
   ]
  },
  {
   "cell_type": "code",
   "execution_count": 16,
   "metadata": {
    "id": "sAnZsabswlok"
   },
   "outputs": [],
   "source": [
    "def train(model, train_loader):\n",
    "  model.train()\n",
    "  train_loss = 0\n",
    "  correct = 0\n",
    "\n",
    "  for image, label in train_loader:\n",
    "    image = image.to(DEVICE)\n",
    "    label = label.to(DEVICE)\n",
    "    optimizer.zero_grad()\n",
    "    output = model(image)\n",
    "    loss = criterion(output, label)\n",
    "    loss.backward()\n",
    "    optimizer.step()\n",
    "\n",
    "    train_loss += loss.item()\n",
    "    prediction = output.max(1, keepdim = True)[1]\n",
    "    correct += prediction.eq(label.view_as(prediction)).sum().item()\n",
    "      \n",
    "  train_loss /= len(train_loader)\n",
    "  train_accuracy = 100. * correct / len(train_loader.dataset)\n",
    "  return train_loss, train_accuracy"
   ]
  },
  {
   "cell_type": "code",
   "execution_count": 17,
   "metadata": {
    "id": "LBIYXA74qFgT"
   },
   "outputs": [],
   "source": [
    "def evaluate(model, test_loader):\n",
    "  model.eval()\n",
    "  test_loss = 0\n",
    "  correct = 0\n",
    "\n",
    "  with torch.no_grad():\n",
    "    for image, label in test_loader:\n",
    "      image = image.to(DEVICE)\n",
    "      label = label.to(DEVICE)\n",
    "      output = model(image)\n",
    "      test_loss += criterion(output, label).item()\n",
    "      prediction = output.max(1, keepdim = True)[1]\n",
    "      correct += prediction.eq(label.view_as(prediction)).sum().item()\n",
    "\n",
    "  test_loss /= len(test_loader)\n",
    "  test_accuracy = 100. * correct / len(test_loader.dataset)\n",
    "  return test_loss, test_accuracy"
   ]
  },
  {
   "cell_type": "code",
   "execution_count": 18,
   "metadata": {
    "id": "VvCzzZrVw2wM"
   },
   "outputs": [],
   "source": [
    "def pred(model, test_loader):\n",
    "  model.eval()\n",
    "  pred_li = []\n",
    "\n",
    "  with torch.no_grad():\n",
    "    for image in test_loader:\n",
    "      image = image.to(DEVICE)\n",
    "      output = model(image)\n",
    "      pred_li.append(output.cpu().numpy().argmax(axis=1))\n",
    "\n",
    "  return np.concatenate(pred_li)"
   ]
  },
  {
   "cell_type": "markdown",
   "metadata": {
    "id": "IViKDmlGsFoq"
   },
   "source": [
    "# Simple_DNN"
   ]
  },
  {
   "cell_type": "code",
   "execution_count": 19,
   "metadata": {
    "id": "68FFyZ7EsIi6"
   },
   "outputs": [],
   "source": [
    "class Net(nn.Module):\n",
    "  def __init__(self):\n",
    "    super(Net, self).__init__()\n",
    "    self.linear1 = nn.Sequential(\n",
    "        nn.Linear(28 * 28, 512)\n",
    "    )\n",
    "    self.linear2 = nn.Sequential(\n",
    "        nn.Linear(512, 256)\n",
    "    )\n",
    "    self.linear3 = nn.Sequential(\n",
    "        nn.Linear(256, 128)\n",
    "    )\n",
    "    self.linear4 = nn.Sequential(\n",
    "        nn.Linear(128, 10)\n",
    "    )\n",
    "\n",
    "  def forward(self, x):\n",
    "    x = x.view(-1, 28 * 28)\n",
    "    x = self.linear1(x)\n",
    "    x = self.linear2(x)\n",
    "    x = self.linear3(x)\n",
    "    x = self.linear4(x)\n",
    "    return x"
   ]
  },
  {
   "cell_type": "code",
   "execution_count": 20,
   "metadata": {
    "colab": {
     "base_uri": "https://localhost:8080/"
    },
    "executionInfo": {
     "elapsed": 9,
     "status": "ok",
     "timestamp": 1629618670725,
     "user": {
      "displayName": "이성범",
      "photoUrl": "",
      "userId": "11166281350151773159"
     },
     "user_tz": -540
    },
    "id": "2v1DTo3NsIi-",
    "outputId": "0c4d34c0-a0d0-4fb9-fee2-00b11a2c3838"
   },
   "outputs": [
    {
     "name": "stdout",
     "output_type": "stream",
     "text": [
      "Net(\n",
      "  (linear1): Sequential(\n",
      "    (0): Linear(in_features=784, out_features=512, bias=True)\n",
      "  )\n",
      "  (linear2): Sequential(\n",
      "    (0): Linear(in_features=512, out_features=256, bias=True)\n",
      "  )\n",
      "  (linear3): Sequential(\n",
      "    (0): Linear(in_features=256, out_features=128, bias=True)\n",
      "  )\n",
      "  (linear4): Sequential(\n",
      "    (0): Linear(in_features=128, out_features=10, bias=True)\n",
      "  )\n",
      ")\n"
     ]
    }
   ],
   "source": [
    "model = Net().to(DEVICE)\n",
    "optimizer = torch.optim.SGD(model.parameters(), lr = 0.01, momentum = 0.5)\n",
    "criterion = nn.CrossEntropyLoss()\n",
    "\n",
    "print(model)"
   ]
  },
  {
   "cell_type": "code",
   "execution_count": 21,
   "metadata": {
    "colab": {
     "base_uri": "https://localhost:8080/"
    },
    "executionInfo": {
     "elapsed": 58781,
     "status": "ok",
     "timestamp": 1629618729501,
     "user": {
      "displayName": "이성범",
      "photoUrl": "",
      "userId": "11166281350151773159"
     },
     "user_tz": -540
    },
    "id": "wVCYBe16sYka",
    "outputId": "06438aba-4dc7-4c7d-bfc4-e479733941df"
   },
   "outputs": [
    {
     "name": "stdout",
     "output_type": "stream",
     "text": [
      "[EPOCH: 1], \tTrain Loss: 1.3188, \tTrain Accuracy: 58.09 %, \tVal Loss: 0.8039, \tVal Accuracy: 70.88 % \n",
      "\n",
      "[EPOCH: 2], \tTrain Loss: 0.7029, \tTrain Accuracy: 74.74 %, \tVal Loss: 0.6231, \tVal Accuracy: 77.57 % \n",
      "\n",
      "[EPOCH: 3], \tTrain Loss: 0.5903, \tTrain Accuracy: 79.08 %, \tVal Loss: 0.5548, \tVal Accuracy: 80.47 % \n",
      "\n",
      "[EPOCH: 4], \tTrain Loss: 0.5378, \tTrain Accuracy: 81.24 %, \tVal Loss: 0.5164, \tVal Accuracy: 81.80 % \n",
      "\n",
      "[EPOCH: 5], \tTrain Loss: 0.5075, \tTrain Accuracy: 82.36 %, \tVal Loss: 0.5097, \tVal Accuracy: 81.50 % \n",
      "\n",
      "[EPOCH: 6], \tTrain Loss: 0.4884, \tTrain Accuracy: 82.87 %, \tVal Loss: 0.4701, \tVal Accuracy: 83.35 % \n",
      "\n",
      "[EPOCH: 7], \tTrain Loss: 0.4770, \tTrain Accuracy: 83.23 %, \tVal Loss: 0.4658, \tVal Accuracy: 83.28 % \n",
      "\n",
      "[EPOCH: 8], \tTrain Loss: 0.4673, \tTrain Accuracy: 83.65 %, \tVal Loss: 0.4675, \tVal Accuracy: 83.03 % \n",
      "\n",
      "[EPOCH: 9], \tTrain Loss: 0.4596, \tTrain Accuracy: 83.90 %, \tVal Loss: 0.4552, \tVal Accuracy: 83.89 % \n",
      "\n",
      "[EPOCH: 10], \tTrain Loss: 0.4523, \tTrain Accuracy: 84.15 %, \tVal Loss: 0.4430, \tVal Accuracy: 84.48 % \n",
      "\n",
      "[EPOCH: 11], \tTrain Loss: 0.4480, \tTrain Accuracy: 84.39 %, \tVal Loss: 0.4523, \tVal Accuracy: 83.99 % \n",
      "\n",
      "[EPOCH: 12], \tTrain Loss: 0.4430, \tTrain Accuracy: 84.46 %, \tVal Loss: 0.4496, \tVal Accuracy: 84.23 % \n",
      "\n",
      "[EPOCH: 13], \tTrain Loss: 0.4393, \tTrain Accuracy: 84.54 %, \tVal Loss: 0.4487, \tVal Accuracy: 84.00 % \n",
      "\n",
      "[EPOCH: 14], \tTrain Loss: 0.4354, \tTrain Accuracy: 84.66 %, \tVal Loss: 0.4320, \tVal Accuracy: 84.56 % \n",
      "\n",
      "[EPOCH: 15], \tTrain Loss: 0.4330, \tTrain Accuracy: 84.75 %, \tVal Loss: 0.4287, \tVal Accuracy: 84.89 % \n",
      "\n"
     ]
    }
   ],
   "source": [
    "result_list = []\n",
    "for epoch in range(1, EPOCHS + 1):\n",
    "  train_loss, train_accuracy = train(model, train_loader)\n",
    "  val_loss, val_accuracy = evaluate(model, val_loader)\n",
    "  print(f\"[EPOCH: {epoch}], \\tTrain Loss: {train_loss:.4f}, \\tTrain Accuracy: {train_accuracy:.2f} %, \\tVal Loss: {val_loss:.4f}, \\tVal Accuracy: {val_accuracy:.2f} % \\n\")\n",
    "  result = {\n",
    "    'EPOCH': epoch,\n",
    "    'Train Loss': train_loss,\n",
    "    'Train Accuracy': train_accuracy,\n",
    "    'Val Loss': val_loss,\n",
    "    'Val Accuracy': val_accuracy}\n",
    "  \n",
    "  result_list.append(result)\n",
    "result_df = pd.DataFrame(result_list)"
   ]
  },
  {
   "cell_type": "code",
   "execution_count": 22,
   "metadata": {
    "colab": {
     "base_uri": "https://localhost:8080/",
     "height": 336
    },
    "executionInfo": {
     "elapsed": 13,
     "status": "ok",
     "timestamp": 1629618729502,
     "user": {
      "displayName": "이성범",
      "photoUrl": "",
      "userId": "11166281350151773159"
     },
     "user_tz": -540
    },
    "id": "AMNqp8Y4sIjA",
    "outputId": "5a9de406-878c-48b8-9177-ebb5c0616d2d"
   },
   "outputs": [
    {
     "data": {
      "image/png": "[encoded data removed]",
      "text/plain": [
       "<Figure size 1080x360 with 2 Axes>"
      ]
     },
     "metadata": {
      "needs_background": "light"
     },
     "output_type": "display_data"
    }
   ],
   "source": [
    "fig, axes = plt.subplots(nrows=1, ncols=2, figsize=(15, 5))\n",
    "\n",
    "axes[0].plot(result_df['EPOCH'], result_df['Train Loss'], label='Train Loss')\n",
    "axes[0].plot(result_df['EPOCH'], result_df['Val Loss'], label='Val Loss')\n",
    "axes[0].set_ylim(0.0, 1)\n",
    "axes[0].legend()\n",
    "axes[0].set_title('Loss')\n",
    "\n",
    "axes[1].plot(result_df['EPOCH'], result_df['Train Accuracy'], label='Train Accuracy')\n",
    "axes[1].plot(result_df['EPOCH'], result_df['Val Accuracy'], label='Val Accuracy')\n",
    "axes[1].set_ylim(80, 100)\n",
    "axes[1].legend()\n",
    "axes[1].set_title('ACC')\n",
    "\n",
    "plt.show()"
   ]
  },
  {
   "cell_type": "markdown",
   "metadata": {
    "id": "RyUYGuRhsYrp"
   },
   "source": [
    "# Activation Function"
   ]
  },
  {
   "cell_type": "code",
   "execution_count": 23,
   "metadata": {
    "id": "MEXkcaJ4pMVq"
   },
   "outputs": [],
   "source": [
    "class Net(nn.Module):\n",
    "  def __init__(self):\n",
    "    super(Net, self).__init__()\n",
    "    self.linear1 = nn.Sequential(\n",
    "        nn.Linear(28 * 28, 512),\n",
    "        nn.ReLU()\n",
    "    )\n",
    "    self.linear2 = nn.Sequential(\n",
    "        nn.Linear(512, 256),\n",
    "        nn.ReLU()\n",
    "    )\n",
    "    self.linear3 = nn.Sequential(\n",
    "        nn.Linear(256, 128),\n",
    "        nn.ReLU()\n",
    "    )\n",
    "    self.linear4 = nn.Sequential(\n",
    "        nn.Linear(128, 10)\n",
    "    )\n",
    "\n",
    "  def forward(self, x):\n",
    "    x = x.view(-1, 28 * 28)\n",
    "    x = self.linear1(x)\n",
    "    x = self.linear2(x)\n",
    "    x = self.linear3(x)\n",
    "    x = self.linear4(x)\n",
    "    return x"
   ]
  },
  {
   "cell_type": "code",
   "execution_count": 24,
   "metadata": {
    "colab": {
     "base_uri": "https://localhost:8080/"
    },
    "executionInfo": {
     "elapsed": 5,
     "status": "ok",
     "timestamp": 1629618730036,
     "user": {
      "displayName": "이성범",
      "photoUrl": "",
      "userId": "11166281350151773159"
     },
     "user_tz": -540
    },
    "id": "XtT3TuyLpsSw",
    "outputId": "d8f74eae-960b-4f37-b7ab-231a367192f5"
   },
   "outputs": [
    {
     "name": "stdout",
     "output_type": "stream",
     "text": [
      "Net(\n",
      "  (linear1): Sequential(\n",
      "    (0): Linear(in_features=784, out_features=512, bias=True)\n",
      "    (1): ReLU()\n",
      "  )\n",
      "  (linear2): Sequential(\n",
      "    (0): Linear(in_features=512, out_features=256, bias=True)\n",
      "    (1): ReLU()\n",
      "  )\n",
      "  (linear3): Sequential(\n",
      "    (0): Linear(in_features=256, out_features=128, bias=True)\n",
      "    (1): ReLU()\n",
      "  )\n",
      "  (linear4): Sequential(\n",
      "    (0): Linear(in_features=128, out_features=10, bias=True)\n",
      "  )\n",
      ")\n"
     ]
    }
   ],
   "source": [
    "model = Net().to(DEVICE)\n",
    "optimizer = torch.optim.SGD(model.parameters(), lr = 0.01, momentum = 0.5)\n",
    "criterion = nn.CrossEntropyLoss()\n",
    "\n",
    "print(model)"
   ]
  },
  {
   "cell_type": "code",
   "execution_count": 25,
   "metadata": {
    "colab": {
     "base_uri": "https://localhost:8080/"
    },
    "executionInfo": {
     "elapsed": 59766,
     "status": "ok",
     "timestamp": 1629618789799,
     "user": {
      "displayName": "이성범",
      "photoUrl": "",
      "userId": "11166281350151773159"
     },
     "user_tz": -540
    },
    "id": "Q6QdeXBQz5HV",
    "outputId": "3e3d4e53-6a07-460c-d319-2e6ecdbf652f"
   },
   "outputs": [
    {
     "name": "stdout",
     "output_type": "stream",
     "text": [
      "[EPOCH: 1], \tTrain Loss: 1.9306, \tTrain Accuracy: 36.83 %, \tVal Loss: 1.2136, \tVal Accuracy: 59.00 % \n",
      "\n",
      "[EPOCH: 2], \tTrain Loss: 0.9482, \tTrain Accuracy: 64.39 %, \tVal Loss: 0.8213, \tVal Accuracy: 69.00 % \n",
      "\n",
      "[EPOCH: 3], \tTrain Loss: 0.7383, \tTrain Accuracy: 72.88 %, \tVal Loss: 0.6783, \tVal Accuracy: 75.34 % \n",
      "\n",
      "[EPOCH: 4], \tTrain Loss: 0.6396, \tTrain Accuracy: 77.35 %, \tVal Loss: 0.5884, \tVal Accuracy: 79.34 % \n",
      "\n",
      "[EPOCH: 5], \tTrain Loss: 0.5780, \tTrain Accuracy: 79.52 %, \tVal Loss: 0.5450, \tVal Accuracy: 80.72 % \n",
      "\n",
      "[EPOCH: 6], \tTrain Loss: 0.5403, \tTrain Accuracy: 80.94 %, \tVal Loss: 0.5457, \tVal Accuracy: 80.20 % \n",
      "\n",
      "[EPOCH: 7], \tTrain Loss: 0.5143, \tTrain Accuracy: 81.63 %, \tVal Loss: 0.4866, \tVal Accuracy: 82.77 % \n",
      "\n",
      "[EPOCH: 8], \tTrain Loss: 0.4925, \tTrain Accuracy: 82.65 %, \tVal Loss: 0.4972, \tVal Accuracy: 82.02 % \n",
      "\n",
      "[EPOCH: 9], \tTrain Loss: 0.4760, \tTrain Accuracy: 83.18 %, \tVal Loss: 0.4825, \tVal Accuracy: 82.48 % \n",
      "\n",
      "[EPOCH: 10], \tTrain Loss: 0.4597, \tTrain Accuracy: 83.77 %, \tVal Loss: 0.4631, \tVal Accuracy: 83.34 % \n",
      "\n",
      "[EPOCH: 11], \tTrain Loss: 0.4487, \tTrain Accuracy: 84.12 %, \tVal Loss: 0.4414, \tVal Accuracy: 84.28 % \n",
      "\n",
      "[EPOCH: 12], \tTrain Loss: 0.4364, \tTrain Accuracy: 84.52 %, \tVal Loss: 0.4342, \tVal Accuracy: 84.09 % \n",
      "\n",
      "[EPOCH: 13], \tTrain Loss: 0.4284, \tTrain Accuracy: 84.75 %, \tVal Loss: 0.4275, \tVal Accuracy: 84.61 % \n",
      "\n",
      "[EPOCH: 14], \tTrain Loss: 0.4170, \tTrain Accuracy: 85.13 %, \tVal Loss: 0.4186, \tVal Accuracy: 85.18 % \n",
      "\n",
      "[EPOCH: 15], \tTrain Loss: 0.4109, \tTrain Accuracy: 85.45 %, \tVal Loss: 0.4021, \tVal Accuracy: 85.66 % \n",
      "\n"
     ]
    }
   ],
   "source": [
    "result_list = []\n",
    "for epoch in range(1, EPOCHS + 1):\n",
    "  train_loss, train_accuracy = train(model, train_loader)\n",
    "  val_loss, val_accuracy = evaluate(model, val_loader)\n",
    "  print(f\"[EPOCH: {epoch}], \\tTrain Loss: {train_loss:.4f}, \\tTrain Accuracy: {train_accuracy:.2f} %, \\tVal Loss: {val_loss:.4f}, \\tVal Accuracy: {val_accuracy:.2f} % \\n\")\n",
    "  result = {\n",
    "    'EPOCH': epoch,\n",
    "    'Train Loss': train_loss,\n",
    "    'Train Accuracy': train_accuracy,\n",
    "    'Val Loss': val_loss,\n",
    "    'Val Accuracy': val_accuracy}\n",
    "  \n",
    "  result_list.append(result)\n",
    "result_df = pd.DataFrame(result_list)"
   ]
  },
  {
   "cell_type": "code",
   "execution_count": 26,
   "metadata": {
    "colab": {
     "base_uri": "https://localhost:8080/",
     "height": 336
    },
    "executionInfo": {
     "elapsed": 776,
     "status": "ok",
     "timestamp": 1629618790565,
     "user": {
      "displayName": "이성범",
      "photoUrl": "",
      "userId": "11166281350151773159"
     },
     "user_tz": -540
    },
    "id": "Fljp667oz5HW",
    "outputId": "08543111-5bc3-4d27-db8e-aead12f95bb2"
   },
   "outputs": [
    {
     "data": {
      "image/png": "[encoded data removed]",
      "text/plain": [
       "<Figure size 1080x360 with 2 Axes>"
      ]
     },
     "metadata": {
      "needs_background": "light"
     },
     "output_type": "display_data"
    }
   ],
   "source": [
    "fig, axes = plt.subplots(nrows=1, ncols=2, figsize=(15, 5))\n",
    "\n",
    "axes[0].plot(result_df['EPOCH'], result_df['Train Loss'], label='Train Loss')\n",
    "axes[0].plot(result_df['EPOCH'], result_df['Val Loss'], label='Val Loss')\n",
    "axes[0].set_ylim(0.0, 1)\n",
    "axes[0].legend()\n",
    "axes[0].set_title('Loss')\n",
    "\n",
    "axes[1].plot(result_df['EPOCH'], result_df['Train Accuracy'], label='Train Accuracy')\n",
    "axes[1].plot(result_df['EPOCH'], result_df['Val Accuracy'], label='Val Accuracy')\n",
    "axes[1].set_ylim(80, 100)\n",
    "axes[1].legend()\n",
    "axes[1].set_title('ACC')\n",
    "\n",
    "plt.show()"
   ]
  },
  {
   "cell_type": "markdown",
   "metadata": {
    "id": "WNBsJv5TscN7"
   },
   "source": [
    "# Weight Initialization"
   ]
  },
  {
   "cell_type": "code",
   "execution_count": 27,
   "metadata": {
    "id": "ueHAnrwNtTc9"
   },
   "outputs": [],
   "source": [
    "class Net(nn.Module):\n",
    "  def __init__(self):\n",
    "    super(Net, self).__init__()\n",
    "    self.linear1 = nn.Sequential(\n",
    "        nn.Linear(28 * 28, 512),\n",
    "        nn.ReLU()\n",
    "    )\n",
    "    self.linear2 = nn.Sequential(\n",
    "        nn.Linear(512, 256),\n",
    "        nn.ReLU()\n",
    "    )\n",
    "    self.linear3 = nn.Sequential(\n",
    "        nn.Linear(256, 128),\n",
    "        nn.ReLU()\n",
    "    )\n",
    "    self.linear4 = nn.Sequential(\n",
    "        nn.Linear(128, 10)\n",
    "    )\n",
    "\n",
    "    self._init_weight_()\n",
    "\n",
    "  def _init_weight_(self):\n",
    "    for m in self.linear1:\n",
    "      if isinstance(m, nn.Linear):\n",
    "        nn.init.kaiming_uniform_(m.weight)\n",
    "\n",
    "    for m in self.linear2:\n",
    "      if isinstance(m, nn.Linear):\n",
    "        nn.init.kaiming_uniform_(m.weight)\n",
    "\n",
    "    for m in self.linear3:\n",
    "      if isinstance(m, nn.Linear):\n",
    "        nn.init.kaiming_uniform_(m.weight)\n",
    "\n",
    "  def forward(self, x):\n",
    "    x = x.view(-1, 28 * 28)\n",
    "    x = self.linear1(x)\n",
    "    x = self.linear2(x)\n",
    "    x = self.linear3(x)\n",
    "    x = self.linear4(x)\n",
    "    return x"
   ]
  },
  {
   "cell_type": "code",
   "execution_count": 28,
   "metadata": {
    "colab": {
     "base_uri": "https://localhost:8080/"
    },
    "executionInfo": {
     "elapsed": 9,
     "status": "ok",
     "timestamp": 1629618790567,
     "user": {
      "displayName": "이성범",
      "photoUrl": "",
      "userId": "11166281350151773159"
     },
     "user_tz": -540
    },
    "id": "APRetGtetTdJ",
    "outputId": "39a91cab-b7e4-4070-d114-384822c5f1d0"
   },
   "outputs": [
    {
     "name": "stdout",
     "output_type": "stream",
     "text": [
      "Net(\n",
      "  (linear1): Sequential(\n",
      "    (0): Linear(in_features=784, out_features=512, bias=True)\n",
      "    (1): ReLU()\n",
      "  )\n",
      "  (linear2): Sequential(\n",
      "    (0): Linear(in_features=512, out_features=256, bias=True)\n",
      "    (1): ReLU()\n",
      "  )\n",
      "  (linear3): Sequential(\n",
      "    (0): Linear(in_features=256, out_features=128, bias=True)\n",
      "    (1): ReLU()\n",
      "  )\n",
      "  (linear4): Sequential(\n",
      "    (0): Linear(in_features=128, out_features=10, bias=True)\n",
      "  )\n",
      ")\n"
     ]
    }
   ],
   "source": [
    "model = Net().to(DEVICE)\n",
    "optimizer = torch.optim.SGD(model.parameters(), lr = 0.01, momentum = 0.5)\n",
    "criterion = nn.CrossEntropyLoss()\n",
    "\n",
    "print(model)"
   ]
  },
  {
   "cell_type": "code",
   "execution_count": 29,
   "metadata": {
    "colab": {
     "base_uri": "https://localhost:8080/"
    },
    "executionInfo": {
     "elapsed": 59474,
     "status": "ok",
     "timestamp": 1629618850037,
     "user": {
      "displayName": "이성범",
      "photoUrl": "",
      "userId": "11166281350151773159"
     },
     "user_tz": -540
    },
    "id": "E8bzvby50TMq",
    "outputId": "77bd11df-381b-43db-9455-022e9f02424a"
   },
   "outputs": [
    {
     "name": "stdout",
     "output_type": "stream",
     "text": [
      "[EPOCH: 1], \tTrain Loss: 0.9818, \tTrain Accuracy: 67.85 %, \tVal Loss: 0.6426, \tVal Accuracy: 77.00 % \n",
      "\n",
      "[EPOCH: 2], \tTrain Loss: 0.5680, \tTrain Accuracy: 80.26 %, \tVal Loss: 0.5197, \tVal Accuracy: 81.97 % \n",
      "\n",
      "[EPOCH: 3], \tTrain Loss: 0.4992, \tTrain Accuracy: 82.55 %, \tVal Loss: 0.4652, \tVal Accuracy: 83.81 % \n",
      "\n",
      "[EPOCH: 4], \tTrain Loss: 0.4643, \tTrain Accuracy: 83.57 %, \tVal Loss: 0.4406, \tVal Accuracy: 84.71 % \n",
      "\n",
      "[EPOCH: 5], \tTrain Loss: 0.4386, \tTrain Accuracy: 84.56 %, \tVal Loss: 0.4254, \tVal Accuracy: 85.09 % \n",
      "\n",
      "[EPOCH: 6], \tTrain Loss: 0.4199, \tTrain Accuracy: 85.10 %, \tVal Loss: 0.4095, \tVal Accuracy: 85.71 % \n",
      "\n",
      "[EPOCH: 7], \tTrain Loss: 0.4058, \tTrain Accuracy: 85.63 %, \tVal Loss: 0.4045, \tVal Accuracy: 85.97 % \n",
      "\n",
      "[EPOCH: 8], \tTrain Loss: 0.3919, \tTrain Accuracy: 86.01 %, \tVal Loss: 0.3849, \tVal Accuracy: 86.58 % \n",
      "\n",
      "[EPOCH: 9], \tTrain Loss: 0.3828, \tTrain Accuracy: 86.49 %, \tVal Loss: 0.3751, \tVal Accuracy: 86.84 % \n",
      "\n",
      "[EPOCH: 10], \tTrain Loss: 0.3727, \tTrain Accuracy: 86.72 %, \tVal Loss: 0.3702, \tVal Accuracy: 86.99 % \n",
      "\n",
      "[EPOCH: 11], \tTrain Loss: 0.3637, \tTrain Accuracy: 87.06 %, \tVal Loss: 0.3809, \tVal Accuracy: 86.60 % \n",
      "\n",
      "[EPOCH: 12], \tTrain Loss: 0.3537, \tTrain Accuracy: 87.33 %, \tVal Loss: 0.3726, \tVal Accuracy: 86.89 % \n",
      "\n",
      "[EPOCH: 13], \tTrain Loss: 0.3466, \tTrain Accuracy: 87.51 %, \tVal Loss: 0.3515, \tVal Accuracy: 87.71 % \n",
      "\n",
      "[EPOCH: 14], \tTrain Loss: 0.3382, \tTrain Accuracy: 87.84 %, \tVal Loss: 0.4182, \tVal Accuracy: 85.45 % \n",
      "\n",
      "[EPOCH: 15], \tTrain Loss: 0.3319, \tTrain Accuracy: 88.13 %, \tVal Loss: 0.3666, \tVal Accuracy: 86.58 % \n",
      "\n"
     ]
    }
   ],
   "source": [
    "result_list = []\n",
    "for epoch in range(1, EPOCHS + 1):\n",
    "  train_loss, train_accuracy = train(model, train_loader)\n",
    "  val_loss, val_accuracy = evaluate(model, val_loader)\n",
    "  print(f\"[EPOCH: {epoch}], \\tTrain Loss: {train_loss:.4f}, \\tTrain Accuracy: {train_accuracy:.2f} %, \\tVal Loss: {val_loss:.4f}, \\tVal Accuracy: {val_accuracy:.2f} % \\n\")\n",
    "  result = {\n",
    "    'EPOCH': epoch,\n",
    "    'Train Loss': train_loss,\n",
    "    'Train Accuracy': train_accuracy,\n",
    "    'Val Loss': val_loss,\n",
    "    'Val Accuracy': val_accuracy}\n",
    "  \n",
    "  result_list.append(result)\n",
    "result_df = pd.DataFrame(result_list)"
   ]
  },
  {
   "cell_type": "code",
   "execution_count": 30,
   "metadata": {
    "colab": {
     "base_uri": "https://localhost:8080/",
     "height": 336
    },
    "executionInfo": {
     "elapsed": 802,
     "status": "ok",
     "timestamp": 1629618850827,
     "user": {
      "displayName": "이성범",
      "photoUrl": "",
      "userId": "11166281350151773159"
     },
     "user_tz": -540
    },
    "id": "FZ3w28Ot0TMr",
    "outputId": "2a578f9e-5599-4b0d-c21b-8b5975573b1b"
   },
   "outputs": [
    {
     "data": {
      "image/png": "[encoded data removed]",
      "text/plain": [
       "<Figure size 1080x360 with 2 Axes>"
      ]
     },
     "metadata": {
      "needs_background": "light"
     },
     "output_type": "display_data"
    }
   ],
   "source": [
    "fig, axes = plt.subplots(nrows=1, ncols=2, figsize=(15, 5))\n",
    "\n",
    "axes[0].plot(result_df['EPOCH'], result_df['Train Loss'], label='Train Loss')\n",
    "axes[0].plot(result_df['EPOCH'], result_df['Val Loss'], label='Val Loss')\n",
    "axes[0].set_ylim(0.0, 1)\n",
    "axes[0].legend()\n",
    "axes[0].set_title('Loss')\n",
    "\n",
    "axes[1].plot(result_df['EPOCH'], result_df['Train Accuracy'], label='Train Accuracy')\n",
    "axes[1].plot(result_df['EPOCH'], result_df['Val Accuracy'], label='Val Accuracy')\n",
    "axes[1].set_ylim(80, 100)\n",
    "axes[1].legend()\n",
    "axes[1].set_title('ACC')\n",
    "\n",
    "plt.show()"
   ]
  },
  {
   "cell_type": "markdown",
   "metadata": {
    "id": "ZQrOPXksse-7"
   },
   "source": [
    "# Batch Normalization"
   ]
  },
  {
   "cell_type": "code",
   "execution_count": 31,
   "metadata": {
    "id": "tzszY6rO1Twt"
   },
   "outputs": [],
   "source": [
    "class Net(nn.Module):\n",
    "  def __init__(self):\n",
    "    super(Net, self).__init__()\n",
    "    self.linear1 = nn.Sequential(\n",
    "        nn.Linear(28 * 28, 512),\n",
    "        nn.BatchNorm1d(512),\n",
    "        nn.ReLU()\n",
    "    )\n",
    "    self.linear2 = nn.Sequential(\n",
    "        nn.Linear(512, 256),\n",
    "        nn.BatchNorm1d(256),\n",
    "        nn.ReLU()\n",
    "    )\n",
    "    self.linear3 = nn.Sequential(\n",
    "        nn.Linear(256, 128),\n",
    "        nn.BatchNorm1d(128),\n",
    "        nn.ReLU()\n",
    "    )\n",
    "    self.linear4 = nn.Sequential(\n",
    "        nn.Linear(128, 10)\n",
    "    )\n",
    "\n",
    "    self._init_weight_()\n",
    "\n",
    "  def _init_weight_(self):\n",
    "    for m in self.linear1:\n",
    "      if isinstance(m, nn.Linear):\n",
    "        nn.init.kaiming_uniform_(m.weight)\n",
    "\n",
    "    for m in self.linear2:\n",
    "      if isinstance(m, nn.Linear):\n",
    "        nn.init.kaiming_uniform_(m.weight)\n",
    "\n",
    "    for m in self.linear3:\n",
    "      if isinstance(m, nn.Linear):\n",
    "        nn.init.kaiming_uniform_(m.weight)\n",
    "\n",
    "  def forward(self, x):\n",
    "    x = x.view(-1, 28 * 28)\n",
    "    x = self.linear1(x)\n",
    "    x = self.linear2(x)\n",
    "    x = self.linear3(x)\n",
    "    x = self.linear4(x)\n",
    "    return x"
   ]
  },
  {
   "cell_type": "code",
   "execution_count": 32,
   "metadata": {
    "colab": {
     "base_uri": "https://localhost:8080/"
    },
    "executionInfo": {
     "elapsed": 9,
     "status": "ok",
     "timestamp": 1629618850830,
     "user": {
      "displayName": "이성범",
      "photoUrl": "",
      "userId": "11166281350151773159"
     },
     "user_tz": -540
    },
    "id": "I9WRy-0C1Tw6",
    "outputId": "c025693c-5a41-44fb-eb19-1165bebb2783"
   },
   "outputs": [
    {
     "name": "stdout",
     "output_type": "stream",
     "text": [
      "Net(\n",
      "  (linear1): Sequential(\n",
      "    (0): Linear(in_features=784, out_features=512, bias=True)\n",
      "    (1): BatchNorm1d(512, eps=1e-05, momentum=0.1, affine=True, track_running_stats=True)\n",
      "    (2): ReLU()\n",
      "  )\n",
      "  (linear2): Sequential(\n",
      "    (0): Linear(in_features=512, out_features=256, bias=True)\n",
      "    (1): BatchNorm1d(256, eps=1e-05, momentum=0.1, affine=True, track_running_stats=True)\n",
      "    (2): ReLU()\n",
      "  )\n",
      "  (linear3): Sequential(\n",
      "    (0): Linear(in_features=256, out_features=128, bias=True)\n",
      "    (1): BatchNorm1d(128, eps=1e-05, momentum=0.1, affine=True, track_running_stats=True)\n",
      "    (2): ReLU()\n",
      "  )\n",
      "  (linear4): Sequential(\n",
      "    (0): Linear(in_features=128, out_features=10, bias=True)\n",
      "  )\n",
      ")\n"
     ]
    }
   ],
   "source": [
    "model = Net().to(DEVICE)\n",
    "optimizer = torch.optim.SGD(model.parameters(), lr = 0.01, momentum = 0.5)\n",
    "criterion = nn.CrossEntropyLoss()\n",
    "\n",
    "print(model)"
   ]
  },
  {
   "cell_type": "code",
   "execution_count": 33,
   "metadata": {
    "colab": {
     "base_uri": "https://localhost:8080/"
    },
    "executionInfo": {
     "elapsed": 90413,
     "status": "ok",
     "timestamp": 1629618941238,
     "user": {
      "displayName": "이성범",
      "photoUrl": "",
      "userId": "11166281350151773159"
     },
     "user_tz": -540
    },
    "id": "_F7dKHTD0TsQ",
    "outputId": "fee2879a-31b8-4226-c2b8-0d196d72070a"
   },
   "outputs": [
    {
     "name": "stdout",
     "output_type": "stream",
     "text": [
      "[EPOCH: 1], \tTrain Loss: 0.8174, \tTrain Accuracy: 75.01 %, \tVal Loss: 0.5151, \tVal Accuracy: 82.60 % \n",
      "\n",
      "[EPOCH: 2], \tTrain Loss: 0.4752, \tTrain Accuracy: 83.49 %, \tVal Loss: 0.4192, \tVal Accuracy: 85.29 % \n",
      "\n",
      "[EPOCH: 3], \tTrain Loss: 0.4090, \tTrain Accuracy: 85.49 %, \tVal Loss: 0.3871, \tVal Accuracy: 86.04 % \n",
      "\n",
      "[EPOCH: 4], \tTrain Loss: 0.3704, \tTrain Accuracy: 86.88 %, \tVal Loss: 0.3612, \tVal Accuracy: 86.87 % \n",
      "\n",
      "[EPOCH: 5], \tTrain Loss: 0.3428, \tTrain Accuracy: 87.76 %, \tVal Loss: 0.3512, \tVal Accuracy: 87.27 % \n",
      "\n",
      "[EPOCH: 6], \tTrain Loss: 0.3215, \tTrain Accuracy: 88.54 %, \tVal Loss: 0.3432, \tVal Accuracy: 87.46 % \n",
      "\n",
      "[EPOCH: 7], \tTrain Loss: 0.3026, \tTrain Accuracy: 89.12 %, \tVal Loss: 0.3306, \tVal Accuracy: 87.80 % \n",
      "\n",
      "[EPOCH: 8], \tTrain Loss: 0.2839, \tTrain Accuracy: 89.89 %, \tVal Loss: 0.3238, \tVal Accuracy: 88.23 % \n",
      "\n",
      "[EPOCH: 9], \tTrain Loss: 0.2678, \tTrain Accuracy: 90.46 %, \tVal Loss: 0.3175, \tVal Accuracy: 88.53 % \n",
      "\n",
      "[EPOCH: 10], \tTrain Loss: 0.2519, \tTrain Accuracy: 91.10 %, \tVal Loss: 0.3162, \tVal Accuracy: 88.56 % \n",
      "\n",
      "[EPOCH: 11], \tTrain Loss: 0.2397, \tTrain Accuracy: 91.42 %, \tVal Loss: 0.3170, \tVal Accuracy: 88.54 % \n",
      "\n",
      "[EPOCH: 12], \tTrain Loss: 0.2238, \tTrain Accuracy: 92.20 %, \tVal Loss: 0.3219, \tVal Accuracy: 88.19 % \n",
      "\n",
      "[EPOCH: 13], \tTrain Loss: 0.2134, \tTrain Accuracy: 92.49 %, \tVal Loss: 0.3129, \tVal Accuracy: 88.81 % \n",
      "\n",
      "[EPOCH: 14], \tTrain Loss: 0.2018, \tTrain Accuracy: 93.04 %, \tVal Loss: 0.3155, \tVal Accuracy: 88.61 % \n",
      "\n",
      "[EPOCH: 15], \tTrain Loss: 0.1889, \tTrain Accuracy: 93.45 %, \tVal Loss: 0.3271, \tVal Accuracy: 88.39 % \n",
      "\n"
     ]
    }
   ],
   "source": [
    "result_list = []\n",
    "for epoch in range(1, EPOCHS + 1):\n",
    "  train_loss, train_accuracy = train(model, train_loader)\n",
    "  val_loss, val_accuracy = evaluate(model, val_loader)\n",
    "  print(f\"[EPOCH: {epoch}], \\tTrain Loss: {train_loss:.4f}, \\tTrain Accuracy: {train_accuracy:.2f} %, \\tVal Loss: {val_loss:.4f}, \\tVal Accuracy: {val_accuracy:.2f} % \\n\")\n",
    "  result = {\n",
    "    'EPOCH': epoch,\n",
    "    'Train Loss': train_loss,\n",
    "    'Train Accuracy': train_accuracy,\n",
    "    'Val Loss': val_loss,\n",
    "    'Val Accuracy': val_accuracy}\n",
    "  \n",
    "  result_list.append(result)\n",
    "result_df = pd.DataFrame(result_list)"
   ]
  },
  {
   "cell_type": "code",
   "execution_count": 34,
   "metadata": {
    "colab": {
     "base_uri": "https://localhost:8080/",
     "height": 336
    },
    "executionInfo": {
     "elapsed": 16,
     "status": "ok",
     "timestamp": 1629618941239,
     "user": {
      "displayName": "이성범",
      "photoUrl": "",
      "userId": "11166281350151773159"
     },
     "user_tz": -540
    },
    "id": "ZgXRPSqy0TsQ",
    "outputId": "ea07fee8-46f6-4923-ef78-104b57c86c71"
   },
   "outputs": [
    {
     "data": {
      "image/png": "[encoded data removed]",
      "text/plain": [
       "<Figure size 1080x360 with 2 Axes>"
      ]
     },
     "metadata": {
      "needs_background": "light"
     },
     "output_type": "display_data"
    }
   ],
   "source": [
    "fig, axes = plt.subplots(nrows=1, ncols=2, figsize=(15, 5))\n",
    "\n",
    "axes[0].plot(result_df['EPOCH'], result_df['Train Loss'], label='Train Loss')\n",
    "axes[0].plot(result_df['EPOCH'], result_df['Val Loss'], label='Val Loss')\n",
    "axes[0].set_ylim(0.0, 1)\n",
    "axes[0].legend()\n",
    "axes[0].set_title('Loss')\n",
    "\n",
    "axes[1].plot(result_df['EPOCH'], result_df['Train Accuracy'], label='Train Accuracy')\n",
    "axes[1].plot(result_df['EPOCH'], result_df['Val Accuracy'], label='Val Accuracy')\n",
    "axes[1].set_ylim(80, 100)\n",
    "axes[1].legend()\n",
    "axes[1].set_title('ACC')\n",
    "\n",
    "plt.show()"
   ]
  },
  {
   "cell_type": "markdown",
   "metadata": {
    "id": "1gwUB32GshKT"
   },
   "source": [
    "# Optimization"
   ]
  },
  {
   "cell_type": "code",
   "execution_count": 35,
   "metadata": {
    "id": "IX0cwOXy1fr-"
   },
   "outputs": [],
   "source": [
    "class Net(nn.Module):\n",
    "  def __init__(self):\n",
    "    super(Net, self).__init__()\n",
    "    self.linear1 = nn.Sequential(\n",
    "        nn.Linear(28 * 28, 512),\n",
    "        nn.BatchNorm1d(512),\n",
    "        nn.ReLU()\n",
    "    )\n",
    "    self.linear2 = nn.Sequential(\n",
    "        nn.Linear(512, 256),\n",
    "        nn.BatchNorm1d(256),\n",
    "        nn.ReLU()\n",
    "    )\n",
    "    self.linear3 = nn.Sequential(\n",
    "        nn.Linear(256, 128),\n",
    "        nn.BatchNorm1d(128),\n",
    "        nn.ReLU()\n",
    "    )\n",
    "    self.linear4 = nn.Sequential(\n",
    "        nn.Linear(128, 10)\n",
    "    )\n",
    "\n",
    "    self._init_weight_()\n",
    "\n",
    "  def _init_weight_(self):\n",
    "    for m in self.linear1:\n",
    "      if isinstance(m, nn.Linear):\n",
    "        nn.init.kaiming_uniform_(m.weight)\n",
    "\n",
    "    for m in self.linear2:\n",
    "      if isinstance(m, nn.Linear):\n",
    "        nn.init.kaiming_uniform_(m.weight)\n",
    "\n",
    "    for m in self.linear3:\n",
    "      if isinstance(m, nn.Linear):\n",
    "        nn.init.kaiming_uniform_(m.weight)\n",
    "\n",
    "  def forward(self, x):\n",
    "    x = x.view(-1, 28 * 28)\n",
    "    x = self.linear1(x)\n",
    "    x = self.linear2(x)\n",
    "    x = self.linear3(x)\n",
    "    x = self.linear4(x)\n",
    "    return x"
   ]
  },
  {
   "cell_type": "code",
   "execution_count": 36,
   "metadata": {
    "colab": {
     "base_uri": "https://localhost:8080/"
    },
    "executionInfo": {
     "elapsed": 7,
     "status": "ok",
     "timestamp": 1629618941754,
     "user": {
      "displayName": "이성범",
      "photoUrl": "",
      "userId": "11166281350151773159"
     },
     "user_tz": -540
    },
    "id": "JCaB9wCZ1fsI",
    "outputId": "1528cf31-5518-4427-8c81-e623403e7f50"
   },
   "outputs": [
    {
     "name": "stdout",
     "output_type": "stream",
     "text": [
      "Net(\n",
      "  (linear1): Sequential(\n",
      "    (0): Linear(in_features=784, out_features=512, bias=True)\n",
      "    (1): BatchNorm1d(512, eps=1e-05, momentum=0.1, affine=True, track_running_stats=True)\n",
      "    (2): ReLU()\n",
      "  )\n",
      "  (linear2): Sequential(\n",
      "    (0): Linear(in_features=512, out_features=256, bias=True)\n",
      "    (1): BatchNorm1d(256, eps=1e-05, momentum=0.1, affine=True, track_running_stats=True)\n",
      "    (2): ReLU()\n",
      "  )\n",
      "  (linear3): Sequential(\n",
      "    (0): Linear(in_features=256, out_features=128, bias=True)\n",
      "    (1): BatchNorm1d(128, eps=1e-05, momentum=0.1, affine=True, track_running_stats=True)\n",
      "    (2): ReLU()\n",
      "  )\n",
      "  (linear4): Sequential(\n",
      "    (0): Linear(in_features=128, out_features=10, bias=True)\n",
      "  )\n",
      ")\n"
     ]
    }
   ],
   "source": [
    "model = Net().to(DEVICE)\n",
    "optimizer = torch.optim.Adam(model.parameters(), lr = 0.01)\n",
    "criterion = nn.CrossEntropyLoss()\n",
    "\n",
    "print(model)"
   ]
  },
  {
   "cell_type": "code",
   "execution_count": 37,
   "metadata": {
    "colab": {
     "base_uri": "https://localhost:8080/"
    },
    "executionInfo": {
     "elapsed": 104603,
     "status": "ok",
     "timestamp": 1629619046352,
     "user": {
      "displayName": "이성범",
      "photoUrl": "",
      "userId": "11166281350151773159"
     },
     "user_tz": -540
    },
    "id": "mxeGk5BO0ULy",
    "outputId": "b28b5ea9-99c1-44b8-81f6-e7e067672d56"
   },
   "outputs": [
    {
     "name": "stdout",
     "output_type": "stream",
     "text": [
      "[EPOCH: 1], \tTrain Loss: 0.4910, \tTrain Accuracy: 82.21 %, \tVal Loss: 0.4343, \tVal Accuracy: 84.08 % \n",
      "\n",
      "[EPOCH: 2], \tTrain Loss: 0.3691, \tTrain Accuracy: 86.45 %, \tVal Loss: 0.3465, \tVal Accuracy: 87.77 % \n",
      "\n",
      "[EPOCH: 3], \tTrain Loss: 0.3361, \tTrain Accuracy: 87.70 %, \tVal Loss: 0.3845, \tVal Accuracy: 85.78 % \n",
      "\n",
      "[EPOCH: 4], \tTrain Loss: 0.3016, \tTrain Accuracy: 88.72 %, \tVal Loss: 0.3244, \tVal Accuracy: 88.49 % \n",
      "\n",
      "[EPOCH: 5], \tTrain Loss: 0.2790, \tTrain Accuracy: 89.69 %, \tVal Loss: 0.3438, \tVal Accuracy: 87.38 % \n",
      "\n",
      "[EPOCH: 6], \tTrain Loss: 0.2630, \tTrain Accuracy: 90.14 %, \tVal Loss: 0.3145, \tVal Accuracy: 88.18 % \n",
      "\n",
      "[EPOCH: 7], \tTrain Loss: 0.2475, \tTrain Accuracy: 90.67 %, \tVal Loss: 0.3159, \tVal Accuracy: 88.80 % \n",
      "\n",
      "[EPOCH: 8], \tTrain Loss: 0.2314, \tTrain Accuracy: 91.26 %, \tVal Loss: 0.3181, \tVal Accuracy: 88.82 % \n",
      "\n",
      "[EPOCH: 9], \tTrain Loss: 0.2215, \tTrain Accuracy: 91.66 %, \tVal Loss: 0.3088, \tVal Accuracy: 88.91 % \n",
      "\n",
      "[EPOCH: 10], \tTrain Loss: 0.2041, \tTrain Accuracy: 92.26 %, \tVal Loss: 0.3443, \tVal Accuracy: 88.65 % \n",
      "\n",
      "[EPOCH: 11], \tTrain Loss: 0.1962, \tTrain Accuracy: 92.46 %, \tVal Loss: 0.3232, \tVal Accuracy: 88.92 % \n",
      "\n",
      "[EPOCH: 12], \tTrain Loss: 0.1806, \tTrain Accuracy: 93.08 %, \tVal Loss: 0.3470, \tVal Accuracy: 88.39 % \n",
      "\n",
      "[EPOCH: 13], \tTrain Loss: 0.1740, \tTrain Accuracy: 93.58 %, \tVal Loss: 0.3379, \tVal Accuracy: 88.99 % \n",
      "\n",
      "[EPOCH: 14], \tTrain Loss: 0.1626, \tTrain Accuracy: 93.77 %, \tVal Loss: 0.3344, \tVal Accuracy: 89.24 % \n",
      "\n",
      "[EPOCH: 15], \tTrain Loss: 0.1546, \tTrain Accuracy: 94.07 %, \tVal Loss: 0.3404, \tVal Accuracy: 89.57 % \n",
      "\n"
     ]
    }
   ],
   "source": [
    "result_list = []\n",
    "for epoch in range(1, EPOCHS + 1):\n",
    "  train_loss, train_accuracy = train(model, train_loader)\n",
    "  val_loss, val_accuracy = evaluate(model, val_loader)\n",
    "  print(f\"[EPOCH: {epoch}], \\tTrain Loss: {train_loss:.4f}, \\tTrain Accuracy: {train_accuracy:.2f} %, \\tVal Loss: {val_loss:.4f}, \\tVal Accuracy: {val_accuracy:.2f} % \\n\")\n",
    "  result = {\n",
    "    'EPOCH': epoch,\n",
    "    'Train Loss': train_loss,\n",
    "    'Train Accuracy': train_accuracy,\n",
    "    'Val Loss': val_loss,\n",
    "    'Val Accuracy': val_accuracy}\n",
    "  \n",
    "  result_list.append(result)\n",
    "result_df = pd.DataFrame(result_list)"
   ]
  },
  {
   "cell_type": "code",
   "execution_count": 38,
   "metadata": {
    "colab": {
     "base_uri": "https://localhost:8080/",
     "height": 336
    },
    "executionInfo": {
     "elapsed": 728,
     "status": "ok",
     "timestamp": 1629619047069,
     "user": {
      "displayName": "이성범",
      "photoUrl": "",
      "userId": "11166281350151773159"
     },
     "user_tz": -540
    },
    "id": "EfCVKKLJ0ULz",
    "outputId": "ec6a1c04-998d-40d8-8e00-c2d78dfcb202"
   },
   "outputs": [
    {
     "data": {
      "image/png": "[encoded data removed]",
      "text/plain": [
       "<Figure size 1080x360 with 2 Axes>"
      ]
     },
     "metadata": {
      "needs_background": "light"
     },
     "output_type": "display_data"
    }
   ],
   "source": [
    "fig, axes = plt.subplots(nrows=1, ncols=2, figsize=(15, 5))\n",
    "\n",
    "axes[0].plot(result_df['EPOCH'], result_df['Train Loss'], label='Train Loss')\n",
    "axes[0].plot(result_df['EPOCH'], result_df['Val Loss'], label='Val Loss')\n",
    "axes[0].set_ylim(0.0, 1)\n",
    "axes[0].legend()\n",
    "axes[0].set_title('Loss')\n",
    "\n",
    "axes[1].plot(result_df['EPOCH'], result_df['Train Accuracy'], label='Train Accuracy')\n",
    "axes[1].plot(result_df['EPOCH'], result_df['Val Accuracy'], label='Val Accuracy')\n",
    "axes[1].set_ylim(80, 100)\n",
    "axes[1].legend()\n",
    "axes[1].set_title('ACC')\n",
    "\n",
    "plt.show()"
   ]
  },
  {
   "cell_type": "markdown",
   "metadata": {
    "id": "efosC0aKsjO7"
   },
   "source": [
    "# Dropout"
   ]
  },
  {
   "cell_type": "code",
   "execution_count": 39,
   "metadata": {
    "id": "raKGt6Ws1l9m"
   },
   "outputs": [],
   "source": [
    "class Net(nn.Module):\n",
    "  def __init__(self):\n",
    "    super(Net, self).__init__()\n",
    "    self.linear1 = nn.Sequential(\n",
    "        nn.Linear(28 * 28, 512),\n",
    "        nn.BatchNorm1d(512),\n",
    "        nn.ReLU(),\n",
    "        nn.Dropout(0.2)\n",
    "    )\n",
    "    self.linear2 = nn.Sequential(\n",
    "        nn.Linear(512, 256),\n",
    "        nn.BatchNorm1d(256),\n",
    "        nn.ReLU(),\n",
    "        nn.Dropout(0.2)\n",
    "    )\n",
    "    self.linear3 = nn.Sequential(\n",
    "        nn.Linear(256, 128),\n",
    "        nn.BatchNorm1d(128),\n",
    "        nn.ReLU(),\n",
    "        nn.Dropout(0.2)\n",
    "    )\n",
    "    self.linear4 = nn.Sequential(\n",
    "        nn.Linear(128, 10)\n",
    "    )\n",
    "\n",
    "    self._init_weight_()\n",
    "\n",
    "  def _init_weight_(self):\n",
    "    for m in self.linear1:\n",
    "      if isinstance(m, nn.Linear):\n",
    "        nn.init.kaiming_uniform_(m.weight)\n",
    "\n",
    "    for m in self.linear2:\n",
    "      if isinstance(m, nn.Linear):\n",
    "        nn.init.kaiming_uniform_(m.weight)\n",
    "\n",
    "    for m in self.linear3:\n",
    "      if isinstance(m, nn.Linear):\n",
    "        nn.init.kaiming_uniform_(m.weight)\n",
    "\n",
    "  def forward(self, x):\n",
    "    x = x.view(-1, 28 * 28)\n",
    "    x = self.linear1(x)\n",
    "    x = self.linear2(x)\n",
    "    x = self.linear3(x)\n",
    "    x = self.linear4(x)\n",
    "    return x"
   ]
  },
  {
   "cell_type": "code",
   "execution_count": 40,
   "metadata": {
    "colab": {
     "base_uri": "https://localhost:8080/"
    },
    "executionInfo": {
     "elapsed": 9,
     "status": "ok",
     "timestamp": 1629619047071,
     "user": {
      "displayName": "이성범",
      "photoUrl": "",
      "userId": "11166281350151773159"
     },
     "user_tz": -540
    },
    "id": "4XGK9N2E1l9m",
    "outputId": "02b26d88-dc9f-4531-8282-ad3f116b6a1d"
   },
   "outputs": [
    {
     "name": "stdout",
     "output_type": "stream",
     "text": [
      "Net(\n",
      "  (linear1): Sequential(\n",
      "    (0): Linear(in_features=784, out_features=512, bias=True)\n",
      "    (1): BatchNorm1d(512, eps=1e-05, momentum=0.1, affine=True, track_running_stats=True)\n",
      "    (2): ReLU()\n",
      "    (3): Dropout(p=0.2, inplace=False)\n",
      "  )\n",
      "  (linear2): Sequential(\n",
      "    (0): Linear(in_features=512, out_features=256, bias=True)\n",
      "    (1): BatchNorm1d(256, eps=1e-05, momentum=0.1, affine=True, track_running_stats=True)\n",
      "    (2): ReLU()\n",
      "    (3): Dropout(p=0.2, inplace=False)\n",
      "  )\n",
      "  (linear3): Sequential(\n",
      "    (0): Linear(in_features=256, out_features=128, bias=True)\n",
      "    (1): BatchNorm1d(128, eps=1e-05, momentum=0.1, affine=True, track_running_stats=True)\n",
      "    (2): ReLU()\n",
      "    (3): Dropout(p=0.2, inplace=False)\n",
      "  )\n",
      "  (linear4): Sequential(\n",
      "    (0): Linear(in_features=128, out_features=10, bias=True)\n",
      "  )\n",
      ")\n"
     ]
    }
   ],
   "source": [
    "model = Net().to(DEVICE)\n",
    "optimizer = torch.optim.Adam(model.parameters(), lr = 0.01)\n",
    "criterion = nn.CrossEntropyLoss()\n",
    "\n",
    "print(model)"
   ]
  },
  {
   "cell_type": "code",
   "execution_count": 41,
   "metadata": {
    "colab": {
     "base_uri": "https://localhost:8080/"
    },
    "executionInfo": {
     "elapsed": 108313,
     "status": "ok",
     "timestamp": 1629619155379,
     "user": {
      "displayName": "이성범",
      "photoUrl": "",
      "userId": "11166281350151773159"
     },
     "user_tz": -540
    },
    "id": "QMCB53iN1l9m",
    "outputId": "bb319cc5-ae65-408a-d9be-016d768a94cb"
   },
   "outputs": [
    {
     "name": "stdout",
     "output_type": "stream",
     "text": [
      "[EPOCH: 1], \tTrain Loss: 0.5335, \tTrain Accuracy: 80.79 %, \tVal Loss: 0.3869, \tVal Accuracy: 85.75 % \n",
      "\n",
      "[EPOCH: 2], \tTrain Loss: 0.4160, \tTrain Accuracy: 84.96 %, \tVal Loss: 0.3583, \tVal Accuracy: 86.73 % \n",
      "\n",
      "[EPOCH: 3], \tTrain Loss: 0.3738, \tTrain Accuracy: 86.49 %, \tVal Loss: 0.3537, \tVal Accuracy: 87.30 % \n",
      "\n",
      "[EPOCH: 4], \tTrain Loss: 0.3467, \tTrain Accuracy: 87.43 %, \tVal Loss: 0.3447, \tVal Accuracy: 87.86 % \n",
      "\n",
      "[EPOCH: 5], \tTrain Loss: 0.3273, \tTrain Accuracy: 87.88 %, \tVal Loss: 0.3217, \tVal Accuracy: 87.92 % \n",
      "\n",
      "[EPOCH: 6], \tTrain Loss: 0.3090, \tTrain Accuracy: 88.62 %, \tVal Loss: 0.3354, \tVal Accuracy: 87.65 % \n",
      "\n",
      "[EPOCH: 7], \tTrain Loss: 0.2920, \tTrain Accuracy: 89.14 %, \tVal Loss: 0.3190, \tVal Accuracy: 88.55 % \n",
      "\n",
      "[EPOCH: 8], \tTrain Loss: 0.2868, \tTrain Accuracy: 89.29 %, \tVal Loss: 0.3093, \tVal Accuracy: 88.92 % \n",
      "\n",
      "[EPOCH: 9], \tTrain Loss: 0.2767, \tTrain Accuracy: 89.63 %, \tVal Loss: 0.3017, \tVal Accuracy: 89.12 % \n",
      "\n",
      "[EPOCH: 10], \tTrain Loss: 0.2627, \tTrain Accuracy: 90.28 %, \tVal Loss: 0.3077, \tVal Accuracy: 88.61 % \n",
      "\n",
      "[EPOCH: 11], \tTrain Loss: 0.2566, \tTrain Accuracy: 90.46 %, \tVal Loss: 0.2855, \tVal Accuracy: 89.43 % \n",
      "\n",
      "[EPOCH: 12], \tTrain Loss: 0.2450, \tTrain Accuracy: 90.83 %, \tVal Loss: 0.2782, \tVal Accuracy: 90.17 % \n",
      "\n",
      "[EPOCH: 13], \tTrain Loss: 0.2335, \tTrain Accuracy: 91.21 %, \tVal Loss: 0.2922, \tVal Accuracy: 89.62 % \n",
      "\n",
      "[EPOCH: 14], \tTrain Loss: 0.2294, \tTrain Accuracy: 91.42 %, \tVal Loss: 0.2847, \tVal Accuracy: 90.18 % \n",
      "\n",
      "[EPOCH: 15], \tTrain Loss: 0.2234, \tTrain Accuracy: 91.69 %, \tVal Loss: 0.2867, \tVal Accuracy: 89.73 % \n",
      "\n"
     ]
    }
   ],
   "source": [
    "result_list = []\n",
    "for epoch in range(1, EPOCHS + 1):\n",
    "  train_loss, train_accuracy = train(model, train_loader)\n",
    "  val_loss, val_accuracy = evaluate(model, val_loader)\n",
    "  print(f\"[EPOCH: {epoch}], \\tTrain Loss: {train_loss:.4f}, \\tTrain Accuracy: {train_accuracy:.2f} %, \\tVal Loss: {val_loss:.4f}, \\tVal Accuracy: {val_accuracy:.2f} % \\n\")\n",
    "  result = {\n",
    "    'EPOCH': epoch,\n",
    "    'Train Loss': train_loss,\n",
    "    'Train Accuracy': train_accuracy,\n",
    "    'Val Loss': val_loss,\n",
    "    'Val Accuracy': val_accuracy}\n",
    "  \n",
    "  result_list.append(result)\n",
    "result_df = pd.DataFrame(result_list)"
   ]
  },
  {
   "cell_type": "code",
   "execution_count": 42,
   "metadata": {
    "colab": {
     "base_uri": "https://localhost:8080/",
     "height": 336
    },
    "executionInfo": {
     "elapsed": 1181,
     "status": "ok",
     "timestamp": 1629619194683,
     "user": {
      "displayName": "이성범",
      "photoUrl": "",
      "userId": "11166281350151773159"
     },
     "user_tz": -540
    },
    "id": "lN8J06SK0Use",
    "outputId": "19e22b10-67d8-440e-e1d5-8a1b005c3dde"
   },
   "outputs": [
    {
     "data": {
      "image/png": "[encoded data removed]",
      "text/plain": [
       "<Figure size 1080x360 with 2 Axes>"
      ]
     },
     "metadata": {
      "needs_background": "light"
     },
     "output_type": "display_data"
    }
   ],
   "source": [
    "fig, axes = plt.subplots(nrows=1, ncols=2, figsize=(15, 5))\n",
    "\n",
    "axes[0].plot(result_df['EPOCH'], result_df['Train Loss'], label='Train Loss')\n",
    "axes[0].plot(result_df['EPOCH'], result_df['Val Loss'], label='Val Loss')\n",
    "axes[0].set_ylim(0.0, 1)\n",
    "axes[0].legend()\n",
    "axes[0].set_title('Loss')\n",
    "\n",
    "axes[1].plot(result_df['EPOCH'], result_df['Train Accuracy'], label='Train Accuracy')\n",
    "axes[1].plot(result_df['EPOCH'], result_df['Val Accuracy'], label='Val Accuracy')\n",
    "axes[1].set_ylim(80, 100)\n",
    "axes[1].legend()\n",
    "axes[1].set_title('ACC')\n",
    "\n",
    "plt.show()"
   ]
  },
  {
   "cell_type": "markdown",
   "metadata": {
    "id": "xj3e9wo2snij"
   },
   "source": [
    "# Regularization"
   ]
  },
  {
   "cell_type": "code",
   "execution_count": 43,
   "metadata": {
    "id": "CgPtNZuq1uDl"
   },
   "outputs": [],
   "source": [
    "class Net(nn.Module):\n",
    "  def __init__(self):\n",
    "    super(Net, self).__init__()\n",
    "    self.linear1 = nn.Sequential(\n",
    "        nn.Linear(28 * 28, 512),\n",
    "        nn.BatchNorm1d(512),\n",
    "        nn.ReLU(),\n",
    "        nn.Dropout(0.2)\n",
    "    )\n",
    "    self.linear2 = nn.Sequential(\n",
    "        nn.Linear(512, 256),\n",
    "        nn.BatchNorm1d(256),\n",
    "        nn.ReLU(),\n",
    "        nn.Dropout(0.2)\n",
    "    )\n",
    "    self.linear3 = nn.Sequential(\n",
    "        nn.Linear(256, 128),\n",
    "        nn.BatchNorm1d(128),\n",
    "        nn.ReLU(),\n",
    "        nn.Dropout(0.2)\n",
    "    )\n",
    "    self.linear4 = nn.Sequential(\n",
    "        nn.Linear(128, 10)\n",
    "    )\n",
    "\n",
    "    self._init_weight_()\n",
    "\n",
    "  def _init_weight_(self):\n",
    "    for m in self.linear1:\n",
    "      if isinstance(m, nn.Linear):\n",
    "        nn.init.kaiming_uniform_(m.weight)\n",
    "\n",
    "    for m in self.linear2:\n",
    "      if isinstance(m, nn.Linear):\n",
    "        nn.init.kaiming_uniform_(m.weight)\n",
    "\n",
    "    for m in self.linear3:\n",
    "      if isinstance(m, nn.Linear):\n",
    "        nn.init.kaiming_uniform_(m.weight)\n",
    "\n",
    "  def forward(self, x):\n",
    "    x = x.view(-1, 28 * 28)\n",
    "    x = self.linear1(x)\n",
    "    x = self.linear2(x)\n",
    "    x = self.linear3(x)\n",
    "    x = self.linear4(x)\n",
    "    return x"
   ]
  },
  {
   "cell_type": "code",
   "execution_count": 44,
   "metadata": {
    "colab": {
     "base_uri": "https://localhost:8080/"
    },
    "executionInfo": {
     "elapsed": 502,
     "status": "ok",
     "timestamp": 1629619229976,
     "user": {
      "displayName": "이성범",
      "photoUrl": "",
      "userId": "11166281350151773159"
     },
     "user_tz": -540
    },
    "id": "q1cJo6fO1uDm",
    "outputId": "3b8c6ca3-51f4-4f74-fd8a-14774d87c045"
   },
   "outputs": [
    {
     "name": "stdout",
     "output_type": "stream",
     "text": [
      "Net(\n",
      "  (linear1): Sequential(\n",
      "    (0): Linear(in_features=784, out_features=512, bias=True)\n",
      "    (1): BatchNorm1d(512, eps=1e-05, momentum=0.1, affine=True, track_running_stats=True)\n",
      "    (2): ReLU()\n",
      "    (3): Dropout(p=0.2, inplace=False)\n",
      "  )\n",
      "  (linear2): Sequential(\n",
      "    (0): Linear(in_features=512, out_features=256, bias=True)\n",
      "    (1): BatchNorm1d(256, eps=1e-05, momentum=0.1, affine=True, track_running_stats=True)\n",
      "    (2): ReLU()\n",
      "    (3): Dropout(p=0.2, inplace=False)\n",
      "  )\n",
      "  (linear3): Sequential(\n",
      "    (0): Linear(in_features=256, out_features=128, bias=True)\n",
      "    (1): BatchNorm1d(128, eps=1e-05, momentum=0.1, affine=True, track_running_stats=True)\n",
      "    (2): ReLU()\n",
      "    (3): Dropout(p=0.2, inplace=False)\n",
      "  )\n",
      "  (linear4): Sequential(\n",
      "    (0): Linear(in_features=128, out_features=10, bias=True)\n",
      "  )\n",
      ")\n"
     ]
    }
   ],
   "source": [
    "model = Net().to(DEVICE)\n",
    "optimizer = torch.optim.Adam(model.parameters(), lr = 0.01, weight_decay = 0.001)\n",
    "criterion = nn.CrossEntropyLoss()\n",
    "\n",
    "print(model)"
   ]
  },
  {
   "cell_type": "code",
   "execution_count": 45,
   "metadata": {
    "colab": {
     "base_uri": "https://localhost:8080/"
    },
    "executionInfo": {
     "elapsed": 1381864,
     "status": "ok",
     "timestamp": 1629620611837,
     "user": {
      "displayName": "이성범",
      "photoUrl": "",
      "userId": "11166281350151773159"
     },
     "user_tz": -540
    },
    "id": "OwMdinys0VGH",
    "outputId": "9e368f54-518a-4842-e320-c7cd3361b3ca"
   },
   "outputs": [
    {
     "name": "stdout",
     "output_type": "stream",
     "text": [
      "[EPOCH: 1], \tTrain Loss: 0.6340, \tTrain Accuracy: 77.37 %, \tVal Loss: 0.6432, \tVal Accuracy: 76.59 % \n",
      "\n",
      "[EPOCH: 2], \tTrain Loss: 0.6028, \tTrain Accuracy: 78.70 %, \tVal Loss: 0.6018, \tVal Accuracy: 79.03 % \n",
      "\n",
      "[EPOCH: 3], \tTrain Loss: 0.6030, \tTrain Accuracy: 78.72 %, \tVal Loss: 0.7400, \tVal Accuracy: 71.77 % \n",
      "\n",
      "[EPOCH: 4], \tTrain Loss: 0.5938, \tTrain Accuracy: 79.14 %, \tVal Loss: 0.6146, \tVal Accuracy: 77.01 % \n",
      "\n",
      "[EPOCH: 5], \tTrain Loss: 0.5918, \tTrain Accuracy: 79.20 %, \tVal Loss: 0.6474, \tVal Accuracy: 76.65 % \n",
      "\n",
      "[EPOCH: 6], \tTrain Loss: 0.5943, \tTrain Accuracy: 79.26 %, \tVal Loss: 0.6052, \tVal Accuracy: 78.00 % \n",
      "\n",
      "[EPOCH: 7], \tTrain Loss: 0.5949, \tTrain Accuracy: 79.16 %, \tVal Loss: 0.5055, \tVal Accuracy: 82.36 % \n",
      "\n",
      "[EPOCH: 8], \tTrain Loss: 0.5870, \tTrain Accuracy: 79.46 %, \tVal Loss: 0.5322, \tVal Accuracy: 81.71 % \n",
      "\n",
      "[EPOCH: 9], \tTrain Loss: 0.5897, \tTrain Accuracy: 79.20 %, \tVal Loss: 0.6291, \tVal Accuracy: 76.58 % \n",
      "\n",
      "[EPOCH: 10], \tTrain Loss: 0.5870, \tTrain Accuracy: 79.46 %, \tVal Loss: 0.6188, \tVal Accuracy: 78.50 % \n",
      "\n",
      "[EPOCH: 11], \tTrain Loss: 0.5837, \tTrain Accuracy: 79.50 %, \tVal Loss: 0.5820, \tVal Accuracy: 79.00 % \n",
      "\n"
     ]
    },
    {
     "ename": "KeyboardInterrupt",
     "evalue": "",
     "output_type": "error",
     "traceback": [
      "\u001b[0;31m---------------------------------------------------------------------------\u001b[0m",
      "\u001b[0;31mKeyboardInterrupt\u001b[0m                         Traceback (most recent call last)",
      "\u001b[0;32m/var/folders/xb/jj9xzp2d6v37h6nvn74k10p00000gn/T/ipykernel_3607/3563048905.py\u001b[0m in \u001b[0;36m<module>\u001b[0;34m\u001b[0m\n\u001b[1;32m      1\u001b[0m \u001b[0mresult_list\u001b[0m \u001b[0;34m=\u001b[0m \u001b[0;34m[\u001b[0m\u001b[0;34m]\u001b[0m\u001b[0;34m\u001b[0m\u001b[0;34m\u001b[0m\u001b[0m\n\u001b[1;32m      2\u001b[0m \u001b[0;32mfor\u001b[0m \u001b[0mepoch\u001b[0m \u001b[0;32min\u001b[0m \u001b[0mrange\u001b[0m\u001b[0;34m(\u001b[0m\u001b[0;36m1\u001b[0m\u001b[0;34m,\u001b[0m \u001b[0mEPOCHS\u001b[0m \u001b[0;34m+\u001b[0m \u001b[0;36m1\u001b[0m\u001b[0;34m)\u001b[0m\u001b[0;34m:\u001b[0m\u001b[0;34m\u001b[0m\u001b[0;34m\u001b[0m\u001b[0m\n\u001b[0;32m----> 3\u001b[0;31m   \u001b[0mtrain_loss\u001b[0m\u001b[0;34m,\u001b[0m \u001b[0mtrain_accuracy\u001b[0m \u001b[0;34m=\u001b[0m \u001b[0mtrain\u001b[0m\u001b[0;34m(\u001b[0m\u001b[0mmodel\u001b[0m\u001b[0;34m,\u001b[0m \u001b[0mtrain_loader\u001b[0m\u001b[0;34m)\u001b[0m\u001b[0;34m\u001b[0m\u001b[0;34m\u001b[0m\u001b[0m\n\u001b[0m\u001b[1;32m      4\u001b[0m   \u001b[0mval_loss\u001b[0m\u001b[0;34m,\u001b[0m \u001b[0mval_accuracy\u001b[0m \u001b[0;34m=\u001b[0m \u001b[0mevaluate\u001b[0m\u001b[0;34m(\u001b[0m\u001b[0mmodel\u001b[0m\u001b[0;34m,\u001b[0m \u001b[0mval_loader\u001b[0m\u001b[0;34m)\u001b[0m\u001b[0;34m\u001b[0m\u001b[0;34m\u001b[0m\u001b[0m\n\u001b[1;32m      5\u001b[0m   \u001b[0mprint\u001b[0m\u001b[0;34m(\u001b[0m\u001b[0;34mf\"[EPOCH: {epoch}], \\tTrain Loss: {train_loss:.4f}, \\tTrain Accuracy: {train_accuracy:.2f} %, \\tVal Loss: {val_loss:.4f}, \\tVal Accuracy: {val_accuracy:.2f} % \\n\"\u001b[0m\u001b[0;34m)\u001b[0m\u001b[0;34m\u001b[0m\u001b[0;34m\u001b[0m\u001b[0m\n",
      "\u001b[0;32m/var/folders/xb/jj9xzp2d6v37h6nvn74k10p00000gn/T/ipykernel_3607/1454809050.py\u001b[0m in \u001b[0;36mtrain\u001b[0;34m(model, train_loader)\u001b[0m\n\u001b[1;32m     10\u001b[0m     \u001b[0moutput\u001b[0m \u001b[0;34m=\u001b[0m \u001b[0mmodel\u001b[0m\u001b[0;34m(\u001b[0m\u001b[0mimage\u001b[0m\u001b[0;34m)\u001b[0m\u001b[0;34m\u001b[0m\u001b[0;34m\u001b[0m\u001b[0m\n\u001b[1;32m     11\u001b[0m     \u001b[0mloss\u001b[0m \u001b[0;34m=\u001b[0m \u001b[0mcriterion\u001b[0m\u001b[0;34m(\u001b[0m\u001b[0moutput\u001b[0m\u001b[0;34m,\u001b[0m \u001b[0mlabel\u001b[0m\u001b[0;34m)\u001b[0m\u001b[0;34m\u001b[0m\u001b[0;34m\u001b[0m\u001b[0m\n\u001b[0;32m---> 12\u001b[0;31m     \u001b[0mloss\u001b[0m\u001b[0;34m.\u001b[0m\u001b[0mbackward\u001b[0m\u001b[0;34m(\u001b[0m\u001b[0;34m)\u001b[0m\u001b[0;34m\u001b[0m\u001b[0;34m\u001b[0m\u001b[0m\n\u001b[0m\u001b[1;32m     13\u001b[0m     \u001b[0moptimizer\u001b[0m\u001b[0;34m.\u001b[0m\u001b[0mstep\u001b[0m\u001b[0;34m(\u001b[0m\u001b[0;34m)\u001b[0m\u001b[0;34m\u001b[0m\u001b[0;34m\u001b[0m\u001b[0m\n\u001b[1;32m     14\u001b[0m \u001b[0;34m\u001b[0m\u001b[0m\n",
      "\u001b[0;32m~/opt/anaconda3/lib/python3.8/site-packages/torch/_tensor.py\u001b[0m in \u001b[0;36mbackward\u001b[0;34m(self, gradient, retain_graph, create_graph, inputs)\u001b[0m\n\u001b[1;32m    305\u001b[0m                 \u001b[0mcreate_graph\u001b[0m\u001b[0;34m=\u001b[0m\u001b[0mcreate_graph\u001b[0m\u001b[0;34m,\u001b[0m\u001b[0;34m\u001b[0m\u001b[0;34m\u001b[0m\u001b[0m\n\u001b[1;32m    306\u001b[0m                 inputs=inputs)\n\u001b[0;32m--> 307\u001b[0;31m         \u001b[0mtorch\u001b[0m\u001b[0;34m.\u001b[0m\u001b[0mautograd\u001b[0m\u001b[0;34m.\u001b[0m\u001b[0mbackward\u001b[0m\u001b[0;34m(\u001b[0m\u001b[0mself\u001b[0m\u001b[0;34m,\u001b[0m \u001b[0mgradient\u001b[0m\u001b[0;34m,\u001b[0m \u001b[0mretain_graph\u001b[0m\u001b[0;34m,\u001b[0m \u001b[0mcreate_graph\u001b[0m\u001b[0;34m,\u001b[0m \u001b[0minputs\u001b[0m\u001b[0;34m=\u001b[0m\u001b[0minputs\u001b[0m\u001b[0;34m)\u001b[0m\u001b[0;34m\u001b[0m\u001b[0;34m\u001b[0m\u001b[0m\n\u001b[0m\u001b[1;32m    308\u001b[0m \u001b[0;34m\u001b[0m\u001b[0m\n\u001b[1;32m    309\u001b[0m     \u001b[0;32mdef\u001b[0m \u001b[0mregister_hook\u001b[0m\u001b[0;34m(\u001b[0m\u001b[0mself\u001b[0m\u001b[0;34m,\u001b[0m \u001b[0mhook\u001b[0m\u001b[0;34m)\u001b[0m\u001b[0;34m:\u001b[0m\u001b[0;34m\u001b[0m\u001b[0;34m\u001b[0m\u001b[0m\n",
      "\u001b[0;32m~/opt/anaconda3/lib/python3.8/site-packages/torch/autograd/__init__.py\u001b[0m in \u001b[0;36mbackward\u001b[0;34m(tensors, grad_tensors, retain_graph, create_graph, grad_variables, inputs)\u001b[0m\n\u001b[1;32m    152\u001b[0m         \u001b[0mretain_graph\u001b[0m \u001b[0;34m=\u001b[0m \u001b[0mcreate_graph\u001b[0m\u001b[0;34m\u001b[0m\u001b[0;34m\u001b[0m\u001b[0m\n\u001b[1;32m    153\u001b[0m \u001b[0;34m\u001b[0m\u001b[0m\n\u001b[0;32m--> 154\u001b[0;31m     Variable._execution_engine.run_backward(\n\u001b[0m\u001b[1;32m    155\u001b[0m         \u001b[0mtensors\u001b[0m\u001b[0;34m,\u001b[0m \u001b[0mgrad_tensors_\u001b[0m\u001b[0;34m,\u001b[0m \u001b[0mretain_graph\u001b[0m\u001b[0;34m,\u001b[0m \u001b[0mcreate_graph\u001b[0m\u001b[0;34m,\u001b[0m \u001b[0minputs\u001b[0m\u001b[0;34m,\u001b[0m\u001b[0;34m\u001b[0m\u001b[0;34m\u001b[0m\u001b[0m\n\u001b[1;32m    156\u001b[0m         allow_unreachable=True, accumulate_grad=True)  # allow_unreachable flag\n",
      "\u001b[0;31mKeyboardInterrupt\u001b[0m: "
     ]
    }
   ],
   "source": [
    "result_list = []\n",
    "for epoch in range(1, EPOCHS + 1):\n",
    "  train_loss, train_accuracy = train(model, train_loader)\n",
    "  val_loss, val_accuracy = evaluate(model, val_loader)\n",
    "  print(f\"[EPOCH: {epoch}], \\tTrain Loss: {train_loss:.4f}, \\tTrain Accuracy: {train_accuracy:.2f} %, \\tVal Loss: {val_loss:.4f}, \\tVal Accuracy: {val_accuracy:.2f} % \\n\")\n",
    "  result = {\n",
    "    'EPOCH': epoch,\n",
    "    'Train Loss': train_loss,\n",
    "    'Train Accuracy': train_accuracy,\n",
    "    'Val Loss': val_loss,\n",
    "    'Val Accuracy': val_accuracy}\n",
    "  \n",
    "  result_list.append(result)\n",
    "result_df = pd.DataFrame(result_list)"
   ]
  },
  {
   "cell_type": "code",
   "execution_count": null,
   "metadata": {
    "colab": {
     "base_uri": "https://localhost:8080/",
     "height": 336
    },
    "executionInfo": {
     "elapsed": 8,
     "status": "ok",
     "timestamp": 1629620611837,
     "user": {
      "displayName": "이성범",
      "photoUrl": "",
      "userId": "11166281350151773159"
     },
     "user_tz": -540
    },
    "id": "GQkygs4i0VGH",
    "outputId": "c40e6589-8afa-4c7f-980b-c67efc8f7c05"
   },
   "outputs": [],
   "source": [
    "fig, axes = plt.subplots(nrows=1, ncols=2, figsize=(15, 5))\n",
    "\n",
    "axes[0].plot(result_df['EPOCH'], result_df['Train Loss'], label='Train Loss')\n",
    "axes[0].plot(result_df['EPOCH'], result_df['Val Loss'], label='Val Loss')\n",
    "axes[0].set_ylim(0.0, 1)\n",
    "axes[0].legend()\n",
    "axes[0].set_title('Loss')\n",
    "\n",
    "axes[1].plot(result_df['EPOCH'], result_df['Train Accuracy'], label='Train Accuracy')\n",
    "axes[1].plot(result_df['EPOCH'], result_df['Val Accuracy'], label='Val Accuracy')\n",
    "axes[1].set_ylim(70, 100)\n",
    "axes[1].legend()\n",
    "axes[1].set_title('ACC')\n",
    "\n",
    "plt.show()"
   ]
  },
  {
   "cell_type": "markdown",
   "metadata": {
    "id": "dSLnNAGatnRb"
   },
   "source": [
    "# 제출"
   ]
  },
  {
   "cell_type": "code",
   "execution_count": 46,
   "metadata": {
    "id": "ADxy8kMw49ts"
   },
   "outputs": [],
   "source": [
    "BATCH_SIZE = 128\n",
    "EPOCHS = 100"
   ]
  },
  {
   "cell_type": "code",
   "execution_count": 47,
   "metadata": {
    "id": "DH-mIU7z49tz"
   },
   "outputs": [],
   "source": [
    "class Net(nn.Module):\n",
    "  def __init__(self):\n",
    "    super(Net, self).__init__()\n",
    "    self.linear1 = nn.Sequential(\n",
    "        nn.Linear(28 * 28, 512),\n",
    "        nn.BatchNorm1d(512),\n",
    "        nn.ReLU(),\n",
    "        nn.Dropout(0.2)\n",
    "    )\n",
    "    self.linear2 = nn.Sequential(\n",
    "        nn.Linear(512, 256),\n",
    "        nn.BatchNorm1d(256),\n",
    "        nn.ReLU(),\n",
    "        nn.Dropout(0.2)\n",
    "    )\n",
    "    self.linear3 = nn.Sequential(\n",
    "        nn.Linear(256, 128),\n",
    "        nn.BatchNorm1d(128),\n",
    "        nn.ReLU(),\n",
    "        nn.Dropout(0.2)\n",
    "    )\n",
    "    self.linear4 = nn.Sequential(\n",
    "        nn.Linear(128, 10)\n",
    "    )\n",
    "\n",
    "    self._init_weight_()\n",
    "\n",
    "  def _init_weight_(self):\n",
    "    for m in self.linear1:\n",
    "      if isinstance(m, nn.Linear):\n",
    "        nn.init.kaiming_uniform_(m.weight)\n",
    "\n",
    "    for m in self.linear2:\n",
    "      if isinstance(m, nn.Linear):\n",
    "        nn.init.kaiming_uniform_(m.weight)\n",
    "\n",
    "    for m in self.linear3:\n",
    "      if isinstance(m, nn.Linear):\n",
    "        nn.init.kaiming_uniform_(m.weight)\n",
    "\n",
    "  def forward(self, x):\n",
    "    x = x.view(-1, 28 * 28)\n",
    "    x = self.linear1(x)\n",
    "    x = self.linear2(x)\n",
    "    x = self.linear3(x)\n",
    "    x = self.linear4(x)\n",
    "    return x"
   ]
  },
  {
   "cell_type": "code",
   "execution_count": 48,
   "metadata": {
    "colab": {
     "base_uri": "https://localhost:8080/"
    },
    "executionInfo": {
     "elapsed": 538,
     "status": "ok",
     "timestamp": 1629620830774,
     "user": {
      "displayName": "이성범",
      "photoUrl": "",
      "userId": "11166281350151773159"
     },
     "user_tz": -540
    },
    "id": "Qj9X1vtd49tz",
    "outputId": "25100768-7a04-4830-ae27-b76671a34c46"
   },
   "outputs": [
    {
     "name": "stdout",
     "output_type": "stream",
     "text": [
      "Net(\n",
      "  (linear1): Sequential(\n",
      "    (0): Linear(in_features=784, out_features=512, bias=True)\n",
      "    (1): BatchNorm1d(512, eps=1e-05, momentum=0.1, affine=True, track_running_stats=True)\n",
      "    (2): ReLU()\n",
      "    (3): Dropout(p=0.2, inplace=False)\n",
      "  )\n",
      "  (linear2): Sequential(\n",
      "    (0): Linear(in_features=512, out_features=256, bias=True)\n",
      "    (1): BatchNorm1d(256, eps=1e-05, momentum=0.1, affine=True, track_running_stats=True)\n",
      "    (2): ReLU()\n",
      "    (3): Dropout(p=0.2, inplace=False)\n",
      "  )\n",
      "  (linear3): Sequential(\n",
      "    (0): Linear(in_features=256, out_features=128, bias=True)\n",
      "    (1): BatchNorm1d(128, eps=1e-05, momentum=0.1, affine=True, track_running_stats=True)\n",
      "    (2): ReLU()\n",
      "    (3): Dropout(p=0.2, inplace=False)\n",
      "  )\n",
      "  (linear4): Sequential(\n",
      "    (0): Linear(in_features=128, out_features=10, bias=True)\n",
      "  )\n",
      ")\n"
     ]
    }
   ],
   "source": [
    "model = Net().to(DEVICE)\n",
    "optimizer = torch.optim.Adam(model.parameters(), lr = 0.01)\n",
    "criterion = nn.CrossEntropyLoss()\n",
    "\n",
    "print(model)"
   ]
  },
  {
   "cell_type": "code",
   "execution_count": 49,
   "metadata": {
    "colab": {
     "base_uri": "https://localhost:8080/"
    },
    "executionInfo": {
     "elapsed": 745667,
     "status": "ok",
     "timestamp": 1629621576438,
     "user": {
      "displayName": "이성범",
      "photoUrl": "",
      "userId": "11166281350151773159"
     },
     "user_tz": -540
    },
    "id": "JxV_tHEm49tz",
    "outputId": "ce8802b9-19ea-4824-97d4-7e02b2158f8a"
   },
   "outputs": [
    {
     "name": "stdout",
     "output_type": "stream",
     "text": [
      "[EPOCH: 1], \tTrain Loss: 0.5363, \tTrain Accuracy: 80.59 %, \tVal Loss: 0.3830, \tVal Accuracy: 85.71 % \n",
      "\n",
      "[EPOCH: 2], \tTrain Loss: 0.4108, \tTrain Accuracy: 85.26 %, \tVal Loss: 0.3988, \tVal Accuracy: 85.12 % \n",
      "\n",
      "[EPOCH: 3], \tTrain Loss: 0.3719, \tTrain Accuracy: 86.46 %, \tVal Loss: 0.3385, \tVal Accuracy: 87.58 % \n",
      "\n",
      "[EPOCH: 4], \tTrain Loss: 0.3435, \tTrain Accuracy: 87.40 %, \tVal Loss: 0.3652, \tVal Accuracy: 86.66 % \n",
      "\n",
      "[EPOCH: 5], \tTrain Loss: 0.3242, \tTrain Accuracy: 88.02 %, \tVal Loss: 0.3253, \tVal Accuracy: 87.83 % \n",
      "\n",
      "[EPOCH: 6], \tTrain Loss: 0.3105, \tTrain Accuracy: 88.55 %, \tVal Loss: 0.3161, \tVal Accuracy: 88.55 % \n",
      "\n",
      "[EPOCH: 7], \tTrain Loss: 0.2933, \tTrain Accuracy: 89.11 %, \tVal Loss: 0.3071, \tVal Accuracy: 88.62 % \n",
      "\n",
      "[EPOCH: 8], \tTrain Loss: 0.2848, \tTrain Accuracy: 89.41 %, \tVal Loss: 0.3184, \tVal Accuracy: 88.53 % \n",
      "\n",
      "[EPOCH: 9], \tTrain Loss: 0.2713, \tTrain Accuracy: 89.87 %, \tVal Loss: 0.3002, \tVal Accuracy: 89.24 % \n",
      "\n",
      "[EPOCH: 10], \tTrain Loss: 0.2627, \tTrain Accuracy: 90.14 %, \tVal Loss: 0.2986, \tVal Accuracy: 89.65 % \n",
      "\n",
      "[EPOCH: 11], \tTrain Loss: 0.2554, \tTrain Accuracy: 90.41 %, \tVal Loss: 0.2965, \tVal Accuracy: 89.22 % \n",
      "\n",
      "[EPOCH: 12], \tTrain Loss: 0.2446, \tTrain Accuracy: 90.82 %, \tVal Loss: 0.3013, \tVal Accuracy: 89.93 % \n",
      "\n",
      "[EPOCH: 13], \tTrain Loss: 0.2377, \tTrain Accuracy: 91.10 %, \tVal Loss: 0.2949, \tVal Accuracy: 89.65 % \n",
      "\n",
      "[EPOCH: 14], \tTrain Loss: 0.2285, \tTrain Accuracy: 91.33 %, \tVal Loss: 0.2800, \tVal Accuracy: 90.18 % \n",
      "\n",
      "[EPOCH: 15], \tTrain Loss: 0.2226, \tTrain Accuracy: 91.54 %, \tVal Loss: 0.3875, \tVal Accuracy: 87.22 % \n",
      "\n",
      "[EPOCH: 16], \tTrain Loss: 0.2188, \tTrain Accuracy: 91.68 %, \tVal Loss: 0.2970, \tVal Accuracy: 89.37 % \n",
      "\n",
      "[EPOCH: 17], \tTrain Loss: 0.2074, \tTrain Accuracy: 92.22 %, \tVal Loss: 0.3174, \tVal Accuracy: 89.29 % \n",
      "\n",
      "[EPOCH: 18], \tTrain Loss: 0.1983, \tTrain Accuracy: 92.62 %, \tVal Loss: 0.3424, \tVal Accuracy: 88.28 % \n",
      "\n",
      "[EPOCH: 19], \tTrain Loss: 0.2007, \tTrain Accuracy: 92.36 %, \tVal Loss: 0.2875, \tVal Accuracy: 90.29 % \n",
      "\n",
      "[EPOCH: 20], \tTrain Loss: 0.1900, \tTrain Accuracy: 92.79 %, \tVal Loss: 0.3054, \tVal Accuracy: 89.59 % \n",
      "\n",
      "[EPOCH: 21], \tTrain Loss: 0.1844, \tTrain Accuracy: 93.06 %, \tVal Loss: 0.2971, \tVal Accuracy: 90.25 % \n",
      "\n",
      "[EPOCH: 22], \tTrain Loss: 0.1834, \tTrain Accuracy: 93.06 %, \tVal Loss: 0.2979, \tVal Accuracy: 90.07 % \n",
      "\n",
      "[EPOCH: 23], \tTrain Loss: 0.1760, \tTrain Accuracy: 93.27 %, \tVal Loss: 0.3093, \tVal Accuracy: 90.08 % \n",
      "\n",
      "[EPOCH: 24], \tTrain Loss: 0.1729, \tTrain Accuracy: 93.39 %, \tVal Loss: 0.3140, \tVal Accuracy: 89.81 % \n",
      "\n",
      "[EPOCH: 25], \tTrain Loss: 0.1679, \tTrain Accuracy: 93.65 %, \tVal Loss: 0.3114, \tVal Accuracy: 90.30 % \n",
      "\n",
      "[EPOCH: 26], \tTrain Loss: 0.1585, \tTrain Accuracy: 94.06 %, \tVal Loss: 0.3288, \tVal Accuracy: 89.95 % \n",
      "\n",
      "[EPOCH: 27], \tTrain Loss: 0.1588, \tTrain Accuracy: 93.97 %, \tVal Loss: 0.3153, \tVal Accuracy: 90.17 % \n",
      "\n",
      "[EPOCH: 28], \tTrain Loss: 0.1565, \tTrain Accuracy: 94.04 %, \tVal Loss: 0.3407, \tVal Accuracy: 90.07 % \n",
      "\n",
      "[EPOCH: 29], \tTrain Loss: 0.1530, \tTrain Accuracy: 94.35 %, \tVal Loss: 0.3102, \tVal Accuracy: 90.55 % \n",
      "\n",
      "[EPOCH: 30], \tTrain Loss: 0.1524, \tTrain Accuracy: 94.14 %, \tVal Loss: 0.3144, \tVal Accuracy: 89.75 % \n",
      "\n",
      "[EPOCH: 31], \tTrain Loss: 0.1485, \tTrain Accuracy: 94.33 %, \tVal Loss: 0.3193, \tVal Accuracy: 90.33 % \n",
      "\n",
      "[EPOCH: 32], \tTrain Loss: 0.1397, \tTrain Accuracy: 94.69 %, \tVal Loss: 0.3611, \tVal Accuracy: 89.35 % \n",
      "\n",
      "[EPOCH: 33], \tTrain Loss: 0.1420, \tTrain Accuracy: 94.64 %, \tVal Loss: 0.3104, \tVal Accuracy: 90.49 % \n",
      "\n",
      "[EPOCH: 34], \tTrain Loss: 0.1371, \tTrain Accuracy: 94.95 %, \tVal Loss: 0.3148, \tVal Accuracy: 90.26 % \n",
      "\n",
      "[EPOCH: 35], \tTrain Loss: 0.1343, \tTrain Accuracy: 94.94 %, \tVal Loss: 0.3380, \tVal Accuracy: 90.29 % \n",
      "\n",
      "[EPOCH: 36], \tTrain Loss: 0.1279, \tTrain Accuracy: 95.24 %, \tVal Loss: 0.3196, \tVal Accuracy: 90.36 % \n",
      "\n",
      "[EPOCH: 37], \tTrain Loss: 0.1249, \tTrain Accuracy: 95.34 %, \tVal Loss: 0.3586, \tVal Accuracy: 89.88 % \n",
      "\n",
      "[EPOCH: 38], \tTrain Loss: 0.1268, \tTrain Accuracy: 95.35 %, \tVal Loss: 0.3512, \tVal Accuracy: 89.97 % \n",
      "\n",
      "[EPOCH: 39], \tTrain Loss: 0.1249, \tTrain Accuracy: 95.29 %, \tVal Loss: 0.3220, \tVal Accuracy: 90.77 % \n",
      "\n",
      "[EPOCH: 40], \tTrain Loss: 0.1199, \tTrain Accuracy: 95.48 %, \tVal Loss: 0.3354, \tVal Accuracy: 90.47 % \n",
      "\n",
      "[EPOCH: 41], \tTrain Loss: 0.1201, \tTrain Accuracy: 95.42 %, \tVal Loss: 0.3503, \tVal Accuracy: 90.05 % \n",
      "\n",
      "[EPOCH: 42], \tTrain Loss: 0.1172, \tTrain Accuracy: 95.64 %, \tVal Loss: 0.3280, \tVal Accuracy: 90.85 % \n",
      "\n",
      "[EPOCH: 43], \tTrain Loss: 0.1166, \tTrain Accuracy: 95.61 %, \tVal Loss: 0.3513, \tVal Accuracy: 90.05 % \n",
      "\n",
      "[EPOCH: 44], \tTrain Loss: 0.1131, \tTrain Accuracy: 95.72 %, \tVal Loss: 0.3461, \tVal Accuracy: 89.82 % \n",
      "\n",
      "[EPOCH: 45], \tTrain Loss: 0.1128, \tTrain Accuracy: 95.75 %, \tVal Loss: 0.3459, \tVal Accuracy: 90.50 % \n",
      "\n",
      "[EPOCH: 46], \tTrain Loss: 0.1099, \tTrain Accuracy: 95.82 %, \tVal Loss: 0.3455, \tVal Accuracy: 90.72 % \n",
      "\n",
      "[EPOCH: 47], \tTrain Loss: 0.1035, \tTrain Accuracy: 96.12 %, \tVal Loss: 0.3766, \tVal Accuracy: 90.42 % \n",
      "\n",
      "[EPOCH: 48], \tTrain Loss: 0.1066, \tTrain Accuracy: 96.08 %, \tVal Loss: 0.3656, \tVal Accuracy: 90.13 % \n",
      "\n",
      "[EPOCH: 49], \tTrain Loss: 0.1065, \tTrain Accuracy: 96.04 %, \tVal Loss: 0.3544, \tVal Accuracy: 90.39 % \n",
      "\n",
      "[EPOCH: 50], \tTrain Loss: 0.0990, \tTrain Accuracy: 96.34 %, \tVal Loss: 0.3732, \tVal Accuracy: 90.27 % \n",
      "\n",
      "[EPOCH: 51], \tTrain Loss: 0.0999, \tTrain Accuracy: 96.23 %, \tVal Loss: 0.3890, \tVal Accuracy: 90.32 % \n",
      "\n",
      "[EPOCH: 52], \tTrain Loss: 0.1015, \tTrain Accuracy: 96.23 %, \tVal Loss: 0.3879, \tVal Accuracy: 90.03 % \n",
      "\n",
      "[EPOCH: 53], \tTrain Loss: 0.0970, \tTrain Accuracy: 96.43 %, \tVal Loss: 0.3650, \tVal Accuracy: 90.37 % \n",
      "\n",
      "[EPOCH: 54], \tTrain Loss: 0.0935, \tTrain Accuracy: 96.57 %, \tVal Loss: 0.3670, \tVal Accuracy: 90.07 % \n",
      "\n",
      "[EPOCH: 55], \tTrain Loss: 0.0933, \tTrain Accuracy: 96.55 %, \tVal Loss: 0.4057, \tVal Accuracy: 90.17 % \n",
      "\n",
      "[EPOCH: 56], \tTrain Loss: 0.0938, \tTrain Accuracy: 96.45 %, \tVal Loss: 0.3883, \tVal Accuracy: 90.36 % \n",
      "\n",
      "[EPOCH: 57], \tTrain Loss: 0.0904, \tTrain Accuracy: 96.68 %, \tVal Loss: 0.3823, \tVal Accuracy: 90.76 % \n",
      "\n",
      "[EPOCH: 58], \tTrain Loss: 0.0905, \tTrain Accuracy: 96.66 %, \tVal Loss: 0.4081, \tVal Accuracy: 89.82 % \n",
      "\n",
      "[EPOCH: 59], \tTrain Loss: 0.0899, \tTrain Accuracy: 96.67 %, \tVal Loss: 0.3996, \tVal Accuracy: 90.43 % \n",
      "\n",
      "[EPOCH: 60], \tTrain Loss: 0.0866, \tTrain Accuracy: 96.80 %, \tVal Loss: 0.3693, \tVal Accuracy: 90.44 % \n",
      "\n",
      "[EPOCH: 61], \tTrain Loss: 0.0913, \tTrain Accuracy: 96.55 %, \tVal Loss: 0.3800, \tVal Accuracy: 90.78 % \n",
      "\n",
      "[EPOCH: 62], \tTrain Loss: 0.0876, \tTrain Accuracy: 96.79 %, \tVal Loss: 0.3824, \tVal Accuracy: 90.68 % \n",
      "\n",
      "[EPOCH: 63], \tTrain Loss: 0.0836, \tTrain Accuracy: 96.90 %, \tVal Loss: 0.3897, \tVal Accuracy: 90.23 % \n",
      "\n",
      "[EPOCH: 64], \tTrain Loss: 0.0822, \tTrain Accuracy: 96.96 %, \tVal Loss: 0.4313, \tVal Accuracy: 89.66 % \n",
      "\n",
      "[EPOCH: 65], \tTrain Loss: 0.0805, \tTrain Accuracy: 97.02 %, \tVal Loss: 0.4082, \tVal Accuracy: 90.55 % \n",
      "\n",
      "[EPOCH: 66], \tTrain Loss: 0.0835, \tTrain Accuracy: 96.92 %, \tVal Loss: 0.4012, \tVal Accuracy: 90.28 % \n",
      "\n",
      "[EPOCH: 67], \tTrain Loss: 0.0794, \tTrain Accuracy: 97.07 %, \tVal Loss: 0.4017, \tVal Accuracy: 90.47 % \n",
      "\n",
      "[EPOCH: 68], \tTrain Loss: 0.0793, \tTrain Accuracy: 97.05 %, \tVal Loss: 0.4187, \tVal Accuracy: 89.67 % \n",
      "\n",
      "[EPOCH: 69], \tTrain Loss: 0.0749, \tTrain Accuracy: 97.28 %, \tVal Loss: 0.4084, \tVal Accuracy: 90.56 % \n",
      "\n",
      "[EPOCH: 70], \tTrain Loss: 0.0769, \tTrain Accuracy: 97.16 %, \tVal Loss: 0.4038, \tVal Accuracy: 90.19 % \n",
      "\n",
      "[EPOCH: 71], \tTrain Loss: 0.0770, \tTrain Accuracy: 97.21 %, \tVal Loss: 0.4073, \tVal Accuracy: 90.50 % \n",
      "\n",
      "[EPOCH: 72], \tTrain Loss: 0.0773, \tTrain Accuracy: 97.15 %, \tVal Loss: 0.4101, \tVal Accuracy: 90.58 % \n",
      "\n",
      "[EPOCH: 73], \tTrain Loss: 0.0751, \tTrain Accuracy: 97.25 %, \tVal Loss: 0.4114, \tVal Accuracy: 90.34 % \n",
      "\n",
      "[EPOCH: 74], \tTrain Loss: 0.0725, \tTrain Accuracy: 97.32 %, \tVal Loss: 0.4052, \tVal Accuracy: 90.76 % \n",
      "\n",
      "[EPOCH: 75], \tTrain Loss: 0.0760, \tTrain Accuracy: 97.31 %, \tVal Loss: 0.3924, \tVal Accuracy: 90.70 % \n",
      "\n",
      "[EPOCH: 76], \tTrain Loss: 0.0707, \tTrain Accuracy: 97.42 %, \tVal Loss: 0.4630, \tVal Accuracy: 90.03 % \n",
      "\n",
      "[EPOCH: 77], \tTrain Loss: 0.0706, \tTrain Accuracy: 97.36 %, \tVal Loss: 0.4239, \tVal Accuracy: 90.10 % \n",
      "\n",
      "[EPOCH: 78], \tTrain Loss: 0.0749, \tTrain Accuracy: 97.30 %, \tVal Loss: 0.4343, \tVal Accuracy: 90.62 % \n",
      "\n",
      "[EPOCH: 79], \tTrain Loss: 0.0696, \tTrain Accuracy: 97.51 %, \tVal Loss: 0.4523, \tVal Accuracy: 90.51 % \n",
      "\n"
     ]
    },
    {
     "name": "stdout",
     "output_type": "stream",
     "text": [
      "[EPOCH: 80], \tTrain Loss: 0.0682, \tTrain Accuracy: 97.55 %, \tVal Loss: 0.4200, \tVal Accuracy: 90.47 % \n",
      "\n",
      "[EPOCH: 81], \tTrain Loss: 0.0686, \tTrain Accuracy: 97.54 %, \tVal Loss: 0.3862, \tVal Accuracy: 90.85 % \n",
      "\n",
      "[EPOCH: 82], \tTrain Loss: 0.0683, \tTrain Accuracy: 97.50 %, \tVal Loss: 0.4018, \tVal Accuracy: 90.35 % \n",
      "\n",
      "[EPOCH: 83], \tTrain Loss: 0.0661, \tTrain Accuracy: 97.61 %, \tVal Loss: 0.4260, \tVal Accuracy: 90.51 % \n",
      "\n",
      "[EPOCH: 84], \tTrain Loss: 0.0719, \tTrain Accuracy: 97.44 %, \tVal Loss: 0.3927, \tVal Accuracy: 90.72 % \n",
      "\n",
      "[EPOCH: 85], \tTrain Loss: 0.0644, \tTrain Accuracy: 97.70 %, \tVal Loss: 0.4372, \tVal Accuracy: 90.87 % \n",
      "\n",
      "[EPOCH: 86], \tTrain Loss: 0.0626, \tTrain Accuracy: 97.73 %, \tVal Loss: 0.4475, \tVal Accuracy: 90.11 % \n",
      "\n",
      "[EPOCH: 87], \tTrain Loss: 0.0646, \tTrain Accuracy: 97.68 %, \tVal Loss: 0.3998, \tVal Accuracy: 90.28 % \n",
      "\n",
      "[EPOCH: 88], \tTrain Loss: 0.0642, \tTrain Accuracy: 97.66 %, \tVal Loss: 0.4188, \tVal Accuracy: 90.34 % \n",
      "\n",
      "[EPOCH: 89], \tTrain Loss: 0.0648, \tTrain Accuracy: 97.62 %, \tVal Loss: 0.4358, \tVal Accuracy: 90.76 % \n",
      "\n",
      "[EPOCH: 90], \tTrain Loss: 0.0627, \tTrain Accuracy: 97.77 %, \tVal Loss: 0.4451, \tVal Accuracy: 90.63 % \n",
      "\n",
      "[EPOCH: 91], \tTrain Loss: 0.0639, \tTrain Accuracy: 97.65 %, \tVal Loss: 0.4159, \tVal Accuracy: 90.81 % \n",
      "\n",
      "[EPOCH: 92], \tTrain Loss: 0.0607, \tTrain Accuracy: 97.75 %, \tVal Loss: 0.4452, \tVal Accuracy: 90.51 % \n",
      "\n",
      "[EPOCH: 93], \tTrain Loss: 0.0640, \tTrain Accuracy: 97.71 %, \tVal Loss: 0.4339, \tVal Accuracy: 90.53 % \n",
      "\n",
      "[EPOCH: 94], \tTrain Loss: 0.0614, \tTrain Accuracy: 97.79 %, \tVal Loss: 0.4350, \tVal Accuracy: 90.61 % \n",
      "\n",
      "[EPOCH: 95], \tTrain Loss: 0.0629, \tTrain Accuracy: 97.78 %, \tVal Loss: 0.4089, \tVal Accuracy: 90.34 % \n",
      "\n",
      "[EPOCH: 96], \tTrain Loss: 0.0602, \tTrain Accuracy: 97.80 %, \tVal Loss: 0.4253, \tVal Accuracy: 90.89 % \n",
      "\n",
      "[EPOCH: 97], \tTrain Loss: 0.0579, \tTrain Accuracy: 97.89 %, \tVal Loss: 0.4563, \tVal Accuracy: 90.66 % \n",
      "\n",
      "[EPOCH: 98], \tTrain Loss: 0.0584, \tTrain Accuracy: 97.84 %, \tVal Loss: 0.4666, \tVal Accuracy: 90.37 % \n",
      "\n",
      "[EPOCH: 99], \tTrain Loss: 0.0608, \tTrain Accuracy: 97.84 %, \tVal Loss: 0.4374, \tVal Accuracy: 90.35 % \n",
      "\n",
      "[EPOCH: 100], \tTrain Loss: 0.0576, \tTrain Accuracy: 97.94 %, \tVal Loss: 0.4599, \tVal Accuracy: 90.71 % \n",
      "\n"
     ]
    }
   ],
   "source": [
    "result_list = []\n",
    "for epoch in range(1, EPOCHS + 1):\n",
    "  train_loss, train_accuracy = train(model, train_loader)\n",
    "  val_loss, val_accuracy = evaluate(model, val_loader)\n",
    "  print(f\"[EPOCH: {epoch}], \\tTrain Loss: {train_loss:.4f}, \\tTrain Accuracy: {train_accuracy:.2f} %, \\tVal Loss: {val_loss:.4f}, \\tVal Accuracy: {val_accuracy:.2f} % \\n\")\n",
    "  result = {\n",
    "    'EPOCH': epoch,\n",
    "    'Train Loss': train_loss,\n",
    "    'Train Accuracy': train_accuracy,\n",
    "    'Val Loss': val_loss,\n",
    "    'Val Accuracy': val_accuracy}\n",
    "  \n",
    "  result_list.append(result)\n",
    "result_df = pd.DataFrame(result_list)"
   ]
  },
  {
   "cell_type": "code",
   "execution_count": 50,
   "metadata": {
    "colab": {
     "base_uri": "https://localhost:8080/",
     "height": 336
    },
    "executionInfo": {
     "elapsed": 890,
     "status": "ok",
     "timestamp": 1629621577317,
     "user": {
      "displayName": "이성범",
      "photoUrl": "",
      "userId": "11166281350151773159"
     },
     "user_tz": -540
    },
    "id": "dQ2cZnIY49t0",
    "outputId": "3992c162-7a13-48e0-b30a-dcb366a182b1"
   },
   "outputs": [
    {
     "data": {
      "image/png": "[encoded data removed]",
      "text/plain": [
       "<Figure size 1080x360 with 2 Axes>"
      ]
     },
     "metadata": {
      "needs_background": "light"
     },
     "output_type": "display_data"
    }
   ],
   "source": [
    "fig, axes = plt.subplots(nrows=1, ncols=2, figsize=(15, 5))\n",
    "\n",
    "axes[0].plot(result_df['EPOCH'], result_df['Train Loss'], label='Train Loss')\n",
    "axes[0].plot(result_df['EPOCH'], result_df['Val Loss'], label='Val Loss')\n",
    "axes[0].set_ylim(0.0, 1)\n",
    "axes[0].legend()\n",
    "axes[0].set_title('Loss')\n",
    "\n",
    "axes[1].plot(result_df['EPOCH'], result_df['Train Accuracy'], label='Train Accuracy')\n",
    "axes[1].plot(result_df['EPOCH'], result_df['Val Accuracy'], label='Val Accuracy')\n",
    "axes[1].set_ylim(80, 100)\n",
    "axes[1].legend()\n",
    "axes[1].set_title('ACC')\n",
    "\n",
    "plt.show()"
   ]
  },
  {
   "cell_type": "code",
   "execution_count": 52,
   "metadata": {},
   "outputs": [],
   "source": [
    "submission = pd.read_csv('submission.csv')"
   ]
  },
  {
   "cell_type": "code",
   "execution_count": 53,
   "metadata": {
    "colab": {
     "base_uri": "https://localhost:8080/",
     "height": 202
    },
    "executionInfo": {
     "elapsed": 8,
     "status": "ok",
     "timestamp": 1629621577317,
     "user": {
      "displayName": "이성범",
      "photoUrl": "",
      "userId": "11166281350151773159"
     },
     "user_tz": -540
    },
    "id": "P2oIdaLGtozX",
    "outputId": "48b36097-4964-45a5-d55a-cc17a9cb6a87"
   },
   "outputs": [
    {
     "data": {
      "text/html": [
       "<div>\n",
       "<style scoped>\n",
       "    .dataframe tbody tr th:only-of-type {\n",
       "        vertical-align: middle;\n",
       "    }\n",
       "\n",
       "    .dataframe tbody tr th {\n",
       "        vertical-align: top;\n",
       "    }\n",
       "\n",
       "    .dataframe thead th {\n",
       "        text-align: right;\n",
       "    }\n",
       "</style>\n",
       "<table border=\"1\" class=\"dataframe\">\n",
       "  <thead>\n",
       "    <tr style=\"text-align: right;\">\n",
       "      <th></th>\n",
       "      <th>id</th>\n",
       "      <th>label</th>\n",
       "    </tr>\n",
       "  </thead>\n",
       "  <tbody>\n",
       "    <tr>\n",
       "      <th>0</th>\n",
       "      <td>0</td>\n",
       "      <td>6</td>\n",
       "    </tr>\n",
       "    <tr>\n",
       "      <th>1</th>\n",
       "      <td>1</td>\n",
       "      <td>4</td>\n",
       "    </tr>\n",
       "    <tr>\n",
       "      <th>2</th>\n",
       "      <td>2</td>\n",
       "      <td>0</td>\n",
       "    </tr>\n",
       "    <tr>\n",
       "      <th>3</th>\n",
       "      <td>3</td>\n",
       "      <td>0</td>\n",
       "    </tr>\n",
       "    <tr>\n",
       "      <th>4</th>\n",
       "      <td>4</td>\n",
       "      <td>6</td>\n",
       "    </tr>\n",
       "  </tbody>\n",
       "</table>\n",
       "</div>"
      ],
      "text/plain": [
       "   id  label\n",
       "0   0      6\n",
       "1   1      4\n",
       "2   2      0\n",
       "3   3      0\n",
       "4   4      6"
      ]
     },
     "execution_count": 53,
     "metadata": {},
     "output_type": "execute_result"
    }
   ],
   "source": [
    "pred_label = pred(model, test_loader)\n",
    "\n",
    "submission['label'] = pred_label\n",
    "\n",
    "submission.to_csv('BaseLine_Model.csv', index = False)\n",
    "\n",
    "submission.head()"
   ]
  },
  {
   "cell_type": "code",
   "execution_count": null,
   "metadata": {},
   "outputs": [],
   "source": []
  }
 ],
 "metadata": {
  "accelerator": "GPU",
  "colab": {
   "collapsed_sections": [],
   "name": "Week7_NN심화_BaseLine_Model.ipynb",
   "provenance": []
  },
  "kernelspec": {
   "display_name": "Python 3 (ipykernel)",
   "language": "python",
   "name": "python3"
  },
  "language_info": {
   "codemirror_mode": {
    "name": "ipython",
    "version": 3
   },
   "file_extension": ".py",
   "mimetype": "text/x-python",
   "name": "python",
   "nbconvert_exporter": "python",
   "pygments_lexer": "ipython3",
   "version": "3.7.3"
  },
  "toc": {
   "base_numbering": 1,
   "nav_menu": {},
   "number_sections": true,
   "sideBar": true,
   "skip_h1_title": false,
   "title_cell": "Table of Contents",
   "title_sidebar": "Contents",
   "toc_cell": false,
   "toc_position": {},
   "toc_section_display": true,
   "toc_window_display": false
  }
 },
 "nbformat": 4,
 "nbformat_minor": 1
}
