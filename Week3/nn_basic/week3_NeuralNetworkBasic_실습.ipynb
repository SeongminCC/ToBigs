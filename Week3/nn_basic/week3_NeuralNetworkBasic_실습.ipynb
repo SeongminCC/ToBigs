{
 "cells": [
  {
   "cell_type": "markdown",
   "id": "00493e77",
   "metadata": {
    "id": "00493e77"
   },
   "source": [
    "> # Neural Network Basic - Week3 과제\n"
   ]
  },
  {
   "cell_type": "markdown",
   "id": "747656a3",
   "metadata": {
    "id": "747656a3"
   },
   "source": [
    "## Import Library"
   ]
  },
  {
   "cell_type": "code",
   "execution_count": 8,
   "id": "2d4be987",
   "metadata": {
    "executionInfo": {
     "elapsed": 1050,
     "status": "ok",
     "timestamp": 1675443968394,
     "user": {
      "displayName": "조성민",
      "userId": "15810378992467426330"
     },
     "user_tz": -540
    },
    "id": "2d4be987"
   },
   "outputs": [],
   "source": [
    "import numpy as np\n",
    "from matplotlib import pyplot as plt\n",
    "from dataset.mnist import load_mnist"
   ]
  },
  {
   "cell_type": "markdown",
   "id": "bbd9ddbb",
   "metadata": {
    "id": "bbd9ddbb"
   },
   "source": [
    "## Load Dataset\n",
    "- MNIST "
   ]
  },
  {
   "cell_type": "code",
   "execution_count": 9,
   "id": "2813d656",
   "metadata": {
    "executionInfo": {
     "elapsed": 1668,
     "status": "ok",
     "timestamp": 1675443976333,
     "user": {
      "displayName": "조성민",
      "userId": "15810378992467426330"
     },
     "user_tz": -540
    },
    "id": "2813d656"
   },
   "outputs": [],
   "source": [
    "(X_train, Y_train), (X_test, Y_test) = \\\n",
    "    load_mnist(normalize=True, one_hot_label=False)"
   ]
  },
  {
   "cell_type": "code",
   "execution_count": 10,
   "id": "2bd1d69a",
   "metadata": {
    "colab": {
     "base_uri": "https://localhost:8080/"
    },
    "executionInfo": {
     "elapsed": 260,
     "status": "ok",
     "timestamp": 1675443977630,
     "user": {
      "displayName": "조성민",
      "userId": "15810378992467426330"
     },
     "user_tz": -540
    },
    "id": "2bd1d69a",
    "outputId": "ad4ebd68-7fa4-4112-85fe-de679d531d80"
   },
   "outputs": [
    {
     "name": "stdout",
     "output_type": "stream",
     "text": [
      "X_train shape: (60000, 784)\n",
      "X_test shape: (10000, 784)\n",
      "Y_train shape: (60000,)\n",
      "Y_train shape: (10000,)\n"
     ]
    }
   ],
   "source": [
    "print(f'X_train shape: {X_train.shape}')\n",
    "print(f'X_test shape: {X_test.shape}')\n",
    "print(f'Y_train shape: {Y_train.shape}')\n",
    "print(f'Y_train shape: {Y_test.shape}')"
   ]
  },
  {
   "cell_type": "markdown",
   "id": "4581cc2e",
   "metadata": {
    "id": "4581cc2e"
   },
   "source": [
    "## Activation Function \n",
    "- sigmoid & relu : hidden layer activation function \n",
    "- softmax : output layer activation function "
   ]
  },
  {
   "cell_type": "code",
   "execution_count": 11,
   "id": "a147a2b7",
   "metadata": {
    "executionInfo": {
     "elapsed": 260,
     "status": "ok",
     "timestamp": 1675443981072,
     "user": {
      "displayName": "조성민",
      "userId": "15810378992467426330"
     },
     "user_tz": -540
    },
    "id": "a147a2b7"
   },
   "outputs": [],
   "source": [
    "class sigmoid:\n",
    "    # sigmoid 함수를 작성하세요 \n",
    "    def forward(x):\n",
    "        global y\n",
    "        y = 1 / (1 + np.exp(-x))\n",
    "        return y\n",
    "    \n",
    "    # sigmoid 함수의 미분을 작성하세요\n",
    "    def backward(x):\n",
    "        dx = x * y * (1 - y)\n",
    "        return dx"
   ]
  },
  {
   "cell_type": "code",
   "execution_count": 24,
   "id": "f37afa8d",
   "metadata": {
    "executionInfo": {
     "elapsed": 243,
     "status": "ok",
     "timestamp": 1675444316466,
     "user": {
      "displayName": "조성민",
      "userId": "15810378992467426330"
     },
     "user_tz": -540
    },
    "id": "f37afa8d"
   },
   "outputs": [],
   "source": [
    "class relu:\n",
    "    # relu 함수를 작성하세요\n",
    "    def forward(x):\n",
    "        global mask\n",
    "        mask = (x <= 0)\n",
    "        out = x.copy()\n",
    "        out[mask] = 0\n",
    "        return out\n",
    "    \n",
    "    # relu 함수의 미분을 작성하세요\n",
    "    def backward(x):\n",
    "        x[mask] = 0\n",
    "        return x"
   ]
  },
  {
   "cell_type": "code",
   "execution_count": 13,
   "id": "cb44b346",
   "metadata": {
    "executionInfo": {
     "elapsed": 2,
     "status": "ok",
     "timestamp": 1675443983488,
     "user": {
      "displayName": "조성민",
      "userId": "15810378992467426330"
     },
     "user_tz": -540
    },
    "id": "cb44b346"
   },
   "outputs": [],
   "source": [
    "class softmax:\n",
    "    def forward(z):\n",
    "        y = []\n",
    "        for zi in z:\n",
    "            c = np.max(zi)\n",
    "            exp_zi = np.exp(zi-c)\n",
    "            sum_exp_zi = np.sum(exp_zi)\n",
    "            yi = exp_zi / sum_exp_zi\n",
    "            y.append(yi)\n",
    "\n",
    "        return np.array(y)\n",
    "    \n",
    "    def backward(p, y) :\n",
    "        dp = p.copy()\n",
    "        for dpi, yi in zip(dp, y):\n",
    "            for k in range(dp.shape[1]):\n",
    "                if k == yi :\n",
    "                    dpi[k] -= 1\n",
    "        return dp"
   ]
  },
  {
   "cell_type": "markdown",
   "id": "36955740",
   "metadata": {
    "id": "36955740"
   },
   "source": [
    "## Loss Function"
   ]
  },
  {
   "cell_type": "code",
   "execution_count": 14,
   "id": "44e0ad37",
   "metadata": {
    "executionInfo": {
     "elapsed": 2,
     "status": "ok",
     "timestamp": 1675443984713,
     "user": {
      "displayName": "조성민",
      "userId": "15810378992467426330"
     },
     "user_tz": -540
    },
    "id": "44e0ad37"
   },
   "outputs": [],
   "source": [
    "def cross_entropy(p, y):\n",
    "    loss = []\n",
    "    for pi, yi in zip(p, y):\n",
    "        for k in range(p.shape[1]):\n",
    "            if k == yi:\n",
    "                loss.append((-1) * (np.log(pi[k] + 1e-8))) \n",
    "    return loss"
   ]
  },
  {
   "cell_type": "markdown",
   "id": "0f9a7228",
   "metadata": {
    "id": "0f9a7228"
   },
   "source": [
    "## Layer"
   ]
  },
  {
   "cell_type": "code",
   "execution_count": 15,
   "id": "668bda1a",
   "metadata": {
    "executionInfo": {
     "elapsed": 266,
     "status": "ok",
     "timestamp": 1675443986228,
     "user": {
      "displayName": "조성민",
      "userId": "15810378992467426330"
     },
     "user_tz": -540
    },
    "id": "668bda1a"
   },
   "outputs": [],
   "source": [
    "class Layer:\n",
    "    def __init__(self, input_size, output_size, std=1e-4) :\n",
    "        self.input_size = input_size\n",
    "        self.output_size = output_size\n",
    "        self.bias = np.random.randn(output_size)\n",
    "        self.weight = np.random.randn(input_size, output_size)*std"
   ]
  },
  {
   "cell_type": "markdown",
   "id": "a72dfcee",
   "metadata": {
    "id": "a72dfcee"
   },
   "source": [
    "## Neural Network\n",
    "- 각 메소드와 변수들의 역할을 주석으로 달아주세요! "
   ]
  },
  {
   "cell_type": "code",
   "execution_count": 26,
   "id": "33125095",
   "metadata": {
    "executionInfo": {
     "elapsed": 424,
     "status": "ok",
     "timestamp": 1675444324290,
     "user": {
      "displayName": "조성민",
      "userId": "15810378992467426330"
     },
     "user_tz": -540
    },
    "id": "33125095"
   },
   "outputs": [],
   "source": [
    "class CustomNet:\n",
    "    # CustomNet을 선언할 때 생성되는 값들입니다.\n",
    "    def __init__(self, lr=0.0001, epoch=500, batch_size=200): # learning rate : 0.0001, epoch : 500, batch size : 200\n",
    "        self.lr = lr  # 0.0001\n",
    "        self.epoch = epoch  # 500\n",
    "        self.batch_size = batch_size  # 200\n",
    "        self.loss_function = cross_entropy  # loss function으로 cross entropy 함수 사용\n",
    "        self.layers = []  # 층 초기화\n",
    "        self.activations = [softmax]  # 활성화 함수 : softmax 함수\n",
    "        self.nodes = []  # 각 노드들의 값들을 저장하기 위해 리스트 초기화\n",
    "    \n",
    "    # Layer를 추가할 때 호출합니다\n",
    "    def addLayer(self, Layer): \n",
    "        self.layers.append(Layer)  # Layer 클래스를 self.layers 리스트에 추가\n",
    "        if not self.nodes:  # self.nodes 리스트가 비워있는 경우 \n",
    "            self.nodes.append(np.zeros(Layer.input_size)) # Layer의 input size 만큼의 0벡터를 self.nodes 리스트에 append\n",
    "        self.nodes.append(np.zeros(Layer.output_size)) # Layer의 output size 만큼의 0벡터를 self.nodes 리스트에 append\n",
    "        \n",
    "    # Activation Function을 추가할 때 호출합니다\n",
    "    def addActivation(self, Activation): \n",
    "        tmp = self.activations.pop() # softmax를 pop함과 동시에 tmp변수에 저장\n",
    "        self.activations.append(Activation) # 추가할 Activation Function을 self.activations 리스트에 추가\n",
    "        self.activations.append(tmp) # softmax를 그 뒤에 똑같이 추가\n",
    "        \n",
    "    # 순전파 함수\n",
    "    def _forward(self, X): # X : 입력값 (input data)\n",
    "        self.nodes[0] = X.copy() # 노드의 첫번 째 행을 X 즉, input data로 대체\n",
    "        output = X.copy() # output 변수에 X 즉, input data를 저장\n",
    "        for i in range(len(self.layers)): # layer의 수만큼 반복\n",
    "            Layer = self.layers[i] # layer를 Layer변수에 저장\n",
    "            Activation = self.activations[i] # 해당 index의 활성화함수를 사용 ex) sigmoid, softmax\n",
    "            output = np.dot(self.nodes[i], Layer.weight) # input data와 해당 층의 가중치를 내적 -> 그 값을 output변수에 저장\n",
    "            output = output+ Layer.bias # 가중치와 내적한 값에 편향을 더함\n",
    "            output = Activation.forward(output) # 위에서 불러온 활성화 함수를 적용한 후 그 값을 output변수에 저장 \n",
    "            self.nodes[i+1] = output # 노드의 다음번 째 행을 output 값으로 대체\n",
    "        return output  # output 값을 return\n",
    "    \n",
    "    # 역전파 함수\n",
    "    def _backward(self, X, output, y) : \n",
    "        for i in reversed(range(len(self.layers))): # 역전파는 출력층에서부터 거꾸로 계산하기 때문에 range를 reverse하여 뒤에서 부터 계산\n",
    "            a = self.nodes[i+1]  # 노드의 가장 끝 값부터 a변수에 저장\n",
    "            Layer = self.layers[i]  # self.layers 리스트의 끝 값부터 가져와 Layer변수에 저장\n",
    "            Activation = self.activations[i]  # activation 리스트의 마지막 활성화 함수부터 가져와 Activation 변수에 저장\n",
    "            \n",
    "            if i+1 == len(self.layers): # 해당 index의 층이 가장 끝의 층인 경우\n",
    "                error = Activation.backward(output, y)  # Activation 함수는 Softmax이므로 output값과 라벨 값을 파라미터로 받아 error변수에 저장\n",
    "            else:\n",
    "                error *= Activation.backward(a) # Activation 함수가 Sifgmoid 함수이므로 해당 노드를 파라미터로 받아 error에 곱함\n",
    "            Layer.weight -= np.dot(error.T, self.nodes[i]).T*self.lr/X.shape[0]\n",
    "            # weight의 역전파를 구하는 방식인 error의 transpose 값과 노드를 내적한 후 그 값을 다시 transopose 하고 learning rate를 곱한 후\n",
    "            # X의 크기로 나누어 Layer의 가중치를 구한다.\n",
    "            Layer.bias -= error.sum(axis=0)*self.lr/X.shape[0]\n",
    "            # 층의 편향을 구하기 위해 error를 행 기준 모두 더하여 똑같이 learning rate를 곱한 후 X의 크기로 나눈 값을 빼준다.\n",
    "            error = np.dot(error, Layer.weight.T) # error를 구하기 위해 해당 error와 가중치의 전치 값을 내적하여 받아준다.\n",
    "            \n",
    "    # Accrucy를 반환합니다\n",
    "    def _accuracy(self, output, y):\n",
    "        pre_p = np.argmax(output, axis=1) # 출력값 중 가장 확률이 높은 값의 인덱스를 pre_p 로 저장\n",
    "        return np.sum(pre_p==y)/y.shape[0] # 정답을 맞춘 것의 개수를 총 데이터의 개수로 나누어 정확도를 계산한 후 return\n",
    "    \n",
    "    # 데이터셋에 모델을 fit할때 호출합니다\n",
    "    def fit(self, X, y, val_X, val_y):\n",
    "        history = {'val_acc': [],'val_loss': []} # 후에 출력할 validation accuracy와 validation loss값에 대한 폼을 미리 저장\n",
    "        N = X.shape[0] # 데이터의 개수 : N\n",
    "        for i in range(self.epoch): # epoch 수만 큼 반복\n",
    "            for j in range(N//self.batch_size): # 총 데이터의 개수를 batch size로 나눈 만큼 반복\n",
    "                batch_mask = np.random.choice(N, self.batch_size) # 총 데이터의 개수 중 batch size만큼 random 하게 선택해 batch의 인덱스를 구한다.\n",
    "                X_batch = X[batch_mask] # batch X 값을 저장\n",
    "                y_batch = y[batch_mask] # batch Y 값을 저장\n",
    "                output = self._forward(X_batch) # batch X 행렬을 순전파 진행한 후 output변수에 저장\n",
    "                self._backward(X_batch, output, y_batch) # 입력값과 출력값 정답을 파라미터로 주어 역전파 진행\n",
    "            \n",
    "            #accuracy와 loss를 기록해둡시다\n",
    "            output = self._forward(val_X) # 검증 데이터의 입력값에 대한 출력값을 output변수에 저장\n",
    "            history[\"val_acc\"].append(self._accuracy(output, val_y)) # 검증 데이터의 출력값과 정답을 비교하여 accuracy를 구한다.\n",
    "            history[\"val_loss\"].append(sum(self.loss_function(output, val_y))) # 출력값과 라벨값을 사용하여 손실함수 값을 구한다.\n",
    "            \n",
    "            #중간중간 기록을 찍어볼 때 사용. 적절히 조절해 쓰세요\n",
    "            if i % 10 == 0: # epoch이 10단위 수일 때의 정확도와 손실함수 값을 출력\n",
    "                print(i, \"test accuracy :\", history[\"val_acc\"][-1])\n",
    "                print(i, \"test loss     :\", history[\"val_loss\"][-1])\n",
    "        return history"
   ]
  },
  {
   "cell_type": "markdown",
   "id": "e7787d0e",
   "metadata": {
    "id": "e7787d0e"
   },
   "source": [
    "## Customizing\n",
    "- Network parameter, Layer architecture, Activation function .. 등등 다양한 하이퍼파라미터를 커스터마이징하여 높은 성능에 도달해 봅시다! "
   ]
  },
  {
   "cell_type": "code",
   "execution_count": 102,
   "id": "10d3d20c",
   "metadata": {
    "executionInfo": {
     "elapsed": 278,
     "status": "ok",
     "timestamp": 1675448446798,
     "user": {
      "displayName": "조성민",
      "userId": "15810378992467426330"
     },
     "user_tz": -540
    },
    "id": "10d3d20c"
   },
   "outputs": [],
   "source": [
    "# 하이퍼파라미터를 적절히 조절해 뉴럴넷을 선언하세요\n",
    "nn = CustomNet(lr=0.01, epoch=50, batch_size=400)\n",
    "\n",
    "# 원하는 만큼 층과 활성화 함수를 쌓아 주세요. 기본적으로 2Layer를 예시로 적어드립니다\n",
    "nn.addLayer(Layer(784,100))\n",
    "nn.addActivation(relu)\n",
    "nn.addLayer(Layer(100,10))"
   ]
  },
  {
   "cell_type": "code",
   "execution_count": 103,
   "id": "771766e2",
   "metadata": {
    "colab": {
     "base_uri": "https://localhost:8080/"
    },
    "executionInfo": {
     "elapsed": 1082,
     "status": "ok",
     "timestamp": 1675448448193,
     "user": {
      "displayName": "조성민",
      "userId": "15810378992467426330"
     },
     "user_tz": -540
    },
    "id": "771766e2",
    "outputId": "0aa741bd-9f83-4252-f521-de2c996181d9"
   },
   "outputs": [
    {
     "name": "stdout",
     "output_type": "stream",
     "text": [
      "(784, 100) (100,)\n",
      "(100, 10) (10,)\n"
     ]
    }
   ],
   "source": [
    "# 선언한 뉴럴넷의 구조입니다\n",
    "for layer in nn.layers:\n",
    "    print(layer.weight.shape, layer.bias.shape)"
   ]
  },
  {
   "cell_type": "code",
   "execution_count": 91,
   "id": "1620d3d1",
   "metadata": {
    "executionInfo": {
     "elapsed": 3,
     "status": "ok",
     "timestamp": 1675446693105,
     "user": {
      "displayName": "조성민",
      "userId": "15810378992467426330"
     },
     "user_tz": -540
    },
    "id": "1620d3d1"
   },
   "outputs": [],
   "source": []
  },
  {
   "cell_type": "code",
   "execution_count": 104,
   "id": "a4f9c2e6",
   "metadata": {
    "colab": {
     "base_uri": "https://localhost:8080/"
    },
    "executionInfo": {
     "elapsed": 229660,
     "status": "ok",
     "timestamp": 1675448678257,
     "user": {
      "displayName": "조성민",
      "userId": "15810378992467426330"
     },
     "user_tz": -540
    },
    "id": "a4f9c2e6",
    "outputId": "0c014c91-6fcf-4ff7-a6f6-449295da70ff"
   },
   "outputs": [
    {
     "name": "stdout",
     "output_type": "stream",
     "text": [
      "0 test accuracy : 0.239\n",
      "0 test loss     : 22659.634861903818\n",
      "10 test accuracy : 0.8011\n",
      "10 test loss     : 6467.579259438381\n",
      "20 test accuracy : 0.8838\n",
      "20 test loss     : 3888.3250806206997\n",
      "30 test accuracy : 0.9046\n",
      "30 test loss     : 3283.308695088163\n",
      "40 test accuracy : 0.9124\n",
      "40 test loss     : 3063.962219756773\n"
     ]
    }
   ],
   "source": [
    "history = nn.fit(X_train, Y_train, X_test, Y_test)"
   ]
  },
  {
   "cell_type": "code",
   "execution_count": 99,
   "id": "9c2ce0de",
   "metadata": {
    "colab": {
     "base_uri": "https://localhost:8080/"
    },
    "executionInfo": {
     "elapsed": 9,
     "status": "ok",
     "timestamp": 1675448421530,
     "user": {
      "displayName": "조성민",
      "userId": "15810378992467426330"
     },
     "user_tz": -540
    },
    "id": "9c2ce0de",
    "outputId": "542d4c59-0763-4a01-c5e2-da6c79409d33"
   },
   "outputs": [
    {
     "name": "stdout",
     "output_type": "stream",
     "text": [
      "{'val_acc': [0.1479, 0.3288, 0.5003, 0.5913, 0.7652, 0.8441, 0.8743, 0.8799, 0.8932, 0.8996, 0.9025, 0.9073, 0.9094, 0.9099, 0.9097, 0.9132, 0.9121, 0.916, 0.9167, 0.9123, 0.9179, 0.9178, 0.9159, 0.9166, 0.9211, 0.9207, 0.9165, 0.9226, 0.9203, 0.9206, 0.9217, 0.9232, 0.9242, 0.9228, 0.923, 0.9237, 0.9203, 0.9256, 0.9232, 0.9277, 0.9216, 0.9261, 0.9244, 0.9276, 0.9229, 0.9116, 0.9242, 0.9253, 0.9242, 0.9168, 0.8039, 0.098, 0.098, 0.098, 0.098, 0.098, 0.098, 0.098, 0.098, 0.098, 0.098, 0.098, 0.098, 0.098, 0.098, 0.098, 0.098, 0.098, 0.098, 0.098, 0.098, 0.098, 0.098, 0.098, 0.098, 0.098, 0.098, 0.098, 0.098, 0.098, 0.098, 0.098, 0.098, 0.098, 0.098, 0.098, 0.098, 0.098, 0.098, 0.098, 0.098, 0.098, 0.098, 0.098, 0.098, 0.098, 0.098, 0.098, 0.098, 0.098], 'val_loss': [21732.978142894914, 19173.860549419183, 14334.303913048521, 11496.859938752377, 7755.096301610637, 5523.723396494344, 4565.802634601983, 4173.878023226901, 3832.7163576427724, 3583.4771004218287, 3436.8352741084104, 3295.7057679139493, 3236.0066245829603, 3180.9136792793256, 3120.8210997478723, 3056.9654606382364, 3071.090468569926, 3019.0677920425824, 2965.4069709669243, 3090.78954983626, 2909.0237243413717, 2975.165383873508, 3001.4834392968373, 2906.560715505069, 2850.730311248518, 2905.2391096059046, 2978.846393170824, 2830.7682435294855, 2840.531865613757, 2857.6796220147558, 2808.8211831513395, 2743.2764919400975, 2707.3450625418127, 2718.985977932032, 2799.3423752886865, 2677.940018566319, 2891.9859713421556, 2607.3611102179652, 2705.959090673297, 2618.1228378442856, 2665.5836111757817, 2646.9727205691734, 2627.149156852318, 2593.313460863066, 2665.123921630447, 3033.210360198734, 2584.6073183975627, 2595.035532685288, 2617.501507566553, 2894.6710728981766, 21883.753383212996, nan, nan, nan, nan, nan, nan, nan, nan, nan, nan, nan, nan, nan, nan, nan, nan, nan, nan, nan, nan, nan, nan, nan, nan, nan, nan, nan, nan, nan, nan, nan, nan, nan, nan, nan, nan, nan, nan, nan, nan, nan, nan, nan, nan, nan, nan, nan, nan, nan]}\n"
     ]
    }
   ],
   "source": [
    "print(history)"
   ]
  },
  {
   "cell_type": "markdown",
   "id": "b76a6163",
   "metadata": {
    "id": "b76a6163"
   },
   "source": [
    "## Accuracy, Loss Visualization\n",
    "- 자유롭게 Accuracy나 Loss를 시각화하여 확인하고 결과를 확인해 보세요! "
   ]
  },
  {
   "cell_type": "code",
   "execution_count": 100,
   "id": "ezyJEiMNYOW9",
   "metadata": {
    "executionInfo": {
     "elapsed": 8,
     "status": "ok",
     "timestamp": 1675448421531,
     "user": {
      "displayName": "조성민",
      "userId": "15810378992467426330"
     },
     "user_tz": -540
    },
    "id": "ezyJEiMNYOW9"
   },
   "outputs": [],
   "source": [
    "%matplotlib inline \n",
    "import matplotlib.pyplot as plt"
   ]
  },
  {
   "cell_type": "markdown",
   "id": "ZqSX2c5xY-LQ",
   "metadata": {
    "id": "ZqSX2c5xY-LQ"
   },
   "source": [
    "# lr=0.01, epoch=100, batch_size=200"
   ]
  },
  {
   "cell_type": "code",
   "execution_count": 101,
   "id": "HZdn0J9NYU3w",
   "metadata": {
    "colab": {
     "base_uri": "https://localhost:8080/",
     "height": 332
    },
    "executionInfo": {
     "elapsed": 8,
     "status": "ok",
     "timestamp": 1675448421531,
     "user": {
      "displayName": "조성민",
      "userId": "15810378992467426330"
     },
     "user_tz": -540
    },
    "id": "HZdn0J9NYU3w",
    "outputId": "13b62833-299a-419c-e0b1-05c84c57de3e"
   },
   "outputs": [
    {
     "name": "stdout",
     "output_type": "stream",
     "text": [
      "최대 정확도 : 0.9277\n"
     ]
    },
    {
     "data": {
      "text/plain": [
       "[<matplotlib.lines.Line2D at 0x7f61eb9d1c10>]"
      ]
     },
     "execution_count": 101,
     "metadata": {},
     "output_type": "execute_result"
    },
    {
     "data": {
      "image/png": "[encoded data removed]",
      "text/plain": [
       "<Figure size 432x288 with 1 Axes>"
      ]
     },
     "metadata": {
      "needs_background": "light"
     },
     "output_type": "display_data"
    }
   ],
   "source": [
    "X = list(range(100))\n",
    "y = history['val_acc']\n",
    "print(f'최대 정확도 : {max(y)}')\n",
    "\n",
    "plt.title('Accuracy')\n",
    "plt.xlabel('epoch')\n",
    "plt.ylabel('ACC')\n",
    "plt.plot(X,y)"
   ]
  },
  {
   "cell_type": "code",
   "execution_count": 84,
   "id": "8702d4f6",
   "metadata": {
    "colab": {
     "base_uri": "https://localhost:8080/",
     "height": 318
    },
    "executionInfo": {
     "elapsed": 300,
     "status": "ok",
     "timestamp": 1675446645693,
     "user": {
      "displayName": "조성민",
      "userId": "15810378992467426330"
     },
     "user_tz": -540
    },
    "id": "8702d4f6",
    "outputId": "fdfbb8b1-acd7-4702-b1e4-a86614993e31"
   },
   "outputs": [
    {
     "name": "stdout",
     "output_type": "stream",
     "text": [
      "최소 loss값 : 21699.486534616593\n"
     ]
    },
    {
     "data": {
      "text/plain": [
       "[<matplotlib.lines.Line2D at 0x7f61ebaf63d0>]"
      ]
     },
     "execution_count": 84,
     "metadata": {},
     "output_type": "execute_result"
    },
    {
     "data": {
      "image/png": "[encoded data removed]",
      "text/plain": [
       "<Figure size 432x288 with 1 Axes>"
      ]
     },
     "metadata": {
      "needs_background": "light"
     },
     "output_type": "display_data"
    }
   ],
   "source": [
    "X = list(range(100))\n",
    "y = history['val_loss']\n",
    "print(f'최소 loss값 : {max(y)}')\n",
    "\n",
    "plt.title('Loss')\n",
    "plt.xlabel('epoch')\n",
    "plt.ylabel('Loss')\n",
    "plt.plot(X,y)"
   ]
  },
  {
   "cell_type": "code",
   "execution_count": null,
   "id": "xehJ3ZOWoSNd",
   "metadata": {
    "id": "xehJ3ZOWoSNd"
   },
   "outputs": [],
   "source": []
  },
  {
   "cell_type": "markdown",
   "id": "tNRacc4joS9o",
   "metadata": {
    "id": "tNRacc4joS9o"
   },
   "source": [
    "# lr=0.01, epoch=50, batch_size=400"
   ]
  },
  {
   "cell_type": "code",
   "execution_count": 106,
   "id": "w1nh8BoOoS9o",
   "metadata": {
    "colab": {
     "base_uri": "https://localhost:8080/",
     "height": 332
    },
    "executionInfo": {
     "elapsed": 451,
     "status": "ok",
     "timestamp": 1675450501585,
     "user": {
      "displayName": "조성민",
      "userId": "15810378992467426330"
     },
     "user_tz": -540
    },
    "id": "w1nh8BoOoS9o",
    "outputId": "c8959722-acc7-44d2-ec77-f7240e40b75b"
   },
   "outputs": [
    {
     "name": "stdout",
     "output_type": "stream",
     "text": [
      "최대 정확도 : 0.9176\n"
     ]
    },
    {
     "data": {
      "text/plain": [
       "[<matplotlib.lines.Line2D at 0x7f61eb974b80>]"
      ]
     },
     "execution_count": 106,
     "metadata": {},
     "output_type": "execute_result"
    },
    {
     "data": {
      "image/png": "[encoded data removed]",
      "text/plain": [
       "<Figure size 432x288 with 1 Axes>"
      ]
     },
     "metadata": {
      "needs_background": "light"
     },
     "output_type": "display_data"
    }
   ],
   "source": [
    "X = list(range(50))\n",
    "y = history['val_acc']\n",
    "print(f'최대 정확도 : {max(y)}')\n",
    "\n",
    "plt.title('Accuracy')\n",
    "plt.xlabel('epoch')\n",
    "plt.ylabel('ACC')\n",
    "plt.plot(X,y)"
   ]
  },
  {
   "cell_type": "code",
   "execution_count": 107,
   "id": "_w-YSiNSoS9p",
   "metadata": {
    "colab": {
     "base_uri": "https://localhost:8080/",
     "height": 332
    },
    "executionInfo": {
     "elapsed": 337,
     "status": "ok",
     "timestamp": 1675450506227,
     "user": {
      "displayName": "조성민",
      "userId": "15810378992467426330"
     },
     "user_tz": -540
    },
    "id": "_w-YSiNSoS9p",
    "outputId": "e5c2e704-38de-4320-f924-37bd8d0ee00c"
   },
   "outputs": [
    {
     "name": "stdout",
     "output_type": "stream",
     "text": [
      "최소 loss값 : 22659.634861903818\n"
     ]
    },
    {
     "data": {
      "text/plain": [
       "[<matplotlib.lines.Line2D at 0x7f61eb892220>]"
      ]
     },
     "execution_count": 107,
     "metadata": {},
     "output_type": "execute_result"
    },
    {
     "data": {
      "image/png": "[encoded data removed]",
      "text/plain": [
       "<Figure size 432x288 with 1 Axes>"
      ]
     },
     "metadata": {
      "needs_background": "light"
     },
     "output_type": "display_data"
    }
   ],
   "source": [
    "X = list(range(50))\n",
    "y = history['val_loss']\n",
    "print(f'최소 loss값 : {max(y)}')\n",
    "\n",
    "plt.title('Loss')\n",
    "plt.xlabel('epoch')\n",
    "plt.ylabel('Loss')\n",
    "plt.plot(X,y)"
   ]
  }
 ],
 "metadata": {
  "accelerator": "GPU",
  "colab": {
   "provenance": [],
   "toc_visible": true
  },
  "gpuClass": "standard",
  "kernelspec": {
   "display_name": "Python 3 (ipykernel)",
   "language": "python",
   "name": "python3"
  },
  "language_info": {
   "codemirror_mode": {
    "name": "ipython",
    "version": 3
   },
   "file_extension": ".py",
   "mimetype": "text/x-python",
   "name": "python",
   "nbconvert_exporter": "python",
   "pygments_lexer": "ipython3",
   "version": "3.9.7"
  },
  "toc": {
   "base_numbering": 1,
   "nav_menu": {},
   "number_sections": true,
   "sideBar": true,
   "skip_h1_title": false,
   "title_cell": "Table of Contents",
   "title_sidebar": "Contents",
   "toc_cell": false,
   "toc_position": {},
   "toc_section_display": true,
   "toc_window_display": false
  }
 },
 "nbformat": 4,
 "nbformat_minor": 5
}
