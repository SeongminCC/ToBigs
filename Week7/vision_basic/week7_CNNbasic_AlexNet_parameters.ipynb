{
 "cells": [
  {
   "cell_type": "markdown",
   "metadata": {
    "id": "yclCebBQFn2I"
   },
   "source": [
    "# CNNbasic Assignment#1\n",
    "\n",
    "\n",
    "마크다운과 코드 속 `???` 를 채워주시면 됩니다!-!\n",
    "\n",
    "\n",
    "# AlexNet\n",
    "\n",
    "모델 구조 사진과 논문 사이트입니다.\n",
    "\n",
    "- paper: http://www.cs.toronto.edu/~fritz/absps/imagenet.pdf\n",
    "\n",
    "- dataset: http://image-net.org/challenges/LSVRC/2012/index#task\n",
    "\n",
    "- Model architecture\n",
    "\n",
    "\n",
    "\n",
    "![model_architecture2](https://t1.daumcdn.net/cfile/tistory/99FEB93C5C80B5192E)\n",
    "\n",
    "The second convolutional layer takes as input the (response-normalized\n",
    "and pooled) output of the first convolutional layer and filters it with 256 kernels of size 5 × 5 × 48.\n",
    "The third, fourth, and fifth convolutional layers are connected to one another without any intervening\n",
    "pooling or normalization layers. The third convolutional layer has 384 kernels of size 3 × 3 ×\n",
    "256 connected to the (normalized, pooled) outputs of the second convolutional layer. The fourth\n",
    "convolutional layer has 384 kernels of size 3 × 3 × 192 , and the fifth convolutional layer has 256\n",
    "kernels of size 3 × 3 × 192. The fully-connected layers have 4096 neurons each.\n",
    "\n",
    "\n",
    "### Naive Version\n",
    "CONV_1 - POOL_1 - CONV_2 - POOL_2 - CONV_3 - CONV_4 - CONV_5 - POOL_3 - FC1 - FC2 - FC3 (->SOFTMAX)\n",
    "\n",
    "### detailed\n",
    "CONV_1(ReLU) - POOL_1 - CONV_2(ReLU) - POOL_2 - CONV_3(ReLU) - CONV_4(ReLU) - CONV_5(ReLU) - POOL_3 -(Flatten) FC1(ReLU) - FC2(ReLU) - FC3(->SOFTMAX)"
   ]
  },
  {
   "cell_type": "markdown",
   "metadata": {
    "id": "exDZxL9QFn2L"
   },
   "source": [
    "## Layer 1 is a Convolution Layer_1\n",
    "\n",
    "- **Input Image size**  :   `3x224x224`\n",
    "\n",
    "- **Number of filters**  :   `96`\n",
    "\n",
    "- **Filter size**  :   `11x11`\n",
    "\n",
    "- **Stride**  :   `4`\n",
    "\n",
    "- **padding**   :  `2` \n",
    "\n",
    "- **Layer 1 Output**   : `96x55x55`  --> < (224 + 2 * 2 - 11) / 4 + 1 = 55 >\n",
    "\n",
    "> output size : ( (input + 2*padding - kernel_size) / stride ) + 1"
   ]
  },
  {
   "cell_type": "code",
   "execution_count": null,
   "metadata": {
    "colab": {
     "base_uri": "https://localhost:8080/"
    },
    "executionInfo": {
     "elapsed": 276,
     "status": "ok",
     "timestamp": 1677986774462,
     "user": {
      "displayName": "조성민",
      "userId": "15810378992467426330"
     },
     "user_tz": -540
    },
    "id": "umhGUcyzwNrF",
    "outputId": "b14c6820-1844-4eae-a84a-2275371f2420"
   },
   "outputs": [
    {
     "data": {
      "text/plain": [
       "34944"
      ]
     },
     "execution_count": 2,
     "metadata": {},
     "output_type": "execute_result"
    }
   ],
   "source": [
    "## TODO ##\n",
    "\n",
    "######################################################\n",
    "#  Calculate the number of parameters in this layer  #\n",
    "######################################################\n",
    "\n",
    "# Filter 개수 x Filter height x Filter width x Input channel + Bias 개수\n",
    "Conv_1 = 96 * (3 * 11 * 11 + 1)\n",
    "Conv_1\n",
    "# '''Don't forget to include Bias'''"
   ]
  },
  {
   "cell_type": "markdown",
   "metadata": {
    "id": "XvlIbO-uFn2V"
   },
   "source": [
    "## Layer 2 is a Max Pooling_1 Followed by Convolution_1\n",
    "\n",
    "- **Input**  :    `96x55x55`\n",
    "\n",
    "- **Max pooling**  :    `For down sample of feature map`  \n",
    "\n",
    "- **Pooling size** (overlapping)   :    `3`\n",
    "\n",
    "    * overlapping 중첩되어서 지나감\n",
    "\n",
    "- **Stride**    :  `2`\n",
    "\n",
    "- **Layer 2 Output**   :   `96x27x27`\n",
    "    \n",
    "    * 차원은 변함 없음"
   ]
  },
  {
   "cell_type": "code",
   "execution_count": null,
   "metadata": {
    "colab": {
     "base_uri": "https://localhost:8080/"
    },
    "executionInfo": {
     "elapsed": 22,
     "status": "ok",
     "timestamp": 1677987307062,
     "user": {
      "displayName": "조성민",
      "userId": "15810378992467426330"
     },
     "user_tz": -540
    },
    "id": "JKWLtBDjwNrJ",
    "outputId": "4580dd8f-ea27-4716-f2a6-8c5b932e0d3d"
   },
   "outputs": [
    {
     "data": {
      "text/plain": [
       "0"
      ]
     },
     "execution_count": 3,
     "metadata": {},
     "output_type": "execute_result"
    }
   ],
   "source": [
    "## TODO \n",
    "\n",
    "######################################################\n",
    "#  Calculate the number of parameters in this layer  #\n",
    "######################################################\n",
    "\n",
    "Max_pool_1 = 0  # max pooling은 학습할 파라미터가 존재하지 않는다.\n",
    "Max_pool_1"
   ]
  },
  {
   "cell_type": "markdown",
   "metadata": {
    "id": "r70OGeViFn2Z"
   },
   "source": [
    "## Layer 3 is a Convolution Layer_2\n",
    "\n",
    "- **Input**  :   `96x27x27`\n",
    "\n",
    "- **Number of filters**   :  `256`\n",
    "\n",
    "- **Filter size**  :   `5x5`\n",
    "\n",
    "- **Stride**  :   `1`\n",
    "\n",
    "- **padding**  :   `2`\n",
    "\n",
    "- **Layer 3 Output**   :  `256x27x27`\n",
    "> (27 - 5 + 2*2) / 1 + 1 = 27"
   ]
  },
  {
   "cell_type": "code",
   "execution_count": null,
   "metadata": {
    "colab": {
     "base_uri": "https://localhost:8080/"
    },
    "executionInfo": {
     "elapsed": 5,
     "status": "ok",
     "timestamp": 1677990673987,
     "user": {
      "displayName": "조성민",
      "userId": "15810378992467426330"
     },
     "user_tz": -540
    },
    "id": "RESLx-aCwNrO",
    "outputId": "6ca7e45c-91e9-48a6-9918-8d90407e3904"
   },
   "outputs": [
    {
     "data": {
      "text/plain": [
       "614656"
      ]
     },
     "execution_count": 4,
     "metadata": {},
     "output_type": "execute_result"
    }
   ],
   "source": [
    "## TODO \n",
    "\n",
    "######################################################\n",
    "#  Calculate the number of parameters in this layer  #\n",
    "######################################################\n",
    "\n",
    "# Filter 개수 x Filter height x Filter width x Input channel + Bias 개수\n",
    "Conv_2 = 256 * 5 * 5 * 96 + 256\n",
    "Conv_2"
   ]
  },
  {
   "cell_type": "markdown",
   "metadata": {
    "id": "DQZhwY4eFn2e"
   },
   "source": [
    "## Layer 4 is a Max Pooling_2 Followed by Convolution_2\n",
    "\n",
    "- **Input**     `256x27x27`\n",
    "\n",
    "- **Max pooling**     `For down sample of feature map`  \n",
    "\n",
    "- **Pooling size**(overlapping)     `3x3`\n",
    "\n",
    "- **Stride**     `2`\n",
    "\n",
    "- **Layer 4 Output**     `256x13x13`"
   ]
  },
  {
   "cell_type": "code",
   "execution_count": null,
   "metadata": {
    "colab": {
     "base_uri": "https://localhost:8080/"
    },
    "executionInfo": {
     "elapsed": 19,
     "status": "ok",
     "timestamp": 1677991301229,
     "user": {
      "displayName": "조성민",
      "userId": "15810378992467426330"
     },
     "user_tz": -540
    },
    "id": "dzvjP3tvwNrT",
    "outputId": "39fd07e7-3aaf-4b5b-8e0e-1cf1dce0434d"
   },
   "outputs": [
    {
     "data": {
      "text/plain": [
       "0"
      ]
     },
     "execution_count": 5,
     "metadata": {},
     "output_type": "execute_result"
    }
   ],
   "source": [
    "## TODO \n",
    "\n",
    "######################################################\n",
    "#  Calculate the number of parameters in this layer  #\n",
    "######################################################\n",
    "\n",
    "Max_pool_2 = 0\n",
    "Max_pool_2"
   ]
  },
  {
   "cell_type": "markdown",
   "metadata": {
    "id": "xPm4PRFAFn2i"
   },
   "source": [
    "## Layer 5 is a Convolution Layer_3\n",
    "\n",
    "- **Input**     `256x13x13`\n",
    "\n",
    "- **Number of filters**     `384`\n",
    "\n",
    "- **Filter size**     `3x3`\n",
    "\n",
    "- **Stride**     `1`\n",
    "\n",
    "- **padding**     `1`\n",
    "\n",
    "- **Layer 5 Output**     `384x13x13`\n",
    "> (13 - 3 + 2*1)/1 + 1 = 13\n"
   ]
  },
  {
   "cell_type": "code",
   "execution_count": null,
   "metadata": {
    "colab": {
     "base_uri": "https://localhost:8080/"
    },
    "executionInfo": {
     "elapsed": 13,
     "status": "ok",
     "timestamp": 1677991585970,
     "user": {
      "displayName": "조성민",
      "userId": "15810378992467426330"
     },
     "user_tz": -540
    },
    "id": "40RQXbIVwNrX",
    "outputId": "6f1ebbf9-5d6c-46e5-c129-023b6f2dc85b"
   },
   "outputs": [
    {
     "data": {
      "text/plain": [
       "885120"
      ]
     },
     "execution_count": 7,
     "metadata": {},
     "output_type": "execute_result"
    }
   ],
   "source": [
    "## TODO \n",
    "\n",
    "######################################################\n",
    "#  Calculate the number of parameters in this layer  #\n",
    "######################################################\n",
    "\n",
    "# Filter 개수 x Filter height x Filter width x Input channel + Bias 개수\n",
    "Conv_3 = (384 * 3 * 3 * 256) + 384\n",
    "Conv_3"
   ]
  },
  {
   "cell_type": "markdown",
   "metadata": {
    "id": "Yv57b2vxFn2o"
   },
   "source": [
    "## Layer 6 is  a Convolution Layer_4\n",
    "\n",
    "- **Input**     `384x13x13`\n",
    "\n",
    "- **Number of filters**     `384`\n",
    "\n",
    "- **Filter size**     `3`\n",
    "\n",
    "- **Stride**     `1`\n",
    "\n",
    "- **padding**     `1`\n",
    "\n",
    "- **Layer 6 Output**     `384x13x13`\n",
    "> (13 - 3 + 2*1)/1 + 1 = 13"
   ]
  },
  {
   "cell_type": "code",
   "execution_count": null,
   "metadata": {
    "colab": {
     "base_uri": "https://localhost:8080/"
    },
    "executionInfo": {
     "elapsed": 12,
     "status": "ok",
     "timestamp": 1677991716339,
     "user": {
      "displayName": "조성민",
      "userId": "15810378992467426330"
     },
     "user_tz": -540
    },
    "id": "gKAnKbYbwNrc",
    "outputId": "ace01675-d652-4ee8-b94c-1f4778c0cef2"
   },
   "outputs": [
    {
     "data": {
      "text/plain": [
       "1327488"
      ]
     },
     "execution_count": 9,
     "metadata": {},
     "output_type": "execute_result"
    }
   ],
   "source": [
    "## TODO \n",
    "\n",
    "######################################################\n",
    "#  Calculate the number of parameters in this layer  #\n",
    "######################################################\n",
    "\n",
    "# Filter 개수 x Filter height x Filter width x Input channel + Bias 개수\n",
    "Conv_4 = (384 * 3 * 3 * 384) + 384\n",
    "Conv_4"
   ]
  },
  {
   "cell_type": "markdown",
   "metadata": {
    "id": "NiQL84J_Fn2s"
   },
   "source": [
    "## Layer 7 is a Convolution Layer_5\n",
    "\n",
    "- **Input**     `384x13x13`\n",
    "\n",
    "- **Number of filters**     `256`\n",
    "\n",
    "- **Filter size**     `3`\n",
    "\n",
    "- **Stride**     `1`\n",
    "\n",
    "- **padding**     `1`\n",
    "\n",
    "- **Layer 7 Output**     `256x13x13`\n",
    "> (13 - 3 + 2*1)/1 + 1 = 13"
   ]
  },
  {
   "cell_type": "code",
   "execution_count": null,
   "metadata": {
    "colab": {
     "base_uri": "https://localhost:8080/"
    },
    "executionInfo": {
     "elapsed": 4,
     "status": "ok",
     "timestamp": 1677992067921,
     "user": {
      "displayName": "조성민",
      "userId": "15810378992467426330"
     },
     "user_tz": -540
    },
    "id": "4UqXSM5wwNre",
    "outputId": "79bd6461-684f-4809-e070-75f0edfcf8fc"
   },
   "outputs": [
    {
     "data": {
      "text/plain": [
       "884992"
      ]
     },
     "execution_count": 11,
     "metadata": {},
     "output_type": "execute_result"
    }
   ],
   "source": [
    "## TODO \n",
    "\n",
    "######################################################\n",
    "#  Calculate the number of parameters in this layer  #\n",
    "######################################################\n",
    "\n",
    "# Filter 개수 x Filter height x Filter width x Input channel + Bias 개수\n",
    "Conv_5 = (256 * 3 * 3 * 384) + 256\n",
    "Conv_5"
   ]
  },
  {
   "cell_type": "markdown",
   "metadata": {
    "id": "WSTe-0IxFn2w"
   },
   "source": [
    "## Layer 8 is a Max Pooling_3 Followed by Convolution_5\n",
    "\n",
    "- **Input**     `256x13x13`\n",
    "\n",
    "- **Max pooling**     `down sampling`  \n",
    "\n",
    "- **Pooling size**(overlapping)     `3x3`\n",
    "\n",
    "- **Stride**     `2`\n",
    "\n",
    "- **Layer 8 Output**     `256x6x6`"
   ]
  },
  {
   "cell_type": "code",
   "execution_count": null,
   "metadata": {
    "colab": {
     "base_uri": "https://localhost:8080/"
    },
    "executionInfo": {
     "elapsed": 315,
     "status": "ok",
     "timestamp": 1677992455579,
     "user": {
      "displayName": "조성민",
      "userId": "15810378992467426330"
     },
     "user_tz": -540
    },
    "id": "MXw8doAlwNrh",
    "outputId": "54424840-bf50-48ae-9a09-a83aa1a001fa"
   },
   "outputs": [
    {
     "data": {
      "text/plain": [
       "0"
      ]
     },
     "execution_count": 12,
     "metadata": {},
     "output_type": "execute_result"
    }
   ],
   "source": [
    "## TODO \n",
    "\n",
    "######################################################\n",
    "#  Calculate the number of parameters in this layer  #\n",
    "######################################################\n",
    "\n",
    "Max_pool_3 = 0\n",
    "Max_pool_3"
   ]
  },
  {
   "cell_type": "markdown",
   "metadata": {
    "id": "798N3vBYFn21"
   },
   "source": [
    "## Layer 9 is a Fully_Connected layer_1\n",
    "\n",
    "- **input**     `256x6x6`\n",
    "\n",
    "- **flatten**     `9216`\n",
    "\n",
    "- **output size**     `4096`\n",
    "\n",
    "- **N** Number of input data      `이해가 잘 안돼요 fc layer에서 input data의 개수는 1개아닌가요..? (channel : 1)`"
   ]
  },
  {
   "cell_type": "code",
   "execution_count": null,
   "metadata": {
    "colab": {
     "base_uri": "https://localhost:8080/"
    },
    "executionInfo": {
     "elapsed": 6,
     "status": "ok",
     "timestamp": 1677992766495,
     "user": {
      "displayName": "조성민",
      "userId": "15810378992467426330"
     },
     "user_tz": -540
    },
    "id": "asv1bvAawNri",
    "outputId": "bf9779c2-6280-4e98-f4dc-0f2e40e25bdc"
   },
   "outputs": [
    {
     "data": {
      "text/plain": [
       "37752832"
      ]
     },
     "execution_count": 14,
     "metadata": {},
     "output_type": "execute_result"
    }
   ],
   "source": [
    "## TODO \n",
    "\n",
    "######################################################\n",
    "#  Calculate the number of parameters in this layer  #\n",
    "######################################################\n",
    "\n",
    "FC1 = 9216 * 4096 + 4096\n",
    "FC1"
   ]
  },
  {
   "cell_type": "markdown",
   "metadata": {
    "id": "kIfvpHPTFn25"
   },
   "source": [
    "## Layer 10 is a Fully_Connected layer_2\n",
    "\n",
    "- **input**     `4096`\n",
    "\n",
    "- **output size**     `4096`\n",
    "\n",
    "- **N** Number of input data =      `1`"
   ]
  },
  {
   "cell_type": "code",
   "execution_count": null,
   "metadata": {
    "colab": {
     "base_uri": "https://localhost:8080/"
    },
    "executionInfo": {
     "elapsed": 292,
     "status": "ok",
     "timestamp": 1677992803098,
     "user": {
      "displayName": "조성민",
      "userId": "15810378992467426330"
     },
     "user_tz": -540
    },
    "id": "XEh9mJ-ZwNrj",
    "outputId": "a207e746-a3d2-4f03-afc7-325f4f3d5c07"
   },
   "outputs": [
    {
     "data": {
      "text/plain": [
       "16781312"
      ]
     },
     "execution_count": 15,
     "metadata": {},
     "output_type": "execute_result"
    }
   ],
   "source": [
    "## TODO \n",
    "\n",
    "######################################################\n",
    "#  Calculate the number of parameters in this layer  #\n",
    "######################################################\n",
    "\n",
    "FC2 = 4096 * 4096 + 4096\n",
    "FC2"
   ]
  },
  {
   "cell_type": "markdown",
   "metadata": {
    "id": "N8TaZQTBFn29"
   },
   "source": [
    "## Layer 11 is a Fully_Connected layer_3\n",
    "\n",
    "- **input**     `4096`\n",
    "\n",
    "- **output size**     `1000`\n",
    "\n",
    "- **N** Number of input data =      `1`\n",
    "\n",
    "- **Num_classes** Number of labels =      `1000`"
   ]
  },
  {
   "cell_type": "code",
   "execution_count": null,
   "metadata": {
    "colab": {
     "base_uri": "https://localhost:8080/"
    },
    "executionInfo": {
     "elapsed": 4,
     "status": "ok",
     "timestamp": 1677992849216,
     "user": {
      "displayName": "조성민",
      "userId": "15810378992467426330"
     },
     "user_tz": -540
    },
    "id": "0Rhbl_ItwNrk",
    "outputId": "9711f57e-a919-4639-de76-530a9e6d4509"
   },
   "outputs": [
    {
     "data": {
      "text/plain": [
       "4097000"
      ]
     },
     "execution_count": 16,
     "metadata": {},
     "output_type": "execute_result"
    }
   ],
   "source": [
    "## TODO \n",
    "\n",
    "######################################################\n",
    "#  Calculate the number of parameters in this layer  #\n",
    "######################################################\n",
    "\n",
    "FC3 = 4096 * 1000 + 1000\n",
    "FC3"
   ]
  }
 ],
 "metadata": {
  "colab": {
   "provenance": []
  },
  "kernelspec": {
   "display_name": "Python 3 (ipykernel)",
   "language": "python",
   "name": "python3"
  },
  "language_info": {
   "codemirror_mode": {
    "name": "ipython",
    "version": 3
   },
   "file_extension": ".py",
   "mimetype": "text/x-python",
   "name": "python",
   "nbconvert_exporter": "python",
   "pygments_lexer": "ipython3",
   "version": "3.7.3"
  },
  "toc": {
   "base_numbering": 1,
   "nav_menu": {},
   "number_sections": true,
   "sideBar": true,
   "skip_h1_title": false,
   "title_cell": "Table of Contents",
   "title_sidebar": "Contents",
   "toc_cell": false,
   "toc_position": {},
   "toc_section_display": true,
   "toc_window_display": false
  }
 },
 "nbformat": 4,
 "nbformat_minor": 1
}
