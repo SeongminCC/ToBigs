{
 "cells": [
  {
   "cell_type": "markdown",
   "metadata": {},
   "source": [
    "# 차원축소 Assignment2"
   ]
  },
  {
   "cell_type": "markdown",
   "metadata": {},
   "source": [
    "## MNIST data에 적용을 해보기\n",
    "\n",
    "mnist-original.mat 파일과 같은 위치에서 주피터 노트북을 열어주세요"
   ]
  },
  {
   "cell_type": "code",
   "execution_count": 1,
   "metadata": {},
   "outputs": [],
   "source": [
    "import numpy as np\n",
    "import numpy.linalg as lin\n",
    "import matplotlib.pyplot as plt\n",
    "import pandas as pd\n",
    "from sklearn.datasets import fetch_openml\n",
    "from scipy import io\n",
    "%matplotlib inline\n",
    "from mpl_toolkits.mplot3d import Axes3D"
   ]
  },
  {
   "cell_type": "code",
   "execution_count": 2,
   "metadata": {},
   "outputs": [],
   "source": [
    "mnist = io.loadmat('mnist-original.mat') #mnist 손글씨 데이터를 불러옵니다\n",
    "X = mnist['data'].T\n",
    "y = mnist['label'].T"
   ]
  },
  {
   "cell_type": "markdown",
   "metadata": {},
   "source": [
    "# 데이터 정보!\n",
    "- 7만개의 작은 숫자 이미지\n",
    "- 행 열이 반대로 되어있음 -> 전치\n",
    "- grayscale 28x28 pixel = 784 feature\n",
    "- 각 picel은 0~255의 값\n",
    "- label = 1~10 label이 총 10개인거에 주목하자"
   ]
  },
  {
   "cell_type": "code",
   "execution_count": 3,
   "metadata": {},
   "outputs": [
    {
     "name": "stdout",
     "output_type": "stream",
     "text": [
      "(70000, 784) (70000, 1)\n"
     ]
    }
   ],
   "source": [
    "print(X.shape, y.shape)"
   ]
  },
  {
   "cell_type": "code",
   "execution_count": 4,
   "metadata": {},
   "outputs": [
    {
     "data": {
      "text/html": [
       "<div>\n",
       "<style scoped>\n",
       "    .dataframe tbody tr th:only-of-type {\n",
       "        vertical-align: middle;\n",
       "    }\n",
       "\n",
       "    .dataframe tbody tr th {\n",
       "        vertical-align: top;\n",
       "    }\n",
       "\n",
       "    .dataframe thead th {\n",
       "        text-align: right;\n",
       "    }\n",
       "</style>\n",
       "<table border=\"1\" class=\"dataframe\">\n",
       "  <thead>\n",
       "    <tr style=\"text-align: right;\">\n",
       "      <th></th>\n",
       "      <th>pixel0</th>\n",
       "      <th>pixel1</th>\n",
       "      <th>pixel2</th>\n",
       "      <th>pixel3</th>\n",
       "      <th>pixel4</th>\n",
       "      <th>pixel5</th>\n",
       "      <th>pixel6</th>\n",
       "      <th>pixel7</th>\n",
       "      <th>pixel8</th>\n",
       "      <th>pixel9</th>\n",
       "      <th>...</th>\n",
       "      <th>pixel774</th>\n",
       "      <th>pixel775</th>\n",
       "      <th>pixel776</th>\n",
       "      <th>pixel777</th>\n",
       "      <th>pixel778</th>\n",
       "      <th>pixel779</th>\n",
       "      <th>pixel780</th>\n",
       "      <th>pixel781</th>\n",
       "      <th>pixel782</th>\n",
       "      <th>pixel783</th>\n",
       "    </tr>\n",
       "  </thead>\n",
       "  <tbody>\n",
       "    <tr>\n",
       "      <th>0</th>\n",
       "      <td>0</td>\n",
       "      <td>0</td>\n",
       "      <td>0</td>\n",
       "      <td>0</td>\n",
       "      <td>0</td>\n",
       "      <td>0</td>\n",
       "      <td>0</td>\n",
       "      <td>0</td>\n",
       "      <td>0</td>\n",
       "      <td>0</td>\n",
       "      <td>...</td>\n",
       "      <td>0</td>\n",
       "      <td>0</td>\n",
       "      <td>0</td>\n",
       "      <td>0</td>\n",
       "      <td>0</td>\n",
       "      <td>0</td>\n",
       "      <td>0</td>\n",
       "      <td>0</td>\n",
       "      <td>0</td>\n",
       "      <td>0</td>\n",
       "    </tr>\n",
       "    <tr>\n",
       "      <th>1</th>\n",
       "      <td>0</td>\n",
       "      <td>0</td>\n",
       "      <td>0</td>\n",
       "      <td>0</td>\n",
       "      <td>0</td>\n",
       "      <td>0</td>\n",
       "      <td>0</td>\n",
       "      <td>0</td>\n",
       "      <td>0</td>\n",
       "      <td>0</td>\n",
       "      <td>...</td>\n",
       "      <td>0</td>\n",
       "      <td>0</td>\n",
       "      <td>0</td>\n",
       "      <td>0</td>\n",
       "      <td>0</td>\n",
       "      <td>0</td>\n",
       "      <td>0</td>\n",
       "      <td>0</td>\n",
       "      <td>0</td>\n",
       "      <td>0</td>\n",
       "    </tr>\n",
       "    <tr>\n",
       "      <th>2</th>\n",
       "      <td>0</td>\n",
       "      <td>0</td>\n",
       "      <td>0</td>\n",
       "      <td>0</td>\n",
       "      <td>0</td>\n",
       "      <td>0</td>\n",
       "      <td>0</td>\n",
       "      <td>0</td>\n",
       "      <td>0</td>\n",
       "      <td>0</td>\n",
       "      <td>...</td>\n",
       "      <td>0</td>\n",
       "      <td>0</td>\n",
       "      <td>0</td>\n",
       "      <td>0</td>\n",
       "      <td>0</td>\n",
       "      <td>0</td>\n",
       "      <td>0</td>\n",
       "      <td>0</td>\n",
       "      <td>0</td>\n",
       "      <td>0</td>\n",
       "    </tr>\n",
       "    <tr>\n",
       "      <th>3</th>\n",
       "      <td>0</td>\n",
       "      <td>0</td>\n",
       "      <td>0</td>\n",
       "      <td>0</td>\n",
       "      <td>0</td>\n",
       "      <td>0</td>\n",
       "      <td>0</td>\n",
       "      <td>0</td>\n",
       "      <td>0</td>\n",
       "      <td>0</td>\n",
       "      <td>...</td>\n",
       "      <td>0</td>\n",
       "      <td>0</td>\n",
       "      <td>0</td>\n",
       "      <td>0</td>\n",
       "      <td>0</td>\n",
       "      <td>0</td>\n",
       "      <td>0</td>\n",
       "      <td>0</td>\n",
       "      <td>0</td>\n",
       "      <td>0</td>\n",
       "    </tr>\n",
       "    <tr>\n",
       "      <th>4</th>\n",
       "      <td>0</td>\n",
       "      <td>0</td>\n",
       "      <td>0</td>\n",
       "      <td>0</td>\n",
       "      <td>0</td>\n",
       "      <td>0</td>\n",
       "      <td>0</td>\n",
       "      <td>0</td>\n",
       "      <td>0</td>\n",
       "      <td>0</td>\n",
       "      <td>...</td>\n",
       "      <td>0</td>\n",
       "      <td>0</td>\n",
       "      <td>0</td>\n",
       "      <td>0</td>\n",
       "      <td>0</td>\n",
       "      <td>0</td>\n",
       "      <td>0</td>\n",
       "      <td>0</td>\n",
       "      <td>0</td>\n",
       "      <td>0</td>\n",
       "    </tr>\n",
       "  </tbody>\n",
       "</table>\n",
       "<p>5 rows × 784 columns</p>\n",
       "</div>"
      ],
      "text/plain": [
       "   pixel0  pixel1  pixel2  pixel3  pixel4  pixel5  pixel6  pixel7  pixel8  \\\n",
       "0       0       0       0       0       0       0       0       0       0   \n",
       "1       0       0       0       0       0       0       0       0       0   \n",
       "2       0       0       0       0       0       0       0       0       0   \n",
       "3       0       0       0       0       0       0       0       0       0   \n",
       "4       0       0       0       0       0       0       0       0       0   \n",
       "\n",
       "   pixel9  ...  pixel774  pixel775  pixel776  pixel777  pixel778  pixel779  \\\n",
       "0       0  ...         0         0         0         0         0         0   \n",
       "1       0  ...         0         0         0         0         0         0   \n",
       "2       0  ...         0         0         0         0         0         0   \n",
       "3       0  ...         0         0         0         0         0         0   \n",
       "4       0  ...         0         0         0         0         0         0   \n",
       "\n",
       "   pixel780  pixel781  pixel782  pixel783  \n",
       "0         0         0         0         0  \n",
       "1         0         0         0         0  \n",
       "2         0         0         0         0  \n",
       "3         0         0         0         0  \n",
       "4         0         0         0         0  \n",
       "\n",
       "[5 rows x 784 columns]"
      ]
     },
     "execution_count": 4,
     "metadata": {},
     "output_type": "execute_result"
    }
   ],
   "source": [
    "# data를 각 픽셀에 이름붙여 표현\n",
    "feat_cols = [ 'pixel'+str(i) for i in range(X.shape[1]) ]\n",
    "df = pd.DataFrame(X,columns=feat_cols)\n",
    "df.head()"
   ]
  },
  {
   "cell_type": "code",
   "execution_count": 5,
   "metadata": {},
   "outputs": [
    {
     "name": "stdout",
     "output_type": "stream",
     "text": [
      "Size of the dataframe: (70000, 785)\n"
     ]
    }
   ],
   "source": [
    "# df에 라벨 y를 붙여서 데이터프레임 생성\n",
    "df['y'] = y\n",
    "print('Size of the dataframe: {}'.format(df.shape))"
   ]
  },
  {
   "cell_type": "code",
   "execution_count": 6,
   "metadata": {},
   "outputs": [
    {
     "data": {
      "text/html": [
       "<div>\n",
       "<style scoped>\n",
       "    .dataframe tbody tr th:only-of-type {\n",
       "        vertical-align: middle;\n",
       "    }\n",
       "\n",
       "    .dataframe tbody tr th {\n",
       "        vertical-align: top;\n",
       "    }\n",
       "\n",
       "    .dataframe thead th {\n",
       "        text-align: right;\n",
       "    }\n",
       "</style>\n",
       "<table border=\"1\" class=\"dataframe\">\n",
       "  <thead>\n",
       "    <tr style=\"text-align: right;\">\n",
       "      <th></th>\n",
       "      <th>pixel0</th>\n",
       "      <th>pixel1</th>\n",
       "      <th>pixel2</th>\n",
       "      <th>pixel3</th>\n",
       "      <th>pixel4</th>\n",
       "      <th>pixel5</th>\n",
       "      <th>pixel6</th>\n",
       "      <th>pixel7</th>\n",
       "      <th>pixel8</th>\n",
       "      <th>pixel9</th>\n",
       "      <th>...</th>\n",
       "      <th>pixel775</th>\n",
       "      <th>pixel776</th>\n",
       "      <th>pixel777</th>\n",
       "      <th>pixel778</th>\n",
       "      <th>pixel779</th>\n",
       "      <th>pixel780</th>\n",
       "      <th>pixel781</th>\n",
       "      <th>pixel782</th>\n",
       "      <th>pixel783</th>\n",
       "      <th>y</th>\n",
       "    </tr>\n",
       "  </thead>\n",
       "  <tbody>\n",
       "    <tr>\n",
       "      <th>0</th>\n",
       "      <td>0</td>\n",
       "      <td>0</td>\n",
       "      <td>0</td>\n",
       "      <td>0</td>\n",
       "      <td>0</td>\n",
       "      <td>0</td>\n",
       "      <td>0</td>\n",
       "      <td>0</td>\n",
       "      <td>0</td>\n",
       "      <td>0</td>\n",
       "      <td>...</td>\n",
       "      <td>0</td>\n",
       "      <td>0</td>\n",
       "      <td>0</td>\n",
       "      <td>0</td>\n",
       "      <td>0</td>\n",
       "      <td>0</td>\n",
       "      <td>0</td>\n",
       "      <td>0</td>\n",
       "      <td>0</td>\n",
       "      <td>0.0</td>\n",
       "    </tr>\n",
       "    <tr>\n",
       "      <th>1</th>\n",
       "      <td>0</td>\n",
       "      <td>0</td>\n",
       "      <td>0</td>\n",
       "      <td>0</td>\n",
       "      <td>0</td>\n",
       "      <td>0</td>\n",
       "      <td>0</td>\n",
       "      <td>0</td>\n",
       "      <td>0</td>\n",
       "      <td>0</td>\n",
       "      <td>...</td>\n",
       "      <td>0</td>\n",
       "      <td>0</td>\n",
       "      <td>0</td>\n",
       "      <td>0</td>\n",
       "      <td>0</td>\n",
       "      <td>0</td>\n",
       "      <td>0</td>\n",
       "      <td>0</td>\n",
       "      <td>0</td>\n",
       "      <td>0.0</td>\n",
       "    </tr>\n",
       "    <tr>\n",
       "      <th>2</th>\n",
       "      <td>0</td>\n",
       "      <td>0</td>\n",
       "      <td>0</td>\n",
       "      <td>0</td>\n",
       "      <td>0</td>\n",
       "      <td>0</td>\n",
       "      <td>0</td>\n",
       "      <td>0</td>\n",
       "      <td>0</td>\n",
       "      <td>0</td>\n",
       "      <td>...</td>\n",
       "      <td>0</td>\n",
       "      <td>0</td>\n",
       "      <td>0</td>\n",
       "      <td>0</td>\n",
       "      <td>0</td>\n",
       "      <td>0</td>\n",
       "      <td>0</td>\n",
       "      <td>0</td>\n",
       "      <td>0</td>\n",
       "      <td>0.0</td>\n",
       "    </tr>\n",
       "    <tr>\n",
       "      <th>3</th>\n",
       "      <td>0</td>\n",
       "      <td>0</td>\n",
       "      <td>0</td>\n",
       "      <td>0</td>\n",
       "      <td>0</td>\n",
       "      <td>0</td>\n",
       "      <td>0</td>\n",
       "      <td>0</td>\n",
       "      <td>0</td>\n",
       "      <td>0</td>\n",
       "      <td>...</td>\n",
       "      <td>0</td>\n",
       "      <td>0</td>\n",
       "      <td>0</td>\n",
       "      <td>0</td>\n",
       "      <td>0</td>\n",
       "      <td>0</td>\n",
       "      <td>0</td>\n",
       "      <td>0</td>\n",
       "      <td>0</td>\n",
       "      <td>0.0</td>\n",
       "    </tr>\n",
       "    <tr>\n",
       "      <th>4</th>\n",
       "      <td>0</td>\n",
       "      <td>0</td>\n",
       "      <td>0</td>\n",
       "      <td>0</td>\n",
       "      <td>0</td>\n",
       "      <td>0</td>\n",
       "      <td>0</td>\n",
       "      <td>0</td>\n",
       "      <td>0</td>\n",
       "      <td>0</td>\n",
       "      <td>...</td>\n",
       "      <td>0</td>\n",
       "      <td>0</td>\n",
       "      <td>0</td>\n",
       "      <td>0</td>\n",
       "      <td>0</td>\n",
       "      <td>0</td>\n",
       "      <td>0</td>\n",
       "      <td>0</td>\n",
       "      <td>0</td>\n",
       "      <td>0.0</td>\n",
       "    </tr>\n",
       "    <tr>\n",
       "      <th>...</th>\n",
       "      <td>...</td>\n",
       "      <td>...</td>\n",
       "      <td>...</td>\n",
       "      <td>...</td>\n",
       "      <td>...</td>\n",
       "      <td>...</td>\n",
       "      <td>...</td>\n",
       "      <td>...</td>\n",
       "      <td>...</td>\n",
       "      <td>...</td>\n",
       "      <td>...</td>\n",
       "      <td>...</td>\n",
       "      <td>...</td>\n",
       "      <td>...</td>\n",
       "      <td>...</td>\n",
       "      <td>...</td>\n",
       "      <td>...</td>\n",
       "      <td>...</td>\n",
       "      <td>...</td>\n",
       "      <td>...</td>\n",
       "      <td>...</td>\n",
       "    </tr>\n",
       "    <tr>\n",
       "      <th>69995</th>\n",
       "      <td>0</td>\n",
       "      <td>0</td>\n",
       "      <td>0</td>\n",
       "      <td>0</td>\n",
       "      <td>0</td>\n",
       "      <td>0</td>\n",
       "      <td>0</td>\n",
       "      <td>0</td>\n",
       "      <td>0</td>\n",
       "      <td>0</td>\n",
       "      <td>...</td>\n",
       "      <td>0</td>\n",
       "      <td>0</td>\n",
       "      <td>0</td>\n",
       "      <td>0</td>\n",
       "      <td>0</td>\n",
       "      <td>0</td>\n",
       "      <td>0</td>\n",
       "      <td>0</td>\n",
       "      <td>0</td>\n",
       "      <td>9.0</td>\n",
       "    </tr>\n",
       "    <tr>\n",
       "      <th>69996</th>\n",
       "      <td>0</td>\n",
       "      <td>0</td>\n",
       "      <td>0</td>\n",
       "      <td>0</td>\n",
       "      <td>0</td>\n",
       "      <td>0</td>\n",
       "      <td>0</td>\n",
       "      <td>0</td>\n",
       "      <td>0</td>\n",
       "      <td>0</td>\n",
       "      <td>...</td>\n",
       "      <td>0</td>\n",
       "      <td>0</td>\n",
       "      <td>0</td>\n",
       "      <td>0</td>\n",
       "      <td>0</td>\n",
       "      <td>0</td>\n",
       "      <td>0</td>\n",
       "      <td>0</td>\n",
       "      <td>0</td>\n",
       "      <td>9.0</td>\n",
       "    </tr>\n",
       "    <tr>\n",
       "      <th>69997</th>\n",
       "      <td>0</td>\n",
       "      <td>0</td>\n",
       "      <td>0</td>\n",
       "      <td>0</td>\n",
       "      <td>0</td>\n",
       "      <td>0</td>\n",
       "      <td>0</td>\n",
       "      <td>0</td>\n",
       "      <td>0</td>\n",
       "      <td>0</td>\n",
       "      <td>...</td>\n",
       "      <td>0</td>\n",
       "      <td>0</td>\n",
       "      <td>0</td>\n",
       "      <td>0</td>\n",
       "      <td>0</td>\n",
       "      <td>0</td>\n",
       "      <td>0</td>\n",
       "      <td>0</td>\n",
       "      <td>0</td>\n",
       "      <td>9.0</td>\n",
       "    </tr>\n",
       "    <tr>\n",
       "      <th>69998</th>\n",
       "      <td>0</td>\n",
       "      <td>0</td>\n",
       "      <td>0</td>\n",
       "      <td>0</td>\n",
       "      <td>0</td>\n",
       "      <td>0</td>\n",
       "      <td>0</td>\n",
       "      <td>0</td>\n",
       "      <td>0</td>\n",
       "      <td>0</td>\n",
       "      <td>...</td>\n",
       "      <td>0</td>\n",
       "      <td>0</td>\n",
       "      <td>0</td>\n",
       "      <td>0</td>\n",
       "      <td>0</td>\n",
       "      <td>0</td>\n",
       "      <td>0</td>\n",
       "      <td>0</td>\n",
       "      <td>0</td>\n",
       "      <td>9.0</td>\n",
       "    </tr>\n",
       "    <tr>\n",
       "      <th>69999</th>\n",
       "      <td>0</td>\n",
       "      <td>0</td>\n",
       "      <td>0</td>\n",
       "      <td>0</td>\n",
       "      <td>0</td>\n",
       "      <td>0</td>\n",
       "      <td>0</td>\n",
       "      <td>0</td>\n",
       "      <td>0</td>\n",
       "      <td>0</td>\n",
       "      <td>...</td>\n",
       "      <td>0</td>\n",
       "      <td>0</td>\n",
       "      <td>0</td>\n",
       "      <td>0</td>\n",
       "      <td>0</td>\n",
       "      <td>0</td>\n",
       "      <td>0</td>\n",
       "      <td>0</td>\n",
       "      <td>0</td>\n",
       "      <td>9.0</td>\n",
       "    </tr>\n",
       "  </tbody>\n",
       "</table>\n",
       "<p>70000 rows × 785 columns</p>\n",
       "</div>"
      ],
      "text/plain": [
       "       pixel0  pixel1  pixel2  pixel3  pixel4  pixel5  pixel6  pixel7  pixel8  \\\n",
       "0           0       0       0       0       0       0       0       0       0   \n",
       "1           0       0       0       0       0       0       0       0       0   \n",
       "2           0       0       0       0       0       0       0       0       0   \n",
       "3           0       0       0       0       0       0       0       0       0   \n",
       "4           0       0       0       0       0       0       0       0       0   \n",
       "...       ...     ...     ...     ...     ...     ...     ...     ...     ...   \n",
       "69995       0       0       0       0       0       0       0       0       0   \n",
       "69996       0       0       0       0       0       0       0       0       0   \n",
       "69997       0       0       0       0       0       0       0       0       0   \n",
       "69998       0       0       0       0       0       0       0       0       0   \n",
       "69999       0       0       0       0       0       0       0       0       0   \n",
       "\n",
       "       pixel9  ...  pixel775  pixel776  pixel777  pixel778  pixel779  \\\n",
       "0           0  ...         0         0         0         0         0   \n",
       "1           0  ...         0         0         0         0         0   \n",
       "2           0  ...         0         0         0         0         0   \n",
       "3           0  ...         0         0         0         0         0   \n",
       "4           0  ...         0         0         0         0         0   \n",
       "...       ...  ...       ...       ...       ...       ...       ...   \n",
       "69995       0  ...         0         0         0         0         0   \n",
       "69996       0  ...         0         0         0         0         0   \n",
       "69997       0  ...         0         0         0         0         0   \n",
       "69998       0  ...         0         0         0         0         0   \n",
       "69999       0  ...         0         0         0         0         0   \n",
       "\n",
       "       pixel780  pixel781  pixel782  pixel783    y  \n",
       "0             0         0         0         0  0.0  \n",
       "1             0         0         0         0  0.0  \n",
       "2             0         0         0         0  0.0  \n",
       "3             0         0         0         0  0.0  \n",
       "4             0         0         0         0  0.0  \n",
       "...         ...       ...       ...       ...  ...  \n",
       "69995         0         0         0         0  9.0  \n",
       "69996         0         0         0         0  9.0  \n",
       "69997         0         0         0         0  9.0  \n",
       "69998         0         0         0         0  9.0  \n",
       "69999         0         0         0         0  9.0  \n",
       "\n",
       "[70000 rows x 785 columns]"
      ]
     },
     "execution_count": 6,
     "metadata": {},
     "output_type": "execute_result"
    }
   ],
   "source": [
    "df"
   ]
  },
  {
   "cell_type": "code",
   "execution_count": 7,
   "metadata": {},
   "outputs": [
    {
     "data": {
      "text/plain": [
       "<Figure size 640x480 with 0 Axes>"
      ]
     },
     "metadata": {},
     "output_type": "display_data"
    },
    {
     "data": {
      "image/png": "[encoded data removed]",
      "text/plain": [
       "<Figure size 1600x700 with 15 Axes>"
      ]
     },
     "metadata": {},
     "output_type": "display_data"
    }
   ],
   "source": [
    "# 데이터 형태 시각화\n",
    "\n",
    "import matplotlib.pyplot as plt\n",
    "\n",
    "rndperm = np.random.permutation(df.shape[0])\n",
    "\n",
    "# Plot the graph\n",
    "plt.gray()\n",
    "fig = plt.figure( figsize=(16,7) )\n",
    "for i in range(0,15):\n",
    "    ax = fig.add_subplot(3,5,i+1, title=\"Digit: {}\".format(str(df.loc[rndperm[i],'y'])) )\n",
    "    ax.matshow(df.loc[rndperm[i],feat_cols].values.reshape((28,28)).astype(float))\n",
    "plt.show()"
   ]
  },
  {
   "cell_type": "markdown",
   "metadata": {},
   "source": [
    "### 1) train_test_split을 통해 데이터를 0.8 0.2의 비율로 분할 해 주세요"
   ]
  },
  {
   "cell_type": "code",
   "execution_count": 9,
   "metadata": {},
   "outputs": [],
   "source": [
    "from sklearn.model_selection import train_test_split\n",
    "\n",
    "X_train, X_test, y_train, y_test = train_test_split(X,y, test_size = 0.2)"
   ]
  },
  {
   "cell_type": "markdown",
   "metadata": {},
   "source": [
    "### 여기서부터는 원본데이터 & PCA 축소 데이터 & LDA 축소 데이터 비교해주세요"
   ]
  },
  {
   "cell_type": "markdown",
   "metadata": {},
   "source": [
    "### 2) 차원축소 기법(PCA와 LDA)을 이용하여 mnist data를 축소시켜주세요\n",
    "\n",
    "pca를 이용할 때는, 주성분 개수를 정하는 과정에 대해 잘 서술해주시면 좋겠죠!<br>\n",
    "강의에서 배웠던 3가지 중 어떤 걸 고려해서 갯수를 정했는지요!!!!<br>\n",
    "scree plot같은거는 직접 그려서 확인해주면 좋겠죠???"
   ]
  },
  {
   "cell_type": "code",
   "execution_count": 13,
   "metadata": {},
   "outputs": [],
   "source": [
    "# 차원축소를 하기 전 표준화 작업을 하자\n",
    "from sklearn.preprocessing import StandardScaler\n",
    "\n",
    "standard_scaler = StandardScaler()\n",
    "standard_scaler.fit(X_train)\n",
    "\n",
    "X_train_scaled = standard_scaler.transform(X_train)\n",
    "X_test_scaled  = standard_scaler.transform(X_test)"
   ]
  },
  {
   "cell_type": "markdown",
   "metadata": {},
   "source": [
    "pca components 수를 결정하기 위해 다음 3가지를 확인하자\n",
    "\n",
    "- Kaiser's Rule : eigenvalue 값이 1이상인 주성분들\n",
    "- Elbow point : 곡선의 기울기가 급격히 감소할 때의 지점\n",
    "- 누적설명률이 70% ~ 80% 이상"
   ]
  },
  {
   "cell_type": "code",
   "execution_count": 25,
   "metadata": {},
   "outputs": [],
   "source": [
    "from sklearn.decomposition import PCA\n",
    "from sklearn.discriminant_analysis import LinearDiscriminantAnalysis"
   ]
  },
  {
   "cell_type": "markdown",
   "metadata": {},
   "source": [
    "*Kaiser's Rule*"
   ]
  },
  {
   "cell_type": "code",
   "execution_count": 26,
   "metadata": {},
   "outputs": [
    {
     "data": {
      "text/plain": [
       "(array([ 3.35050342e+05,  2.45263314e+05,  2.10817699e+05,  1.84811735e+05,\n",
       "         1.67507449e+05,  1.47827710e+05,  1.12333093e+05,  9.88431539e+04,\n",
       "         9.43540004e+04,  8.02433859e+04,  7.21406558e+04,  6.99897083e+04,\n",
       "         5.84254133e+04,  5.79312045e+04,  5.44198670e+04,  5.10179568e+04,\n",
       "         4.52602938e+04,  4.38602463e+04,  4.06519582e+04,  3.95879424e+04,\n",
       "         3.66355764e+04,  3.44575034e+04,  3.28960844e+04,  3.11563852e+04,\n",
       "         3.03979934e+04,  2.87547480e+04,  2.77411819e+04,  2.70880561e+04,\n",
       "         2.54026266e+04,  2.35870032e+04,  2.24719319e+04,  2.21032650e+04,\n",
       "         2.05705236e+04,  2.01288903e+04,  1.95179012e+04,  1.85838893e+04,\n",
       "         1.73353724e+04,  1.66695751e+04,  1.63800487e+04,  1.60350781e+04,\n",
       "         1.55825505e+04,  1.52570529e+04,  1.43250896e+04,  1.35468203e+04,\n",
       "         1.32059468e+04,  1.29051272e+04,  1.24152209e+04,  1.19465740e+04,\n",
       "         1.15559127e+04,  1.09984358e+04,  1.08705664e+04,  1.06231981e+04,\n",
       "         1.01379910e+04,  9.80829608e+03,  9.72188855e+03,  9.27455275e+03,\n",
       "         9.22581814e+03,  8.78923821e+03,  8.67415250e+03,  8.39558890e+03,\n",
       "         8.22616681e+03,  8.16790043e+03,  7.86655510e+03,  7.57361783e+03,\n",
       "         7.29039731e+03,  7.09149285e+03,  6.92813173e+03,  6.69729005e+03,\n",
       "         6.53212043e+03,  6.46532956e+03,  6.40555882e+03,  6.14338758e+03,\n",
       "         6.03176966e+03,  5.95468634e+03,  5.59824674e+03,  5.61463322e+03,\n",
       "         5.51910557e+03,  5.29400142e+03,  5.06890167e+03,  4.89247587e+03,\n",
       "         4.85093179e+03,  4.80545287e+03,  4.81162699e+03,  4.64723000e+03,\n",
       "         4.54984351e+03,  4.45348397e+03,  4.52342773e+03,  4.28854438e+03,\n",
       "         4.20120232e+03,  4.12535739e+03,  3.99162301e+03,  3.92250156e+03,\n",
       "         3.86580485e+03,  3.74572874e+03,  3.72014230e+03,  3.67580277e+03,\n",
       "         3.55429056e+03,  3.55237822e+03,  3.45281214e+03,  3.41815438e+03,\n",
       "         3.33314705e+03,  3.24247356e+03,  3.19002094e+03,  3.13556107e+03,\n",
       "         3.09670287e+03,  3.04645329e+03,  2.94885798e+03,  2.91996502e+03,\n",
       "         2.88680919e+03,  2.79903692e+03,  2.69475886e+03,  2.68402646e+03,\n",
       "         2.65840559e+03,  2.62441900e+03,  2.60310910e+03,  2.58708325e+03,\n",
       "         2.49860457e+03,  2.48736404e+03,  2.46286791e+03,  2.42221254e+03,\n",
       "         2.37395132e+03,  2.36085076e+03,  2.31804776e+03,  2.30243889e+03,\n",
       "         2.27079131e+03,  2.19955421e+03,  2.17625510e+03,  2.16171499e+03,\n",
       "         2.12905594e+03,  2.01413352e+03,  2.06316181e+03,  2.06100576e+03,\n",
       "         2.04681848e+03,  2.00438736e+03,  1.98005079e+03,  1.96408470e+03,\n",
       "         1.92348359e+03,  1.89454537e+03,  1.83704250e+03,  1.80627675e+03,\n",
       "         1.79348641e+03,  1.75142594e+03,  1.72534459e+03,  1.70367472e+03,\n",
       "         1.71508296e+03,  1.69050855e+03,  1.66465127e+03,  1.64987679e+03,\n",
       "         1.61837843e+03,  1.60245421e+03,  1.59680980e+03,  1.57669516e+03,\n",
       "         1.58688125e+03,  1.53491458e+03,  1.54101826e+03,  1.51484889e+03,\n",
       "         1.50011540e+03,  1.46000141e+03,  1.43771197e+03,  1.43436826e+03,\n",
       "         1.41819948e+03,  1.40284008e+03,  1.36458121e+03,  1.35801870e+03,\n",
       "         1.33506714e+03,  1.34200012e+03,  1.31944554e+03,  1.30088423e+03,\n",
       "         1.27722684e+03,  1.28221208e+03,  1.22864301e+03,  1.25721353e+03,\n",
       "         1.24461391e+03,  1.24943496e+03,  1.16072692e+03,  1.21404997e+03,\n",
       "         1.17211679e+03,  1.18394727e+03,  1.18942823e+03,  1.20501481e+03,\n",
       "         1.14969555e+03,  1.13431866e+03,  1.12448504e+03,  1.11798853e+03,\n",
       "         1.10860260e+03,  1.09821306e+03,  1.09038117e+03,  1.07803664e+03,\n",
       "         1.06497595e+03,  1.06125313e+03,  1.04557563e+03,  1.03726086e+03,\n",
       "         1.03254111e+03,  1.02880726e+03,  1.01489600e+03,  1.01283894e+03,\n",
       "         1.00219639e+03,  1.00647175e+03,  9.84668462e+02,  9.74449586e+02,\n",
       "         9.64685219e+02,  9.52060567e+02,  9.41514027e+02,  9.33454510e+02,\n",
       "         9.23812456e+02,  9.16201801e+02,  9.08880052e+02,  9.06277733e+02,\n",
       "         8.99991627e+02,  8.87326587e+02,  8.81117318e+02,  8.77930926e+02,\n",
       "         8.72270927e+02,  8.68076450e+02,  8.59710752e+02,  8.54346437e+02,\n",
       "         8.47906861e+02,  8.37747105e+02,  8.18379439e+02,  8.22020061e+02,\n",
       "         8.25625914e+02,  8.32499859e+02,  8.32700711e+02,  8.08187304e+02,\n",
       "         7.97382318e+02,  7.91856982e+02,  7.88146259e+02,  7.80888889e+02,\n",
       "         7.69012607e+02,  7.78661972e+02,  7.58248444e+02,  7.55126119e+02,\n",
       "         7.14836585e+02,  7.20365233e+02,  7.40583747e+02,  7.28816426e+02,\n",
       "         7.34335945e+02,  7.47147084e+02,  7.00196308e+02,  6.53620041e+02,\n",
       "         6.96455955e+02,  6.62472292e+02,  6.88223866e+02,  6.56895969e+02,\n",
       "         6.77706824e+02,  7.32106153e+02,  6.72004683e+02,  7.05130831e+02,\n",
       "         6.90594073e+02,  6.58373546e+02,  6.81115120e+02,  6.47559459e+02,\n",
       "         6.44195243e+02,  6.40075519e+02,  6.39166228e+02,  6.35258915e+02,\n",
       "         6.27323978e+02,  6.25188220e+02,  6.19270195e+02,  6.13506498e+02,\n",
       "         6.08469567e+02,  6.03257809e+02,  6.05385414e+02,  5.95383825e+02,\n",
       "         5.93983122e+02,  5.91087821e+02,  5.86796076e+02,  5.83624484e+02,\n",
       "         5.78429183e+02,  5.71668909e+02,  5.70606884e+02,  5.67533489e+02,\n",
       "         5.61571822e+02,  5.59540388e+02,  5.54204946e+02,  5.56569378e+02,\n",
       "         5.47607519e+02,  5.45227373e+02,  5.43835146e+02,  5.37701446e+02,\n",
       "         5.35430749e+02,  5.18841955e+02,  5.28082304e+02,  5.23662963e+02,\n",
       "         5.29083779e+02,  5.13291411e+02,  5.09878625e+02,  5.08601328e+02,\n",
       "         5.06433532e+02,  4.99767734e+02,  4.95236957e+02,  4.91860911e+02,\n",
       "         4.89492926e+02,  4.87915210e+02,  4.85184655e+02,  4.79091870e+02,\n",
       "         4.65888339e+02,  4.72996143e+02,  4.69599565e+02,  4.60282237e+02,\n",
       "         4.54447908e+02,  4.68953183e+02,  4.56627422e+02,  4.62367091e+02,\n",
       "         4.45755812e+02,  4.44333394e+02,  4.42224821e+02,  4.38680803e+02,\n",
       "         4.35872786e+02,  4.31838821e+02,  4.27632722e+02,  4.20632079e+02,\n",
       "         4.34454719e+02,  4.32988989e+02,  4.15807420e+02,  4.18094632e+02,\n",
       "         4.13809959e+02,  4.09796980e+02,  4.05604526e+02,  4.02099579e+02,\n",
       "         4.08828038e+02,  3.96438858e+02,  3.99938233e+02,  3.98080461e+02,\n",
       "         3.84804390e+02,  3.92657534e+02,  3.93444723e+02,  3.80151373e+02,\n",
       "         3.76946914e+02,  2.55816264e+02,  3.71242815e+02,  3.74984193e+02,\n",
       "         3.72685286e+02,  3.67387305e+02,  3.64743936e+02,  3.74571895e+02,\n",
       "         2.58922180e+02,  3.59751702e+02,  3.63630543e+02,  2.61348400e+02,\n",
       "         3.61737534e+02,  3.50682761e+02,  3.52313507e+02,  3.47840020e+02,\n",
       "         3.46101240e+02,  2.64206018e+02,  2.66452668e+02,  2.67364247e+02,\n",
       "         3.43608710e+02,  3.36329882e+02,  3.39565191e+02,  3.40685911e+02,\n",
       "         2.71586239e+02,  2.72852841e+02,  3.33992658e+02,  3.31304600e+02,\n",
       "         2.76711525e+02,  2.80505376e+02,  2.84528697e+02,  2.87406281e+02,\n",
       "         2.88076918e+02,  3.22333143e+02,  3.26816190e+02,  2.97693233e+02,\n",
       "         2.94363352e+02,  2.78606443e+02,  2.78995889e+02,  3.17468109e+02,\n",
       "         3.01287543e+02,  2.92225860e+02,  3.13964885e+02,  3.20096398e+02,\n",
       "         3.19520345e+02,  2.82288238e+02,  3.05808323e+02,  3.11085518e+02,\n",
       "         3.09486376e+02,  3.02579976e+02,  3.08317254e+02,  2.37759826e+02,\n",
       "         2.38854796e+02,  2.44164979e+02,  2.46766168e+02,  2.52711493e+02,\n",
       "         2.48362911e+02,  2.50197524e+02,  2.48830001e+02,  1.99272751e+02,\n",
       "         2.02138259e+02,  2.04462825e+02,  2.08275978e+02,  2.11228587e+02,\n",
       "         2.24302348e+02,  2.06327222e+02,  2.21975179e+02,  2.31232653e+02,\n",
       "         2.32727599e+02,  2.17445832e+02,  2.36220957e+02,  2.16697731e+02,\n",
       "         2.29866475e+02,  2.18855072e+02,  2.00542762e+02,  1.96615675e+02,\n",
       "         1.92652725e+02,  1.91091905e+02,  1.90569420e+02,  1.86672732e+02,\n",
       "         1.85586592e+02,  1.86089679e+02,  1.78891455e+02,  1.81778477e+02,\n",
       "         1.77534419e+02,  1.76009431e+02,  1.37076643e+02,  1.70238124e+02,\n",
       "         1.69161096e+02,  1.63616028e+02,  1.60487196e+02,  1.57857135e+02,\n",
       "         1.49478488e+02,  1.81373823e+02,  1.59560054e+02,  1.73576901e+02,\n",
       "         1.65154395e+02,  1.45618503e+02,  1.53055367e+02,  1.53665310e+02,\n",
       "         1.43956971e+02,  1.44742418e+02,  1.67874021e+02,  1.40801976e+02,\n",
       "         1.40372043e+02,  1.39691558e+02,  1.38395445e+02,  1.31411596e+02,\n",
       "         1.28846441e+02,  1.29736425e+02,  1.26183611e+02,  1.27401479e+02,\n",
       "         1.30607384e+02,  1.24695762e+02,  1.19743083e+02,  1.21103368e+02,\n",
       "         1.21678899e+02,  1.17924668e+02,  1.16696189e+02,  1.16966036e+02,\n",
       "         1.13322627e+02,  1.12101988e+02,  1.05947156e+02,  1.09767169e+02,\n",
       "         1.08817458e+02,  1.06970698e+02,  1.01089789e+02,  1.03144797e+02,\n",
       "         1.00048564e+02,  9.90364891e+01,  9.84668536e+01,  9.62410372e+01,\n",
       "         5.95683447e+01,  6.14336772e+01,  6.20285668e+01,  9.34678963e+01,\n",
       "         9.39406474e+01,  9.09929973e+01,  9.37396770e+01,  8.80533958e+01,\n",
       "         6.33660264e+01,  6.35665083e+01,  6.48046218e+01,  6.64859821e+01,\n",
       "         6.58283800e+01,  8.62974427e+01,  8.55462382e+01,  6.78981303e+01,\n",
       "         6.80610866e+01,  6.94227713e+01,  7.15006462e+01,  8.35170670e+01,\n",
       "         7.27883354e+01,  7.59681749e+01,  7.55049654e+01,  7.42064403e+01,\n",
       "         8.44639356e+01,  7.09150900e+01,  8.07887841e+01,  8.01629837e+01,\n",
       "         7.32777226e+01,  7.96565132e+01,  8.22868130e+01,  8.26287367e+01,\n",
       "         8.28474970e+01,  5.09113331e+01,  5.84861679e+01,  5.60951700e+01,\n",
       "         5.53289252e+01,  5.38966562e+01,  5.20799907e+01,  5.35135082e+01,\n",
       "         5.29738296e+01,  5.22558422e+01,  5.03947885e+01,  4.93344977e+01,\n",
       "         4.58828816e+01,  4.78661540e+01,  4.77437820e+01,  4.69236524e+01,\n",
       "         4.55096152e+01,  4.50222124e+01,  4.66316693e+01,  4.26389853e+01,\n",
       "         4.02056150e+01,  4.11782014e+01,  4.16568257e+01,  4.20942212e+01,\n",
       "         4.20164954e+01,  3.27915994e+01,  3.48613016e+01,  3.60985994e+01,\n",
       "         3.91360745e+01,  3.84068375e+01,  3.43921322e+01,  3.86534127e+01,\n",
       "         3.10598305e+01,  3.69337113e+01,  3.74443041e+01,  3.17535358e+01,\n",
       "         3.90464386e+01,  3.57543941e+01,  3.13558276e+01,  3.17963263e+01,\n",
       "         2.92705931e+01,  2.85310563e+01,  2.77248671e+01,  2.70108683e+01,\n",
       "         2.69111779e+01,  2.66440110e+01,  2.62805341e+01,  2.44838557e+01,\n",
       "         2.31497371e+01,  2.41155566e+01,  2.59830693e+01,  2.55347084e+01,\n",
       "         2.51423376e+01,  2.50802967e+01,  2.61902235e+01,  2.20727795e+01,\n",
       "         2.09530570e+01,  2.24343233e+01,  2.35351735e+01,  2.02545529e+01,\n",
       "         1.92590973e+01,  1.81003576e+01,  1.87786240e+01,  1.88862221e+01,\n",
       "         1.83092198e+01,  1.76479075e+01,  1.71813039e+01,  1.65720535e+01,\n",
       "         1.61145824e+01,  1.62420381e+01,  1.41738742e+01,  1.64898380e+01,\n",
       "         1.58168618e+01,  1.47582816e+01,  1.51742634e+01,  1.56024849e+01,\n",
       "         1.50510239e+01,  1.36130867e+01,  6.38598878e+00,  1.34383632e+01,\n",
       "         1.28077193e+01,  1.32907175e+01,  6.60778015e+00,  6.67095493e+00,\n",
       "         1.20106534e+01,  6.98571927e+00,  6.76050497e+00,  6.85334603e+00,\n",
       "         7.43615212e+00,  8.40425692e+00,  8.37968340e+00,  8.58607806e+00,\n",
       "         7.54863004e+00,  1.11856029e+01,  8.18814344e+00,  7.65868733e+00,\n",
       "         9.73088277e+00,  9.55974053e+00,  1.09091633e+01,  1.01464925e+01,\n",
       "         1.07298181e+01,  1.06589733e+01,  1.02815007e+01,  1.03147156e+01,\n",
       "         1.05164288e+01,  1.04530063e+01,  4.54758915e+00,  4.81721723e+00,\n",
       "         5.91222449e+00,  5.18871598e+00,  5.17550613e+00,  5.85437239e+00,\n",
       "         5.47199770e+00,  5.58922269e+00,  5.65664969e+00,  5.76223851e+00,\n",
       "         5.48907002e+00,  4.63700228e+00,  4.49765366e+00,  4.37262075e+00,\n",
       "         4.14484494e+00,  4.00520880e+00,  3.88567565e+00,  3.93806302e+00,\n",
       "         3.80078158e+00,  3.66073006e+00,  3.49302259e+00,  3.48961301e+00,\n",
       "         3.34710283e+00,  3.27447064e+00,  3.08788332e+00,  2.96262906e+00,\n",
       "         2.70349559e+00,  2.65741654e+00,  2.69144120e+00,  2.48506883e+00,\n",
       "         2.64724664e+00,  1.48783662e+00,  1.56626657e+00,  2.24443358e+00,\n",
       "         1.73541405e+00,  1.42370066e+00,  2.42377076e+00,  2.20925542e+00,\n",
       "         2.12486386e+00,  1.72067398e+00,  1.90637594e+00,  2.15343880e+00,\n",
       "         1.95391847e+00,  1.94155206e+00,  1.89104877e+00,  1.34266383e+00,\n",
       "         1.16020144e+00,  1.21602058e+00,  1.21139806e+00,  1.19481394e+00,\n",
       "         9.18660253e-01,  1.01922519e+00,  1.09088357e+00,  1.07625732e+00,\n",
       "         1.04807955e+00,  1.06073062e+00,  9.95895573e-01,  8.27737981e-01,\n",
       "         7.96381222e-01,  7.03378205e-01,  6.95613496e-01,  6.46206376e-01,\n",
       "         6.68487400e-01,  6.35033627e-01,  5.76460839e-01,  5.46923550e-01,\n",
       "         4.16343209e-01,  5.61178002e-01,  3.11031407e-01,  4.26541381e-01,\n",
       "         4.98331696e-01,  4.74480331e-01,  4.81171092e-01,  4.68044506e-01,\n",
       "         4.61285107e-01,  3.03217188e-01,  2.59706809e-01,  2.37872418e-01,\n",
       "         2.51510154e-01,  2.14079418e-01,  1.97970729e-01,  2.00330750e-01,\n",
       "         1.18983249e-01,  1.62368043e-01,  1.53829892e-01,  1.48902901e-01,\n",
       "         6.82092091e-02,  6.79976212e-02,  6.39314088e-02,  6.10312524e-02,\n",
       "         4.34136771e-02,  5.42740431e-02,  4.26137029e-02,  2.92254790e-02,\n",
       "         5.59077334e-02,  5.56140616e-02,  1.62262182e-02,  1.42220260e-02,\n",
       "         8.89097440e-03,  2.59642369e-02,  2.49663859e-02,  2.53810141e-02,\n",
       "         4.99578814e-03,  7.27942835e-03,  3.32221176e-03,  8.57589761e-04,\n",
       "         3.50409070e-04, -1.70985311e-13,  3.13271719e-13,  2.56237430e-13,\n",
       "         8.36103912e-14,  2.14254620e-15,  6.06388818e-16,  0.00000000e+00,\n",
       "         0.00000000e+00,  0.00000000e+00,  0.00000000e+00,  0.00000000e+00,\n",
       "         0.00000000e+00,  0.00000000e+00,  0.00000000e+00,  0.00000000e+00,\n",
       "         0.00000000e+00,  0.00000000e+00,  0.00000000e+00,  0.00000000e+00,\n",
       "         0.00000000e+00,  0.00000000e+00,  0.00000000e+00,  0.00000000e+00,\n",
       "         0.00000000e+00,  0.00000000e+00,  0.00000000e+00,  0.00000000e+00,\n",
       "         0.00000000e+00,  0.00000000e+00,  0.00000000e+00,  0.00000000e+00,\n",
       "         0.00000000e+00,  0.00000000e+00,  0.00000000e+00,  0.00000000e+00,\n",
       "         0.00000000e+00,  0.00000000e+00,  0.00000000e+00,  0.00000000e+00,\n",
       "         0.00000000e+00,  0.00000000e+00,  0.00000000e+00,  0.00000000e+00,\n",
       "         0.00000000e+00,  0.00000000e+00,  0.00000000e+00,  0.00000000e+00,\n",
       "         0.00000000e+00,  0.00000000e+00,  0.00000000e+00,  0.00000000e+00,\n",
       "         0.00000000e+00,  0.00000000e+00,  0.00000000e+00,  0.00000000e+00,\n",
       "         0.00000000e+00,  0.00000000e+00,  0.00000000e+00,  0.00000000e+00,\n",
       "         0.00000000e+00,  0.00000000e+00,  0.00000000e+00,  0.00000000e+00,\n",
       "         0.00000000e+00,  0.00000000e+00,  0.00000000e+00,  0.00000000e+00,\n",
       "         0.00000000e+00,  0.00000000e+00,  0.00000000e+00,  0.00000000e+00,\n",
       "         0.00000000e+00,  0.00000000e+00,  0.00000000e+00,  0.00000000e+00,\n",
       "         0.00000000e+00,  0.00000000e+00,  0.00000000e+00,  0.00000000e+00]),\n",
       " array([[0., 0., 0., ..., 0., 0., 0.],\n",
       "        [0., 0., 0., ..., 0., 0., 0.],\n",
       "        [0., 0., 0., ..., 0., 0., 0.],\n",
       "        ...,\n",
       "        [0., 0., 0., ..., 1., 0., 0.],\n",
       "        [0., 0., 0., ..., 0., 1., 0.],\n",
       "        [0., 0., 0., ..., 0., 0., 1.]]))"
      ]
     },
     "execution_count": 26,
     "metadata": {},
     "output_type": "execute_result"
    }
   ],
   "source": [
    "# x_train의 공분산 구하기\n",
    "cov_mat = np.cov(X_train.T)\n",
    "\n",
    "# #eigenvalue & eigenvaector\n",
    "lin.eig(cov_mat)"
   ]
  },
  {
   "cell_type": "code",
   "execution_count": 30,
   "metadata": {},
   "outputs": [
    {
     "name": "stdout",
     "output_type": "stream",
     "text": [
      "653\n"
     ]
    },
    {
     "data": {
      "text/plain": [
       "array([[-1.98862643e-19, -1.11022302e-16, -5.55111512e-16, ...,\n",
       "        -0.00000000e+00, -0.00000000e+00, -0.00000000e+00],\n",
       "       [-8.92681290e-20, -5.55111512e-17, -8.32667268e-17, ...,\n",
       "         0.00000000e+00,  0.00000000e+00,  0.00000000e+00],\n",
       "       [-3.84790370e-19, -1.66533454e-16, -0.00000000e+00, ...,\n",
       "        -0.00000000e+00, -0.00000000e+00, -0.00000000e+00],\n",
       "       ...,\n",
       "       [ 4.74716382e-19,  8.81998467e-17, -3.29814301e-16, ...,\n",
       "         0.00000000e+00,  0.00000000e+00,  0.00000000e+00],\n",
       "       [-1.07233917e-17, -2.84494650e-16, -9.57567359e-16, ...,\n",
       "        -0.00000000e+00, -0.00000000e+00, -0.00000000e+00],\n",
       "       [-1.97920663e-18, -2.29634020e-16,  1.28369537e-16, ...,\n",
       "         0.00000000e+00,  0.00000000e+00,  0.00000000e+00]])"
      ]
     },
     "execution_count": 30,
     "metadata": {},
     "output_type": "execute_result"
    }
   ],
   "source": [
    "e_value, e_vector = lin.eig(cov_mat)\n",
    "\n",
    "# 고유값이 1 이상인 개수 : 653\n",
    "print(sum(e_value > 1)) \n",
    "\n",
    "pca_model = PCA(653).fit(X_train_scaled)\n",
    "\n",
    "X_train_pca = pca_model.transform(X_train_scaled)\n",
    "X_test_pca = pca_model.transform(X_test_scaled)\n",
    "\n",
    "pca_model.components_"
   ]
  },
  {
   "cell_type": "markdown",
   "metadata": {},
   "source": [
    "*elbow point*"
   ]
  },
  {
   "cell_type": "code",
   "execution_count": 33,
   "metadata": {},
   "outputs": [
    {
     "data": {
      "text/plain": [
       "653"
      ]
     },
     "execution_count": 33,
     "metadata": {},
     "output_type": "execute_result"
    }
   ],
   "source": [
    "pca_model.n_components_"
   ]
  },
  {
   "cell_type": "code",
   "execution_count": 60,
   "metadata": {},
   "outputs": [
    {
     "data": {
      "text/plain": [
       "<matplotlib.lines.Line2D at 0x18118358160>"
      ]
     },
     "execution_count": 60,
     "metadata": {},
     "output_type": "execute_result"
    },
    {
     "data": {
      "image/png": "[encoded data removed]",
      "text/plain": [
       "<Figure size 640x480 with 1 Axes>"
      ]
     },
     "metadata": {},
     "output_type": "display_data"
    }
   ],
   "source": [
    "ex_ratio = pca_model.explained_variance_ratio_\n",
    "\n",
    "plt.plot(range(len(ex_ratio)), ex_ratio, 'ro-', linewidth=1)\n",
    "plt.xlim(0,60)\n",
    "plt.axvline(x = 35)\n",
    "plt.axhline(y = 0.005)\n"
   ]
  },
  {
   "cell_type": "markdown",
   "metadata": {},
   "source": [
    "- 주성분 개수 35 정도가 적당해 보임"
   ]
  },
  {
   "cell_type": "markdown",
   "metadata": {},
   "source": [
    "*누적설명률이 70 ~ 80%*"
   ]
  },
  {
   "cell_type": "code",
   "execution_count": 65,
   "metadata": {},
   "outputs": [
    {
     "name": "stdout",
     "output_type": "stream",
     "text": [
      "누적 설명률 : 70% => 주성분 개수 : 96\n",
      "누적 설명률 : 75% => 주성분 개수 : 118\n",
      "누적 설명률 : 80% => 주성분 개수 : 146\n"
     ]
    }
   ],
   "source": [
    "for per in [70, 75, 80]:\n",
    "    pca = PCA(n_components=(per/100))\n",
    "    pca.fit(X_train_scaled)\n",
    "    print(f\"누적 설명률 : {per}% => 주성분 개수 : {pca.n_components_}\")"
   ]
  },
  {
   "cell_type": "markdown",
   "metadata": {},
   "source": [
    "- 주성분 개수 118개가 적당해 보임"
   ]
  },
  {
   "cell_type": "markdown",
   "metadata": {},
   "source": [
    "### 3) 지금까지 배웠던 머신러닝 기법을 이용하여 학습해주세요 (2개이상 사용)"
   ]
  },
  {
   "cell_type": "markdown",
   "metadata": {},
   "source": [
    "###  이때 time stamp를 찍어서 training 시간을 비교하고, test accuracy도 비교해주세요\n",
    "#### (원본 데이터 & PCA 축소 데이터 & LDA 축소 데이터 비교)"
   ]
  },
  {
   "cell_type": "markdown",
   "metadata": {},
   "source": [
    "*randomforest*"
   ]
  },
  {
   "cell_type": "code",
   "execution_count": 79,
   "metadata": {},
   "outputs": [],
   "source": [
    "from sklearn.ensemble import RandomForestClassifier\n",
    "import lightgbm as lgb\n",
    "import time"
   ]
  },
  {
   "cell_type": "markdown",
   "metadata": {},
   "source": [
    "- original"
   ]
  },
  {
   "cell_type": "code",
   "execution_count": 76,
   "metadata": {},
   "outputs": [
    {
     "name": "stderr",
     "output_type": "stream",
     "text": [
      "C:\\ProgramData\\Miniconda3\\lib\\site-packages\\ipykernel_launcher.py:3: DataConversionWarning: A column-vector y was passed when a 1d array was expected. Please change the shape of y to (n_samples,), for example using ravel().\n",
      "  This is separate from the ipykernel package so we can avoid doing imports until\n"
     ]
    },
    {
     "name": "stdout",
     "output_type": "stream",
     "text": [
      "score : 0.9721428571428572\n",
      "time : 33.814812898635864\n"
     ]
    }
   ],
   "source": [
    "rf_model_origin = RandomForestClassifier()\n",
    "start = time.time()\n",
    "rf_model_origin.fit(X_train_scaled, y_train)\n",
    "\n",
    "print(f\"score : {rf_model_origin.score(X_test_scaled, y_test)}\")\n",
    "print(f\"time : {time.time() - start}\")"
   ]
  },
  {
   "cell_type": "markdown",
   "metadata": {},
   "source": [
    "- pca"
   ]
  },
  {
   "cell_type": "code",
   "execution_count": 73,
   "metadata": {},
   "outputs": [],
   "source": [
    "# pca 차원축소\n",
    "pca = PCA(n_components=118)\n",
    "pca.fit(X_train_scaled)\n",
    "\n",
    "X_train_pca = pca.transform(X_train_scaled)\n",
    "X_test_pca = pca.transform(X_test_scaled)"
   ]
  },
  {
   "cell_type": "code",
   "execution_count": 77,
   "metadata": {},
   "outputs": [
    {
     "name": "stderr",
     "output_type": "stream",
     "text": [
      "C:\\ProgramData\\Miniconda3\\lib\\site-packages\\ipykernel_launcher.py:3: DataConversionWarning: A column-vector y was passed when a 1d array was expected. Please change the shape of y to (n_samples,), for example using ravel().\n",
      "  This is separate from the ipykernel package so we can avoid doing imports until\n"
     ]
    },
    {
     "name": "stdout",
     "output_type": "stream",
     "text": [
      "0.9364285714285714\n",
      "time : 67.91798710823059\n"
     ]
    }
   ],
   "source": [
    "rf_model_pca = RandomForestClassifier()\n",
    "start = time.time()\n",
    "rf_model_pca.fit(X_train_pca, y_train)\n",
    "\n",
    "print(rf_model.score(X_test_pca, y_test))\n",
    "print(f\"time : {time.time() - start}\")"
   ]
  },
  {
   "cell_type": "markdown",
   "metadata": {},
   "source": [
    "*lightGBM*"
   ]
  },
  {
   "cell_type": "markdown",
   "metadata": {},
   "source": [
    "- original"
   ]
  },
  {
   "cell_type": "code",
   "execution_count": 82,
   "metadata": {},
   "outputs": [
    {
     "name": "stderr",
     "output_type": "stream",
     "text": [
      "C:\\ProgramData\\Miniconda3\\lib\\site-packages\\sklearn\\preprocessing\\_label.py:98: DataConversionWarning: A column-vector y was passed when a 1d array was expected. Please change the shape of y to (n_samples, ), for example using ravel().\n",
      "  y = column_or_1d(y, warn=True)\n",
      "C:\\ProgramData\\Miniconda3\\lib\\site-packages\\sklearn\\preprocessing\\_label.py:133: DataConversionWarning: A column-vector y was passed when a 1d array was expected. Please change the shape of y to (n_samples, ), for example using ravel().\n",
      "  y = column_or_1d(y, warn=True)\n"
     ]
    },
    {
     "name": "stdout",
     "output_type": "stream",
     "text": [
      "score : 0.978\n",
      "time : 64.15524482727051\n"
     ]
    }
   ],
   "source": [
    "gbm = lgb.LGBMClassifier()\n",
    "start = time.time()\n",
    "gbm.fit(X_train_scaled, y_train)\n",
    "\n",
    "print(f\"score : {gbm.score(X_test_scaled, y_test)}\")\n",
    "print(f\"time : {time.time() - start}\")"
   ]
  },
  {
   "cell_type": "markdown",
   "metadata": {},
   "source": [
    "- pca"
   ]
  },
  {
   "cell_type": "code",
   "execution_count": 83,
   "metadata": {},
   "outputs": [],
   "source": [
    "# pca 차원축소\n",
    "pca = PCA(n_components=118)\n",
    "pca.fit(X_train_scaled)\n",
    "\n",
    "X_train_pca = pca.transform(X_train_scaled)\n",
    "X_test_pca = pca.transform(X_test_scaled)"
   ]
  },
  {
   "cell_type": "code",
   "execution_count": 84,
   "metadata": {},
   "outputs": [
    {
     "name": "stderr",
     "output_type": "stream",
     "text": [
      "C:\\ProgramData\\Miniconda3\\lib\\site-packages\\sklearn\\preprocessing\\_label.py:98: DataConversionWarning: A column-vector y was passed when a 1d array was expected. Please change the shape of y to (n_samples, ), for example using ravel().\n",
      "  y = column_or_1d(y, warn=True)\n",
      "C:\\ProgramData\\Miniconda3\\lib\\site-packages\\sklearn\\preprocessing\\_label.py:133: DataConversionWarning: A column-vector y was passed when a 1d array was expected. Please change the shape of y to (n_samples, ), for example using ravel().\n",
      "  y = column_or_1d(y, warn=True)\n"
     ]
    },
    {
     "name": "stdout",
     "output_type": "stream",
     "text": [
      "0.9592857142857143\n",
      "time : 18.24376893043518\n"
     ]
    }
   ],
   "source": [
    "gbm = lgb.LGBMClassifier()\n",
    "start = time.time()\n",
    "gbm.fit(X_train_pca, y_train)\n",
    "\n",
    "print(gbm.score(X_test_pca, y_test))\n",
    "print(f\"time : {time.time() - start}\")"
   ]
  },
  {
   "cell_type": "code",
   "execution_count": null,
   "metadata": {},
   "outputs": [],
   "source": []
  },
  {
   "cell_type": "code",
   "execution_count": null,
   "metadata": {},
   "outputs": [],
   "source": []
  },
  {
   "cell_type": "code",
   "execution_count": null,
   "metadata": {},
   "outputs": [],
   "source": []
  },
  {
   "cell_type": "code",
   "execution_count": null,
   "metadata": {},
   "outputs": [],
   "source": []
  },
  {
   "cell_type": "code",
   "execution_count": null,
   "metadata": {},
   "outputs": [],
   "source": []
  },
  {
   "cell_type": "code",
   "execution_count": null,
   "metadata": {},
   "outputs": [],
   "source": []
  },
  {
   "cell_type": "markdown",
   "metadata": {},
   "source": [
    "특정한 틀 없이 자유롭게 해주시면 됩니다!"
   ]
  }
 ],
 "metadata": {
  "kernelspec": {
   "display_name": "Python 3 (ipykernel)",
   "language": "python",
   "name": "python3"
  },
  "language_info": {
   "codemirror_mode": {
    "name": "ipython",
    "version": 3
   },
   "file_extension": ".py",
   "mimetype": "text/x-python",
   "name": "python",
   "nbconvert_exporter": "python",
   "pygments_lexer": "ipython3",
   "version": "3.7.3"
  },
  "toc": {
   "base_numbering": 1,
   "nav_menu": {},
   "number_sections": true,
   "sideBar": true,
   "skip_h1_title": false,
   "title_cell": "Table of Contents",
   "title_sidebar": "Contents",
   "toc_cell": false,
   "toc_position": {},
   "toc_section_display": true,
   "toc_window_display": false
  }
 },
 "nbformat": 4,
 "nbformat_minor": 2
}
