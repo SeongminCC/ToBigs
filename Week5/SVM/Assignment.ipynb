{
 "cells": [
  {
   "cell_type": "markdown",
   "id": "9ad88f3e",
   "metadata": {},
   "source": [
    "# Multiclass SVM 구현"
   ]
  },
  {
   "cell_type": "code",
   "execution_count": 147,
   "id": "1ee53277",
   "metadata": {},
   "outputs": [
    {
     "name": "stdout",
     "output_type": "stream",
     "text": [
      "0         setosa\n",
      "1         setosa\n",
      "2         setosa\n",
      "3         setosa\n",
      "4         setosa\n",
      "         ...    \n",
      "145    virginica\n",
      "146    virginica\n",
      "147    virginica\n",
      "148    virginica\n",
      "149    virginica\n",
      "Name: species, Length: 150, dtype: object\n"
     ]
    }
   ],
   "source": [
    "import numpy as np\n",
    "import pandas as pd\n",
    "import matplotlib.pyplot as plt\n",
    "import seaborn as sns\n",
    "from sklearn.svm import SVC\n",
    "from sklearn.model_selection import train_test_split\n",
    "from sklearn.pipeline import Pipeline\n",
    "from sklearn.preprocessing import StandardScaler\n",
    "from sklearn.metrics import accuracy_score\n",
    "\n",
    "#IRIS 데이터 로드\n",
    "iris =  sns.load_dataset('iris') \n",
    "X= iris.iloc[:,:4] #학습할데이터\n",
    "y = iris.iloc[:,-1] #타겟\n",
    "print(y)"
   ]
  },
  {
   "cell_type": "markdown",
   "id": "fc9488c5",
   "metadata": {},
   "source": [
    "multiclass SVM을 one vs one으로 구현해보자."
   ]
  },
  {
   "cell_type": "code",
   "execution_count": 148,
   "id": "57c67bc8",
   "metadata": {},
   "outputs": [],
   "source": [
    "X_train, X_test, y_train, y_test = train_test_split(X, y, test_size=0.2, random_state=48)"
   ]
  },
  {
   "cell_type": "markdown",
   "id": "e408d456",
   "metadata": {},
   "source": [
    "# dataset 생성"
   ]
  },
  {
   "cell_type": "code",
   "execution_count": 149,
   "id": "88a4203d",
   "metadata": {},
   "outputs": [],
   "source": [
    "def standardization(train, test):\n",
    "    scaler = StandardScaler()\n",
    "    train = scaler.fit_transform(train)\n",
    "    test = scaler.transform(test)\n",
    "    return train, test\n",
    "\n",
    "X_train, X_test = standardization(X_train, X_test)"
   ]
  },
  {
   "cell_type": "markdown",
   "id": "b949d953",
   "metadata": {},
   "source": [
    "iris 데이터의 class는 총 3개이므로 pd.get_dummies를 통해 각 class에 해당하는 데이터셋 3개를 만들자."
   ]
  },
  {
   "cell_type": "code",
   "execution_count": 150,
   "id": "7733d26b",
   "metadata": {},
   "outputs": [
    {
     "data": {
      "text/plain": [
       "110     virginica\n",
       "69     versicolor\n",
       "148     virginica\n",
       "39         setosa\n",
       "53     versicolor\n",
       "          ...    \n",
       "64     versicolor\n",
       "91     versicolor\n",
       "81     versicolor\n",
       "51     versicolor\n",
       "0          setosa\n",
       "Name: species, Length: 120, dtype: object"
      ]
     },
     "execution_count": 150,
     "metadata": {},
     "output_type": "execute_result"
    }
   ],
   "source": [
    "y_train"
   ]
  },
  {
   "cell_type": "code",
   "execution_count": 151,
   "id": "7533f2ad",
   "metadata": {},
   "outputs": [
    {
     "name": "stdout",
     "output_type": "stream",
     "text": [
      "(120, 4) (120,) (30, 4) (30,)\n"
     ]
    }
   ],
   "source": [
    "print(X_train.shape, y_train.shape, X_test.shape, y_test.shape)\n",
    "\n",
    "Y_train = pd.get_dummies(y_train)\n",
    "Y_test = pd.get_dummies(y_test)"
   ]
  },
  {
   "cell_type": "markdown",
   "id": "cbb85e97",
   "metadata": {},
   "source": [
    "# n_class개의 분류기 생성"
   ]
  },
  {
   "cell_type": "code",
   "execution_count": 166,
   "id": "f02b20b6",
   "metadata": {},
   "outputs": [
    {
     "name": "stdout",
     "output_type": "stream",
     "text": [
      "class : setosa\n",
      "class : versicolor\n",
      "class : virginica\n"
     ]
    }
   ],
   "source": [
    "name = {0:'setosa', 1:'versicolor', 2:'virginica'}\n",
    "n_class = 3\n",
    "vote = []\n",
    "\n",
    "for i in range(n_class):\n",
    "    print(f\"class : {name[i]}\")\n",
    "    # model fitting\n",
    "    model = SVC(kernel='rbf', C=5, gamma=5, probability = True)\n",
    "    model.fit(X_train, Y_train.iloc[:,i])\n",
    "    \n",
    "    # predict\n",
    "    prob = model.predict_proba(X_test)[:,1]\n",
    "    predict = model.predict(X_test)\n",
    "    vote.append(prob)\n"
   ]
  },
  {
   "cell_type": "code",
   "execution_count": 167,
   "id": "6fa357e4",
   "metadata": {},
   "outputs": [
    {
     "data": {
      "text/plain": [
       "[array([0.00621536, 0.02324869, 0.06510919, 0.13373026, 0.03928502,\n",
       "        0.0216232 , 0.9999897 , 0.01228896, 0.96510752, 0.01186135,\n",
       "        0.02609762, 0.83305952, 0.92629475, 0.01295558, 0.04755133,\n",
       "        0.01661003, 0.99999875, 0.09875486, 0.04681178, 0.01196778,\n",
       "        0.95151677, 0.01375807, 0.02690462, 0.00992023, 0.04128403,\n",
       "        0.99999455, 0.95009692, 0.00943923, 0.01636012, 0.00859153]),\n",
       " array([0.99604449, 0.93443283, 0.61982344, 0.21619549, 0.3075326 ,\n",
       "        0.04848952, 0.02095464, 0.03989565, 0.05297601, 0.98197486,\n",
       "        0.06069198, 0.08432556, 0.06439   , 0.04726504, 0.88896472,\n",
       "        0.94982691, 0.01503908, 0.38141828, 0.32910961, 0.02419364,\n",
       "        0.05886186, 0.02553611, 0.6408428 , 0.98713962, 0.11518269,\n",
       "        0.01894581, 0.05939306, 0.01919834, 0.03593654, 0.99117652]),\n",
       " array([0.00831668, 0.05904351, 0.2021984 , 0.45788807, 0.60981837,\n",
       "        0.94306038, 0.02101353, 0.97986669, 0.07466733, 0.02679696,\n",
       "        0.92764829, 0.14920347, 0.10352309, 0.97273346, 0.06058456,\n",
       "        0.06067506, 0.01303732, 0.32904864, 0.54938684, 0.98740853,\n",
       "        0.08620705, 0.98297796, 0.3108372 , 0.0214858 , 0.8366687 ,\n",
       "        0.01820036, 0.08730418, 0.99174632, 0.97805541, 0.01624214])]"
      ]
     },
     "execution_count": 167,
     "metadata": {},
     "output_type": "execute_result"
    }
   ],
   "source": [
    "vote"
   ]
  },
  {
   "cell_type": "markdown",
   "id": "14ebeb79",
   "metadata": {},
   "source": [
    "# voting"
   ]
  },
  {
   "cell_type": "code",
   "execution_count": 169,
   "id": "0936252e",
   "metadata": {},
   "outputs": [
    {
     "name": "stdout",
     "output_type": "stream",
     "text": [
      "[1, 1, 1, 2, 2, 2, 0, 2, 0, 1, 2, 0, 0, 2, 1, 1, 0, 1, 2, 2, 0, 2, 1, 1, 2, 0, 0, 2, 2, 1]\n"
     ]
    }
   ],
   "source": [
    "answer = []\n",
    "\n",
    "for i_1, i_2, i_3 in zip(vote[0], vote[1], vote[2]):\n",
    "    ind_li = [i_1, i_2, i_3]\n",
    "    target = ind_li.index(max(ind_li))\n",
    "    \n",
    "    answer.append(target)\n",
    "    \n",
    "print(answer)\n"
   ]
  },
  {
   "cell_type": "markdown",
   "id": "08a8adf6",
   "metadata": {},
   "source": [
    "# Accuracy"
   ]
  },
  {
   "cell_type": "code",
   "execution_count": 170,
   "id": "877a9fd1",
   "metadata": {},
   "outputs": [
    {
     "name": "stdout",
     "output_type": "stream",
     "text": [
      "Accuracy : 0.87\n"
     ]
    }
   ],
   "source": [
    "score = 0\n",
    "for i in range(len(answer)):\n",
    "    if name[answer[i]] == y_test.iloc[i]:\n",
    "        score += 1\n",
    "        \n",
    "print(f\"Accuracy : {np.round(score / len(y_test), 2)}\")"
   ]
  },
  {
   "cell_type": "markdown",
   "id": "116ce228",
   "metadata": {},
   "source": [
    "# Class 생성"
   ]
  },
  {
   "cell_type": "code",
   "execution_count": 171,
   "id": "154185f0",
   "metadata": {},
   "outputs": [
    {
     "name": "stdout",
     "output_type": "stream",
     "text": [
      "0         setosa\n",
      "1         setosa\n",
      "2         setosa\n",
      "3         setosa\n",
      "4         setosa\n",
      "         ...    \n",
      "145    virginica\n",
      "146    virginica\n",
      "147    virginica\n",
      "148    virginica\n",
      "149    virginica\n",
      "Name: species, Length: 150, dtype: object\n"
     ]
    }
   ],
   "source": [
    "import numpy as np\n",
    "import pandas as pd\n",
    "import matplotlib.pyplot as plt\n",
    "import seaborn as sns\n",
    "from sklearn.svm import SVC\n",
    "from sklearn.model_selection import train_test_split\n",
    "from sklearn.pipeline import Pipeline\n",
    "from sklearn.preprocessing import StandardScaler\n",
    "from sklearn.metrics import accuracy_score\n",
    "\n",
    "#IRIS 데이터 로드\n",
    "iris =  sns.load_dataset('iris') \n",
    "X= iris.iloc[:,:4] #학습할데이터\n",
    "y = iris.iloc[:,-1] #타겟\n",
    "print(y)"
   ]
  },
  {
   "cell_type": "code",
   "execution_count": 172,
   "id": "9f28bd9f",
   "metadata": {},
   "outputs": [],
   "source": [
    "X_train, X_test, y_train, y_test = train_test_split(X, y, test_size=0.2, random_state=48)"
   ]
  },
  {
   "cell_type": "code",
   "execution_count": 173,
   "id": "11719030",
   "metadata": {},
   "outputs": [],
   "source": [
    "def standardization(train, test):\n",
    "    scaler = StandardScaler()\n",
    "    train = scaler.fit_transform(train)\n",
    "    test = scaler.transform(test)\n",
    "    return train, test\n",
    "\n",
    "X_train, X_test = standardization(X_train, X_test)"
   ]
  },
  {
   "cell_type": "code",
   "execution_count": 174,
   "id": "e918fca6",
   "metadata": {},
   "outputs": [],
   "source": [
    "class multi_SVM:\n",
    "    def __init__(self, n_class = 3):\n",
    "        self.n_class = n_class\n",
    "        self.vote = []\n",
    "        self.answer = []\n",
    "         \n",
    "        \n",
    "    def fit(self, X_train, y_train, X_test, y_test):\n",
    "        # encoding\n",
    "        self.y_test = y_test\n",
    "        self.Y_train = pd.get_dummies(y_train)\n",
    "        self.Y_test = pd.get_dummies(y_test)\n",
    "        \n",
    "        \n",
    "        # 이름 dict 생성\n",
    "        self.name = {}\n",
    "        for i in range(len(Y_train.columns)):\n",
    "            self.name[i] = Y_train.columns[i]\n",
    "         \n",
    "        for i in range(self.n_class):\n",
    "            model = SVC(kernel='rbf', C=5, gamma=5, probability = True)\n",
    "            model.fit(X_train, Y_train.iloc[:,i])\n",
    "            \n",
    "            # predict\n",
    "            prob = model.predict_proba(X_test)[:,1]\n",
    "            predict = model.predict(X_test)\n",
    "            self.vote.append(prob)\n",
    "            \n",
    "    def predict(self):\n",
    "        for i_1, i_2, i_3 in zip(self.vote[0], self.vote[1], self.vote[2]):\n",
    "            ind_li = [i_1, i_2, i_3]\n",
    "            target = ind_li.index(max(ind_li))\n",
    "\n",
    "            self.answer.append(target)\n",
    "            \n",
    "    def accuracy(self):\n",
    "        score = 0\n",
    "        for i in range(len(self.answer)):\n",
    "            if self.name[self.answer[i]] == self.y_test.iloc[i]:\n",
    "                score += 1\n",
    "\n",
    "        print(f\"Accuracy : {np.round(score / len(self.y_test), 2)}\")"
   ]
  },
  {
   "cell_type": "code",
   "execution_count": 175,
   "id": "d83efa9e",
   "metadata": {},
   "outputs": [
    {
     "name": "stdout",
     "output_type": "stream",
     "text": [
      "Accuracy : 0.87\n"
     ]
    }
   ],
   "source": [
    "sm = multi_SVM()\n",
    "sm.fit(X_train, y_train, X_test, y_test)\n",
    "sm.predict()\n",
    "sm.accuracy()"
   ]
  },
  {
   "cell_type": "code",
   "execution_count": null,
   "id": "18dddf3b",
   "metadata": {},
   "outputs": [],
   "source": []
  },
  {
   "cell_type": "code",
   "execution_count": null,
   "id": "49dd2218",
   "metadata": {},
   "outputs": [],
   "source": []
  },
  {
   "cell_type": "code",
   "execution_count": null,
   "id": "da1c4b7c",
   "metadata": {},
   "outputs": [],
   "source": []
  },
  {
   "cell_type": "code",
   "execution_count": null,
   "id": "acf3d05f",
   "metadata": {},
   "outputs": [],
   "source": []
  },
  {
   "cell_type": "code",
   "execution_count": null,
   "id": "d08fc03e",
   "metadata": {},
   "outputs": [],
   "source": []
  }
 ],
 "metadata": {
  "kernelspec": {
   "display_name": "Python 3 (ipykernel)",
   "language": "python",
   "name": "python3"
  },
  "language_info": {
   "codemirror_mode": {
    "name": "ipython",
    "version": 3
   },
   "file_extension": ".py",
   "mimetype": "text/x-python",
   "name": "python",
   "nbconvert_exporter": "python",
   "pygments_lexer": "ipython3",
   "version": "3.7.3"
  },
  "toc": {
   "base_numbering": 1,
   "nav_menu": {},
   "number_sections": true,
   "sideBar": true,
   "skip_h1_title": false,
   "title_cell": "Table of Contents",
   "title_sidebar": "Contents",
   "toc_cell": false,
   "toc_position": {},
   "toc_section_display": true,
   "toc_window_display": false
  }
 },
 "nbformat": 4,
 "nbformat_minor": 5
}
