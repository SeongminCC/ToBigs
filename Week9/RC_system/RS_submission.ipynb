{
 "cells": [
  {
   "cell_type": "markdown",
   "metadata": {
    "id": "FFR-wyaS02Ex"
   },
   "source": [
    "# Module import"
   ]
  },
  {
   "cell_type": "code",
   "execution_count": 1,
   "metadata": {
    "colab": {
     "base_uri": "https://localhost:8080/"
    },
    "executionInfo": {
     "elapsed": 76009,
     "status": "ok",
     "timestamp": 1679379751867,
     "user": {
      "displayName": "조성민",
      "userId": "15810378992467426330"
     },
     "user_tz": -540
    },
    "id": "cYC3_PJ2056t",
    "outputId": "1f51b3d3-269f-4e3b-af8f-7fb2dbe426de"
   },
   "outputs": [
    {
     "name": "stdout",
     "output_type": "stream",
     "text": [
      "Looking in indexes: https://pypi.org/simple, https://us-python.pkg.dev/colab-wheels/public/simple/\n",
      "Collecting scikit-surprise\n",
      "  Downloading scikit-surprise-1.1.3.tar.gz (771 kB)\n",
      "\u001b[2K     \u001b[90m━━━━━━━━━━━━━━━━━━━━━━━━━━━━━━━━━━━━━━━\u001b[0m \u001b[32m772.0/772.0 KB\u001b[0m \u001b[31m9.2 MB/s\u001b[0m eta \u001b[36m0:00:00\u001b[0m\n",
      "\u001b[?25h  Preparing metadata (setup.py) ... \u001b[?25l\u001b[?25hdone\n",
      "Requirement already satisfied: joblib>=1.0.0 in /usr/local/lib/python3.9/dist-packages (from scikit-surprise) (1.1.1)\n",
      "Requirement already satisfied: numpy>=1.17.3 in /usr/local/lib/python3.9/dist-packages (from scikit-surprise) (1.22.4)\n",
      "Requirement already satisfied: scipy>=1.3.2 in /usr/local/lib/python3.9/dist-packages (from scikit-surprise) (1.10.1)\n",
      "Building wheels for collected packages: scikit-surprise\n",
      "  Building wheel for scikit-surprise (setup.py) ... \u001b[?25l\u001b[?25hdone\n",
      "  Created wheel for scikit-surprise: filename=scikit_surprise-1.1.3-cp39-cp39-linux_x86_64.whl size=3193637 sha256=7b9fa3fda180c2a398245168857f269cde3c0873bc3a8ac6fc16fd1c67c498a7\n",
      "  Stored in directory: /root/.cache/pip/wheels/c6/3a/46/9b17b3512bdf283c6cb84f59929cdd5199d4e754d596d22784\n",
      "Successfully built scikit-surprise\n",
      "Installing collected packages: scikit-surprise\n",
      "Successfully installed scikit-surprise-1.1.3\n"
     ]
    }
   ],
   "source": [
    "!pip install scikit-surprise"
   ]
  },
  {
   "cell_type": "code",
   "execution_count": 25,
   "metadata": {
    "executionInfo": {
     "elapsed": 1305,
     "status": "ok",
     "timestamp": 1679383094900,
     "user": {
      "displayName": "조성민",
      "userId": "15810378992467426330"
     },
     "user_tz": -540
    },
    "id": "QR_l_VoO0ts8"
   },
   "outputs": [],
   "source": [
    "import pandas as pd\n",
    "import numpy as np\n",
    "import matplotlib.pyplot as plt\n",
    "import seaborn as sns\n",
    "\n",
    "from surprise import SVD\n",
    "from surprise import Dataset\n",
    "from surprise.model_selection import cross_validate"
   ]
  },
  {
   "cell_type": "markdown",
   "metadata": {
    "id": "cMuQ0bWo07pj"
   },
   "source": [
    "# Data Load"
   ]
  },
  {
   "cell_type": "markdown",
   "metadata": {
    "id": "1D90Qx1_0_oC"
   },
   "source": [
    "- userId : 사용자 ID\n",
    "- movieId : 영화 ID\n",
    "- rating : 별점(0.5 stargs ~ 5.0 stars)\n",
    "- timestamp : [midnight Coordinated Universal Time (UTC) of January 1, 1970] 이후로의 시간(second)"
   ]
  },
  {
   "cell_type": "code",
   "execution_count": 8,
   "metadata": {
    "colab": {
     "base_uri": "https://localhost:8080/",
     "height": 424
    },
    "executionInfo": {
     "elapsed": 1350,
     "status": "ok",
     "timestamp": 1679379901530,
     "user": {
      "displayName": "조성민",
      "userId": "15810378992467426330"
     },
     "user_tz": -540
    },
    "id": "1KBYbIpa07f8",
    "outputId": "05fc5059-a230-41a3-dd98-d58cea541d86"
   },
   "outputs": [
    {
     "data": {
      "text/html": [
       "\n",
       "  <div id=\"df-3b95d6c6-8542-4c1a-9193-ed9f85b14134\">\n",
       "    <div class=\"colab-df-container\">\n",
       "      <div>\n",
       "<style scoped>\n",
       "    .dataframe tbody tr th:only-of-type {\n",
       "        vertical-align: middle;\n",
       "    }\n",
       "\n",
       "    .dataframe tbody tr th {\n",
       "        vertical-align: top;\n",
       "    }\n",
       "\n",
       "    .dataframe thead th {\n",
       "        text-align: right;\n",
       "    }\n",
       "</style>\n",
       "<table border=\"1\" class=\"dataframe\">\n",
       "  <thead>\n",
       "    <tr style=\"text-align: right;\">\n",
       "      <th></th>\n",
       "      <th>userId</th>\n",
       "      <th>movieId</th>\n",
       "      <th>rating</th>\n",
       "      <th>timestamp</th>\n",
       "    </tr>\n",
       "  </thead>\n",
       "  <tbody>\n",
       "    <tr>\n",
       "      <th>0</th>\n",
       "      <td>1</td>\n",
       "      <td>1</td>\n",
       "      <td>4.0</td>\n",
       "      <td>964982703</td>\n",
       "    </tr>\n",
       "    <tr>\n",
       "      <th>1</th>\n",
       "      <td>1</td>\n",
       "      <td>3</td>\n",
       "      <td>4.0</td>\n",
       "      <td>964981247</td>\n",
       "    </tr>\n",
       "    <tr>\n",
       "      <th>2</th>\n",
       "      <td>1</td>\n",
       "      <td>6</td>\n",
       "      <td>4.0</td>\n",
       "      <td>964982224</td>\n",
       "    </tr>\n",
       "    <tr>\n",
       "      <th>3</th>\n",
       "      <td>1</td>\n",
       "      <td>47</td>\n",
       "      <td>5.0</td>\n",
       "      <td>964983815</td>\n",
       "    </tr>\n",
       "    <tr>\n",
       "      <th>4</th>\n",
       "      <td>1</td>\n",
       "      <td>50</td>\n",
       "      <td>5.0</td>\n",
       "      <td>964982931</td>\n",
       "    </tr>\n",
       "    <tr>\n",
       "      <th>...</th>\n",
       "      <td>...</td>\n",
       "      <td>...</td>\n",
       "      <td>...</td>\n",
       "      <td>...</td>\n",
       "    </tr>\n",
       "    <tr>\n",
       "      <th>100831</th>\n",
       "      <td>610</td>\n",
       "      <td>166534</td>\n",
       "      <td>4.0</td>\n",
       "      <td>1493848402</td>\n",
       "    </tr>\n",
       "    <tr>\n",
       "      <th>100832</th>\n",
       "      <td>610</td>\n",
       "      <td>168248</td>\n",
       "      <td>5.0</td>\n",
       "      <td>1493850091</td>\n",
       "    </tr>\n",
       "    <tr>\n",
       "      <th>100833</th>\n",
       "      <td>610</td>\n",
       "      <td>168250</td>\n",
       "      <td>5.0</td>\n",
       "      <td>1494273047</td>\n",
       "    </tr>\n",
       "    <tr>\n",
       "      <th>100834</th>\n",
       "      <td>610</td>\n",
       "      <td>168252</td>\n",
       "      <td>5.0</td>\n",
       "      <td>1493846352</td>\n",
       "    </tr>\n",
       "    <tr>\n",
       "      <th>100835</th>\n",
       "      <td>610</td>\n",
       "      <td>170875</td>\n",
       "      <td>3.0</td>\n",
       "      <td>1493846415</td>\n",
       "    </tr>\n",
       "  </tbody>\n",
       "</table>\n",
       "<p>100836 rows × 4 columns</p>\n",
       "</div>\n",
       "      <button class=\"colab-df-convert\" onclick=\"convertToInteractive('df-3b95d6c6-8542-4c1a-9193-ed9f85b14134')\"\n",
       "              title=\"Convert this dataframe to an interactive table.\"\n",
       "              style=\"display:none;\">\n",
       "        \n",
       "  <svg xmlns=\"http://www.w3.org/2000/svg\" height=\"24px\"viewBox=\"0 0 24 24\"\n",
       "       width=\"24px\">\n",
       "    <path d=\"M0 0h24v24H0V0z\" fill=\"none\"/>\n",
       "    <path d=\"M18.56 5.44l.94 2.06.94-2.06 2.06-.94-2.06-.94-.94-2.06-.94 2.06-2.06.94zm-11 1L8.5 8.5l.94-2.06 2.06-.94-2.06-.94L8.5 2.5l-.94 2.06-2.06.94zm10 10l.94 2.06.94-2.06 2.06-.94-2.06-.94-.94-2.06-.94 2.06-2.06.94z\"/><path d=\"M17.41 7.96l-1.37-1.37c-.4-.4-.92-.59-1.43-.59-.52 0-1.04.2-1.43.59L10.3 9.45l-7.72 7.72c-.78.78-.78 2.05 0 2.83L4 21.41c.39.39.9.59 1.41.59.51 0 1.02-.2 1.41-.59l7.78-7.78 2.81-2.81c.8-.78.8-2.07 0-2.86zM5.41 20L4 18.59l7.72-7.72 1.47 1.35L5.41 20z\"/>\n",
       "  </svg>\n",
       "      </button>\n",
       "      \n",
       "  <style>\n",
       "    .colab-df-container {\n",
       "      display:flex;\n",
       "      flex-wrap:wrap;\n",
       "      gap: 12px;\n",
       "    }\n",
       "\n",
       "    .colab-df-convert {\n",
       "      background-color: #E8F0FE;\n",
       "      border: none;\n",
       "      border-radius: 50%;\n",
       "      cursor: pointer;\n",
       "      display: none;\n",
       "      fill: #1967D2;\n",
       "      height: 32px;\n",
       "      padding: 0 0 0 0;\n",
       "      width: 32px;\n",
       "    }\n",
       "\n",
       "    .colab-df-convert:hover {\n",
       "      background-color: #E2EBFA;\n",
       "      box-shadow: 0px 1px 2px rgba(60, 64, 67, 0.3), 0px 1px 3px 1px rgba(60, 64, 67, 0.15);\n",
       "      fill: #174EA6;\n",
       "    }\n",
       "\n",
       "    [theme=dark] .colab-df-convert {\n",
       "      background-color: #3B4455;\n",
       "      fill: #D2E3FC;\n",
       "    }\n",
       "\n",
       "    [theme=dark] .colab-df-convert:hover {\n",
       "      background-color: #434B5C;\n",
       "      box-shadow: 0px 1px 3px 1px rgba(0, 0, 0, 0.15);\n",
       "      filter: drop-shadow(0px 1px 2px rgba(0, 0, 0, 0.3));\n",
       "      fill: #FFFFFF;\n",
       "    }\n",
       "  </style>\n",
       "\n",
       "      <script>\n",
       "        const buttonEl =\n",
       "          document.querySelector('#df-3b95d6c6-8542-4c1a-9193-ed9f85b14134 button.colab-df-convert');\n",
       "        buttonEl.style.display =\n",
       "          google.colab.kernel.accessAllowed ? 'block' : 'none';\n",
       "\n",
       "        async function convertToInteractive(key) {\n",
       "          const element = document.querySelector('#df-3b95d6c6-8542-4c1a-9193-ed9f85b14134');\n",
       "          const dataTable =\n",
       "            await google.colab.kernel.invokeFunction('convertToInteractive',\n",
       "                                                     [key], {});\n",
       "          if (!dataTable) return;\n",
       "\n",
       "          const docLinkHtml = 'Like what you see? Visit the ' +\n",
       "            '<a target=\"_blank\" href=https://colab.research.google.com/notebooks/data_table.ipynb>data table notebook</a>'\n",
       "            + ' to learn more about interactive tables.';\n",
       "          element.innerHTML = '';\n",
       "          dataTable['output_type'] = 'display_data';\n",
       "          await google.colab.output.renderOutput(dataTable, element);\n",
       "          const docLink = document.createElement('div');\n",
       "          docLink.innerHTML = docLinkHtml;\n",
       "          element.appendChild(docLink);\n",
       "        }\n",
       "      </script>\n",
       "    </div>\n",
       "  </div>\n",
       "  "
      ],
      "text/plain": [
       "        userId  movieId  rating   timestamp\n",
       "0            1        1     4.0   964982703\n",
       "1            1        3     4.0   964981247\n",
       "2            1        6     4.0   964982224\n",
       "3            1       47     5.0   964983815\n",
       "4            1       50     5.0   964982931\n",
       "...        ...      ...     ...         ...\n",
       "100831     610   166534     4.0  1493848402\n",
       "100832     610   168248     5.0  1493850091\n",
       "100833     610   168250     5.0  1494273047\n",
       "100834     610   168252     5.0  1493846352\n",
       "100835     610   170875     3.0  1493846415\n",
       "\n",
       "[100836 rows x 4 columns]"
      ]
     },
     "metadata": {},
     "output_type": "display_data"
    }
   ],
   "source": [
    "data = pd.read_csv('/content/drive/MyDrive/투빅스 연합동아리/ml-latest-small/ratings.csv')\n",
    "display(data)"
   ]
  },
  {
   "cell_type": "markdown",
   "metadata": {
    "id": "XF70IPbk1OOo"
   },
   "source": [
    "# EDA"
   ]
  },
  {
   "cell_type": "code",
   "execution_count": 9,
   "metadata": {
    "colab": {
     "base_uri": "https://localhost:8080/"
    },
    "executionInfo": {
     "elapsed": 37,
     "status": "ok",
     "timestamp": 1679379906990,
     "user": {
      "displayName": "조성민",
      "userId": "15810378992467426330"
     },
     "user_tz": -540
    },
    "id": "ghqpFn0n07bg",
    "outputId": "a1ef7edb-297a-445e-b90d-0819d2ca7b61"
   },
   "outputs": [
    {
     "name": "stdout",
     "output_type": "stream",
     "text": [
      "<class 'pandas.core.frame.DataFrame'>\n",
      "RangeIndex: 100836 entries, 0 to 100835\n",
      "Data columns (total 4 columns):\n",
      " #   Column     Non-Null Count   Dtype  \n",
      "---  ------     --------------   -----  \n",
      " 0   userId     100836 non-null  int64  \n",
      " 1   movieId    100836 non-null  int64  \n",
      " 2   rating     100836 non-null  float64\n",
      " 3   timestamp  100836 non-null  int64  \n",
      "dtypes: float64(1), int64(3)\n",
      "memory usage: 3.1 MB\n"
     ]
    }
   ],
   "source": [
    "data.info()"
   ]
  },
  {
   "cell_type": "markdown",
   "metadata": {
    "id": "TJ0T52VH1SJ4"
   },
   "source": [
    "## 결측치 확인"
   ]
  },
  {
   "cell_type": "code",
   "execution_count": 10,
   "metadata": {
    "colab": {
     "base_uri": "https://localhost:8080/"
    },
    "executionInfo": {
     "elapsed": 32,
     "status": "ok",
     "timestamp": 1679379906992,
     "user": {
      "displayName": "조성민",
      "userId": "15810378992467426330"
     },
     "user_tz": -540
    },
    "id": "VdE0BjJI07Yd",
    "outputId": "a25255e4-73d7-4665-a43c-f5ccf5817298"
   },
   "outputs": [
    {
     "name": "stdout",
     "output_type": "stream",
     "text": [
      "데이터 개수 : 100836\n",
      "userId       0\n",
      "movieId      0\n",
      "rating       0\n",
      "timestamp    0\n",
      "dtype: int64\n"
     ]
    }
   ],
   "source": [
    "print(f\"데이터 개수 : {len(data)}\")\n",
    "print(len(data) - data.count())"
   ]
  },
  {
   "cell_type": "markdown",
   "metadata": {
    "id": "UO8T5G1M1-no"
   },
   "source": [
    "## 별점 비율 시각화"
   ]
  },
  {
   "cell_type": "code",
   "execution_count": 11,
   "metadata": {
    "colab": {
     "base_uri": "https://localhost:8080/",
     "height": 350
    },
    "executionInfo": {
     "elapsed": 25,
     "status": "ok",
     "timestamp": 1679379906994,
     "user": {
      "displayName": "조성민",
      "userId": "15810378992467426330"
     },
     "user_tz": -540
    },
    "id": "YrSs4NQ107VR",
    "outputId": "098bbc3c-24d7-49c7-afe7-4f34a405b870"
   },
   "outputs": [
    {
     "data": {
      "image/png": "[encoded data removed]",
      "text/plain": [
       "<Figure size 360x360 with 1 Axes>"
      ]
     },
     "metadata": {
      "needs_background": "light"
     },
     "output_type": "display_data"
    }
   ],
   "source": [
    "plt.figure(figsize = (5,5))\n",
    "sns.countplot(x = data['rating'])\n",
    "plt.title('Rating')\n",
    "plt.show()"
   ]
  },
  {
   "cell_type": "markdown",
   "metadata": {
    "id": "4n2ilYXM22iX"
   },
   "source": [
    "# 컨텐츠 필터링 (Content-based Filtering)"
   ]
  },
  {
   "cell_type": "code",
   "execution_count": 23,
   "metadata": {
    "executionInfo": {
     "elapsed": 3,
     "status": "ok",
     "timestamp": 1679383030560,
     "user": {
      "displayName": "조성민",
      "userId": "15810378992467426330"
     },
     "user_tz": -540
    },
    "id": "q5PatJ1o07TS"
   },
   "outputs": [],
   "source": [
    "# data의 userID 와 movieID가 0부터 시작할 수 있도록 조정\n",
    "data.iloc[:,0] -= 1\n",
    "data.iloc[:,1] -= 1"
   ]
  },
  {
   "cell_type": "code",
   "execution_count": 24,
   "metadata": {
    "colab": {
     "base_uri": "https://localhost:8080/",
     "height": 424
    },
    "executionInfo": {
     "elapsed": 14,
     "status": "ok",
     "timestamp": 1679383031963,
     "user": {
      "displayName": "조성민",
      "userId": "15810378992467426330"
     },
     "user_tz": -540
    },
    "id": "dfMyr0Jn07Q5",
    "outputId": "7bea23ab-f393-4c64-e11a-d9399063be68"
   },
   "outputs": [
    {
     "data": {
      "text/html": [
       "\n",
       "  <div id=\"df-cd106c2b-f196-4f8e-9b59-f45c6e1c3fb6\">\n",
       "    <div class=\"colab-df-container\">\n",
       "      <div>\n",
       "<style scoped>\n",
       "    .dataframe tbody tr th:only-of-type {\n",
       "        vertical-align: middle;\n",
       "    }\n",
       "\n",
       "    .dataframe tbody tr th {\n",
       "        vertical-align: top;\n",
       "    }\n",
       "\n",
       "    .dataframe thead th {\n",
       "        text-align: right;\n",
       "    }\n",
       "</style>\n",
       "<table border=\"1\" class=\"dataframe\">\n",
       "  <thead>\n",
       "    <tr style=\"text-align: right;\">\n",
       "      <th></th>\n",
       "      <th>userId</th>\n",
       "      <th>movieId</th>\n",
       "      <th>rating</th>\n",
       "      <th>timestamp</th>\n",
       "    </tr>\n",
       "  </thead>\n",
       "  <tbody>\n",
       "    <tr>\n",
       "      <th>0</th>\n",
       "      <td>0</td>\n",
       "      <td>0</td>\n",
       "      <td>4.0</td>\n",
       "      <td>964982703</td>\n",
       "    </tr>\n",
       "    <tr>\n",
       "      <th>1</th>\n",
       "      <td>0</td>\n",
       "      <td>2</td>\n",
       "      <td>4.0</td>\n",
       "      <td>964981247</td>\n",
       "    </tr>\n",
       "    <tr>\n",
       "      <th>2</th>\n",
       "      <td>0</td>\n",
       "      <td>5</td>\n",
       "      <td>4.0</td>\n",
       "      <td>964982224</td>\n",
       "    </tr>\n",
       "    <tr>\n",
       "      <th>3</th>\n",
       "      <td>0</td>\n",
       "      <td>46</td>\n",
       "      <td>5.0</td>\n",
       "      <td>964983815</td>\n",
       "    </tr>\n",
       "    <tr>\n",
       "      <th>4</th>\n",
       "      <td>0</td>\n",
       "      <td>49</td>\n",
       "      <td>5.0</td>\n",
       "      <td>964982931</td>\n",
       "    </tr>\n",
       "    <tr>\n",
       "      <th>...</th>\n",
       "      <td>...</td>\n",
       "      <td>...</td>\n",
       "      <td>...</td>\n",
       "      <td>...</td>\n",
       "    </tr>\n",
       "    <tr>\n",
       "      <th>100831</th>\n",
       "      <td>609</td>\n",
       "      <td>166533</td>\n",
       "      <td>4.0</td>\n",
       "      <td>1493848402</td>\n",
       "    </tr>\n",
       "    <tr>\n",
       "      <th>100832</th>\n",
       "      <td>609</td>\n",
       "      <td>168247</td>\n",
       "      <td>5.0</td>\n",
       "      <td>1493850091</td>\n",
       "    </tr>\n",
       "    <tr>\n",
       "      <th>100833</th>\n",
       "      <td>609</td>\n",
       "      <td>168249</td>\n",
       "      <td>5.0</td>\n",
       "      <td>1494273047</td>\n",
       "    </tr>\n",
       "    <tr>\n",
       "      <th>100834</th>\n",
       "      <td>609</td>\n",
       "      <td>168251</td>\n",
       "      <td>5.0</td>\n",
       "      <td>1493846352</td>\n",
       "    </tr>\n",
       "    <tr>\n",
       "      <th>100835</th>\n",
       "      <td>609</td>\n",
       "      <td>170874</td>\n",
       "      <td>3.0</td>\n",
       "      <td>1493846415</td>\n",
       "    </tr>\n",
       "  </tbody>\n",
       "</table>\n",
       "<p>100836 rows × 4 columns</p>\n",
       "</div>\n",
       "      <button class=\"colab-df-convert\" onclick=\"convertToInteractive('df-cd106c2b-f196-4f8e-9b59-f45c6e1c3fb6')\"\n",
       "              title=\"Convert this dataframe to an interactive table.\"\n",
       "              style=\"display:none;\">\n",
       "        \n",
       "  <svg xmlns=\"http://www.w3.org/2000/svg\" height=\"24px\"viewBox=\"0 0 24 24\"\n",
       "       width=\"24px\">\n",
       "    <path d=\"M0 0h24v24H0V0z\" fill=\"none\"/>\n",
       "    <path d=\"M18.56 5.44l.94 2.06.94-2.06 2.06-.94-2.06-.94-.94-2.06-.94 2.06-2.06.94zm-11 1L8.5 8.5l.94-2.06 2.06-.94-2.06-.94L8.5 2.5l-.94 2.06-2.06.94zm10 10l.94 2.06.94-2.06 2.06-.94-2.06-.94-.94-2.06-.94 2.06-2.06.94z\"/><path d=\"M17.41 7.96l-1.37-1.37c-.4-.4-.92-.59-1.43-.59-.52 0-1.04.2-1.43.59L10.3 9.45l-7.72 7.72c-.78.78-.78 2.05 0 2.83L4 21.41c.39.39.9.59 1.41.59.51 0 1.02-.2 1.41-.59l7.78-7.78 2.81-2.81c.8-.78.8-2.07 0-2.86zM5.41 20L4 18.59l7.72-7.72 1.47 1.35L5.41 20z\"/>\n",
       "  </svg>\n",
       "      </button>\n",
       "      \n",
       "  <style>\n",
       "    .colab-df-container {\n",
       "      display:flex;\n",
       "      flex-wrap:wrap;\n",
       "      gap: 12px;\n",
       "    }\n",
       "\n",
       "    .colab-df-convert {\n",
       "      background-color: #E8F0FE;\n",
       "      border: none;\n",
       "      border-radius: 50%;\n",
       "      cursor: pointer;\n",
       "      display: none;\n",
       "      fill: #1967D2;\n",
       "      height: 32px;\n",
       "      padding: 0 0 0 0;\n",
       "      width: 32px;\n",
       "    }\n",
       "\n",
       "    .colab-df-convert:hover {\n",
       "      background-color: #E2EBFA;\n",
       "      box-shadow: 0px 1px 2px rgba(60, 64, 67, 0.3), 0px 1px 3px 1px rgba(60, 64, 67, 0.15);\n",
       "      fill: #174EA6;\n",
       "    }\n",
       "\n",
       "    [theme=dark] .colab-df-convert {\n",
       "      background-color: #3B4455;\n",
       "      fill: #D2E3FC;\n",
       "    }\n",
       "\n",
       "    [theme=dark] .colab-df-convert:hover {\n",
       "      background-color: #434B5C;\n",
       "      box-shadow: 0px 1px 3px 1px rgba(0, 0, 0, 0.15);\n",
       "      filter: drop-shadow(0px 1px 2px rgba(0, 0, 0, 0.3));\n",
       "      fill: #FFFFFF;\n",
       "    }\n",
       "  </style>\n",
       "\n",
       "      <script>\n",
       "        const buttonEl =\n",
       "          document.querySelector('#df-cd106c2b-f196-4f8e-9b59-f45c6e1c3fb6 button.colab-df-convert');\n",
       "        buttonEl.style.display =\n",
       "          google.colab.kernel.accessAllowed ? 'block' : 'none';\n",
       "\n",
       "        async function convertToInteractive(key) {\n",
       "          const element = document.querySelector('#df-cd106c2b-f196-4f8e-9b59-f45c6e1c3fb6');\n",
       "          const dataTable =\n",
       "            await google.colab.kernel.invokeFunction('convertToInteractive',\n",
       "                                                     [key], {});\n",
       "          if (!dataTable) return;\n",
       "\n",
       "          const docLinkHtml = 'Like what you see? Visit the ' +\n",
       "            '<a target=\"_blank\" href=https://colab.research.google.com/notebooks/data_table.ipynb>data table notebook</a>'\n",
       "            + ' to learn more about interactive tables.';\n",
       "          element.innerHTML = '';\n",
       "          dataTable['output_type'] = 'display_data';\n",
       "          await google.colab.output.renderOutput(dataTable, element);\n",
       "          const docLink = document.createElement('div');\n",
       "          docLink.innerHTML = docLinkHtml;\n",
       "          element.appendChild(docLink);\n",
       "        }\n",
       "      </script>\n",
       "    </div>\n",
       "  </div>\n",
       "  "
      ],
      "text/plain": [
       "        userId  movieId  rating   timestamp\n",
       "0            0        0     4.0   964982703\n",
       "1            0        2     4.0   964981247\n",
       "2            0        5     4.0   964982224\n",
       "3            0       46     5.0   964983815\n",
       "4            0       49     5.0   964982931\n",
       "...        ...      ...     ...         ...\n",
       "100831     609   166533     4.0  1493848402\n",
       "100832     609   168247     5.0  1493850091\n",
       "100833     609   168249     5.0  1494273047\n",
       "100834     609   168251     5.0  1493846352\n",
       "100835     609   170874     3.0  1493846415\n",
       "\n",
       "[100836 rows x 4 columns]"
      ]
     },
     "execution_count": 24,
     "metadata": {},
     "output_type": "execute_result"
    }
   ],
   "source": [
    "data"
   ]
  },
  {
   "cell_type": "code",
   "execution_count": 26,
   "metadata": {
    "colab": {
     "base_uri": "https://localhost:8080/"
    },
    "executionInfo": {
     "elapsed": 13,
     "status": "ok",
     "timestamp": 1679383101476,
     "user": {
      "displayName": "조성민",
      "userId": "15810378992467426330"
     },
     "user_tz": -540
    },
    "id": "L1iM2PTk07OP",
    "outputId": "59f954d3-3970-42a0-d9db-0c6918847d08"
   },
   "outputs": [
    {
     "data": {
      "text/plain": [
       "(610, 193609)"
      ]
     },
     "execution_count": 26,
     "metadata": {},
     "output_type": "execute_result"
    }
   ],
   "source": [
    "n_users = np.max(data.iloc[:, 0])     # 총 유저 수\n",
    "n_movies = np.max(data.iloc[:,1])     # 총 영화 개수\n",
    "shape = (n_users + 1, n_movies + 1)  # 위에서 0부터 시작하므로 1씩 다시 더하기\n",
    "shape"
   ]
  },
  {
   "cell_type": "code",
   "execution_count": 49,
   "metadata": {
    "colab": {
     "base_uri": "https://localhost:8080/"
    },
    "executionInfo": {
     "elapsed": 2142,
     "status": "ok",
     "timestamp": 1679383414365,
     "user": {
      "displayName": "조성민",
      "userId": "15810378992467426330"
     },
     "user_tz": -540
    },
    "id": "1czJjDfU07MP",
    "outputId": "2a0e2bbe-6045-4670-9425-6aa2480aac37"
   },
   "outputs": [
    {
     "data": {
      "text/plain": [
       "array([[1, 0, 1, ..., 0, 0, 0],\n",
       "       [0, 0, 0, ..., 0, 0, 0],\n",
       "       [0, 0, 0, ..., 0, 0, 0],\n",
       "       ...,\n",
       "       [1, 1, 1, ..., 0, 0, 0],\n",
       "       [1, 0, 0, ..., 0, 0, 0],\n",
       "       [1, 0, 0, ..., 0, 0, 0]])"
      ]
     },
     "execution_count": 49,
     "metadata": {},
     "output_type": "execute_result"
    }
   ],
   "source": [
    "# 인접행렬 구하기\n",
    "adj_matrix = np.ndarray(shape, dtype=int)\n",
    "for user_id, movie_id, rating, time in data.values:\n",
    "    adj_matrix[int(user_id)][int(movie_id)] = 1.  # 영화를 봤는지 안봤는지에 대한 여부를 0과 1로 출력\n",
    "\n",
    "# 1이 있는 위치 == 데이터가 있는 위치\n",
    "adj_matrix  "
   ]
  },
  {
   "cell_type": "markdown",
   "metadata": {
    "id": "P9pW133yDpUF"
   },
   "source": [
    "- dot product를 통해 다른 사용자들과의 유사도 계산\n",
    "- 나와 가장 높은 유사도를 가진 사용자의 시청 목록 추천"
   ]
  },
  {
   "cell_type": "code",
   "execution_count": 50,
   "metadata": {
    "colab": {
     "base_uri": "https://localhost:8080/"
    },
    "executionInfo": {
     "elapsed": 525,
     "status": "ok",
     "timestamp": 1679383439888,
     "user": {
      "displayName": "조성민",
      "userId": "15810378992467426330"
     },
     "user_tz": -540
    },
    "id": "wa9oMmG6DYRP",
    "outputId": "1bf37c62-4ad5-4995-c458-00d5efb461ff"
   },
   "outputs": [
    {
     "name": "stdout",
     "output_type": "stream",
     "text": [
      "Best Match : 200, Best Match ID : 413\n"
     ]
    }
   ],
   "source": [
    "my_id, my_vector = 0, adj_matrix[0]\n",
    "best_match, best_match_id, best_match_vector = -1, -1, []\n",
    "\n",
    "for user_id, user_vector in enumerate(adj_matrix): # 인접행렬에서 하나씩 행을 가져와 비교한다.\n",
    "    if my_id != user_id: # 현재 ID와 비교하고자 하는 ID는 달라야한다.\n",
    "        similarity = np.dot(my_vector, user_vector) # 현재 vector와 비교하고자 하는 vector를 dot product하여 유사도를 계산한다.\n",
    "                                                    # 현재 adj_matrix에는 데이터가 있는 위치에만 1이 있기때문에 유사도 계산에 dot product를 사용함을 볼 수 있음\n",
    "\n",
    "        if similarity > best_match: # 만약 구한 유사도의 값이 기존의 best 유사도보다 높다면 값을 새로 갱신한다.\n",
    "            best_match = similarity\n",
    "            best_match_id = user_id\n",
    "            best_match_vector = user_vector\n",
    "\n",
    "\n",
    "print(f\"Best Match : {best_match}, Best Match ID : {best_match_id}\")"
   ]
  },
  {
   "cell_type": "code",
   "execution_count": 51,
   "metadata": {
    "colab": {
     "base_uri": "https://localhost:8080/"
    },
    "executionInfo": {
     "elapsed": 2335,
     "status": "ok",
     "timestamp": 1679383451240,
     "user": {
      "displayName": "조성민",
      "userId": "15810378992467426330"
     },
     "user_tz": -540
    },
    "id": "2tyol1daDYPr",
    "outputId": "06d3b343-a55c-428d-d3b3-a2e872347190"
   },
   "outputs": [
    {
     "name": "stdout",
     "output_type": "stream",
     "text": [
      "[1, 4, 6, 7, 9, 10, 14, 15, 16, 17, 20, 21, 22, 23, 24, 26, 30, 31, 33, 35, 38, 41, 43, 44, 45, 47, 51, 53, 56, 61, 64, 70, 71, 74, 77, 80, 85, 87, 88, 91, 93, 94, 103, 106, 110, 111, 117, 118, 121, 124, 134, 140, 143, 144, 146, 149, 152, 154, 157, 158, 159, 160, 161, 164, 165, 167, 169, 171, 172, 173, 174, 175, 178, 179, 184, 187, 190, 192, 195, 197, 204, 206, 207, 208, 209, 214, 217, 221, 223, 224, 227, 229, 232, 235, 241, 246, 248, 250, 251, 252, 256, 258, 260, 261, 265, 266, 272, 275, 276, 279, 281, 287, 289, 290, 291, 292, 299, 302, 307, 311, 313, 314, 317, 318, 321, 324, 326, 328, 336, 337, 338, 339, 341, 343, 344, 345, 347, 349, 351, 352, 354, 356, 357, 360, 363, 367, 371, 372, 373, 376, 378, 379, 381, 382, 385, 407, 411, 412, 413, 414, 415, 416, 419, 420, 426, 427, 428, 430, 431, 433, 435, 437, 439, 441, 443, 447, 449, 452, 453, 457, 458, 463, 465, 470, 473, 474, 476, 478, 480, 481, 484, 486, 489, 490, 492, 493, 496, 503, 506, 507, 510, 513, 515, 516, 518, 520, 523, 528, 532, 534, 536, 537, 538, 539, 540, 541, 543, 549, 550, 554, 555, 557, 561, 563, 573, 584, 585, 586, 587, 588, 593, 594, 596, 598, 604, 609, 611, 615, 627, 634, 646, 649, 652, 661, 662, 670, 693, 696, 699, 703, 706, 707, 709, 718, 719, 723, 734, 736, 740, 741, 742, 744, 747, 749, 760, 761, 764, 777, 781, 783, 785, 787, 798, 801, 804, 808, 828, 829, 831, 834, 835, 837, 838, 841, 847, 848, 851, 857, 865, 879, 885, 898, 899, 901, 902, 903, 907, 908, 909, 911, 912, 914, 915, 923, 932, 949, 950, 952, 967, 968, 972, 989, 990, 993, 995, 998, 1002, 1006, 1009, 1011, 1012, 1013, 1015, 1019, 1020, 1021, 1026, 1027, 1032, 1034, 1035, 1036, 1039, 1042, 1046, 1049, 1050, 1058, 1060, 1078, 1083, 1087, 1090, 1092, 1093, 1094, 1099, 1100, 1102, 1103, 1119, 1120, 1128, 1134, 1147, 1170, 1171, 1172, 1177, 1186, 1187, 1189, 1190, 1192, 1193, 1198, 1199, 1200, 1203, 1206, 1214, 1215, 1216, 1217, 1220, 1222, 1224, 1227, 1230, 1232, 1233, 1234, 1241, 1242, 1245, 1246, 1248, 1249, 1251, 1256, 1258, 1260, 1261, 1262, 1265, 1266, 1267, 1270, 1271, 1273, 1275, 1276, 1284, 1285, 1287, 1289, 1292, 1296, 1298, 1301, 1302, 1303, 1306, 1319, 1320, 1331, 1338, 1342, 1343, 1346, 1355, 1356, 1357, 1369, 1370, 1371, 1372, 1373, 1374, 1375, 1377, 1378, 1379, 1381, 1386, 1389, 1390, 1392, 1393, 1398, 1404, 1406, 1408, 1424, 1429, 1437, 1440, 1441, 1453, 1456, 1458, 1463, 1465, 1475, 1478, 1483, 1484, 1487, 1497, 1498, 1512, 1514, 1526, 1540, 1541, 1543, 1561, 1568, 1583, 1588, 1590, 1592, 1593, 1596, 1597, 1599, 1600, 1604, 1607, 1608, 1609, 1610, 1613, 1626, 1634, 1638, 1640, 1644, 1646, 1652, 1655, 1657, 1662, 1666, 1672, 1673, 1677, 1679, 1681, 1686, 1688, 1689, 1700, 1703, 1710, 1716, 1718, 1720, 1721, 1725, 1728, 1734, 1746, 1747, 1752, 1768, 1778, 1783, 1784, 1791, 1798, 1800, 1809, 1811, 1815, 1820, 1830, 1832, 1835, 1839, 1844, 1862, 1865, 1869, 1875, 1881, 1882, 1883, 1884, 1893, 1894, 1906, 1908, 1911, 1913, 1916, 1917, 1920, 1921, 1922, 1943, 1944, 1946, 1949, 1951, 1952, 1956, 1960, 1964, 1965, 1967, 1969, 1990, 1993, 1996, 2000, 2001, 2002, 2005, 2006, 2009, 2010, 2013, 2014, 2018, 2019, 2020, 2024, 2025, 2034, 2043, 2051, 2059, 2063, 2066, 2071, 2075, 2076, 2079, 2080, 2081, 2082, 2083, 2084, 2086, 2087, 2088, 2090, 2091, 2094, 2096, 2099, 2102, 2105, 2108, 2109, 2113, 2116, 2118, 2119, 2123, 2124, 2125, 2129, 2132, 2133, 2137, 2139, 2143, 2144, 2145, 2146, 2147, 2154, 2166, 2168, 2171, 2181, 2187, 2193, 2230, 2235, 2239, 2240, 2243, 2244, 2247, 2248, 2251, 2258, 2259, 2260, 2261, 2262, 2263, 2265, 2268, 2270, 2274, 2277, 2278, 2281, 2288, 2293, 2296, 2299, 2300, 2301, 2312, 2317, 2319, 2320, 2321, 2324, 2327, 2334, 2339, 2341, 2347, 2354, 2366, 2368, 2370, 2371, 2372, 2373, 2374, 2375, 2377, 2378, 2392, 2393, 2395, 2397, 2398, 2400, 2401, 2402, 2403, 2404, 2406, 2407, 2408, 2409, 2410, 2411, 2415, 2419, 2420, 2422, 2424, 2427, 2429, 2432, 2442, 2446, 2452, 2454, 2455, 2456, 2457, 2467, 2468, 2470, 2471, 2472, 2473, 2475, 2481, 2484, 2489, 2495, 2499, 2500, 2512, 2538, 2540, 2548, 2550, 2551, 2557, 2562, 2569, 2571, 2574, 2580, 2597, 2598, 2599, 2604, 2605, 2606, 2614, 2621, 2641, 2642, 2670, 2671, 2675, 2682, 2685, 2689, 2693, 2698, 2701, 2705, 2706, 2711, 2716, 2717, 2721, 2722, 2723, 2725, 2729, 2733, 2734, 2735, 2744, 2745, 2750, 2758, 2761, 2762, 2765, 2768, 2769, 2778, 2786, 2790, 2791, 2792, 2793, 2794, 2801, 2802, 2803, 2805, 2807, 2814, 2815, 2818, 2821, 2834, 2835, 2856, 2860, 2866, 2870, 2876, 2880, 2882, 2883, 2887, 2888, 2889, 2890, 2892, 2907, 2911, 2914, 2917, 2920, 2921, 2927, 2939, 2941, 2949, 2950, 2967, 2978, 2985, 2988, 2989, 2995, 2999, 3003, 3004, 3005, 3007, 3018, 3019, 3035, 3036, 3038, 3039, 3040, 3043, 3050, 3059, 3062, 3065, 3069, 3070, 3077, 3078, 3080, 3081, 3086, 3097, 3099, 3100, 3103, 3104, 3106, 3107, 3110, 3113, 3116, 3126, 3137, 3141, 3144, 3145, 3147, 3156, 3159, 3168, 3172, 3173, 3174, 3177, 3178, 3180, 3185, 3188, 3196, 3197, 3202, 3205, 3209, 3218, 3224, 3237, 3248, 3249, 3250, 3251, 3253, 3254, 3255, 3256, 3257, 3258, 3260, 3261, 3262, 3263, 3266, 3268, 3269, 3270, 3271, 3274, 3284, 3295, 3297, 3299, 3300, 3307, 3315, 3316, 3327, 3346, 3358, 3359, 3360, 3361, 3362, 3364, 3377, 3384, 3387, 3390, 3392, 3393, 3395, 3396, 3397, 3407, 3417, 3420, 3423, 3424, 3435, 3437, 3443, 3451, 3460, 3470, 3475, 3476, 3477, 3479, 3480, 3482, 3483, 3498, 3503, 3504, 3506, 3507, 3509, 3511, 3512, 3514, 3523, 3524, 3525, 3534, 3535, 3537, 3538, 3542, 3551, 3554, 3555, 3564, 3565, 3580, 3590, 3593, 3598, 3605, 3607, 3613, 3614, 3615, 3617, 3622, 3624, 3634, 3637, 3653, 3671, 3674, 3683, 3685, 3687, 3692, 3696, 3697, 3698, 3700, 3703, 3704, 3706, 3707, 3709, 3711, 3716, 3724, 3734, 3744, 3746, 3750, 3751, 3752, 3753, 3754, 3762, 3764, 3765, 3769, 3782, 3783, 3784, 3785, 3787, 3789, 3790, 3793, 3801, 3809, 3822, 3824, 3825, 3826, 3830, 3834, 3835, 3840, 3843, 3846, 3851, 3857, 3860, 3861, 3862, 3867, 3876, 3881, 3892, 3895, 3896, 3897, 3899, 3908, 3909, 3910, 3914, 3915, 3916, 3945, 3947, 3948, 3949, 3950, 3951, 3952, 3966, 3967, 3968, 3971, 3976, 3977, 3979, 3982, 3985, 3991, 3992, 3993, 3995, 3996, 3997, 3998, 4001, 4006, 4007, 4009, 4010, 4011, 4013, 4014, 4015, 4016, 4017, 4018, 4019, 4021, 4022, 4026, 4028, 4029, 4032, 4033, 4034, 4035, 4038, 4039, 4040, 4051, 4053, 4061, 4062, 4066, 4067, 4068, 4080, 4081, 4083, 4084, 4085, 4088, 4090, 4101, 4102, 4104, 4114, 4116, 4120, 4122, 4124, 4125, 4127, 4131, 4137, 4138, 4140, 4143, 4146, 4147, 4148, 4158, 4160, 4166, 4167, 4174, 4202, 4209, 4213, 4214, 4218, 4219, 4220, 4222, 4225, 4227, 4228, 4230, 4231, 4232, 4233, 4234, 4238, 4241, 4245, 4246, 4247, 4255, 4261, 4264, 4266, 4269, 4274, 4279, 4289, 4290, 4298, 4303, 4304, 4305, 4307, 4309, 4311, 4320, 4321, 4325, 4326, 4328, 4332, 4333, 4342, 4343, 4344, 4348, 4350, 4352, 4354, 4358, 4360, 4365, 4366, 4368, 4369, 4371, 4377, 4379, 4386, 4387, 4388, 4395, 4445, 4446, 4447, 4449, 4450, 4451, 4457, 4461, 4462, 4466, 4473, 4474, 4477, 4481, 4486, 4487, 4497, 4498, 4508, 4515, 4518, 4519, 4523, 4526, 4540, 4544, 4545, 4552, 4563, 4564, 4570, 4571, 4572, 4576, 4582, 4584, 4586, 4590, 4594, 4598, 4599, 4601, 4609, 4616, 4621, 4622, 4623, 4635, 4637, 4638, 4639, 4640, 4641, 4642, 4648, 4653, 4660, 4662, 4665, 4671, 4674, 4676, 4677, 4678, 4680, 4687, 4713, 4717, 4719, 4720, 4727, 4733, 4735, 4744, 4756, 4764, 4770, 4772, 4773, 4775, 4776, 4779, 4781, 4807, 4811, 4814, 4815, 4817, 4821, 4822, 4843, 4845, 4846, 4847, 4848, 4864, 4865, 4866, 4872, 4873, 4877, 4879, 4880, 4885, 4886, 4887, 4888, 4889, 4895, 4897, 4898, 4899, 4900, 4901, 4902, 4908, 4914, 4925, 4928, 4935, 4940, 4950, 4953, 4957, 4960, 4961, 4962, 4964, 4966, 4970, 4972, 4973, 4974, 4977, 4978, 4979, 4984, 4989, 4991, 4992, 4993, 4994, 5003, 5008, 5009, 5012, 5014, 5015, 5022, 5024, 5025, 5026, 5038, 5045, 5048, 5050, 5063, 5065, 5067, 5070, 5071, 5072, 5073, 5074, 5079, 5080, 5082, 5092, 5093, 5105, 5106, 5107, 5111, 5127, 5133, 5134, 5136, 5138, 5145, 5150, 5151, 5158, 5169, 5170, 5177, 5208, 5217, 5218, 5219, 5221, 5224, 5236, 5239, 5246, 5253, 5254, 5255, 5257, 5263, 5264, 5265, 5266, 5277, 5281, 5282, 5284, 5290, 5291, 5292, 5293, 5295, 5296, 5297, 5298, 5302, 5307, 5315, 5320, 5321, 5323, 5324, 5327, 5328, 5336, 5344, 5345, 5346, 5348, 5362, 5363, 5376, 5377, 5378, 5379, 5381, 5386, 5387, 5389, 5390, 5399, 5414, 5415, 5416, 5417, 5418, 5419, 5420, 5421, 5422, 5423, 5424, 5426, 5427, 5436, 5437, 5443, 5444, 5445, 5446, 5448, 5450, 5451, 5458, 5459, 5460, 5462, 5463, 5465, 5470, 5476, 5477, 5478, 5479, 5480, 5482, 5484, 5485, 5499, 5501, 5504, 5506, 5507, 5520, 5523, 5528, 5530, 5539, 5540, 5547, 5552, 5561, 5562, 5567, 5571, 5572, 5573, 5576, 5588, 5609, 5610, 5616, 5617, 5619, 5620, 5624, 5629, 5632, 5634, 5635, 5643, 5645, 5649, 5662, 5664, 5665, 5668, 5672, 5677, 5678, 5679, 5684, 5687, 5784, 5787, 5790, 5791, 5802, 5808, 5809, 5811, 5815, 5816, 5819, 5828, 5840, 5842, 5871, 5875, 5877, 5879, 5880, 5895, 5901, 5902, 5940, 5942, 5943, 5944, 5948, 5950, 5951, 5953, 5954, 5955, 5956, 5967, 5969, 5970, 5983, 5987, 5988, 5990, 5991, 5992, 5993, 5994, 6001, 6002, 6011, 6015, 6021, 6026, 6032, 6035, 6038, 6058, 6061, 6077, 6092, 6115, 6140, 6152, 6154, 6156, 6158, 6161, 6168, 6169, 6184, 6186, 6187, 6194, 6196, 6212, 6214, 6215, 6217, 6219, 6221, 6222, 6237, 6248, 6251, 6263, 6265, 6267, 6268, 6279, 6280, 6282, 6285, 6286, 6287, 6293, 6294, 6295, 6296, 6298, 6300, 6302, 6305, 6307, 6313, 6314, 6321, 6322, 6330, 6331, 6332, 6333, 6334, 6336, 6338, 6340, 6348, 6364, 6366, 6367, 6369, 6372, 6373, 6376, 6377, 6379, 6382, 6384, 6441, 6492, 6501, 6502, 6509, 6516, 6533, 6535, 6536, 6537, 6538, 6540, 6541, 6546, 6548, 6551, 6553, 6559, 6562, 6564, 6566, 6567, 6573, 6581, 6592, 6594, 6597, 6615, 6616, 6617, 6619, 6623, 6627, 6630, 6635, 6637, 6669, 6688, 6695, 6698, 6707, 6708, 6709, 6710, 6712, 6717, 6719, 6752, 6753, 6754, 6763, 6772, 6779, 6786, 6789, 6795, 6796, 6806, 6808, 6809, 6810, 6811, 6815, 6819, 6831, 6850, 6862, 6866, 6867, 6869, 6872, 6873, 6880, 6882, 6883, 6889, 6897, 6931, 6933, 6935, 6941, 6946, 6952, 6953, 6956, 6973, 7009, 7026, 7032, 7033, 7075, 7089, 7103, 7136, 7138, 7142, 7146, 7148, 7149, 7150, 7152, 7155, 7159, 7160, 7161, 7162, 7164, 7168, 7174, 7175, 7192, 7227, 7235, 7247, 7250, 7253, 7254, 7256, 7257, 7262, 7264, 7284, 7292, 7309, 7314, 7316, 7317, 7318, 7322, 7323, 7324, 7339, 7345, 7346, 7347, 7353, 7360, 7363, 7365, 7366, 7370, 7372, 7374, 7375, 7378, 7380, 7389, 7437, 7438, 7443, 7444, 7449, 7450, 7453, 7457, 7481, 7841, 7883, 7979, 7980, 8118, 8265, 8359, 8360, 8361, 8363, 8365, 8369, 8370, 8375, 8463, 8527, 8528, 8532, 8586, 8621, 8635, 8637, 8639, 8640, 8643, 8644, 8664, 8665, 8780, 8782, 8783, 8797, 8806, 8809, 8832, 8835, 8859, 8864, 8868, 8869, 8872, 8873, 8879, 8906, 8907, 8909, 8913, 8914, 8916, 8918, 8936, 8947, 8948, 8949, 8951, 8953, 8957, 8960, 8965, 8969, 8971, 8980, 8982, 8984, 25833, 26703, 27554, 27610, 27659, 27705, 27772, 27787, 27800, 27807, 27820, 27821, 27830, 27836, 27845, 27872, 27878, 27898, 27903, 30706, 30748, 30809, 30811, 30819, 30821, 30847, 30849, 30893, 31100, 31161, 31220, 31224, 31444, 31684, 31695, 32018, 32028, 32030, 32115, 32586, 33003, 33161, 33165, 33420, 33436, 33492, 33494, 33614, 33645, 33659, 33671, 33676, 33678, 33724, 33793, 33825, 33837, 34047, 34071, 34149, 34152, 34161, 34318, 34325, 34331, 34333, 34335, 34404, 34519, 34533, 34535, 34539, 35835, 35956, 36400, 36516, 36518, 36526, 36528, 36534, 36707, 37239, 37381, 37383, 37385, 37719, 37726, 37730, 37732, 37738, 37740, 37852, 38037, 38060, 38885, 39182, 39230, 39233, 39291, 39380, 39426, 39443, 39448, 40277, 40338, 40582, 40613, 40628, 40814, 40818, 40825, 40958, 41284, 41526, 41565, 41568, 41570, 41572, 41715, 41996, 42001, 42010, 42014, 42601, 42727, 42729, 42737, 43395, 43555, 43870, 43911, 43916, 43920, 43927, 43935, 44021, 44190, 44194, 44198, 44203, 44664, 44693, 44708, 44760, 44787, 44839, 44863, 45061, 45174, 45185, 45209, 45220, 45439, 45446, 45498, 45500, 45516, 45634, 45661, 45665, 45671, 45719, 45721, 45727, 45879, 45927, 45949, 46334, 46346, 46529, 46558, 46571, 46577, 46722, 46849, 46964, 46969, 46971, 46973, 46975, 47043, 47098, 47121, 47199, 47422, 47517, 47609, 47628, 47643, 47893, 47949, 47969, 48042, 48141, 48160, 48303, 48318, 48325, 48393, 48411, 48515, 48519, 48559, 48737, 48773, 48779, 48782, 48981, 49129, 49131, 49271, 49273, 49277, 49279, 49285, 49395, 49529, 49648, 49650, 49792, 49821, 49823, 49909, 49956, 50067, 50157, 50441, 50791, 50793, 50803, 50871, 50922, 51076, 51079, 51083, 51085, 51090, 51254, 51411, 51539, 51574, 51661, 51693, 51833, 51930, 51934, 52240, 52244, 52280, 52282, 52298, 52374, 52457, 52603, 52667, 52711, 52721, 52723, 52783, 52966, 52972, 52974, 53120, 53122, 53124, 53321, 53446, 53467, 53518, 53893, 53952, 53971, 53992, 53995, 54000, 54003, 54189, 54255, 54258, 54271, 54280, 54285, 54502, 54735, 54770, 54880, 54994, 54996, 54998, 55051, 55079, 55093, 55109, 55117, 55246, 55249, 55260, 55266, 55268, 55271, 55273, 55275, 55281, 55289, 55362, 55443, 55764, 55767, 55819, 55829, 55871, 55994, 56170, 56173, 56366, 56378, 56586, 56756, 56781, 56787, 56907, 56920, 57367, 57668, 58046, 58102, 58153, 58155, 58161, 58292, 58294, 58558, 58805, 58838, 58875, 58878, 58997, 59021, 59036, 59140, 59314, 59368, 59614, 59783, 60039, 60068, 60071, 60073, 60125, 60127, 60140, 60396, 60683, 60755, 61023, 61131, 61159, 61239, 61247, 61249, 61322, 61400, 61405, 62080, 62154, 62373, 62433, 63081, 63112, 63130, 63875, 63991, 64613, 64619, 64838, 64956, 64982, 65129, 66202, 66508, 66664, 66933, 67086, 67254, 67733, 67922, 67996, 68072, 68134, 68156, 68158, 68204, 68236, 68318, 68357, 68658, 68931, 68953, 69121, 69305, 69405, 69480, 69525, 69639, 69756, 69843, 69950, 70285, 70335, 70861, 71281, 71463, 71517, 71534, 71578, 71744, 71837, 72010, 72225, 72377, 72604, 72640, 72732, 72997, 73016, 76076, 76092, 76250, 76762, 77363, 77454, 77560, 78466, 78498, 78573, 79090, 79131, 79292, 79591, 79694, 79701, 80125, 80462, 80548, 80585, 80968, 81228, 81563, 81590, 81781, 81833, 81844, 81931, 82168, 82201, 82458, 82460, 84151, 84943, 84953, 85413, 85509, 85773, 85880, 86189, 86331, 86881, 87191, 87231, 87303, 87305, 87429, 88124, 88128, 88139, 88162, 88404, 88743, 89469, 89491, 89744, 89803, 89863, 89903, 90404, 90602, 91076, 91499, 91528, 91541, 91629, 91657, 91689, 93839, 94863, 94958, 95087, 95134, 95308, 95440, 95509, 95557, 96078, 96416, 96487, 96587, 96609, 96727, 96736, 96820, 97303, 97305, 97920, 97922, 98960, 99111, 99113, 102444, 103047, 103340, 104240, 104373, 104840, 105503, 106765, 106781, 106915, 106917, 106919, 107405, 108931, 109373, 109486, 109847, 111363, 111758, 111920, 112182, 112551, 112555, 112622, 112851, 112939, 114661, 115148, 115209, 115616, 115712, 115827, 116796, 117528, 119144, 122881, 122885, 122899, 122903, 122905, 122915, 122917, 122921, 122925, 127107, 127129, 128359, 133770, 134129, 134852, 135535, 137856, 139384, 139643, 140173, 140714, 140927, 142487, 142508, 143354, 143384, 148625, 150547, 152080, 152969, 154357, 157698, 158237, 159716, 160079, 160437, 160979, 161130, 161581, 161921, 162349, 162577, 163644, 164178, 165548, 166023, 166527, 166567, 166634, 166642, 167569, 168251, 168325, 168611, 169991, 170704, 171762, 171764, 173196, 173204, 173208, 174054, 175568, 175660, 176370, 176422, 176750, 177592, 177614, 178060, 179816, 179818, 180030, 180044, 180496, 180984, 184790, 187594]\n"
     ]
    }
   ],
   "source": [
    "recommend_list = []\n",
    "\n",
    "for i, log in enumerate(zip(my_vector, best_match_vector)):\n",
    "    log1, log2 = log\n",
    "\n",
    "    # 나는 보지 않지만 나와 가장 잘 맞는 사용자는 시청하는 영화에 대해서 추천\n",
    "    if log1 < 1. and log2 > 0.:\n",
    "        recommend_list.append(i)\n",
    "\n",
    "# 나는 보지 않았지만 413번은 본 영화 리스트 추천\n",
    "print(recommend_list)"
   ]
  },
  {
   "cell_type": "markdown",
   "metadata": {
    "id": "pQwWmZ2NDxB4"
   },
   "source": [
    "- 유클리드 거리를 사용해 유사도 구하기\n",
    "- 거리 기반이므로 값이 작을 수록 유사도가 높음"
   ]
  },
  {
   "cell_type": "code",
   "execution_count": 52,
   "metadata": {
    "colab": {
     "base_uri": "https://localhost:8080/"
    },
    "executionInfo": {
     "elapsed": 572,
     "status": "ok",
     "timestamp": 1679383567470,
     "user": {
      "displayName": "조성민",
      "userId": "15810378992467426330"
     },
     "user_tz": -540
    },
    "id": "Qtr1c3emDYM6",
    "outputId": "feeaaca9-7c5d-42fc-b263-b0b5c833c40d"
   },
   "outputs": [
    {
     "name": "stdout",
     "output_type": "stream",
     "text": [
      "Best Match : 15.0996688705415, Best Match ID : 163\n"
     ]
    }
   ],
   "source": [
    "my_id, my_vector = 0, adj_matrix[0]\n",
    "best_match, best_match_id, best_match_vector = 9999, -1, []  # 이번에는 유사도가 높을 수록 best_match 거리가 짧아지기에 9999를 초기값으로 넣어줌줌\n",
    "\n",
    "for user_id, user_vector in enumerate(adj_matrix): \n",
    "    if my_id != user_id:\n",
    "        euclidean_dist = np.sqrt(np.sum(np.square(my_vector - user_vector))) # 위에서 사용한 dot product 대신 Euclidean 거리를 사용용\n",
    "\n",
    "        if euclidean_dist < best_match:  # 거리 기반이므로 유사도가 높다는 것은 거리가 더 작은 것 -> 부등호 방향 반대대\n",
    "            best_match = euclidean_dist\n",
    "            best_match_id = user_id\n",
    "            best_match_vector = user_vector\n",
    "\n",
    "\n",
    "print(f\"Best Match : {best_match}, Best Match ID : {best_match_id}\")"
   ]
  },
  {
   "cell_type": "code",
   "execution_count": 55,
   "metadata": {
    "colab": {
     "base_uri": "https://localhost:8080/"
    },
    "executionInfo": {
     "elapsed": 1982,
     "status": "ok",
     "timestamp": 1679383627639,
     "user": {
      "displayName": "조성민",
      "userId": "15810378992467426330"
     },
     "user_tz": -540
    },
    "id": "GX5U5dA_DYLa",
    "outputId": "539e9a3a-44db-42d0-aff8-816e148c41ee"
   },
   "outputs": [
    {
     "name": "stdout",
     "output_type": "stream",
     "text": [
      "[588, 1035, 1046, 1100, 1199, 1200, 1355, 1526, 1922, 2052, 2166, 3403, 3653, 3995, 4022, 4439]\n"
     ]
    }
   ],
   "source": [
    "recommend_list = []\n",
    "\n",
    "for i, log in enumerate(zip(my_vector, best_match_vector)):\n",
    "    log1, log2 = log\n",
    "\n",
    "    # 나나는 보지 않지만 나와 가장 잘 맞는 사용자는 시청하는 영화에 대해서 추천\n",
    "    if log1 < 1. and log2 > 0.:\n",
    "        recommend_list.append(i)\n",
    "\n",
    "# 나는 보지 않았지만 163번은 본 영화 리스트 추천\n",
    "print(recommend_list)"
   ]
  },
  {
   "cell_type": "markdown",
   "metadata": {
    "id": "qoft02v-EBOF"
   },
   "source": [
    "- cosine 유사도를 사용해 유사도 계산"
   ]
  },
  {
   "cell_type": "code",
   "execution_count": 54,
   "metadata": {
    "executionInfo": {
     "elapsed": 658,
     "status": "ok",
     "timestamp": 1679383619975,
     "user": {
      "displayName": "조성민",
      "userId": "15810378992467426330"
     },
     "user_tz": -540
    },
    "id": "BzZRKy8BDYKS"
   },
   "outputs": [],
   "source": [
    "def compute_cos_similarity(v1, v2):\n",
    "    norm1 = np.sqrt(np.sum(np.square(v1)))\n",
    "    norm2 = np.sqrt(np.sum(np.square(v2)))\n",
    "    \n",
    "    dot = np.dot(v1, v2)\n",
    "    \n",
    "    return dot / (norm1 * norm2)"
   ]
  },
  {
   "cell_type": "code",
   "execution_count": 56,
   "metadata": {
    "colab": {
     "base_uri": "https://localhost:8080/"
    },
    "executionInfo": {
     "elapsed": 20,
     "status": "ok",
     "timestamp": 1679383642860,
     "user": {
      "displayName": "조성민",
      "userId": "15810378992467426330"
     },
     "user_tz": -540
    },
    "id": "DIklUKDYDYGd",
    "outputId": "2e9d4993-2878-41a3-fb77-5a50ff8765ff"
   },
   "outputs": [
    {
     "name": "stdout",
     "output_type": "stream",
     "text": [
      "Best Match : 0.38097837645537314, Best Match ID : 312\n"
     ]
    }
   ],
   "source": [
    "my_id, my_vector = 0, adj_matrix[0]\n",
    "best_match, best_match_id, best_match_vector = -1, -1, []  # 코사인 유사도의 경우 유사도가 높을 수록 best_match값이 커지므로 다시 -1로 초기화\n",
    "\n",
    "for user_id, user_vector in enumerate(adj_matrix): \n",
    "    if my_id != user_id:\n",
    "        cos_similarity = compute_cos_similarity(my_vector, user_vector)\n",
    "\n",
    "        if cos_similarity > best_match:  # 코사인 유사도 값이 클 수록 더 유사함 -> 다시 부등호 방향 반대대\n",
    "            best_match = cos_similarity\n",
    "            best_match_id = user_id\n",
    "            best_match_vector = user_vector\n",
    "\n",
    "\n",
    "print(f\"Best Match : {best_match}, Best Match ID : {best_match_id}\")"
   ]
  },
  {
   "cell_type": "code",
   "execution_count": 57,
   "metadata": {
    "colab": {
     "base_uri": "https://localhost:8080/"
    },
    "executionInfo": {
     "elapsed": 632,
     "status": "ok",
     "timestamp": 1679383647727,
     "user": {
      "displayName": "조성민",
      "userId": "15810378992467426330"
     },
     "user_tz": -540
    },
    "id": "M-h7Nk6uDYDe",
    "outputId": "3f015f55-b3ad-43b8-b43e-e6910437a513"
   },
   "outputs": [
    {
     "name": "stdout",
     "output_type": "stream",
     "text": [
      "[9, 28, 31, 38, 75, 164, 169, 171, 187, 195, 252, 292, 317, 331, 352, 376, 378, 379, 381, 404, 441, 473, 511, 518, 540, 588, 609, 736, 749, 857, 865, 879, 911, 919, 923, 967, 990, 998, 1035, 1036, 1046, 1058, 1124, 1128, 1198, 1199, 1211, 1214, 1220, 1234, 1246, 1248, 1260, 1273, 1284, 1286, 1300, 1319, 1338, 1343, 1344, 1346, 1349, 1355, 1370, 1371, 1373, 1374, 1375, 1386, 1390, 1393, 1404, 1448, 1465, 1479, 1512, 1589, 1590, 1602, 1607, 1609, 1638, 1652, 1689, 1716, 1747, 1753, 1881, 1884, 1908, 1922, 1967, 1973, 1993, 1996, 2000, 2001, 2002, 2003, 2005, 2010, 2019, 2020, 2022, 2033, 2042, 2052, 2075, 2079, 2086, 2096, 2099, 2108, 2116, 2137, 2139, 2166, 2274, 2286, 2301, 2310, 2362, 2375, 2376, 2406, 2408, 2454, 2466, 2512, 2526, 2529, 2530, 2531, 2532, 2552, 2642, 2663, 2709, 2727, 2745, 2746, 2761, 2790, 2797, 2818, 2866, 2870, 2900, 2917, 2967, 2985, 3031, 3080, 3113, 3152, 3174, 3209, 3255, 3261, 3266, 3395, 3420, 3437, 3470, 3480, 3534, 3549, 3554, 3637, 3687, 3688, 3692, 3696, 3700, 3703, 3707, 3726, 3750, 3752, 3770, 3862, 3888, 3916, 3926, 3929, 3976, 3993, 3995, 4024, 4083, 4084, 4104, 4120, 4127, 4129, 4132, 4147, 4179, 4209, 4225, 4274, 4350, 4369, 4498, 4517, 4552, 4570, 4642, 4798, 4847, 4854, 4864, 4873, 4900, 4914, 4940, 4950, 4979, 4992, 5009, 5025, 5038, 5039, 5213, 5253, 5348, 5377, 5462, 5537, 5538, 5539, 5543]\n"
     ]
    }
   ],
   "source": [
    "recommend_list = []\n",
    "\n",
    "for i, log in enumerate(zip(my_vector, best_match_vector)):\n",
    "    log1, log2 = log\n",
    "\n",
    "    # 나나는 보지 않지만 나와 가장 잘 맞는 사용자는 시청하는 영화에 대해서 추천\n",
    "    if log1 < 1. and log2 > 0.:\n",
    "        recommend_list.append(i)\n",
    "\n",
    "# 나는 보지 않았지만 312번은 본 영화 리스트 추천\n",
    "print(recommend_list)"
   ]
  },
  {
   "cell_type": "markdown",
   "metadata": {
    "id": "EFmVVGm6EgBb"
   },
   "source": [
    "# 협엽 필터링 (Collaborative Filtering)"
   ]
  },
  {
   "cell_type": "code",
   "execution_count": 63,
   "metadata": {
    "executionInfo": {
     "elapsed": 19,
     "status": "ok",
     "timestamp": 1679383935528,
     "user": {
      "displayName": "조성민",
      "userId": "15810378992467426330"
     },
     "user_tz": -540
    },
    "id": "GKfkovohDYCA"
   },
   "outputs": [],
   "source": [
    "from surprise import KNNBasic, SVD, SVDpp, NMF\n",
    "from surprise import Dataset, Reader\n",
    "from surprise.model_selection import cross_validate"
   ]
  },
  {
   "cell_type": "code",
   "execution_count": 60,
   "metadata": {
    "colab": {
     "base_uri": "https://localhost:8080/",
     "height": 424
    },
    "executionInfo": {
     "elapsed": 32,
     "status": "ok",
     "timestamp": 1679383778701,
     "user": {
      "displayName": "조성민",
      "userId": "15810378992467426330"
     },
     "user_tz": -540
    },
    "id": "vu-fQzoxDYA4",
    "outputId": "8c74434d-50dc-45a5-c866-0bc23df52556"
   },
   "outputs": [
    {
     "data": {
      "text/html": [
       "\n",
       "  <div id=\"df-836390d4-872f-4e26-b268-097f14eac103\">\n",
       "    <div class=\"colab-df-container\">\n",
       "      <div>\n",
       "<style scoped>\n",
       "    .dataframe tbody tr th:only-of-type {\n",
       "        vertical-align: middle;\n",
       "    }\n",
       "\n",
       "    .dataframe tbody tr th {\n",
       "        vertical-align: top;\n",
       "    }\n",
       "\n",
       "    .dataframe thead th {\n",
       "        text-align: right;\n",
       "    }\n",
       "</style>\n",
       "<table border=\"1\" class=\"dataframe\">\n",
       "  <thead>\n",
       "    <tr style=\"text-align: right;\">\n",
       "      <th></th>\n",
       "      <th>userId</th>\n",
       "      <th>movieId</th>\n",
       "      <th>rating</th>\n",
       "      <th>timestamp</th>\n",
       "    </tr>\n",
       "  </thead>\n",
       "  <tbody>\n",
       "    <tr>\n",
       "      <th>0</th>\n",
       "      <td>1</td>\n",
       "      <td>1</td>\n",
       "      <td>4.0</td>\n",
       "      <td>964982703</td>\n",
       "    </tr>\n",
       "    <tr>\n",
       "      <th>1</th>\n",
       "      <td>1</td>\n",
       "      <td>3</td>\n",
       "      <td>4.0</td>\n",
       "      <td>964981247</td>\n",
       "    </tr>\n",
       "    <tr>\n",
       "      <th>2</th>\n",
       "      <td>1</td>\n",
       "      <td>6</td>\n",
       "      <td>4.0</td>\n",
       "      <td>964982224</td>\n",
       "    </tr>\n",
       "    <tr>\n",
       "      <th>3</th>\n",
       "      <td>1</td>\n",
       "      <td>47</td>\n",
       "      <td>5.0</td>\n",
       "      <td>964983815</td>\n",
       "    </tr>\n",
       "    <tr>\n",
       "      <th>4</th>\n",
       "      <td>1</td>\n",
       "      <td>50</td>\n",
       "      <td>5.0</td>\n",
       "      <td>964982931</td>\n",
       "    </tr>\n",
       "    <tr>\n",
       "      <th>...</th>\n",
       "      <td>...</td>\n",
       "      <td>...</td>\n",
       "      <td>...</td>\n",
       "      <td>...</td>\n",
       "    </tr>\n",
       "    <tr>\n",
       "      <th>100831</th>\n",
       "      <td>610</td>\n",
       "      <td>166534</td>\n",
       "      <td>4.0</td>\n",
       "      <td>1493848402</td>\n",
       "    </tr>\n",
       "    <tr>\n",
       "      <th>100832</th>\n",
       "      <td>610</td>\n",
       "      <td>168248</td>\n",
       "      <td>5.0</td>\n",
       "      <td>1493850091</td>\n",
       "    </tr>\n",
       "    <tr>\n",
       "      <th>100833</th>\n",
       "      <td>610</td>\n",
       "      <td>168250</td>\n",
       "      <td>5.0</td>\n",
       "      <td>1494273047</td>\n",
       "    </tr>\n",
       "    <tr>\n",
       "      <th>100834</th>\n",
       "      <td>610</td>\n",
       "      <td>168252</td>\n",
       "      <td>5.0</td>\n",
       "      <td>1493846352</td>\n",
       "    </tr>\n",
       "    <tr>\n",
       "      <th>100835</th>\n",
       "      <td>610</td>\n",
       "      <td>170875</td>\n",
       "      <td>3.0</td>\n",
       "      <td>1493846415</td>\n",
       "    </tr>\n",
       "  </tbody>\n",
       "</table>\n",
       "<p>100836 rows × 4 columns</p>\n",
       "</div>\n",
       "      <button class=\"colab-df-convert\" onclick=\"convertToInteractive('df-836390d4-872f-4e26-b268-097f14eac103')\"\n",
       "              title=\"Convert this dataframe to an interactive table.\"\n",
       "              style=\"display:none;\">\n",
       "        \n",
       "  <svg xmlns=\"http://www.w3.org/2000/svg\" height=\"24px\"viewBox=\"0 0 24 24\"\n",
       "       width=\"24px\">\n",
       "    <path d=\"M0 0h24v24H0V0z\" fill=\"none\"/>\n",
       "    <path d=\"M18.56 5.44l.94 2.06.94-2.06 2.06-.94-2.06-.94-.94-2.06-.94 2.06-2.06.94zm-11 1L8.5 8.5l.94-2.06 2.06-.94-2.06-.94L8.5 2.5l-.94 2.06-2.06.94zm10 10l.94 2.06.94-2.06 2.06-.94-2.06-.94-.94-2.06-.94 2.06-2.06.94z\"/><path d=\"M17.41 7.96l-1.37-1.37c-.4-.4-.92-.59-1.43-.59-.52 0-1.04.2-1.43.59L10.3 9.45l-7.72 7.72c-.78.78-.78 2.05 0 2.83L4 21.41c.39.39.9.59 1.41.59.51 0 1.02-.2 1.41-.59l7.78-7.78 2.81-2.81c.8-.78.8-2.07 0-2.86zM5.41 20L4 18.59l7.72-7.72 1.47 1.35L5.41 20z\"/>\n",
       "  </svg>\n",
       "      </button>\n",
       "      \n",
       "  <style>\n",
       "    .colab-df-container {\n",
       "      display:flex;\n",
       "      flex-wrap:wrap;\n",
       "      gap: 12px;\n",
       "    }\n",
       "\n",
       "    .colab-df-convert {\n",
       "      background-color: #E8F0FE;\n",
       "      border: none;\n",
       "      border-radius: 50%;\n",
       "      cursor: pointer;\n",
       "      display: none;\n",
       "      fill: #1967D2;\n",
       "      height: 32px;\n",
       "      padding: 0 0 0 0;\n",
       "      width: 32px;\n",
       "    }\n",
       "\n",
       "    .colab-df-convert:hover {\n",
       "      background-color: #E2EBFA;\n",
       "      box-shadow: 0px 1px 2px rgba(60, 64, 67, 0.3), 0px 1px 3px 1px rgba(60, 64, 67, 0.15);\n",
       "      fill: #174EA6;\n",
       "    }\n",
       "\n",
       "    [theme=dark] .colab-df-convert {\n",
       "      background-color: #3B4455;\n",
       "      fill: #D2E3FC;\n",
       "    }\n",
       "\n",
       "    [theme=dark] .colab-df-convert:hover {\n",
       "      background-color: #434B5C;\n",
       "      box-shadow: 0px 1px 3px 1px rgba(0, 0, 0, 0.15);\n",
       "      filter: drop-shadow(0px 1px 2px rgba(0, 0, 0, 0.3));\n",
       "      fill: #FFFFFF;\n",
       "    }\n",
       "  </style>\n",
       "\n",
       "      <script>\n",
       "        const buttonEl =\n",
       "          document.querySelector('#df-836390d4-872f-4e26-b268-097f14eac103 button.colab-df-convert');\n",
       "        buttonEl.style.display =\n",
       "          google.colab.kernel.accessAllowed ? 'block' : 'none';\n",
       "\n",
       "        async function convertToInteractive(key) {\n",
       "          const element = document.querySelector('#df-836390d4-872f-4e26-b268-097f14eac103');\n",
       "          const dataTable =\n",
       "            await google.colab.kernel.invokeFunction('convertToInteractive',\n",
       "                                                     [key], {});\n",
       "          if (!dataTable) return;\n",
       "\n",
       "          const docLinkHtml = 'Like what you see? Visit the ' +\n",
       "            '<a target=\"_blank\" href=https://colab.research.google.com/notebooks/data_table.ipynb>data table notebook</a>'\n",
       "            + ' to learn more about interactive tables.';\n",
       "          element.innerHTML = '';\n",
       "          dataTable['output_type'] = 'display_data';\n",
       "          await google.colab.output.renderOutput(dataTable, element);\n",
       "          const docLink = document.createElement('div');\n",
       "          docLink.innerHTML = docLinkHtml;\n",
       "          element.appendChild(docLink);\n",
       "        }\n",
       "      </script>\n",
       "    </div>\n",
       "  </div>\n",
       "  "
      ],
      "text/plain": [
       "        userId  movieId  rating   timestamp\n",
       "0            1        1     4.0   964982703\n",
       "1            1        3     4.0   964981247\n",
       "2            1        6     4.0   964982224\n",
       "3            1       47     5.0   964983815\n",
       "4            1       50     5.0   964982931\n",
       "...        ...      ...     ...         ...\n",
       "100831     610   166534     4.0  1493848402\n",
       "100832     610   168248     5.0  1493850091\n",
       "100833     610   168250     5.0  1494273047\n",
       "100834     610   168252     5.0  1493846352\n",
       "100835     610   170875     3.0  1493846415\n",
       "\n",
       "[100836 rows x 4 columns]"
      ]
     },
     "execution_count": 60,
     "metadata": {},
     "output_type": "execute_result"
    }
   ],
   "source": [
    "data = pd.read_csv('/content/drive/MyDrive/투빅스 연합동아리/ml-latest-small/ratings.csv')\n",
    "data"
   ]
  },
  {
   "cell_type": "markdown",
   "metadata": {
    "id": "tb03B4xTFcXH"
   },
   "source": [
    "- KNN 사용"
   ]
  },
  {
   "cell_type": "code",
   "execution_count": 65,
   "metadata": {
    "colab": {
     "base_uri": "https://localhost:8080/"
    },
    "executionInfo": {
     "elapsed": 11625,
     "status": "ok",
     "timestamp": 1679383969793,
     "user": {
      "displayName": "조성민",
      "userId": "15810378992467426330"
     },
     "user_tz": -540
    },
    "id": "VSzDENVaDX-v",
    "outputId": "53f08776-ddd7-4703-f0a8-6eb73697efd6"
   },
   "outputs": [
    {
     "name": "stdout",
     "output_type": "stream",
     "text": [
      "Evaluating RMSE, MAE of algorithm KNNBasic on 5 split(s).\n",
      "\n",
      "                  Fold 1  Fold 2  Fold 3  Fold 4  Fold 5  Mean    Std     \n",
      "RMSE (testset)    0.9451  0.9506  0.9465  0.9494  0.9433  0.9470  0.0027  \n",
      "MAE (testset)     0.7235  0.7235  0.7277  0.7276  0.7260  0.7257  0.0019  \n",
      "Fit time          0.36    0.29    0.27    0.27    0.19    0.28    0.05    \n",
      "Test time         3.83    3.98    3.95    4.04    1.99    3.56    0.79    \n"
     ]
    },
    {
     "data": {
      "text/plain": [
       "{'test_rmse': array([0.94511203, 0.95061523, 0.94646826, 0.94944121, 0.94328773]),\n",
       " 'test_mae': array([0.72351378, 0.72351517, 0.72766083, 0.72764284, 0.72602281]),\n",
       " 'fit_time': (0.36282968521118164,\n",
       "  0.2901883125305176,\n",
       "  0.2742278575897217,\n",
       "  0.2732856273651123,\n",
       "  0.19499659538269043),\n",
       " 'test_time': (3.8293235301971436,\n",
       "  3.9814302921295166,\n",
       "  3.9511990547180176,\n",
       "  4.035719156265259,\n",
       "  1.9940266609191895)}"
      ]
     },
     "execution_count": 65,
     "metadata": {},
     "output_type": "execute_result"
    }
   ],
   "source": [
    "# Surprise 라이브러리를 위한 데이터 변환\n",
    "reader = Reader(rating_scale=(data[\"rating\"].min(), data[\"rating\"].max()))\n",
    "data = Dataset.load_from_df(data[['userId', 'movieId', 'rating']], reader)\n",
    "\n",
    "# 모델 생성 및 교차 검증\n",
    "model = KNNBasic()\n",
    "cross_validate(model, data, measures=['rmse', 'mae'], cv=5, n_jobs=4, verbose=True)"
   ]
  },
  {
   "cell_type": "markdown",
   "metadata": {
    "id": "_gMGXNBWFee9"
   },
   "source": [
    "- SVD 사용"
   ]
  },
  {
   "cell_type": "code",
   "execution_count": 66,
   "metadata": {
    "colab": {
     "base_uri": "https://localhost:8080/"
    },
    "executionInfo": {
     "elapsed": 9099,
     "status": "ok",
     "timestamp": 1679383997556,
     "user": {
      "displayName": "조성민",
      "userId": "15810378992467426330"
     },
     "user_tz": -540
    },
    "id": "_kkCAfpLDX99",
    "outputId": "97274a57-21b1-4fcc-ff96-e3e3ef64c764"
   },
   "outputs": [
    {
     "name": "stdout",
     "output_type": "stream",
     "text": [
      "Evaluating RMSE, MAE of algorithm SVD on 5 split(s).\n",
      "\n",
      "                  Fold 1  Fold 2  Fold 3  Fold 4  Fold 5  Mean    Std     \n",
      "RMSE (testset)    0.8757  0.8672  0.8733  0.8743  0.8737  0.8728  0.0029  \n",
      "MAE (testset)     0.6732  0.6666  0.6723  0.6712  0.6728  0.6712  0.0024  \n",
      "Fit time          3.37    3.63    3.93    3.91    1.78    3.32    0.80    \n",
      "Test time         0.72    0.78    0.58    0.51    0.27    0.57    0.18    \n"
     ]
    },
    {
     "data": {
      "text/plain": [
       "{'test_rmse': array([0.87565476, 0.86721804, 0.87327698, 0.87432045, 0.87368572]),\n",
       " 'test_mae': array([0.67318985, 0.66660674, 0.67226918, 0.67120186, 0.67283576]),\n",
       " 'fit_time': (3.3665096759796143,\n",
       "  3.6305031776428223,\n",
       "  3.9299378395080566,\n",
       "  3.906745195388794,\n",
       "  1.7755513191223145),\n",
       " 'test_time': (0.7170157432556152,\n",
       "  0.78244948387146,\n",
       "  0.5813758373260498,\n",
       "  0.5071606636047363,\n",
       "  0.2675590515136719)}"
      ]
     },
     "execution_count": 66,
     "metadata": {},
     "output_type": "execute_result"
    }
   ],
   "source": [
    "model = SVD()\n",
    "cross_validate(model, data, measures=['rmse', 'mae'], cv=5, n_jobs=4, verbose=True)"
   ]
  },
  {
   "cell_type": "markdown",
   "metadata": {
    "id": "4-vYMa_xFhPY"
   },
   "source": [
    "- NMF 사용"
   ]
  },
  {
   "cell_type": "code",
   "execution_count": 67,
   "metadata": {
    "colab": {
     "base_uri": "https://localhost:8080/"
    },
    "executionInfo": {
     "elapsed": 13894,
     "status": "ok",
     "timestamp": 1679384018022,
     "user": {
      "displayName": "조성민",
      "userId": "15810378992467426330"
     },
     "user_tz": -540
    },
    "id": "44tIpUd6DX8n",
    "outputId": "5f5ebadc-203c-4dc1-92db-5d4d56a235de"
   },
   "outputs": [
    {
     "name": "stdout",
     "output_type": "stream",
     "text": [
      "Evaluating RMSE, MAE of algorithm NMF on 5 split(s).\n",
      "\n",
      "                  Fold 1  Fold 2  Fold 3  Fold 4  Fold 5  Mean    Std     \n",
      "RMSE (testset)    0.9341  0.9181  0.9239  0.9271  0.9204  0.9247  0.0056  \n",
      "MAE (testset)     0.7165  0.7016  0.7078  0.7078  0.7057  0.7079  0.0049  \n",
      "Fit time          8.14    7.74    7.86    8.27    4.32    7.26    1.49    \n",
      "Test time         0.95    0.69    1.11    0.86    0.12    0.75    0.34    \n"
     ]
    },
    {
     "data": {
      "text/plain": [
       "{'test_rmse': array([0.93406283, 0.91812105, 0.92388233, 0.92713927, 0.92041689]),\n",
       " 'test_mae': array([0.71648855, 0.70159679, 0.70784397, 0.70780554, 0.7056991 ]),\n",
       " 'fit_time': (8.140886545181274,\n",
       "  7.735090970993042,\n",
       "  7.8571553230285645,\n",
       "  8.272013187408447,\n",
       "  4.316194772720337),\n",
       " 'test_time': (0.9523642063140869,\n",
       "  0.687659740447998,\n",
       "  1.1117644309997559,\n",
       "  0.8580682277679443,\n",
       "  0.12325096130371094)}"
      ]
     },
     "execution_count": 67,
     "metadata": {},
     "output_type": "execute_result"
    }
   ],
   "source": [
    "model = NMF()\n",
    "cross_validate(model, data, measures=['rmse', 'mae'], cv=5, n_jobs=4, verbose=True)"
   ]
  },
  {
   "cell_type": "markdown",
   "metadata": {
    "id": "ti3G1uxdFlVh"
   },
   "source": [
    "- SVD++ 사용"
   ]
  },
  {
   "cell_type": "code",
   "execution_count": 68,
   "metadata": {
    "colab": {
     "base_uri": "https://localhost:8080/"
    },
    "executionInfo": {
     "elapsed": 438791,
     "status": "ok",
     "timestamp": 1679384461135,
     "user": {
      "displayName": "조성민",
      "userId": "15810378992467426330"
     },
     "user_tz": -540
    },
    "id": "-qvizVTBFki0",
    "outputId": "fd81396c-45d3-4c0c-9821-cd54e3782237"
   },
   "outputs": [
    {
     "name": "stdout",
     "output_type": "stream",
     "text": [
      "Evaluating RMSE, MAE of algorithm SVDpp on 5 split(s).\n",
      "\n",
      "                  Fold 1  Fold 2  Fold 3  Fold 4  Fold 5  Mean    Std     \n",
      "RMSE (testset)    0.8631  0.8640  0.8641  0.8588  0.8578  0.8616  0.0027  \n",
      "MAE (testset)     0.6609  0.6599  0.6639  0.6583  0.6599  0.6606  0.0019  \n",
      "Fit time          305.25  310.15  308.49  308.28  86.33   263.70  88.70   \n",
      "Test time         36.59   37.71   38.62   37.40   10.13   32.09   11.00   \n"
     ]
    },
    {
     "data": {
      "text/plain": [
       "{'test_rmse': array([0.86312038, 0.86399864, 0.8640582 , 0.85880369, 0.85779917]),\n",
       " 'test_mae': array([0.6609292 , 0.65985417, 0.66388108, 0.65828315, 0.65988721]),\n",
       " 'fit_time': (305.24982380867004,\n",
       "  310.14780950546265,\n",
       "  308.48890829086304,\n",
       "  308.2811133861542,\n",
       "  86.32581901550293),\n",
       " 'test_time': (36.59451913833618,\n",
       "  37.70973825454712,\n",
       "  38.61676549911499,\n",
       "  37.39781308174133,\n",
       "  10.12889552116394)}"
      ]
     },
     "execution_count": 68,
     "metadata": {},
     "output_type": "execute_result"
    }
   ],
   "source": [
    "model = SVDpp()\n",
    "cross_validate(model, data, measures=['rmse', 'mae'], cv=5, n_jobs=4, verbose=True)"
   ]
  },
  {
   "cell_type": "code",
   "execution_count": null,
   "metadata": {
    "id": "5xizC3lxFkhc"
   },
   "outputs": [],
   "source": []
  },
  {
   "cell_type": "code",
   "execution_count": null,
   "metadata": {
    "id": "vxkXpSCEFkgI"
   },
   "outputs": [],
   "source": []
  },
  {
   "cell_type": "code",
   "execution_count": null,
   "metadata": {
    "id": "tfK9qBlrFkeL"
   },
   "outputs": [],
   "source": []
  },
  {
   "cell_type": "code",
   "execution_count": null,
   "metadata": {
    "id": "SfTSTgo_FkdI"
   },
   "outputs": [],
   "source": []
  },
  {
   "cell_type": "code",
   "execution_count": null,
   "metadata": {
    "id": "GzCEMDVUFkaR"
   },
   "outputs": [],
   "source": []
  },
  {
   "cell_type": "code",
   "execution_count": null,
   "metadata": {
    "id": "ZkTf08gzFkXn"
   },
   "outputs": [],
   "source": []
  },
  {
   "cell_type": "code",
   "execution_count": null,
   "metadata": {
    "id": "PJxcbysgFkVg"
   },
   "outputs": [],
   "source": []
  },
  {
   "cell_type": "code",
   "execution_count": null,
   "metadata": {
    "id": "EeN7P4y_FkSp"
   },
   "outputs": [],
   "source": []
  },
  {
   "cell_type": "code",
   "execution_count": null,
   "metadata": {
    "id": "oQzUvkCXDX6u"
   },
   "outputs": [],
   "source": []
  }
 ],
 "metadata": {
  "colab": {
   "authorship_tag": "ABX9TyMu5MdQdWlgjN4JwhLaW2O5",
   "mount_file_id": "1vxc-pf4Ip7YMY3p51DDSVtMTXzH9-QEZ",
   "provenance": [],
   "toc_visible": true
  },
  "gpuClass": "standard",
  "kernelspec": {
   "display_name": "Python 3 (ipykernel)",
   "language": "python",
   "name": "python3"
  },
  "language_info": {
   "codemirror_mode": {
    "name": "ipython",
    "version": 3
   },
   "file_extension": ".py",
   "mimetype": "text/x-python",
   "name": "python",
   "nbconvert_exporter": "python",
   "pygments_lexer": "ipython3",
   "version": "3.7.3"
  },
  "toc": {
   "base_numbering": 1,
   "nav_menu": {},
   "number_sections": true,
   "sideBar": true,
   "skip_h1_title": false,
   "title_cell": "Table of Contents",
   "title_sidebar": "Contents",
   "toc_cell": false,
   "toc_position": {},
   "toc_section_display": true,
   "toc_window_display": false
  }
 },
 "nbformat": 4,
 "nbformat_minor": 1
}
